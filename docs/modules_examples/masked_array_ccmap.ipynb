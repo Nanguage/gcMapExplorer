{
 "cells": [
  {
   "cell_type": "markdown",
   "metadata": {},
   "source": [
    "## Using masked array with Hi-C map\n",
    "\n",
    "Large Hi-C map data contains missing values. During analysis, sometimes we need to ignore these values. [numpy.ma module](http://docs.scipy.org/doc/numpy/reference/maskedarray.generic.html) can be used to perform mathematical operations after masking these missing values."
   ]
  },
  {
   "cell_type": "raw",
   "metadata": {
    "raw_mimetype": "text/restructuredtext"
   },
   "source": [
    ".. seealso::\n",
    "    Module `numpy.ma <http://docs.scipy.org/doc/numpy/reference/maskedarray.generic.html>`_"
   ]
  },
  {
   "cell_type": "markdown",
   "metadata": {},
   "source": [
    "***\n",
    "\n",
    "**At first, we import modules:**\n",
    "\n",
    "* [gcMapExplorer.ccmap](../apidoc/ccmap.html) for loading `.ccmap` files\n",
    "* [numpy](http://docs.scipy.org/doc/numpy/reference/routines.html) for array operations\n",
    "* [numpy.ma](http://docs.scipy.org/doc/numpy/reference/maskedarray.generic.html) for masked array module\n",
    "* [scipy.stats.mstats](http://docs.scipy.org/doc/scipy/reference/stats.mstats.html) for correlation calculation using masked array"
   ]
  },
  {
   "cell_type": "code",
   "execution_count": 1,
   "metadata": {
    "collapsed": false
   },
   "outputs": [],
   "source": [
    "import gcMapExplorer.ccmap as cmp\n",
    "import numpy as np\n",
    "import os\n",
    "from numpy import ma\n",
    "from scipy import stats\n",
    "\n",
    "import matplotlib.pyplot as plt\n",
    "\n",
    "# To show inline plots\n",
    "%matplotlib inline\n",
    "plt.style.use('ggplot')              # Theme for plotting"
   ]
  },
  {
   "cell_type": "markdown",
   "metadata": {},
   "source": [
    "***\n",
    "\n",
    "#### To calculate correlation between Hi-C maps\n",
    "\n",
    "**Load two Hi-C data**"
   ]
  },
  {
   "cell_type": "code",
   "execution_count": 2,
   "metadata": {
    "collapsed": false
   },
   "outputs": [],
   "source": [
    "ccmapOne = cmp.load_ccmap('output/CooMatrix/normalized/chr15_100kb_normKR.ccmap', workDir=os.getcwd() )\n",
    "ccmapOne.make_readable()\n",
    "\n",
    "ccmapTwo = cmp.load_ccmap('output/CooMatrix/normalized/chr20_100kb_normKR.ccmap', workDir=os.getcwd())\n",
    "ccmapTwo.make_readable()"
   ]
  },
  {
   "cell_type": "markdown",
   "metadata": {},
   "source": [
    "**Determine smallest shape**\n",
    "\n",
    "Matrix size can be different, therefore smallest size is determined to calculate element-wise correlation."
   ]
  },
  {
   "cell_type": "code",
   "execution_count": 3,
   "metadata": {
    "collapsed": true
   },
   "outputs": [],
   "source": [
    "if ccmapOne.shape[0] <= ccmapTwo.shape[0]:\n",
    "    smallest_shape = ccmapOne.shape[0]\n",
    "else:\n",
    "    smallest_shape = ccmapTwo.shape[0]"
   ]
  },
  {
   "cell_type": "markdown",
   "metadata": {},
   "source": [
    "**Generate masks**\n",
    "\n",
    "* At first, generate mask from two matrices sepratealy, and then combine it.\n",
    "\n",
    "* Also, use slicing operations to derive subset of matrix with smallest shape.\n",
    "\n",
    "* During masking, lower-triangular part is also masked with diagonal offset of five. Because the values at Hi-C map diagnoal is usually large, correlation could be high due to these large values. Moreover, we are usually intereseted in off-diagonal regions of the Hi-C maps."
   ]
  },
  {
   "cell_type": "code",
   "execution_count": 4,
   "metadata": {
    "collapsed": false
   },
   "outputs": [],
   "source": [
    "m1 = ccmapOne.matrix[:smallest_shape, :smallest_shape] <= ccmapOne.minvalue   # Mask all minimum values\n",
    "m2 = ccmapTwo.matrix[:smallest_shape, :smallest_shape] <= ccmapTwo.minvalue   # Mask all minimum values\n",
    "mask = ( m1 | m2 )                              # Combine both masks\n",
    "mask[np.tril_indices_from(mask, k=5)] = True    # Also, Mask lower-triangle of matrix with five diagonal offset"
   ]
  },
  {
   "cell_type": "raw",
   "metadata": {
    "raw_mimetype": "text/restructuredtext"
   },
   "source": [
    ".. warning::\n",
    "    For huge matrices, above operations could be memory/RAM consuming and script may crash.\n",
    "\n",
    ".. seealso::\n",
    "    * `How to perform slicing? <http://www.scipy-lectures.org/intro/numpy/array_object.html#indexing-and-slicing>`_\n",
    "    * `How to generate boolean mask? <http://www.scipy-lectures.org/intro/numpy/numpy.html#using-boolean-masks>`_\n",
    "    * `How to get indices of lower-triangle of an array? <http://docs.scipy.org/doc/numpy-1.10.1/reference/generated/numpy.tril_indices.html#numpy.tril_indices>`_"
   ]
  },
  {
   "cell_type": "markdown",
   "metadata": {},
   "source": [
    "**Generate masked matrix**\n",
    "\n",
    "Now, using `numpy.ma` module, generate masked matrices "
   ]
  },
  {
   "cell_type": "code",
   "execution_count": 5,
   "metadata": {
    "collapsed": false
   },
   "outputs": [],
   "source": [
    "maskedMatrixOne = ma.array(ccmapOne.matrix[:smallest_shape, :smallest_shape], mask=mask)\n",
    "maksedMatrixTwo = ma.array(ccmapTwo.matrix[:smallest_shape, :smallest_shape], mask=mask)"
   ]
  },
  {
   "cell_type": "markdown",
   "metadata": {},
   "source": [
    "**Calculate correlation coefficiant**\n",
    "\n",
    "* Pearson correlation coefficiant using [scipy.stats.mstats.pearsonr](http://docs.scipy.org/doc/scipy/reference/generated/scipy.stats.mstats.pearsonr.html#scipy.stats.mstats.pearsonr)"
   ]
  },
  {
   "cell_type": "code",
   "execution_count": 6,
   "metadata": {
    "collapsed": false,
    "scrolled": true
   },
   "outputs": [
    {
     "name": "stdout",
     "output_type": "stream",
     "text": [
      "Pearson Correlation:  0.50507\n",
      "Spearman Correlation:  0.358783199081\n"
     ]
    }
   ],
   "source": [
    "corr, pvalue = stats.pearsonr(maskedMatrixOne.compressed(), maksedMatrixTwo.compressed())\n",
    "\n",
    "print('Pearson Correlation: ', corr)\n",
    "\n",
    "corr, pvalue = stats.spearmanr(maskedMatrixOne.compressed(), maksedMatrixTwo.compressed())\n",
    "\n",
    "print('Spearman Correlation: ', corr)"
   ]
  },
  {
   "cell_type": "markdown",
   "metadata": {},
   "source": [
    "#### Crorrelation using gcMapExplorer.cmstats module\n",
    "\n",
    "Shown above is a simple step-by-step example to calculate correlation-coefficiant using masked array.\n",
    "However, above method may fail in case of huge matrices. Therefore, use the implemented\n",
    "function `gcMapExplorer.cmstats.correlateCMaps` function "
   ]
  },
  {
   "cell_type": "raw",
   "metadata": {
    "raw_mimetype": "text/restructuredtext"
   },
   "source": [
    ".. seealso::\n",
    "    * About :meth:`gcMapExplorer.cmstats.correlateCMaps` in more details"
   ]
  },
  {
   "cell_type": "code",
   "execution_count": 7,
   "metadata": {
    "collapsed": false
   },
   "outputs": [
    {
     "name": "stdout",
     "output_type": "stream",
     "text": [
      "Pearson Correlation:  0.50507\n",
      "Spearman Correlation:  0.358783199081\n"
     ]
    }
   ],
   "source": [
    "from  gcMapExplorer import cmstats\n",
    "\n",
    "corr, pvalue = cmstats.correlateCMaps(ccmapOne, ccmapTwo, diagonal_offset=5)\n",
    "\n",
    "print('Pearson Correlation: ', corr)\n",
    "\n",
    "corr, pvalue = cmstats.correlateCMaps(ccmapOne, ccmapTwo, corrType='spearman', diagonal_offset=5)\n",
    "print('Spearman Correlation: ', corr)"
   ]
  },
  {
   "cell_type": "markdown",
   "metadata": {},
   "source": [
    "Both above shown step-by-step example and implemented functions yielded similar correlation values."
   ]
  },
  {
   "cell_type": "markdown",
   "metadata": {},
   "source": [
    "#### Block-wise Crorrelation\n",
    "\n",
    "\n",
    "To identify local difference between two maps, block-wise coorelation could be more helpful.\n",
    "A block is created and slided along the diagonal, and for each new position, correlation is calculated. "
   ]
  },
  {
   "cell_type": "code",
   "execution_count": 8,
   "metadata": {
    "collapsed": false
   },
   "outputs": [
    {
     "name": "stderr",
     "output_type": "stream",
     "text": [
      "INFO:correlateCMaps: Block-wise correlation with [1mb] block-size\n",
      "INFO:correlateCMaps: Number of Blocks: 63 \n",
      "INFO:correlateCMaps: Size of each Block in bins: 10 \n",
      "INFO:correlateCMaps: Number of Overlapping bins between sliding blocks:  9\n",
      "INFO:correlateCMaps: Block-wise correlation with [1mb] block-size\n",
      "INFO:correlateCMaps: Number of Blocks: 63 \n",
      "INFO:correlateCMaps: Size of each Block in bins: 10 \n",
      "INFO:correlateCMaps: Number of Overlapping bins between sliding blocks:  9\n"
     ]
    }
   ],
   "source": [
    "# Pearson correlation\n",
    "pearson, p_centers = cmstats.correlateCMaps(ccmapOne, ccmapTwo, diagonal_offset=2, blockSize='1mb', \n",
    "                                             slideStepSize=1, outFile='pearson.txt', workDir=os.getcwd())\n",
    "\n",
    "\n",
    "# Spearman correlation\n",
    "spearman, s_centers = cmstats.correlateCMaps(ccmapOne, ccmapTwo, corrType='spearman', diagonal_offset=2, \n",
    "                                                 blockSize='1mb', slideStepSize=1, outFile='spearman.txt',\n",
    "                                                 workDir=os.getcwd())"
   ]
  },
  {
   "cell_type": "code",
   "execution_count": 9,
   "metadata": {
    "collapsed": false
   },
   "outputs": [
    {
     "data": {
      "image/png": "[encoded data removed]",
      "text/plain": [
       "<matplotlib.figure.Figure at 0x7fb7f76c78d0>"
      ]
     },
     "metadata": {},
     "output_type": "display_data"
    }
   ],
   "source": [
    "# Plot the values for visual representations\n",
    "fig = plt.figure(figsize=(8,4))                               # Figure size\n",
    "\n",
    "ax = fig.add_subplot(1,1,1)                                   # Axes first plot\n",
    "ax.set_title('Correlation')                                   # Title first plot\n",
    "\n",
    "ax.plot(p_centers, pearson, label='Pearson')                  # Plot for Pearson correlation\n",
    "ax.plot(s_centers, spearman, label='Spearman')                # Plot for Spearman correlation\n",
    "\n",
    "ax.get_xaxis().get_major_formatter().set_useOffset(False)     # Prevent ticks auto-formatting\n",
    "\n",
    "plt.legend(loc=2)\n",
    "\n",
    "plt.show()"
   ]
  },
  {
   "cell_type": "code",
   "execution_count": 10,
   "metadata": {
    "collapsed": false
   },
   "outputs": [
    {
     "name": "stdout",
     "output_type": "stream",
     "text": [
      "(0.74487690967318498, 0.0)\n",
      "(0.74063722421215261, 0.0)\n",
      "(0.75637101395441264, 0.0)\n",
      "(0.75799064378987224, 0.0)\n",
      "(0.76385777207989702, 0.0)\n",
      "(0.7581134503870115, 0.0)\n",
      "(0.77085117905282485, 0.0)\n",
      "(0.78712169997619941, 0.0)\n",
      "(0.75681100168481319, 0.0)\n",
      "(0.79607602070672256, 0.0)\n",
      "(0.79340494862540256, 0.0)\n",
      "(0.79611875779812202, 0.0)\n",
      "(0.78246725829489128, 0.0)\n",
      "(0.81078979072455271, 0.0)\n",
      "(0.82796003802636897, 0.0)\n",
      "(0.81646908774859528, 0.0)\n",
      "(0.8513992946693909, 0.0)\n",
      "(0.83321467022045526, 0.0)\n",
      "(0.89497615144311282, 0.0)\n",
      "(0.89713225129243968, 0.0)\n",
      "(0.86860067840860633, 0.0)\n",
      "(0.87945995663009324, 0.0)\n"
     ]
    }
   ],
   "source": [
    "path='/home/rajendra/workspace/genome_3d_organization/GM12878_CellLine/HiCmapDataPyObject/resolution_10kb/'\n",
    "ccmapsOne, ccmapsTwo = [], []\n",
    "for i in range(1, 23):\n",
    "    ccmapsOne.append(path+'Chr{0}_NormKR.hicmap'.format(i))\n",
    "for i in range(1, 23):\n",
    "    ccmapsTwo.append(path+'Chr{0}_Rawobserved.hicmap'.format(i))\n",
    "    \n",
    "for i in range(len(ccmapsOne)):\n",
    "    ccmapOne = cmp.load_ccmap(ccmapsOne[i], workDir=os.getcwd())\n",
    "    ccmapOne.make_readable()\n",
    "\n",
    "    ccmapTwo = cmp.load_ccmap(ccmapsTwo[i], workDir=os.getcwd())\n",
    "    ccmapTwo.make_readable()\n",
    "    \n",
    "    print(cmstats.correlateCMaps(ccmapOne, ccmapTwo, corrType='spearman', diagonal_offset=5))\n",
    "    del ccmapOne\n",
    "    del ccmapTwo"
   ]
  }
 ],
 "metadata": {
  "celltoolbar": "Raw Cell Format",
  "kernelspec": {
   "display_name": "Python 3",
   "language": "python",
   "name": "python3"
  },
  "language_info": {
   "codemirror_mode": {
    "name": "ipython",
    "version": 3
   },
   "file_extension": ".py",
   "mimetype": "text/x-python",
   "name": "python",
   "nbconvert_exporter": "python",
   "pygments_lexer": "ipython3",
   "version": "3.4.3"
  }
 },
 "nbformat": 4,
 "nbformat_minor": 0
}
