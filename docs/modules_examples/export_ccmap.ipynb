{
 "cells": [
  {
   "cell_type": "markdown",
   "metadata": {},
   "source": [
    "#### Export .ccmap  as text file\n",
    "\n",
    "Presently only [COO list format](https://en.wikipedia.org/wiki/Sparse_matrix#Coordinate_list_.28COO.29) is implemented in `gcMapExplorer.ccmap.export_ccmap` function. In COO format, lists of (row, column, value) as three tab seprated columns are written in output file."
   ]
  },
  {
   "cell_type": "raw",
   "metadata": {
    "raw_mimetype": "text/restructuredtext"
   },
   "source": [
    ".. seealso::\n",
    "        Module :meth:`gcMapExplorer.ccmap.export_ccmap`"
   ]
  },
  {
   "cell_type": "code",
   "execution_count": 1,
   "metadata": {},
   "outputs": [],
   "source": [
    "import gcMapExplorer.lib as gmlib"
   ]
  },
  {
   "cell_type": "code",
   "execution_count": 2,
   "metadata": {},
   "outputs": [],
   "source": [
    "# Input files and path\n",
    "inputPath='normalized/'\n",
    "files=  ['chr5_100kb_normKR.ccmap', 'chr15_100kb_normKR.ccmap', \n",
    "         'chr20_100kb_normKR.ccmap', 'chr21_100kb_normKR.ccmap']\n",
    "\n",
    "#Output files and path\n",
    "outputPath = 'export/'\n",
    "outputs=['chr5_100kb.txt',    'chr15_100kb.txt',  'chr20_100kb.txt',  'chr21_100kb.txt']\n",
    "\n",
    "\n",
    "for i, o in zip(files, outputs):\n",
    "    ccmap = gmlib.ccmap.load_ccmap(inputPath+i)\n",
    "    gmlib.ccmap.export_cmap(ccmap, outputPath+o, doNotWriteZeros=True)"
   ]
  }
 ],
 "metadata": {
  "celltoolbar": "Raw Cell Format",
  "kernelspec": {
   "display_name": "Python 3",
   "language": "python",
   "name": "python3"
  },
  "language_info": {
   "codemirror_mode": {
    "name": "ipython",
    "version": 3
   },
   "file_extension": ".py",
   "mimetype": "text/x-python",
   "name": "python",
   "nbconvert_exporter": "python",
   "pygments_lexer": "ipython3",
   "version": "3.4.3"
  }
 },
 "nbformat": 4,
 "nbformat_minor": 1
}
