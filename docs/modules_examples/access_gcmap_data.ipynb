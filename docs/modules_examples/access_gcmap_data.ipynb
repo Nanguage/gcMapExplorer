{
 "cells": [
  {
   "cell_type": "markdown",
   "metadata": {},
   "source": [
    "## How to access Hi-C map from .gcmap file?\n",
    "\n",
    "`.gcmap` is a HDF5 format file."
   ]
  },
  {
   "cell_type": "raw",
   "metadata": {
    "raw_mimetype": "text/restructuredtext"
   },
   "source": [
    ".. note::\n",
    "    Following example needs ``*.ccmap`` file, generated in :doc:`previous tutorial <normalize_ccmap>`.\n",
    "    \n",
    ".. seealso::\n",
    "    About ``*.ccmap`` and ``*.npbin`` (compressed ``*.npbin.gz``) files :doc:`here<../about_ccmap_file>`.\n",
    "    \n",
    "    "
   ]
  },
  {
   "cell_type": "markdown",
   "metadata": {},
   "source": [
    "***\n",
    "\n",
    "**At first, we import modules:**\n",
    "\n",
    "* [gcMapExplorer.lib](../ccmap.html)\n",
    "* [numpy](http://docs.scipy.org/doc/numpy/reference/routines.html) for statistics\n",
    "* [matplotlib](http://matplotlib.org/gallery.html) for plotting"
   ]
  },
  {
   "cell_type": "code",
   "execution_count": 27,
   "metadata": {
    "collapsed": false
   },
   "outputs": [],
   "source": [
    "import gcMapExplorer.lib as gmlib\n",
    "import numpy as np\n",
    "import matplotlib.pyplot as plt\n",
    "\n",
    "# To show inline plots\n",
    "%matplotlib inline\n",
    "plt.style.use('ggplot')              # Theme for plotting"
   ]
  },
  {
   "cell_type": "markdown",
   "metadata": {},
   "source": [
    "#### Load a `.gcmap` file"
   ]
  },
  {
   "cell_type": "code",
   "execution_count": 28,
   "metadata": {
    "collapsed": false
   },
   "outputs": [],
   "source": [
    "filename = '/home/rajendra/workspace/genome_3d_organization/GM12878_CellLine/gcmaps/normKR_10kb.gcmap'\n",
    "gcmap = gmlib.gcmap.GCMAP(filename, mapName='chr21')\n",
    "\n",
    "# gcmap.toCoarserResolution()\n",
    "\n",
    "ccmap = gmlib.gcmap.loadGCMapAsCCMap(filename, mapName='chr21')"
   ]
  },
  {
   "cell_type": "markdown",
   "metadata": {},
   "source": [
    "**Print some properties of Hi-C data**"
   ]
  },
  {
   "cell_type": "code",
   "execution_count": 29,
   "metadata": {
    "collapsed": false
   },
   "outputs": [
    {
     "name": "stdout",
     "output_type": "stream",
     "text": [
      "xlabel  :  chr21\n",
      "ylabel  :  chr21\n",
      "binsizes  :  [10000, 20000, 40000, 80000, 160000]\n",
      "maxvalue  :  0.709276914597\n",
      "matrix  :  <HDF5 dataset \"10kb\": shape (4812, 4812), type \"<f4\">\n",
      "binsize  :  10000\n",
      "yticks  :  [0, 48120000]\n",
      "resolution  :  10kb\n",
      "shape  :  (4812, 4812)\n",
      "mapType  :  intra\n",
      "xticks  :  [0, 48120000]\n",
      "finestResolution  :  10kb\n",
      "bNoData  :  [ True  True  True ..., False False False]\n",
      "dtype  :  float32\n",
      "title  :  chr21_vs_chr21\n",
      "minvalue  :  1.64669982041e-05\n",
      "bLog  :  False\n",
      "hdf5  :  <HDF5 file \"normKR_10kb.gcmap\" (mode r+)>\n",
      "fileOpened  :  True\n",
      "groupName  :  chr21\n"
     ]
    }
   ],
   "source": [
    "for key in gcmap.__dict__:\n",
    "    print(key, ' : ', gcmap.__dict__[key])"
   ]
  },
  {
   "cell_type": "markdown",
   "metadata": {},
   "source": [
    "***\n",
    "\n",
    "#### Reading contact map\n",
    "\n",
    "Contact matrix is available as ``gcmap.matrix``."
   ]
  },
  {
   "cell_type": "code",
   "execution_count": 30,
   "metadata": {
    "collapsed": false
   },
   "outputs": [
    {
     "name": "stdout",
     "output_type": "stream",
     "text": [
      "[[ 0.          0.          0.         ...,  0.          0.          0.        ]\n",
      " [ 0.          0.          0.         ...,  0.          0.          0.        ]\n",
      " [ 0.          0.          0.         ...,  0.          0.          0.        ]\n",
      " ..., \n",
      " [ 0.          0.          0.         ...,  0.20023455  0.09320904\n",
      "   0.03361979]\n",
      " [ 0.          0.          0.         ...,  0.09320904  0.28270519\n",
      "   0.04283975]\n",
      " [ 0.          0.          0.         ...,  0.03361979  0.04283975\n",
      "   0.37423587]]\n",
      "[[ 0.          0.          0.         ...,  0.          0.          0.        ]\n",
      " [ 0.          0.          0.         ...,  0.          0.          0.        ]\n",
      " [ 0.          0.          0.         ...,  0.          0.          0.        ]\n",
      " ..., \n",
      " [ 0.          0.          0.         ...,  0.20023455  0.09320904\n",
      "   0.03361979]\n",
      " [ 0.          0.          0.         ...,  0.09320904  0.28270519\n",
      "   0.04283975]\n",
      " [ 0.          0.          0.         ...,  0.03361979  0.04283975\n",
      "   0.37423587]]\n"
     ]
    }
   ],
   "source": [
    "print(gcmap.matrix[:])\n",
    "\n",
    "ccmap.make_readable()\n",
    "print(ccmap.matrix)"
   ]
  },
  {
   "cell_type": "raw",
   "metadata": {
    "raw_mimetype": "text/restructuredtext"
   },
   "source": [
    ".. seealso:\n",
    "    * Attribute :attr:`GCMAP.matrix`"
   ]
  },
  {
   "cell_type": "markdown",
   "metadata": {},
   "source": [
    "***\n",
    "\n",
    "#### Whether matrix is balanced?\n",
    "\n",
    "If matrix is balanced, sum of rows and coloumns will be always one. Sum of rows and columns can be easily calculated using [numpy.sum](http://docs.scipy.org/doc/numpy-1.10.1/reference/generated/numpy.sum.html) function."
   ]
  },
  {
   "cell_type": "code",
   "execution_count": 43,
   "metadata": {
    "collapsed": false
   },
   "outputs": [
    {
     "data": {
      "image/png": "[encoded data removed]",
      "text/plain": [
       "<matplotlib.figure.Figure at 0x7fdd1c2733c8>"
      ]
     },
     "metadata": {},
     "output_type": "display_data"
    }
   ],
   "source": [
    "r_sum = np.sum(gcmap.matrix, axis = 0)             # Sum along row using numpy.sum\n",
    "c_sum = np.sum(gcmap.matrix, axis = 1)             # Sum along column using numpy.sum\n",
    "\n",
    "idx = np.nonzero(r_sum > 0 )\n",
    "median = np.median( r_sum[idx] )\n",
    "\n",
    "# Plot the values for visual representations\n",
    "fig = plt.figure(figsize=(16,4))                               # Figure size\n",
    "\n",
    "ax1 = fig.add_subplot(1,2,1)                                   # Axes first plot\n",
    "ax1.set_title('Sum along row')                                 # Title first plot\n",
    "ax1.get_xaxis().get_major_formatter().set_useOffset(False)     # Prevent ticks auto-formatting\n",
    "\n",
    "ax2 = fig.add_subplot(1,2,2)                                   # Axes second plot\n",
    "ax2.set_title('Sum along column')\n",
    "ax2.get_xaxis().get_major_formatter().set_useOffset(False)\n",
    "\n",
    "n, bins, patches = ax1.hist(r_sum[idx], 10, facecolor='green', alpha=0.75)  # Plot in first axes\n",
    "n, bins, patches = ax2.hist(r_sum[idx], 10, facecolor='green', alpha=0.75)  # Plot in second axes\n",
    "\n",
    "#ax1.set_ylim(0.9, 1.1)\n",
    "#ax2.set_ylim(0.9, 1.1)\n",
    "\n",
    "plt.show()"
   ]
  },
  {
   "cell_type": "markdown",
   "metadata": {},
   "source": [
    "As can be seen in the above plot, sum of rows/columns are approximately one. It means that the matrix is balanced."
   ]
  },
  {
   "cell_type": "markdown",
   "metadata": {},
   "source": [
    "***\n",
    "\n",
    "#### Using more numpy modules\n",
    "\n",
    "Lets plot average and median of each rows using [numpy.mean](http://docs.scipy.org/doc/numpy-1.10.0/reference/generated/numpy.mean.html) and [numpy.median](http://docs.scipy.org/doc/numpy-1.10.0/reference/generated/numpy.median.html)."
   ]
  },
  {
   "cell_type": "code",
   "execution_count": 6,
   "metadata": {
    "collapsed": false
   },
   "outputs": [
    {
     "data": {
      "image/png": "[encoded data removed]",
      "text/plain": [
       "<matplotlib.figure.Figure at 0x7ff112426a58>"
      ]
     },
     "metadata": {},
     "output_type": "display_data"
    }
   ],
   "source": [
    "averages = np.mean(gcmap.matrix, axis = 1)            # Calculating mean using numpy.mean\n",
    "medians = np.median(gcmap.matrix, axis = 0)           # Calculating median using numpy.median\n",
    "\n",
    "# Plot the values for visual representations\n",
    "fig = plt.figure(figsize=(14,3))                               # Figure size\n",
    "\n",
    "ax1 = fig.add_subplot(1,2,1)                                   # Axes first plot\n",
    "ax1.set_title('Average values')                                 # Title first plot\n",
    "ax1.get_yaxis().get_major_formatter().set_useOffset(False)     # Prevent ticks auto-formatting\n",
    "\n",
    "ax2 = fig.add_subplot(1,2,2)                                   # Axes second plot\n",
    "ax2.set_title('Median values')\n",
    "ax2.get_yaxis().get_major_formatter().set_useOffset(False)\n",
    "\n",
    "# in below both plots, x-axis is index from original matrix to preserve original location\n",
    "ax1.plot(averages)   # Plot in first axes\n",
    "ax2.plot(medians)    # Plot in second axes\n",
    "\n",
    "plt.show()\n",
    "\n",
    "\n"
   ]
  },
  {
   "cell_type": "markdown",
   "metadata": {},
   "source": [
    "## Time"
   ]
  },
  {
   "cell_type": "code",
   "execution_count": 7,
   "metadata": {
    "collapsed": false
   },
   "outputs": [
    {
     "name": "stdout",
     "output_type": "stream",
     "text": [
      "cmap Type: <class 'numpy.ndarray'>\n",
      "ccmap Type: <class 'numpy.core.memmap.memmap'>\n",
      "gcmap Type: <class 'h5py._hl.dataset.Dataset'>\n",
      " \n",
      "10 loops, best of 3: 165 ms per loop\n",
      "100 loops, best of 3: 5.68 ms per loop\n",
      "100 loops, best of 3: 5.67 ms per loop\n",
      " \n",
      "10 loops, best of 3: 167 ms per loop\n",
      "100 loops, best of 3: 7.36 ms per loop\n",
      "100 loops, best of 3: 7.35 ms per loop\n",
      " \n",
      "10 loops, best of 3: 167 ms per loop\n",
      "100 loops, best of 3: 7.4 ms per loop\n",
      "100 loops, best of 3: 7.38 ms per loop\n",
      " \n",
      "1 loop, best of 3: 341 ms per loop\n",
      "10 loops, best of 3: 183 ms per loop\n",
      "10 loops, best of 3: 183 ms per loop\n"
     ]
    }
   ],
   "source": [
    "cmap = np.asarray( ccmap.matrix[:] )\n",
    "\n",
    "print('cmap Type:', type(cmap))\n",
    "print('ccmap Type:', type(ccmap.matrix))\n",
    "print('gcmap Type:', type(gcmap.matrix))\n",
    "\n",
    "print(' ')\n",
    "\n",
    "%timeit np.sum(gcmap.matrix, axis = 0)             # Sum along row using numpy.sum\n",
    "%timeit np.sum(ccmap.matrix, axis = 0)             # Sum along row using numpy.sum\n",
    "%timeit np.sum(cmap, axis = 0)             # Sum along row using numpy.sum\n",
    "\n",
    "print(' ')\n",
    "\n",
    "%timeit np.sum(gcmap.matrix, axis = 1)             # Sum along column using numpy.sum\n",
    "%timeit np.sum(ccmap.matrix, axis = 1)             # Sum along column using numpy.sum\n",
    "%timeit np.sum(cmap, axis = 1)             # Sum along column using numpy.sum\n",
    "\n",
    "print(' ')\n",
    "\n",
    "%timeit np.mean(gcmap.matrix, axis = 1)            # Calculating mean using numpy.mean\n",
    "%timeit np.mean(ccmap.matrix, axis = 1)            # Calculating mean using numpy.mean\n",
    "%timeit np.mean(cmap, axis = 1)            # Calculating mean using numpy.mean\n",
    "\n",
    "print(' ')\n",
    "\n",
    "%timeit np.median(gcmap.matrix, axis = 0)           # Calculating median using numpy.median\n",
    "%timeit np.median(ccmap.matrix, axis = 0)           # Calculating median using numpy.median\n",
    "%timeit np.median(cmap, axis = 0)           # Calculating median using numpy.median\n",
    "\n",
    "del ccmap\n"
   ]
  }
 ],
 "metadata": {
  "celltoolbar": "Raw Cell Format",
  "kernelspec": {
   "display_name": "Python 3",
   "language": "python",
   "name": "python3"
  },
  "language_info": {
   "codemirror_mode": {
    "name": "ipython",
    "version": 3
   },
   "file_extension": ".py",
   "mimetype": "text/x-python",
   "name": "python",
   "nbconvert_exporter": "python",
   "pygments_lexer": "ipython3",
   "version": "3.4.3"
  }
 },
 "nbformat": 4,
 "nbformat_minor": 0
}
