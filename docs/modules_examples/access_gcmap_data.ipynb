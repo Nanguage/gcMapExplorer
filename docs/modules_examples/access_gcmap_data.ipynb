{
 "cells": [
  {
   "cell_type": "markdown",
   "metadata": {},
   "source": [
    "## How to access Hi-C map from .gcmap file?\n",
    "\n",
    "`.gcmap` is a HDF5 format file."
   ]
  },
  {
   "cell_type": "raw",
   "metadata": {
    "raw_mimetype": "text/restructuredtext"
   },
   "source": [
    ".. note::\n",
    "    Following example needs ``*.ccmap`` file, generated in :doc:`previous tutorial <import_ccmap>`.\n",
    "    "
   ]
  },
  {
   "cell_type": "markdown",
   "metadata": {},
   "source": [
    "***\n",
    "\n",
    "**At first, we import modules:**\n",
    "\n",
    "* [gcMapExplorer.lib](../apidoc/summary.html)\n",
    "* [numpy](http://docs.scipy.org/doc/numpy/reference/routines.html) for statistics\n",
    "* [matplotlib](http://matplotlib.org/gallery.html) for plotting"
   ]
  },
  {
   "cell_type": "code",
   "execution_count": 1,
   "metadata": {
    "collapsed": false
   },
   "outputs": [],
   "source": [
    "import gcMapExplorer.lib as gmlib\n",
    "import numpy as np\n",
    "import matplotlib.pyplot as plt\n",
    "\n",
    "# To show inline plots\n",
    "%matplotlib inline\n",
    "plt.style.use('ggplot')              # Theme for plotting"
   ]
  },
  {
   "cell_type": "markdown",
   "metadata": {},
   "source": [
    "#### Load a `.gcmap` file\n",
    "\n",
    "* At first load a map of chromosome from gcmap file using GCMAP class. \n",
    "* Also, load it as ccmap to compare."
   ]
  },
  {
   "cell_type": "code",
   "execution_count": 2,
   "metadata": {
    "collapsed": false
   },
   "outputs": [],
   "source": [
    "filename = 'output/CooMatrix/rawObserved_100kb.gcmap'\n",
    "\n",
    "# Load through GCMAP class\n",
    "gcmap = gmlib.gcmap.GCMAP(filename, mapName='chr21')\n",
    "\n",
    "# Load as a CCMAP class\n",
    "ccmap = gmlib.gcmap.loadGCMapAsCCMap(filename, mapName='chr21')"
   ]
  },
  {
   "cell_type": "markdown",
   "metadata": {},
   "source": [
    "**Print some properties of Hi-C data**"
   ]
  },
  {
   "cell_type": "code",
   "execution_count": 3,
   "metadata": {
    "collapsed": false
   },
   "outputs": [
    {
     "name": "stdout",
     "output_type": "stream",
     "text": [
      "hdf5  :  <HDF5 file \"rawObserved_100kb.gcmap\" (mode r+)>\n",
      "title  :  chr21_vs_chr21\n",
      "mapType  :  intra\n",
      "matrix  :  <HDF5 dataset \"100kb\": shape (482, 482), type \"<f4\">\n",
      "ylabel  :  chr21\n",
      "binsize  :  100000\n",
      "shape  :  (482, 482)\n",
      "resolution  :  100kb\n",
      "yticks  :  [0, 48200000]\n",
      "xticks  :  [0, 48200000]\n",
      "bLog  :  False\n",
      "bNoData  :  None\n",
      "mapNameList  :  None\n",
      "binsizes  :  [100000]\n",
      "dtype  :  float32\n",
      "finestResolution  :  100kb\n",
      "xlabel  :  chr21\n",
      "minvalue  :  1.0\n",
      "maxvalue  :  87922.0\n",
      "fileOpened  :  True\n",
      "groupName  :  chr21\n"
     ]
    }
   ],
   "source": [
    "for key in gcmap.__dict__:\n",
    "    print(key, ' : ', gcmap.__dict__[key])"
   ]
  },
  {
   "cell_type": "markdown",
   "metadata": {},
   "source": [
    "***\n",
    "\n",
    "#### Reading contact map\n",
    "\n",
    "Contact matrix is available as ``gcmap.matrix`` as similar to that of ``ccmap.matrix``."
   ]
  },
  {
   "cell_type": "code",
   "execution_count": 4,
   "metadata": {
    "collapsed": false
   },
   "outputs": [
    {
     "name": "stdout",
     "output_type": "stream",
     "text": [
      "[[     0.      0.      0. ...,      0.      0.      0.]\n",
      " [     0.      0.      0. ...,      0.      0.      0.]\n",
      " [     0.      0.      0. ...,      0.      0.      0.]\n",
      " ..., \n",
      " [     0.      0.      0. ...,  45925.  18365.    125.]\n",
      " [     0.      0.      0. ...,  18365.  45513.    523.]\n",
      " [     0.      0.      0. ...,    125.    523.    135.]]\n",
      "[[     0.      0.      0. ...,      0.      0.      0.]\n",
      " [     0.      0.      0. ...,      0.      0.      0.]\n",
      " [     0.      0.      0. ...,      0.      0.      0.]\n",
      " ..., \n",
      " [     0.      0.      0. ...,  45925.  18365.    125.]\n",
      " [     0.      0.      0. ...,  18365.  45513.    523.]\n",
      " [     0.      0.      0. ...,    125.    523.    135.]]\n"
     ]
    }
   ],
   "source": [
    "print(gcmap.matrix[:])\n",
    "\n",
    "ccmap.make_readable()\n",
    "print(ccmap.matrix)"
   ]
  },
  {
   "cell_type": "raw",
   "metadata": {
    "raw_mimetype": "text/restructuredtext"
   },
   "source": [
    ".. seealso:\n",
    "    * Attribute :attr:`GCMAP.matrix`"
   ]
  },
  {
   "cell_type": "markdown",
   "metadata": {},
   "source": [
    "As can be seen in the above plot, sum of rows/columns are approximately one. It means that the matrix is balanced."
   ]
  },
  {
   "cell_type": "markdown",
   "metadata": {},
   "source": [
    "***\n",
    "\n",
    "### Using numpy modules\n",
    "\n",
    "Lets plot average and median of each rows using [numpy.mean](http://docs.scipy.org/doc/numpy-1.10.0/reference/generated/numpy.mean.html) and [numpy.median](http://docs.scipy.org/doc/numpy-1.10.0/reference/generated/numpy.median.html)."
   ]
  },
  {
   "cell_type": "code",
   "execution_count": 5,
   "metadata": {
    "collapsed": false
   },
   "outputs": [
    {
     "data": {
      "image/png": "[encoded data removed]",
      "text/plain": [
       "<matplotlib.figure.Figure at 0x7f6f04185588>"
      ]
     },
     "metadata": {},
     "output_type": "display_data"
    }
   ],
   "source": [
    "averages = np.mean(gcmap.matrix, axis = 1)            # Calculating mean using numpy.mean\n",
    "medians = np.median(gcmap.matrix, axis = 0)           # Calculating median using numpy.median\n",
    "\n",
    "# Plot the values for visual representations\n",
    "fig = plt.figure(figsize=(14,3))                               # Figure size\n",
    "\n",
    "ax1 = fig.add_subplot(1,2,1)                                   # Axes first plot\n",
    "ax1.set_title('Average values')                                 # Title first plot\n",
    "ax1.get_yaxis().get_major_formatter().set_useOffset(False)     # Prevent ticks auto-formatting\n",
    "\n",
    "ax2 = fig.add_subplot(1,2,2)                                   # Axes second plot\n",
    "ax2.set_title('Median values')\n",
    "ax2.get_yaxis().get_major_formatter().set_useOffset(False)\n",
    "\n",
    "# in below both plots, x-axis is index from original matrix to preserve original location\n",
    "ax1.plot(averages)   # Plot in first axes\n",
    "ax2.plot(medians)    # Plot in second axes\n",
    "\n",
    "plt.show()\n",
    "\n",
    "\n"
   ]
  },
  {
   "cell_type": "markdown",
   "metadata": {},
   "source": [
    "### Execution Time Comparison between ``np.ndarray``, ``ccmap.matrix`` and ``gcmap.matrix``"
   ]
  },
  {
   "cell_type": "code",
   "execution_count": 6,
   "metadata": {
    "collapsed": false
   },
   "outputs": [
    {
     "name": "stdout",
     "output_type": "stream",
     "text": [
      "cmap Type: <class 'numpy.ndarray'>\n",
      "ccmap Type: <class 'numpy.core.memmap.memmap'>\n",
      "gcmap Type: <class 'h5py._hl.dataset.Dataset'>\n",
      " \n",
      "1000 loops, best of 3: 272 µs per loop\n",
      "The slowest run took 5.28 times longer than the fastest. This could mean that an intermediate result is being cached.\n",
      "10000 loops, best of 3: 41.2 µs per loop\n",
      "10000 loops, best of 3: 39.2 µs per loop\n",
      " \n",
      "1000 loops, best of 3: 307 µs per loop\n",
      "10000 loops, best of 3: 71.8 µs per loop\n",
      "10000 loops, best of 3: 69.9 µs per loop\n",
      " \n",
      "1000 loops, best of 3: 315 µs per loop\n",
      "10000 loops, best of 3: 76.7 µs per loop\n",
      "10000 loops, best of 3: 73.9 µs per loop\n",
      " \n",
      "1000 loops, best of 3: 1.64 ms per loop\n",
      "1000 loops, best of 3: 1.4 ms per loop\n",
      "1000 loops, best of 3: 1.38 ms per loop\n"
     ]
    }
   ],
   "source": [
    "cmap = np.asarray( ccmap.matrix[:] )\n",
    "\n",
    "print('cmap Type:', type(cmap))\n",
    "print('ccmap Type:', type(ccmap.matrix))\n",
    "print('gcmap Type:', type(gcmap.matrix))\n",
    "\n",
    "print(' ')\n",
    "\n",
    "%timeit np.sum(gcmap.matrix, axis = 0)             # Sum along row using numpy.sum\n",
    "%timeit np.sum(ccmap.matrix, axis = 0)             # Sum along row using numpy.sum\n",
    "%timeit np.sum(cmap, axis = 0)             # Sum along row using numpy.sum\n",
    "\n",
    "print(' ')\n",
    "\n",
    "%timeit np.sum(gcmap.matrix, axis = 1)             # Sum along column using numpy.sum\n",
    "%timeit np.sum(ccmap.matrix, axis = 1)             # Sum along column using numpy.sum\n",
    "%timeit np.sum(cmap, axis = 1)             # Sum along column using numpy.sum\n",
    "\n",
    "print(' ')\n",
    "\n",
    "%timeit np.mean(gcmap.matrix, axis = 1)            # Calculating mean using numpy.mean\n",
    "%timeit np.mean(ccmap.matrix, axis = 1)            # Calculating mean using numpy.mean\n",
    "%timeit np.mean(cmap, axis = 1)            # Calculating mean using numpy.mean\n",
    "\n",
    "print(' ')\n",
    "\n",
    "%timeit np.median(gcmap.matrix, axis = 0)           # Calculating median using numpy.median\n",
    "%timeit np.median(ccmap.matrix, axis = 0)           # Calculating median using numpy.median\n",
    "%timeit np.median(cmap, axis = 0)           # Calculating median using numpy.median\n",
    "\n",
    "del ccmap\n"
   ]
  },
  {
   "cell_type": "code",
   "execution_count": null,
   "metadata": {
    "collapsed": true
   },
   "outputs": [],
   "source": []
  }
 ],
 "metadata": {
  "celltoolbar": "Raw Cell Format",
  "kernelspec": {
   "display_name": "Python 3",
   "language": "python",
   "name": "python3"
  },
  "language_info": {
   "codemirror_mode": {
    "name": "ipython",
    "version": 3
   },
   "file_extension": ".py",
   "mimetype": "text/x-python",
   "name": "python",
   "nbconvert_exporter": "python",
   "pygments_lexer": "ipython3",
   "version": "3.4.3"
  }
 },
 "nbformat": 4,
 "nbformat_minor": 0
}
