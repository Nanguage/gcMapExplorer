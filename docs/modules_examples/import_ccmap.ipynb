{
 "cells": [
  {
   "cell_type": "markdown",
   "metadata": {},
   "source": [
    "# How to Import external HI-C map data?"
   ]
  },
  {
   "cell_type": "markdown",
   "metadata": {},
   "source": [
    "## 1. From a matrix coordinate format text file\n",
    "\n",
    "As shown below in example, in this format, first and second column is location on chromosome and third column is the respective value:\n",
    "\n",
    "```\n",
    "20000000\t20000000\t2692.0\n",
    "20000000\t20100000\t885.0\n",
    "20100000\t20100000\t6493.0\n",
    "20000000\t20200000\t15.0\n",
    "20100000\t20200000\t52.0\n",
    "20200000\t20200000\t2.0\n",
    "20000000\t20300000\t18.0\n",
    "20100000\t20300000\t40.0\n",
    ".\n",
    ".\n",
    ".\n",
    ".\n",
    ".\n",
    ".\n",
    "```\n",
    "\n",
    "Hi-C maps data with the above format are available with this [article](http://dx.doi.org/10.1016/j.cell.2014.11.021) and can be downlaoded [here](http://www.ncbi.nlm.nih.gov/geo/query/acc.cgi?acc=GSE63525).\n",
    "\n",
    "\n",
    "***\n",
    "\n",
    "\n",
    "**At first, we import gcMapExplorer.lib module**\n",
    "\n",
    "All neccessary modules are avaiable in gcMapExplorer.lib module"
   ]
  },
  {
   "cell_type": "code",
   "execution_count": 1,
   "metadata": {
    "collapsed": false
   },
   "outputs": [],
   "source": [
    "from gcMapExplorer import lib as gmlib"
   ]
  },
  {
   "cell_type": "raw",
   "metadata": {
    "raw_mimetype": "text/restructuredtext"
   },
   "source": [
    "This module has methods to read and save ccmap file as shown below in the exmaple.\n",
    "    \n",
    ".. see also::\n",
    "    Module :mod:`gcMapExplorer.lib.ccmap` for more details about all the functions related to ccmap files.\n",
    "    Module :mod:`gcMapExplorer.lib.importer` for more details about all the functions related to importing ccmap/gcmap."
   ]
  },
  {
   "cell_type": "markdown",
   "metadata": {},
   "source": [
    "**We read Hi-C file as follows:**"
   ]
  },
  {
   "cell_type": "code",
   "execution_count": 2,
   "metadata": {
    "collapsed": true
   },
   "outputs": [],
   "source": [
    "cooReader = gmlib.importer.CooMatrixHandler('./data/CooMatrixFormat/chr15_100kb.RAWobserved')"
   ]
  },
  {
   "cell_type": "raw",
   "metadata": {
    "raw_mimetype": "text/restructuredtext"
   },
   "source": [
    ".. seealso::\n",
    "    Function :meth:`gcMapExplorer.lib.importer.CooMatrixHandler` for more details."
   ]
  },
  {
   "cell_type": "markdown",
   "metadata": {
    "collapsed": true
   },
   "source": [
    "**Now, save the Hi-C map as ccmap:**\n",
    "\n",
    "We save imported Hi-C map in `output` directory as `chr15_100kb_Raw_from_text.ccmap` file. To reduce the storage memory, map file is compressed in [gzip](http://www.gzip.org/) format."
   ]
  },
  {
   "cell_type": "code",
   "execution_count": 3,
   "metadata": {
    "collapsed": false
   },
   "outputs": [
    {
     "name": "stderr",
     "output_type": "stream",
     "text": [
      "INFO:CooMatrixHandler: Reading file: [./data/CooMatrixFormat/chr15_100kb.RAWobserved]... \n",
      "INFO:CooMatrixHandler:     ... Finished reading file: [./data/CooMatrixFormat/chr15_100kb.RAWobserved] \n",
      "INFO:genMapFromLists: Total number of data in input file: 318258\n",
      "INFO:genMapFromLists:Minimum base-pair: 20000000 and Maximum base-pair: 102500000 are present in input data\n",
      "INFO:genMapFromLists:Shape of overall map: (1026, 1026)\n",
      "\n",
      "INFO:save_ccmap: Saving ccmap to file [output/CooMatrix/chr15_100kb_Raw_from_text.ccmap] and [/home/rajendra/workspace/genome_3d_organization/tutorials_modules/output/CooMatrix/chr15_100kb_Raw_from_text.npbin] ...\n",
      "INFO:save_ccmap: Compressing [/home/rajendra/workspace/genome_3d_organization/tutorials_modules/output/CooMatrix/chr15_100kb_Raw_from_text.npbin] ...\n",
      "INFO:save_ccmap:       Finished!!!\n"
     ]
    },
    {
     "name": "stdout",
     "output_type": "stream",
     "text": [
      "  \n"
     ]
    }
   ],
   "source": [
    "cooReader.save_ccmaps('output/CooMatrix/chr15_100kb_Raw_from_text.ccmap', xlabels='chr15')\n",
    "del cooReader       # Delete object and generated any temporary files"
   ]
  },
  {
   "cell_type": "raw",
   "metadata": {
    "raw_mimetype": "text/restructuredtext"
   },
   "source": [
    ".. seealso::\n",
    "    * Function :meth:`gcMapExplorer.lib.importer.CooMatrixHandler.save_ccmaps` for more details. \n",
    "    * Function :meth:`gcMapExplorer.lib.ccmap.save_ccmap` for more details.\n",
    "    \n",
    "    \n",
    "****"
   ]
  },
  {
   "cell_type": "markdown",
   "metadata": {},
   "source": [
    "**Importing from a tar archive**\n",
    "\n",
    "If a Hi-C map data file is present inside a tar archive, the map file can be directly imported as follows:"
   ]
  },
  {
   "cell_type": "code",
   "execution_count": 4,
   "metadata": {
    "collapsed": true
   },
   "outputs": [],
   "source": [
    "tarfile = 'data/CooMatrixFormat/100kb_resolution_intrachromosomal.tar.gz'            # Input Tar archive\n",
    "mapfile = '100kb_resolution_intrachromosomal/chr15/MAPQGE30/chr15_100kb.RAWobserved' # Map file in archive\n",
    "cooReader = gmlib.importer.CooMatrixHandler(mapfile, tarfile)"
   ]
  },
  {
   "cell_type": "markdown",
   "metadata": {},
   "source": [
    "where, `data/100kb_resolution_intrachromosomal.tar.gz` is input tar archive and `100kb_resolution_intrachromosomal/chr15/MAPQGE30/chr15_100kb.RAWobserved` is a map file inside the archive.\n"
   ]
  },
  {
   "cell_type": "markdown",
   "metadata": {},
   "source": [
    "**Now, save the Hi-C map as ccmap:** as already shown above."
   ]
  },
  {
   "cell_type": "code",
   "execution_count": 5,
   "metadata": {
    "collapsed": false
   },
   "outputs": [
    {
     "name": "stderr",
     "output_type": "stream",
     "text": [
      "INFO:CooMatrixHandler: Extracting-Reading [100kb_resolution_intrachromosomal/chr15/MAPQGE30/chr15_100kb.RAWobserved] from [data/CooMatrixFormat/100kb_resolution_intrachromosomal.tar.gz]... \n",
      "INFO:CooMatrixHandler:   ...Finished extracting and reading [100kb_resolution_intrachromosomal/chr15/MAPQGE30/chr15_100kb.RAWobserved]\n",
      "INFO:genMapFromLists: Total number of data in input file: 318258\n",
      "INFO:genMapFromLists:Minimum base-pair: 20000000 and Maximum base-pair: 102500000 are present in input data\n",
      "INFO:genMapFromLists:Shape of overall map: (1026, 1026)\n",
      "\n",
      "INFO:save_ccmap: Saving ccmap to file [output/CooMatrix/chr15_100kb_raw_from_archive.ccmap] and [/home/rajendra/workspace/genome_3d_organization/tutorials_modules/output/CooMatrix/chr15_100kb_raw_from_archive.npbin] ...\n",
      "INFO:save_ccmap: Compressing [/home/rajendra/workspace/genome_3d_organization/tutorials_modules/output/CooMatrix/chr15_100kb_raw_from_archive.npbin] ...\n",
      "INFO:save_ccmap:       Finished!!!\n"
     ]
    },
    {
     "name": "stdout",
     "output_type": "stream",
     "text": [
      "  \n"
     ]
    }
   ],
   "source": [
    "cooReader.save_ccmaps('output/CooMatrix/chr15_100kb_raw_from_archive.ccmap', xlabels='chr15')"
   ]
  },
  {
   "cell_type": "markdown",
   "metadata": {},
   "source": [
    "***\n",
    "\n",
    "\n",
    "### Convert several files from a tar archive\n",
    "\n",
    "`100kb_resolution_intrachromosomal.tar.gz` file contains six Hi-C map data files. Through a `for` loop, these files can be imported and saved. Path to these files in the tar archive are as follows:\n",
    "\n",
    "```\n",
    "100kb_resolution_intrachromosomal/chr1/MAPQGE30/chr1_100kb.RAWobserved\n",
    "100kb_resolution_intrachromosomal/chr5/MAPQGE30/chr5_100kb.RAWobserved\n",
    "100kb_resolution_intrachromosomal/chr15/MAPQGE30/chr15_100kb.RAWobserved\n",
    "100kb_resolution_intrachromosomal/chr20/MAPQGE30/chr20_100kb.RAWobserved\n",
    "100kb_resolution_intrachromosomal/chr21/MAPQGE30/chr21_100kb.RAWobserved\n",
    "100kb_resolution_intrachromosomal/chr22/MAPQGE30/chr22_100kb.RAWobserved\n",
    "```\n",
    "\n",
    "These file names have a pattern, and we utilize this pattern to form a name inside `for` loop."
   ]
  },
  {
   "cell_type": "code",
   "execution_count": 6,
   "metadata": {
    "collapsed": false
   },
   "outputs": [
    {
     "name": "stderr",
     "output_type": "stream",
     "text": [
      "INFO:CooMatrixHandler: Extracting-Reading [100kb_resolution_intrachromosomal/chr1/MAPQGE30/chr1_100kb.RAWobserved] from [data/CooMatrixFormat/100kb_resolution_intrachromosomal.tar.gz]... \n",
      "INFO:CooMatrixHandler:   ...Finished extracting and reading [100kb_resolution_intrachromosomal/chr1/MAPQGE30/chr1_100kb.RAWobserved]\n",
      "INFO:genMapFromLists: Total number of data in input file: 2435300\n",
      "INFO:genMapFromLists:Minimum base-pair: 0 and Maximum base-pair: 249200000 are present in input data\n",
      "INFO:genMapFromLists:Shape of overall map: (2493, 2493)\n",
      "\n",
      "INFO:save_ccmap: Saving ccmap to file [output/CooMatrix/chr1_100kb_RawObserved.ccmap] and [/home/rajendra/workspace/genome_3d_organization/tutorials_modules/output/CooMatrix/chr1_100kb_RawObserved.npbin] ...\n",
      "INFO:save_ccmap: Compressing [/home/rajendra/workspace/genome_3d_organization/tutorials_modules/output/CooMatrix/chr1_100kb_RawObserved.npbin] ...\n",
      "INFO:save_ccmap:       Finished!!!\n"
     ]
    },
    {
     "name": "stdout",
     "output_type": "stream",
     "text": [
      "  \n",
      "  "
     ]
    },
    {
     "name": "stderr",
     "output_type": "stream",
     "text": [
      "INFO:CooMatrixHandler: Extracting-Reading [100kb_resolution_intrachromosomal/chr5/MAPQGE30/chr5_100kb.RAWobserved] from [data/CooMatrixFormat/100kb_resolution_intrachromosomal.tar.gz]... \n",
      "INFO:CooMatrixHandler:   ...Finished extracting and reading [100kb_resolution_intrachromosomal/chr5/MAPQGE30/chr5_100kb.RAWobserved]\n",
      "INFO:genMapFromLists: Total number of data in input file: 1533205\n",
      "INFO:genMapFromLists:Minimum base-pair: 0 and Maximum base-pair: 180800000 are present in input data\n",
      "INFO:genMapFromLists:Shape of overall map: (1809, 1809)\n",
      "\n",
      "INFO:save_ccmap: Saving ccmap to file [output/CooMatrix/chr5_100kb_RawObserved.ccmap] and [/home/rajendra/workspace/genome_3d_organization/tutorials_modules/output/CooMatrix/chr5_100kb_RawObserved.npbin] ...\n",
      "INFO:save_ccmap: Compressing [/home/rajendra/workspace/genome_3d_organization/tutorials_modules/output/CooMatrix/chr5_100kb_RawObserved.npbin] ...\n",
      "INFO:save_ccmap:       Finished!!!\n"
     ]
    },
    {
     "name": "stdout",
     "output_type": "stream",
     "text": [
      "\n",
      "  "
     ]
    },
    {
     "name": "stderr",
     "output_type": "stream",
     "text": [
      "INFO:CooMatrixHandler: Extracting-Reading [100kb_resolution_intrachromosomal/chr15/MAPQGE30/chr15_100kb.RAWobserved] from [data/CooMatrixFormat/100kb_resolution_intrachromosomal.tar.gz]... \n",
      "INFO:CooMatrixHandler:   ...Finished extracting and reading [100kb_resolution_intrachromosomal/chr15/MAPQGE30/chr15_100kb.RAWobserved]\n",
      "INFO:genMapFromLists: Total number of data in input file: 318258\n",
      "INFO:genMapFromLists:Minimum base-pair: 20000000 and Maximum base-pair: 102500000 are present in input data\n",
      "INFO:genMapFromLists:Shape of overall map: (1026, 1026)\n",
      "\n",
      "INFO:save_ccmap: Saving ccmap to file [output/CooMatrix/chr15_100kb_RawObserved.ccmap] and [/home/rajendra/workspace/genome_3d_organization/tutorials_modules/output/CooMatrix/chr15_100kb_RawObserved.npbin] ...\n",
      "INFO:save_ccmap: Compressing [/home/rajendra/workspace/genome_3d_organization/tutorials_modules/output/CooMatrix/chr15_100kb_RawObserved.npbin] ...\n",
      "INFO:save_ccmap:       Finished!!!\n"
     ]
    },
    {
     "name": "stdout",
     "output_type": "stream",
     "text": [
      "\n",
      "  "
     ]
    },
    {
     "name": "stderr",
     "output_type": "stream",
     "text": [
      "INFO:CooMatrixHandler: Extracting-Reading [100kb_resolution_intrachromosomal/chr20/MAPQGE30/chr20_100kb.RAWobserved] from [data/CooMatrixFormat/100kb_resolution_intrachromosomal.tar.gz]... \n",
      "INFO:CooMatrixHandler:   ...Finished extracting and reading [100kb_resolution_intrachromosomal/chr20/MAPQGE30/chr20_100kb.RAWobserved]\n",
      "INFO:genMapFromLists: Total number of data in input file: 179488\n",
      "INFO:genMapFromLists:Minimum base-pair: 0 and Maximum base-pair: 62900000 are present in input data\n",
      "INFO:genMapFromLists:Shape of overall map: (630, 630)\n",
      "\n",
      "INFO:save_ccmap: Saving ccmap to file [output/CooMatrix/chr20_100kb_RawObserved.ccmap] and [/home/rajendra/workspace/genome_3d_organization/tutorials_modules/output/CooMatrix/chr20_100kb_RawObserved.npbin] ...\n",
      "INFO:save_ccmap: Compressing [/home/rajendra/workspace/genome_3d_organization/tutorials_modules/output/CooMatrix/chr20_100kb_RawObserved.npbin] ...\n",
      "INFO:save_ccmap:       Finished!!!\n"
     ]
    },
    {
     "name": "stdout",
     "output_type": "stream",
     "text": [
      "\n",
      "  "
     ]
    },
    {
     "name": "stderr",
     "output_type": "stream",
     "text": [
      "INFO:CooMatrixHandler: Extracting-Reading [100kb_resolution_intrachromosomal/chr21/MAPQGE30/chr21_100kb.RAWobserved] from [data/CooMatrixFormat/100kb_resolution_intrachromosomal.tar.gz]... \n",
      "INFO:CooMatrixHandler:   ...Finished extracting and reading [100kb_resolution_intrachromosomal/chr21/MAPQGE30/chr21_100kb.RAWobserved]\n",
      "INFO:genMapFromLists: Total number of data in input file: 60664\n",
      "INFO:genMapFromLists:Minimum base-pair: 9400000 and Maximum base-pair: 48100000 are present in input data\n",
      "INFO:genMapFromLists:Shape of overall map: (482, 482)\n",
      "\n",
      "INFO:save_ccmap: Saving ccmap to file [output/CooMatrix/chr21_100kb_RawObserved.ccmap] and [/home/rajendra/workspace/genome_3d_organization/tutorials_modules/output/CooMatrix/chr21_100kb_RawObserved.npbin] ...\n",
      "INFO:save_ccmap: Compressing [/home/rajendra/workspace/genome_3d_organization/tutorials_modules/output/CooMatrix/chr21_100kb_RawObserved.npbin] ...\n",
      "INFO:save_ccmap:       Finished!!!\n"
     ]
    },
    {
     "name": "stdout",
     "output_type": "stream",
     "text": [
      "\n",
      "  "
     ]
    },
    {
     "name": "stderr",
     "output_type": "stream",
     "text": [
      "INFO:CooMatrixHandler: Extracting-Reading [100kb_resolution_intrachromosomal/chr22/MAPQGE30/chr22_100kb.RAWobserved] from [data/CooMatrixFormat/100kb_resolution_intrachromosomal.tar.gz]... \n",
      "INFO:CooMatrixHandler:   ...Finished extracting and reading [100kb_resolution_intrachromosomal/chr22/MAPQGE30/chr22_100kb.RAWobserved]\n",
      "INFO:genMapFromLists: Total number of data in input file: 59429\n",
      "INFO:genMapFromLists:Minimum base-pair: 16000000 and Maximum base-pair: 51200000 are present in input data\n",
      "INFO:genMapFromLists:Shape of overall map: (513, 513)\n",
      "\n",
      "INFO:save_ccmap: Saving ccmap to file [output/CooMatrix/chr22_100kb_RawObserved.ccmap] and [/home/rajendra/workspace/genome_3d_organization/tutorials_modules/output/CooMatrix/chr22_100kb_RawObserved.npbin] ...\n",
      "INFO:save_ccmap: Compressing [/home/rajendra/workspace/genome_3d_organization/tutorials_modules/output/CooMatrix/chr22_100kb_RawObserved.npbin] ...\n",
      "INFO:save_ccmap:       Finished!!!\n"
     ]
    },
    {
     "name": "stdout",
     "output_type": "stream",
     "text": [
      "\n"
     ]
    }
   ],
   "source": [
    "tarfile = 'data/CooMatrixFormat/100kb_resolution_intrachromosomal.tar.gz'   \n",
    "\n",
    "chroms = [1, 5, 15, 20, 21, 22]      # List of chromosomes\n",
    "\n",
    "# Loop for each chromosome\n",
    "inputFileList = []\n",
    "outputFileList = []\n",
    "xlabels = []\n",
    "for chrom in chroms:\n",
    "    mapfile = '100kb_resolution_intrachromosomal/chr{0}/MAPQGE30/chr{0}_100kb.RAWobserved' .format(chrom)\n",
    "    inputFileList.append(mapfile)\n",
    "    \n",
    "    output_file = 'output/CooMatrix/chr{0}_100kb_RawObserved.ccmap' .format(chrom)     # Output file name\n",
    "    outputFileList.append(output_file)\n",
    "    \n",
    "    xlabels.append( 'chr{0}'.format(chrom) )\n",
    "    \n",
    "cooReader = gmlib.importer.CooMatrixHandler(inputFileList, tarfile)\n",
    "cooReader.save_ccmaps(outputFileList, xlabels=xlabels)"
   ]
  },
  {
   "cell_type": "markdown",
   "metadata": {},
   "source": [
    "Now, in `output` directory, all files from archive are saved. These files can be used either with browser to visualize or for further analysis."
   ]
  },
  {
   "cell_type": "markdown",
   "metadata": {},
   "source": [
    "### Convert to ``gcmap`` file\n",
    "\n",
    "The contact map files can be converted to ``gcmap`` format file. "
   ]
  },
  {
   "cell_type": "raw",
   "metadata": {
    "raw_mimetype": "text/restructuredtext"
   },
   "source": [
    ".. seealso::\n",
    "    * Function :meth:`gcMapExplorer.lib.importer.CooMatrixHandler.save_gcmap` for more details. "
   ]
  },
  {
   "cell_type": "code",
   "execution_count": 7,
   "metadata": {
    "collapsed": false
   },
   "outputs": [
    {
     "name": "stderr",
     "output_type": "stream",
     "text": [
      "INFO:CooMatrixHandler: Extracting-Reading [100kb_resolution_intrachromosomal/chr1/MAPQGE30/chr1_100kb.RAWobserved] from [data/CooMatrixFormat/100kb_resolution_intrachromosomal.tar.gz]... \n",
      "INFO:CooMatrixHandler:   ...Finished extracting and reading [100kb_resolution_intrachromosomal/chr1/MAPQGE30/chr1_100kb.RAWobserved]\n",
      "INFO:genMapFromLists: Total number of data in input file: 2435300\n",
      "INFO:genMapFromLists:Minimum base-pair: 0 and Maximum base-pair: 249200000 are present in input data\n",
      "INFO:genMapFromLists:Shape of overall map: (2493, 2493)\n",
      "\n",
      "INFO:addCCMap2GCMap: Opened file [output/CooMatrix/rawObserved_100kb.gcmap] for reading writing..\n",
      "INFO:addCCMap2GCMap: Adding data to [output/CooMatrix/rawObserved_100kb.gcmap] for [chr1] ...\n",
      "INFO:addCCMap2GCMap:     ...Finished adding data for [chr1] ...\n",
      "INFO:addCCMap2GCMap: Generating downsampled maps for [chr1] ...\n",
      "INFO:addCCMap2GCMap:     ... Finished downsampling for [chr1] ...\n",
      "INFO:addCCMap2GCMap: Closed file [output/CooMatrix/rawObserved_100kb.gcmap]...\n"
     ]
    },
    {
     "name": "stdout",
     "output_type": "stream",
     "text": [
      "  \n",
      "  "
     ]
    },
    {
     "name": "stderr",
     "output_type": "stream",
     "text": [
      "INFO:CooMatrixHandler: Extracting-Reading [100kb_resolution_intrachromosomal/chr5/MAPQGE30/chr5_100kb.RAWobserved] from [data/CooMatrixFormat/100kb_resolution_intrachromosomal.tar.gz]... \n",
      "INFO:CooMatrixHandler:   ...Finished extracting and reading [100kb_resolution_intrachromosomal/chr5/MAPQGE30/chr5_100kb.RAWobserved]\n",
      "INFO:genMapFromLists: Total number of data in input file: 1533205\n",
      "INFO:genMapFromLists:Minimum base-pair: 0 and Maximum base-pair: 180800000 are present in input data\n",
      "INFO:genMapFromLists:Shape of overall map: (1809, 1809)\n",
      "\n",
      "INFO:addCCMap2GCMap: Opened file [output/CooMatrix/rawObserved_100kb.gcmap] for reading writing..\n",
      "INFO:addCCMap2GCMap: Adding data to [output/CooMatrix/rawObserved_100kb.gcmap] for [chr5] ...\n",
      "INFO:addCCMap2GCMap:     ...Finished adding data for [chr5] ...\n",
      "INFO:addCCMap2GCMap: Generating downsampled maps for [chr5] ...\n",
      "INFO:addCCMap2GCMap:     ... Finished downsampling for [chr5] ...\n",
      "INFO:addCCMap2GCMap: Closed file [output/CooMatrix/rawObserved_100kb.gcmap]...\n"
     ]
    },
    {
     "name": "stdout",
     "output_type": "stream",
     "text": [
      "\n",
      "  "
     ]
    },
    {
     "name": "stderr",
     "output_type": "stream",
     "text": [
      "INFO:CooMatrixHandler: Extracting-Reading [100kb_resolution_intrachromosomal/chr15/MAPQGE30/chr15_100kb.RAWobserved] from [data/CooMatrixFormat/100kb_resolution_intrachromosomal.tar.gz]... \n",
      "INFO:CooMatrixHandler:   ...Finished extracting and reading [100kb_resolution_intrachromosomal/chr15/MAPQGE30/chr15_100kb.RAWobserved]\n",
      "INFO:genMapFromLists: Total number of data in input file: 318258\n",
      "INFO:genMapFromLists:Minimum base-pair: 20000000 and Maximum base-pair: 102500000 are present in input data\n",
      "INFO:genMapFromLists:Shape of overall map: (1026, 1026)\n",
      "\n",
      "INFO:addCCMap2GCMap: Opened file [output/CooMatrix/rawObserved_100kb.gcmap] for reading writing..\n",
      "INFO:addCCMap2GCMap: Adding data to [output/CooMatrix/rawObserved_100kb.gcmap] for [chr15] ...\n",
      "INFO:addCCMap2GCMap:     ...Finished adding data for [chr15] ...\n",
      "INFO:addCCMap2GCMap: Generating downsampled maps for [chr15] ...\n",
      "INFO:addCCMap2GCMap:     ... Finished downsampling for [chr15] ...\n",
      "INFO:addCCMap2GCMap: Closed file [output/CooMatrix/rawObserved_100kb.gcmap]...\n"
     ]
    },
    {
     "name": "stdout",
     "output_type": "stream",
     "text": [
      "\n",
      "  "
     ]
    },
    {
     "name": "stderr",
     "output_type": "stream",
     "text": [
      "INFO:CooMatrixHandler: Extracting-Reading [100kb_resolution_intrachromosomal/chr20/MAPQGE30/chr20_100kb.RAWobserved] from [data/CooMatrixFormat/100kb_resolution_intrachromosomal.tar.gz]... \n",
      "INFO:CooMatrixHandler:   ...Finished extracting and reading [100kb_resolution_intrachromosomal/chr20/MAPQGE30/chr20_100kb.RAWobserved]\n",
      "INFO:genMapFromLists: Total number of data in input file: 179488\n",
      "INFO:genMapFromLists:Minimum base-pair: 0 and Maximum base-pair: 62900000 are present in input data\n",
      "INFO:genMapFromLists:Shape of overall map: (630, 630)\n",
      "\n",
      "INFO:addCCMap2GCMap: Opened file [output/CooMatrix/rawObserved_100kb.gcmap] for reading writing..\n",
      "INFO:addCCMap2GCMap: Adding data to [output/CooMatrix/rawObserved_100kb.gcmap] for [chr20] ...\n",
      "INFO:addCCMap2GCMap:     ...Finished adding data for [chr20] ...\n",
      "INFO:addCCMap2GCMap: Generating downsampled maps for [chr20] ...\n",
      "INFO:addCCMap2GCMap:     ... Finished downsampling for [chr20] ...\n",
      "INFO:addCCMap2GCMap: Closed file [output/CooMatrix/rawObserved_100kb.gcmap]...\n"
     ]
    },
    {
     "name": "stdout",
     "output_type": "stream",
     "text": [
      "\n",
      "  "
     ]
    },
    {
     "name": "stderr",
     "output_type": "stream",
     "text": [
      "INFO:CooMatrixHandler: Extracting-Reading [100kb_resolution_intrachromosomal/chr21/MAPQGE30/chr21_100kb.RAWobserved] from [data/CooMatrixFormat/100kb_resolution_intrachromosomal.tar.gz]... \n",
      "INFO:CooMatrixHandler:   ...Finished extracting and reading [100kb_resolution_intrachromosomal/chr21/MAPQGE30/chr21_100kb.RAWobserved]\n",
      "INFO:genMapFromLists: Total number of data in input file: 60664\n",
      "INFO:genMapFromLists:Minimum base-pair: 9400000 and Maximum base-pair: 48100000 are present in input data\n",
      "INFO:genMapFromLists:Shape of overall map: (482, 482)\n",
      "\n",
      "INFO:addCCMap2GCMap: Opened file [output/CooMatrix/rawObserved_100kb.gcmap] for reading writing..\n",
      "INFO:addCCMap2GCMap: Adding data to [output/CooMatrix/rawObserved_100kb.gcmap] for [chr21] ...\n",
      "INFO:addCCMap2GCMap:     ...Finished adding data for [chr21] ...\n",
      "INFO:addCCMap2GCMap: Generating downsampled maps for [chr21] ...\n",
      "INFO:addCCMap2GCMap:     ... Finished downsampling for [chr21] ...\n",
      "INFO:addCCMap2GCMap: Closed file [output/CooMatrix/rawObserved_100kb.gcmap]...\n"
     ]
    },
    {
     "name": "stdout",
     "output_type": "stream",
     "text": [
      "\n",
      "  "
     ]
    },
    {
     "name": "stderr",
     "output_type": "stream",
     "text": [
      "INFO:CooMatrixHandler: Extracting-Reading [100kb_resolution_intrachromosomal/chr22/MAPQGE30/chr22_100kb.RAWobserved] from [data/CooMatrixFormat/100kb_resolution_intrachromosomal.tar.gz]... \n",
      "INFO:CooMatrixHandler:   ...Finished extracting and reading [100kb_resolution_intrachromosomal/chr22/MAPQGE30/chr22_100kb.RAWobserved]\n",
      "INFO:genMapFromLists: Total number of data in input file: 59429\n",
      "INFO:genMapFromLists:Minimum base-pair: 16000000 and Maximum base-pair: 51200000 are present in input data\n",
      "INFO:genMapFromLists:Shape of overall map: (513, 513)\n",
      "\n",
      "INFO:addCCMap2GCMap: Opened file [output/CooMatrix/rawObserved_100kb.gcmap] for reading writing..\n",
      "INFO:addCCMap2GCMap: Adding data to [output/CooMatrix/rawObserved_100kb.gcmap] for [chr22] ...\n",
      "INFO:addCCMap2GCMap:     ...Finished adding data for [chr22] ...\n",
      "INFO:addCCMap2GCMap: Generating downsampled maps for [chr22] ...\n",
      "INFO:addCCMap2GCMap:     ... Finished downsampling for [chr22] ...\n",
      "INFO:addCCMap2GCMap: Closed file [output/CooMatrix/rawObserved_100kb.gcmap]...\n"
     ]
    },
    {
     "name": "stdout",
     "output_type": "stream",
     "text": [
      "\n"
     ]
    }
   ],
   "source": [
    "tarfile = 'data/CooMatrixFormat/100kb_resolution_intrachromosomal.tar.gz'   \n",
    "\n",
    "chroms = [1, 5, 15, 20, 21, 22]      # List of chromosomes\n",
    "\n",
    "# Loop for each chromosome\n",
    "inputFileList = []\n",
    "outputFileList = []\n",
    "xlabels = []\n",
    "for chrom in chroms:\n",
    "    mapfile = '100kb_resolution_intrachromosomal/chr{0}/MAPQGE30/chr{0}_100kb.RAWobserved' .format(chrom)\n",
    "    inputFileList.append(mapfile)\n",
    "    \n",
    "    output_file = 'output/CooMatrix/chr{0}_100kb_RawObserved.ccmap' .format(chrom)     # Output file name\n",
    "    outputFileList.append(output_file)\n",
    "    \n",
    "    xlabels.append( 'chr{0}'.format(chrom) )\n",
    "    \n",
    "cooReader = gmlib.importer.CooMatrixHandler(inputFileList, tarfile)\n",
    "cooReader.save_gcmap('output/CooMatrix/rawObserved_100kb.gcmap', xlabels=xlabels, coarsingMethod='sum', compression='lzf')"
   ]
  },
  {
   "cell_type": "markdown",
   "metadata": {},
   "source": [
    "## 2. From HOMER Hi-C interaction matrix format\n",
    "\n",
    "[HOMER package](http://homer.salk.edu/homer/interactions/) contains modules to analyze genome wide interaction data. It creates Hi-C matrix in a specific format as shown in this [link](http://homer.salk.edu/homer/interactions/HiCmatrices.html).\n",
    "\n"
   ]
  },
  {
   "cell_type": "markdown",
   "metadata": {},
   "source": [
    "### Covert to ccmap\n",
    "\n",
    "An example input file `human_INL_sample1_matrix_1Mb_raw.txt` is present in `data/HomerFormat` directory. Below, we read it and convert it to `.ccmap` formats. The input file contains several chromosomes, therefore, several `.ccmap` files will be generated for each respective chromosome.\n",
    "\n",
    "\n",
    "Ouput `.ccmap` files with `suffix='_sample1'` will be saved in `output/homer` directory."
   ]
  },
  {
   "cell_type": "raw",
   "metadata": {
    "raw_mimetype": "text/restructuredtext"
   },
   "source": [
    ".. seealso::\n",
    "    Class :meth:`gcMapExplorer.lib.importer.HomerInputHandler` for more details."
   ]
  },
  {
   "cell_type": "code",
   "execution_count": 8,
   "metadata": {
    "collapsed": false
   },
   "outputs": [
    {
     "name": "stderr",
     "output_type": "stream",
     "text": [
      "INFO:HomerInputHandler: Getting chromosome list and resolution from Input Files ...\n",
      "INFO:HomerInputHandler: Resolution: 1mb\n",
      "INFO:HomerInputHandler: Following chromsomes found in input files:  \n",
      "                              chr1\n",
      "                              chr2\n",
      "                              chr3\n",
      "                              chr4\n",
      "                              chr5\n",
      "                              chr6\n",
      "                              chr7\n",
      "                              chr8\n",
      "                              chr9\n",
      "                              chr10\n",
      "                              chr11\n",
      "                              chr12\n",
      "                              chr13\n",
      "                              chr14\n",
      "                              chr15\n",
      "                              chr16\n",
      "                              chr17\n",
      "                              chr18\n",
      "                              chr19\n",
      "                              chr20\n",
      "                              chr21\n",
      "                              chr22\n",
      "                              chrMT\n",
      "                              chrX\n",
      "                              chrY\n",
      "INFO:HomerInputHandler: Reading [data/HomerFormat/human_INL_sample1_matrix_1Mb_raw.txt] file ...\n",
      "INFO:HomerInputHandler:           ... Finished reading [data/HomerFormat/human_INL_sample1_matrix_1Mb_raw.txt] file ...\n",
      "INFO:CooMatrixHandler: Reading file: [/home/rajendra/deskForWork/scratch/chr1_os2op88v.tmp]... \n",
      "INFO:CooMatrixHandler:     ... Finished reading file: [/home/rajendra/deskForWork/scratch/chr1_os2op88v.tmp] \n",
      "INFO:genMapFromLists: Total number of data in input file: 40344\n",
      "INFO:genMapFromLists:Minimum base-pair: 0 and Maximum base-pair: 249000000 are present in input data\n",
      "INFO:genMapFromLists:Shape of overall map: (250, 250)\n",
      "\n",
      "INFO:save_ccmap: Saving ccmap to file [output/homer/chr1_1mb__sample1.ccmap] and [/home/rajendra/workspace/genome_3d_organization/tutorials_modules/output/homer/chr1_1mb__sample1.npbin] ...\n",
      "INFO:save_ccmap: Compressing [/home/rajendra/workspace/genome_3d_organization/tutorials_modules/output/homer/chr1_1mb__sample1.npbin] ...\n",
      "INFO:save_ccmap:       Finished!!!\n"
     ]
    },
    {
     "name": "stdout",
     "output_type": "stream",
     "text": [
      "  \n",
      "  "
     ]
    },
    {
     "name": "stderr",
     "output_type": "stream",
     "text": [
      "INFO:CooMatrixHandler: Reading file: [/home/rajendra/deskForWork/scratch/chr2_s2naz0mw.tmp]... \n",
      "INFO:CooMatrixHandler:     ... Finished reading file: [/home/rajendra/deskForWork/scratch/chr2_s2naz0mw.tmp] \n",
      "INFO:genMapFromLists: Total number of data in input file: 46886\n",
      "INFO:genMapFromLists:Minimum base-pair: 0 and Maximum base-pair: 243000000 are present in input data\n",
      "INFO:genMapFromLists:Shape of overall map: (244, 244)\n",
      "\n",
      "INFO:save_ccmap: Saving ccmap to file [output/homer/chr2_1mb__sample1.ccmap] and [/home/rajendra/workspace/genome_3d_organization/tutorials_modules/output/homer/chr2_1mb__sample1.npbin] ...\n",
      "INFO:save_ccmap: Compressing [/home/rajendra/workspace/genome_3d_organization/tutorials_modules/output/homer/chr2_1mb__sample1.npbin] ...\n",
      "INFO:save_ccmap:       Finished!!!\n"
     ]
    },
    {
     "name": "stdout",
     "output_type": "stream",
     "text": [
      "\n",
      "  "
     ]
    },
    {
     "name": "stderr",
     "output_type": "stream",
     "text": [
      "INFO:CooMatrixHandler: Reading file: [/home/rajendra/deskForWork/scratch/chr3_2wk51mvy.tmp]... \n",
      "INFO:CooMatrixHandler:     ... Finished reading file: [/home/rajendra/deskForWork/scratch/chr3_2wk51mvy.tmp] \n",
      "INFO:genMapFromLists: Total number of data in input file: 33308\n",
      "INFO:genMapFromLists:Minimum base-pair: 0 and Maximum base-pair: 197000000 are present in input data\n",
      "INFO:genMapFromLists:Shape of overall map: (198, 198)\n",
      "\n",
      "INFO:save_ccmap: Saving ccmap to file [output/homer/chr3_1mb__sample1.ccmap] and [/home/rajendra/workspace/genome_3d_organization/tutorials_modules/output/homer/chr3_1mb__sample1.npbin] ...\n",
      "INFO:save_ccmap: Compressing [/home/rajendra/workspace/genome_3d_organization/tutorials_modules/output/homer/chr3_1mb__sample1.npbin] ...\n",
      "INFO:save_ccmap:       Finished!!!\n"
     ]
    },
    {
     "name": "stdout",
     "output_type": "stream",
     "text": [
      "\n",
      "  "
     ]
    },
    {
     "name": "stderr",
     "output_type": "stream",
     "text": [
      "INFO:CooMatrixHandler: Reading file: [/home/rajendra/deskForWork/scratch/chr4_r259nr74.tmp]... \n",
      "INFO:CooMatrixHandler:     ... Finished reading file: [/home/rajendra/deskForWork/scratch/chr4_r259nr74.tmp] \n",
      "INFO:genMapFromLists: Total number of data in input file: 29054\n",
      "INFO:genMapFromLists:Minimum base-pair: 0 and Maximum base-pair: 191000000 are present in input data\n",
      "INFO:genMapFromLists:Shape of overall map: (192, 192)\n",
      "\n",
      "INFO:save_ccmap: Saving ccmap to file [output/homer/chr4_1mb__sample1.ccmap] and [/home/rajendra/workspace/genome_3d_organization/tutorials_modules/output/homer/chr4_1mb__sample1.npbin] ...\n",
      "INFO:save_ccmap: Compressing [/home/rajendra/workspace/genome_3d_organization/tutorials_modules/output/homer/chr4_1mb__sample1.npbin] ...\n",
      "INFO:save_ccmap:       Finished!!!\n"
     ]
    },
    {
     "name": "stdout",
     "output_type": "stream",
     "text": [
      "\n",
      "  "
     ]
    },
    {
     "name": "stderr",
     "output_type": "stream",
     "text": [
      "INFO:CooMatrixHandler: Reading file: [/home/rajendra/deskForWork/scratch/chr5_iw9vukuv.tmp]... \n",
      "INFO:CooMatrixHandler:     ... Finished reading file: [/home/rajendra/deskForWork/scratch/chr5_iw9vukuv.tmp] \n",
      "INFO:genMapFromLists: Total number of data in input file: 26286\n",
      "INFO:genMapFromLists:Minimum base-pair: 0 and Maximum base-pair: 180000000 are present in input data\n",
      "INFO:genMapFromLists:Shape of overall map: (181, 181)\n",
      "\n",
      "INFO:save_ccmap: Saving ccmap to file [output/homer/chr5_1mb__sample1.ccmap] and [/home/rajendra/workspace/genome_3d_organization/tutorials_modules/output/homer/chr5_1mb__sample1.npbin] ...\n",
      "INFO:save_ccmap: Compressing [/home/rajendra/workspace/genome_3d_organization/tutorials_modules/output/homer/chr5_1mb__sample1.npbin] ...\n",
      "INFO:save_ccmap:       Finished!!!\n"
     ]
    },
    {
     "name": "stdout",
     "output_type": "stream",
     "text": [
      "\n",
      "  "
     ]
    },
    {
     "name": "stderr",
     "output_type": "stream",
     "text": [
      "INFO:CooMatrixHandler: Reading file: [/home/rajendra/deskForWork/scratch/chr6_r9501e3v.tmp]... \n",
      "INFO:CooMatrixHandler:     ... Finished reading file: [/home/rajendra/deskForWork/scratch/chr6_r9501e3v.tmp] \n",
      "INFO:genMapFromLists: Total number of data in input file: 25032\n",
      "INFO:genMapFromLists:Minimum base-pair: 0 and Maximum base-pair: 171000000 are present in input data\n",
      "INFO:genMapFromLists:Shape of overall map: (172, 172)\n",
      "\n",
      "INFO:save_ccmap: Saving ccmap to file [output/homer/chr6_1mb__sample1.ccmap] and [/home/rajendra/workspace/genome_3d_organization/tutorials_modules/output/homer/chr6_1mb__sample1.npbin] ...\n",
      "INFO:save_ccmap: Compressing [/home/rajendra/workspace/genome_3d_organization/tutorials_modules/output/homer/chr6_1mb__sample1.npbin] ...\n",
      "INFO:save_ccmap:       Finished!!!\n"
     ]
    },
    {
     "name": "stdout",
     "output_type": "stream",
     "text": [
      "\n",
      "  "
     ]
    },
    {
     "name": "stderr",
     "output_type": "stream",
     "text": [
      "INFO:CooMatrixHandler: Reading file: [/home/rajendra/deskForWork/scratch/chr7_9fjq0vyg.tmp]... \n",
      "INFO:CooMatrixHandler:     ... Finished reading file: [/home/rajendra/deskForWork/scratch/chr7_9fjq0vyg.tmp] \n",
      "INFO:genMapFromLists: Total number of data in input file: 20748\n",
      "INFO:genMapFromLists:Minimum base-pair: 0 and Maximum base-pair: 159000000 are present in input data\n",
      "INFO:genMapFromLists:Shape of overall map: (160, 160)\n",
      "\n",
      "INFO:save_ccmap: Saving ccmap to file [output/homer/chr7_1mb__sample1.ccmap] and [/home/rajendra/workspace/genome_3d_organization/tutorials_modules/output/homer/chr7_1mb__sample1.npbin] ...\n",
      "INFO:save_ccmap: Compressing [/home/rajendra/workspace/genome_3d_organization/tutorials_modules/output/homer/chr7_1mb__sample1.npbin] ...\n",
      "INFO:save_ccmap:       Finished!!!\n"
     ]
    },
    {
     "name": "stdout",
     "output_type": "stream",
     "text": [
      "\n",
      "  "
     ]
    },
    {
     "name": "stderr",
     "output_type": "stream",
     "text": [
      "INFO:CooMatrixHandler: Reading file: [/home/rajendra/deskForWork/scratch/chr8_f6aj3qtd.tmp]... \n",
      "INFO:CooMatrixHandler:     ... Finished reading file: [/home/rajendra/deskForWork/scratch/chr8_f6aj3qtd.tmp] \n",
      "INFO:genMapFromLists: Total number of data in input file: 18371\n",
      "INFO:genMapFromLists:Minimum base-pair: 0 and Maximum base-pair: 146000000 are present in input data\n",
      "INFO:genMapFromLists:Shape of overall map: (147, 147)\n",
      "\n",
      "INFO:save_ccmap: Saving ccmap to file [output/homer/chr8_1mb__sample1.ccmap] and [/home/rajendra/workspace/genome_3d_organization/tutorials_modules/output/homer/chr8_1mb__sample1.npbin] ...\n",
      "INFO:save_ccmap: Compressing [/home/rajendra/workspace/genome_3d_organization/tutorials_modules/output/homer/chr8_1mb__sample1.npbin] ...\n",
      "INFO:save_ccmap:       Finished!!!\n"
     ]
    },
    {
     "name": "stdout",
     "output_type": "stream",
     "text": [
      "\n",
      "  "
     ]
    },
    {
     "name": "stderr",
     "output_type": "stream",
     "text": [
      "INFO:CooMatrixHandler: Reading file: [/home/rajendra/deskForWork/scratch/chr9_aeb9ztst.tmp]... \n",
      "INFO:CooMatrixHandler:     ... Finished reading file: [/home/rajendra/deskForWork/scratch/chr9_aeb9ztst.tmp] \n",
      "INFO:genMapFromLists: Total number of data in input file: 11414\n",
      "INFO:genMapFromLists:Minimum base-pair: 0 and Maximum base-pair: 141000000 are present in input data\n",
      "INFO:genMapFromLists:Shape of overall map: (142, 142)\n",
      "\n",
      "INFO:save_ccmap: Saving ccmap to file [output/homer/chr9_1mb__sample1.ccmap] and [/home/rajendra/workspace/genome_3d_organization/tutorials_modules/output/homer/chr9_1mb__sample1.npbin] ...\n",
      "INFO:save_ccmap: Compressing [/home/rajendra/workspace/genome_3d_organization/tutorials_modules/output/homer/chr9_1mb__sample1.npbin] ...\n",
      "INFO:save_ccmap:       Finished!!!\n"
     ]
    },
    {
     "name": "stdout",
     "output_type": "stream",
     "text": [
      "\n",
      "  "
     ]
    },
    {
     "name": "stderr",
     "output_type": "stream",
     "text": [
      "INFO:CooMatrixHandler: Reading file: [/home/rajendra/deskForWork/scratch/chr10_38y06zud.tmp]... \n",
      "INFO:CooMatrixHandler:     ... Finished reading file: [/home/rajendra/deskForWork/scratch/chr10_38y06zud.tmp] \n",
      "INFO:genMapFromLists: Total number of data in input file: 15560\n",
      "INFO:genMapFromLists:Minimum base-pair: 0 and Maximum base-pair: 135000000 are present in input data\n",
      "INFO:genMapFromLists:Shape of overall map: (136, 136)\n",
      "\n",
      "INFO:save_ccmap: Saving ccmap to file [output/homer/chr10_1mb__sample1.ccmap] and [/home/rajendra/workspace/genome_3d_organization/tutorials_modules/output/homer/chr10_1mb__sample1.npbin] ...\n",
      "INFO:save_ccmap: Compressing [/home/rajendra/workspace/genome_3d_organization/tutorials_modules/output/homer/chr10_1mb__sample1.npbin] ...\n",
      "INFO:save_ccmap:       Finished!!!\n"
     ]
    },
    {
     "name": "stdout",
     "output_type": "stream",
     "text": [
      "\n",
      "  "
     ]
    },
    {
     "name": "stderr",
     "output_type": "stream",
     "text": [
      "INFO:CooMatrixHandler: Reading file: [/home/rajendra/deskForWork/scratch/chr11_ftyreanw.tmp]... \n",
      "INFO:CooMatrixHandler:     ... Finished reading file: [/home/rajendra/deskForWork/scratch/chr11_ftyreanw.tmp] \n",
      "INFO:genMapFromLists: Total number of data in input file: 15429\n",
      "INFO:genMapFromLists:Minimum base-pair: 0 and Maximum base-pair: 134000000 are present in input data\n",
      "INFO:genMapFromLists:Shape of overall map: (135, 135)\n",
      "\n",
      "INFO:save_ccmap: Saving ccmap to file [output/homer/chr11_1mb__sample1.ccmap] and [/home/rajendra/workspace/genome_3d_organization/tutorials_modules/output/homer/chr11_1mb__sample1.npbin] ...\n",
      "INFO:save_ccmap: Compressing [/home/rajendra/workspace/genome_3d_organization/tutorials_modules/output/homer/chr11_1mb__sample1.npbin] ...\n",
      "INFO:save_ccmap:       Finished!!!\n"
     ]
    },
    {
     "name": "stdout",
     "output_type": "stream",
     "text": [
      "\n",
      "  "
     ]
    },
    {
     "name": "stderr",
     "output_type": "stream",
     "text": [
      "INFO:CooMatrixHandler: Reading file: [/home/rajendra/deskForWork/scratch/chr12_dd_54_jc.tmp]... \n",
      "INFO:CooMatrixHandler:     ... Finished reading file: [/home/rajendra/deskForWork/scratch/chr12_dd_54_jc.tmp] \n",
      "INFO:genMapFromLists: Total number of data in input file: 14928\n",
      "INFO:genMapFromLists:Minimum base-pair: 0 and Maximum base-pair: 133000000 are present in input data\n",
      "INFO:genMapFromLists:Shape of overall map: (134, 134)\n",
      "\n",
      "INFO:save_ccmap: Saving ccmap to file [output/homer/chr12_1mb__sample1.ccmap] and [/home/rajendra/workspace/genome_3d_organization/tutorials_modules/output/homer/chr12_1mb__sample1.npbin] ...\n",
      "INFO:save_ccmap: Compressing [/home/rajendra/workspace/genome_3d_organization/tutorials_modules/output/homer/chr12_1mb__sample1.npbin] ...\n",
      "INFO:save_ccmap:       Finished!!!\n"
     ]
    },
    {
     "name": "stdout",
     "output_type": "stream",
     "text": [
      "\n",
      "  "
     ]
    },
    {
     "name": "stderr",
     "output_type": "stream",
     "text": [
      "INFO:CooMatrixHandler: Reading file: [/home/rajendra/deskForWork/scratch/chr13_lprd76h8.tmp]... \n",
      "INFO:CooMatrixHandler:     ... Finished reading file: [/home/rajendra/deskForWork/scratch/chr13_lprd76h8.tmp] \n",
      "INFO:genMapFromLists: Total number of data in input file: 8675\n",
      "INFO:genMapFromLists:Minimum base-pair: 19000000 and Maximum base-pair: 115000000 are present in input data\n",
      "INFO:genMapFromLists:Shape of overall map: (116, 116)\n",
      "\n",
      "INFO:save_ccmap: Saving ccmap to file [output/homer/chr13_1mb__sample1.ccmap] and [/home/rajendra/workspace/genome_3d_organization/tutorials_modules/output/homer/chr13_1mb__sample1.npbin] ...\n",
      "INFO:save_ccmap: Compressing [/home/rajendra/workspace/genome_3d_organization/tutorials_modules/output/homer/chr13_1mb__sample1.npbin] ...\n",
      "INFO:save_ccmap:       Finished!!!\n"
     ]
    },
    {
     "name": "stdout",
     "output_type": "stream",
     "text": [
      "\n",
      "  "
     ]
    },
    {
     "name": "stderr",
     "output_type": "stream",
     "text": [
      "INFO:CooMatrixHandler: Reading file: [/home/rajendra/deskForWork/scratch/chr14_gpy0w_ia.tmp]... \n",
      "INFO:CooMatrixHandler:     ... Finished reading file: [/home/rajendra/deskForWork/scratch/chr14_gpy0w_ia.tmp] \n",
      "INFO:genMapFromLists: Total number of data in input file: 7245\n",
      "INFO:genMapFromLists:Minimum base-pair: 19000000 and Maximum base-pair: 107000000 are present in input data\n",
      "INFO:genMapFromLists:Shape of overall map: (108, 108)\n",
      "\n",
      "INFO:save_ccmap: Saving ccmap to file [output/homer/chr14_1mb__sample1.ccmap] and [/home/rajendra/workspace/genome_3d_organization/tutorials_modules/output/homer/chr14_1mb__sample1.npbin] ...\n",
      "INFO:save_ccmap: Compressing [/home/rajendra/workspace/genome_3d_organization/tutorials_modules/output/homer/chr14_1mb__sample1.npbin] ...\n",
      "INFO:save_ccmap:       Finished!!!\n"
     ]
    },
    {
     "name": "stdout",
     "output_type": "stream",
     "text": [
      "\n",
      "  "
     ]
    },
    {
     "name": "stderr",
     "output_type": "stream",
     "text": [
      "INFO:CooMatrixHandler: Reading file: [/home/rajendra/deskForWork/scratch/chr15_jlzwvcxg.tmp]... \n",
      "INFO:CooMatrixHandler:     ... Finished reading file: [/home/rajendra/deskForWork/scratch/chr15_jlzwvcxg.tmp] \n",
      "INFO:genMapFromLists: Total number of data in input file: 6249\n",
      "INFO:genMapFromLists:Minimum base-pair: 20000000 and Maximum base-pair: 102000000 are present in input data\n",
      "INFO:genMapFromLists:Shape of overall map: (103, 103)\n",
      "\n",
      "INFO:save_ccmap: Saving ccmap to file [output/homer/chr15_1mb__sample1.ccmap] and [/home/rajendra/workspace/genome_3d_organization/tutorials_modules/output/homer/chr15_1mb__sample1.npbin] ...\n",
      "INFO:save_ccmap: Compressing [/home/rajendra/workspace/genome_3d_organization/tutorials_modules/output/homer/chr15_1mb__sample1.npbin] ...\n",
      "INFO:save_ccmap:       Finished!!!\n"
     ]
    },
    {
     "name": "stdout",
     "output_type": "stream",
     "text": [
      "\n",
      "  "
     ]
    },
    {
     "name": "stderr",
     "output_type": "stream",
     "text": [
      "INFO:CooMatrixHandler: Reading file: [/home/rajendra/deskForWork/scratch/chr16_o789hlat.tmp]... \n",
      "INFO:CooMatrixHandler:     ... Finished reading file: [/home/rajendra/deskForWork/scratch/chr16_o789hlat.tmp] \n",
      "INFO:genMapFromLists: Total number of data in input file: 5629\n",
      "INFO:genMapFromLists:Minimum base-pair: 0 and Maximum base-pair: 90000000 are present in input data\n",
      "INFO:genMapFromLists:Shape of overall map: (91, 91)\n",
      "\n",
      "INFO:save_ccmap: Saving ccmap to file [output/homer/chr16_1mb__sample1.ccmap] and [/home/rajendra/workspace/genome_3d_organization/tutorials_modules/output/homer/chr16_1mb__sample1.npbin] ...\n",
      "INFO:save_ccmap: Compressing [/home/rajendra/workspace/genome_3d_organization/tutorials_modules/output/homer/chr16_1mb__sample1.npbin] ...\n",
      "INFO:save_ccmap:       Finished!!!\n"
     ]
    },
    {
     "name": "stdout",
     "output_type": "stream",
     "text": [
      "\n",
      "  "
     ]
    },
    {
     "name": "stderr",
     "output_type": "stream",
     "text": [
      "INFO:CooMatrixHandler: Reading file: [/home/rajendra/deskForWork/scratch/chr17_pbw8e3tc.tmp]... \n",
      "INFO:CooMatrixHandler:     ... Finished reading file: [/home/rajendra/deskForWork/scratch/chr17_pbw8e3tc.tmp] \n",
      "INFO:genMapFromLists: Total number of data in input file: 5650\n",
      "INFO:genMapFromLists:Minimum base-pair: 0 and Maximum base-pair: 81000000 are present in input data\n",
      "INFO:genMapFromLists:Shape of overall map: (82, 82)\n",
      "\n",
      "INFO:save_ccmap: Saving ccmap to file [output/homer/chr17_1mb__sample1.ccmap] and [/home/rajendra/workspace/genome_3d_organization/tutorials_modules/output/homer/chr17_1mb__sample1.npbin] ...\n",
      "INFO:save_ccmap: Compressing [/home/rajendra/workspace/genome_3d_organization/tutorials_modules/output/homer/chr17_1mb__sample1.npbin] ...\n",
      "INFO:save_ccmap:       Finished!!!\n",
      "INFO:CooMatrixHandler: Reading file: [/home/rajendra/deskForWork/scratch/chr18_9zacbp4b.tmp]... \n",
      "INFO:CooMatrixHandler:     ... Finished reading file: [/home/rajendra/deskForWork/scratch/chr18_9zacbp4b.tmp] \n",
      "INFO:genMapFromLists: Total number of data in input file: 5581\n",
      "INFO:genMapFromLists:Minimum base-pair: 0 and Maximum base-pair: 78000000 are present in input data\n",
      "INFO:genMapFromLists:Shape of overall map: (79, 79)\n",
      "\n",
      "INFO:save_ccmap: Saving ccmap to file [output/homer/chr18_1mb__sample1.ccmap] and [/home/rajendra/workspace/genome_3d_organization/tutorials_modules/output/homer/chr18_1mb__sample1.npbin] ...\n",
      "INFO:save_ccmap: Compressing [/home/rajendra/workspace/genome_3d_organization/tutorials_modules/output/homer/chr18_1mb__sample1.npbin] ...\n",
      "INFO:save_ccmap:       Finished!!!\n"
     ]
    },
    {
     "name": "stdout",
     "output_type": "stream",
     "text": [
      "\n",
      "  \n",
      "  "
     ]
    },
    {
     "name": "stderr",
     "output_type": "stream",
     "text": [
      "INFO:CooMatrixHandler: Reading file: [/home/rajendra/deskForWork/scratch/chr19_da1h_3r7.tmp]... \n",
      "INFO:CooMatrixHandler:     ... Finished reading file: [/home/rajendra/deskForWork/scratch/chr19_da1h_3r7.tmp] \n",
      "INFO:genMapFromLists: Total number of data in input file: 3012\n",
      "INFO:genMapFromLists:Minimum base-pair: 0 and Maximum base-pair: 59000000 are present in input data\n",
      "INFO:genMapFromLists:Shape of overall map: (60, 60)\n",
      "\n",
      "INFO:save_ccmap: Saving ccmap to file [output/homer/chr19_1mb__sample1.ccmap] and [/home/rajendra/workspace/genome_3d_organization/tutorials_modules/output/homer/chr19_1mb__sample1.npbin] ...\n",
      "INFO:save_ccmap: Compressing [/home/rajendra/workspace/genome_3d_organization/tutorials_modules/output/homer/chr19_1mb__sample1.npbin] ...\n",
      "INFO:save_ccmap:       Finished!!!\n",
      "INFO:CooMatrixHandler: Reading file: [/home/rajendra/deskForWork/scratch/chr20_sftox467.tmp]... \n",
      "INFO:CooMatrixHandler:     ... Finished reading file: [/home/rajendra/deskForWork/scratch/chr20_sftox467.tmp] \n",
      "INFO:genMapFromLists: Total number of data in input file: 3563\n",
      "INFO:genMapFromLists:Minimum base-pair: 0 and Maximum base-pair: 62000000 are present in input data\n",
      "INFO:genMapFromLists:Shape of overall map: (63, 63)\n",
      "\n",
      "INFO:save_ccmap: Saving ccmap to file [output/homer/chr20_1mb__sample1.ccmap] and [/home/rajendra/workspace/genome_3d_organization/tutorials_modules/output/homer/chr20_1mb__sample1.npbin] ...\n",
      "INFO:save_ccmap: Compressing [/home/rajendra/workspace/genome_3d_organization/tutorials_modules/output/homer/chr20_1mb__sample1.npbin] ...\n",
      "INFO:save_ccmap:       Finished!!!\n"
     ]
    },
    {
     "name": "stdout",
     "output_type": "stream",
     "text": [
      "\n",
      "  \n",
      "  "
     ]
    },
    {
     "name": "stderr",
     "output_type": "stream",
     "text": [
      "INFO:CooMatrixHandler: Reading file: [/home/rajendra/deskForWork/scratch/chr21_ian0ewc5.tmp]... \n",
      "INFO:CooMatrixHandler:     ... Finished reading file: [/home/rajendra/deskForWork/scratch/chr21_ian0ewc5.tmp] \n",
      "INFO:genMapFromLists: Total number of data in input file: 1266\n",
      "INFO:genMapFromLists:Minimum base-pair: 9000000 and Maximum base-pair: 48000000 are present in input data\n",
      "INFO:genMapFromLists:Shape of overall map: (49, 49)\n",
      "\n",
      "INFO:save_ccmap: Saving ccmap to file [output/homer/chr21_1mb__sample1.ccmap] and [/home/rajendra/workspace/genome_3d_organization/tutorials_modules/output/homer/chr21_1mb__sample1.npbin] ...\n",
      "INFO:save_ccmap: Compressing [/home/rajendra/workspace/genome_3d_organization/tutorials_modules/output/homer/chr21_1mb__sample1.npbin] ...\n",
      "INFO:save_ccmap:       Finished!!!\n",
      "INFO:CooMatrixHandler: Reading file: [/home/rajendra/deskForWork/scratch/chr22_wi3r03j3.tmp]... \n",
      "INFO:CooMatrixHandler:     ... Finished reading file: [/home/rajendra/deskForWork/scratch/chr22_wi3r03j3.tmp] \n",
      "INFO:genMapFromLists: Total number of data in input file: 1222\n",
      "INFO:genMapFromLists:Minimum base-pair: 16000000 and Maximum base-pair: 51000000 are present in input data\n",
      "INFO:genMapFromLists:Shape of overall map: (52, 52)\n",
      "\n",
      "INFO:save_ccmap: Saving ccmap to file [output/homer/chr22_1mb__sample1.ccmap] and [/home/rajendra/workspace/genome_3d_organization/tutorials_modules/output/homer/chr22_1mb__sample1.npbin] ...\n",
      "INFO:save_ccmap: Compressing [/home/rajendra/workspace/genome_3d_organization/tutorials_modules/output/homer/chr22_1mb__sample1.npbin] ...\n",
      "INFO:save_ccmap:       Finished!!!\n",
      "INFO:CooMatrixHandler: Reading file: [/home/rajendra/deskForWork/scratch/chrMT_fw97q5wp.tmp]... \n",
      "INFO:CooMatrixHandler:     ... Finished reading file: [/home/rajendra/deskForWork/scratch/chrMT_fw97q5wp.tmp] \n",
      "INFO:genMapFromLists: Total number of data in input file: 1\n",
      "INFO:genMapFromLists:Minimum base-pair: 0 and Maximum base-pair: 0 are present in input data\n",
      "INFO:genMapFromLists:Shape of overall map: (1, 1)\n",
      "\n",
      "INFO:save_ccmap: Saving ccmap to file [output/homer/chrMT_1mb__sample1.ccmap] and [/home/rajendra/workspace/genome_3d_organization/tutorials_modules/output/homer/chrMT_1mb__sample1.npbin] ...\n",
      "INFO:save_ccmap: Compressing [/home/rajendra/workspace/genome_3d_organization/tutorials_modules/output/homer/chrMT_1mb__sample1.npbin] ...\n",
      "INFO:save_ccmap:       Finished!!!\n",
      "INFO:CooMatrixHandler: Reading file: [/home/rajendra/deskForWork/scratch/chrX_e1hpf37f.tmp]... \n",
      "INFO:CooMatrixHandler:     ... Finished reading file: [/home/rajendra/deskForWork/scratch/chrX_e1hpf37f.tmp] \n",
      "INFO:genMapFromLists: Total number of data in input file: 20634\n",
      "INFO:genMapFromLists:Minimum base-pair: 0 and Maximum base-pair: 155000000 are present in input data\n",
      "INFO:genMapFromLists:Shape of overall map: (156, 156)\n",
      "\n",
      "INFO:save_ccmap: Saving ccmap to file [output/homer/chrX_1mb__sample1.ccmap] and [/home/rajendra/workspace/genome_3d_organization/tutorials_modules/output/homer/chrX_1mb__sample1.npbin] ...\n",
      "INFO:save_ccmap: Compressing [/home/rajendra/workspace/genome_3d_organization/tutorials_modules/output/homer/chrX_1mb__sample1.npbin] ...\n",
      "INFO:save_ccmap:       Finished!!!\n"
     ]
    },
    {
     "name": "stdout",
     "output_type": "stream",
     "text": [
      "\n",
      "  \n",
      "  \n",
      "  \n",
      "  "
     ]
    },
    {
     "name": "stderr",
     "output_type": "stream",
     "text": [
      "INFO:CooMatrixHandler: Reading file: [/home/rajendra/deskForWork/scratch/chrY_ixqiqv7f.tmp]... \n",
      "INFO:CooMatrixHandler:     ... Finished reading file: [/home/rajendra/deskForWork/scratch/chrY_ixqiqv7f.tmp] \n",
      "INFO:genMapFromLists: Total number of data in input file: 18\n",
      "INFO:genMapFromLists:Minimum base-pair: 3000000 and Maximum base-pair: 59000000 are present in input data\n",
      "INFO:genMapFromLists:Shape of overall map: (60, 60)\n",
      "\n",
      "INFO:save_ccmap: Saving ccmap to file [output/homer/chrY_1mb__sample1.ccmap] and [/home/rajendra/workspace/genome_3d_organization/tutorials_modules/output/homer/chrY_1mb__sample1.npbin] ...\n",
      "INFO:save_ccmap: Compressing [/home/rajendra/workspace/genome_3d_organization/tutorials_modules/output/homer/chrY_1mb__sample1.npbin] ...\n",
      "INFO:save_ccmap:       Finished!!!\n",
      "INFO:HomerInputHandler: Saved ['output/homer/chr1_1mb__sample1.ccmap', 'output/homer/chr2_1mb__sample1.ccmap', 'output/homer/chr3_1mb__sample1.ccmap', 'output/homer/chr4_1mb__sample1.ccmap', 'output/homer/chr5_1mb__sample1.ccmap', 'output/homer/chr6_1mb__sample1.ccmap', 'output/homer/chr7_1mb__sample1.ccmap', 'output/homer/chr8_1mb__sample1.ccmap', 'output/homer/chr9_1mb__sample1.ccmap', 'output/homer/chr10_1mb__sample1.ccmap', 'output/homer/chr11_1mb__sample1.ccmap', 'output/homer/chr12_1mb__sample1.ccmap', 'output/homer/chr13_1mb__sample1.ccmap', 'output/homer/chr14_1mb__sample1.ccmap', 'output/homer/chr15_1mb__sample1.ccmap', 'output/homer/chr16_1mb__sample1.ccmap', 'output/homer/chr17_1mb__sample1.ccmap', 'output/homer/chr18_1mb__sample1.ccmap', 'output/homer/chr19_1mb__sample1.ccmap', 'output/homer/chr20_1mb__sample1.ccmap', 'output/homer/chr21_1mb__sample1.ccmap', 'output/homer/chr22_1mb__sample1.ccmap', 'output/homer/chrMT_1mb__sample1.ccmap', 'output/homer/chrX_1mb__sample1.ccmap', 'output/homer/chrY_1mb__sample1.ccmap'] files.\n"
     ]
    },
    {
     "name": "stdout",
     "output_type": "stream",
     "text": [
      "\n"
     ]
    }
   ],
   "source": [
    "# Initialize\n",
    "homer_reader = gmlib.importer.HomerInputHandler('data/HomerFormat/human_INL_sample1_matrix_1Mb_raw.txt')\n",
    "\n",
    "# Convert and save\n",
    "homer_reader.save_ccmaps('output/homer', suffix='_sample1')\n",
    "\n",
    "# Delete all temporary files, neccessary, automatically deleted\n",
    "del homer_reader"
   ]
  },
  {
   "cell_type": "markdown",
   "metadata": {},
   "source": [
    "### Convert from zip file to ccmap file\n",
    "\n",
    "An example input zip file `human_INL.zip` is present in `data/HomerFormat` directory. This zip file contains two text files. Below, we read, combine and convert them to `.ccmap` formats. The input file contains several chromosomes, therefore, several `.ccmap` files will be generated for each respective chromosome.\n",
    "\n",
    "Ouput `.ccmap` files with `suffix='_combined'` will be saved in `output/homer` directory."
   ]
  },
  {
   "cell_type": "code",
   "execution_count": 9,
   "metadata": {
    "collapsed": false
   },
   "outputs": [
    {
     "name": "stderr",
     "output_type": "stream",
     "text": [
      "INFO:HomerInputHandler: Getting chromosome list and resolution from Input Files ...\n",
      "INFO:HomerInputHandler: Resolution: 1mb\n",
      "INFO:HomerInputHandler: Following chromsomes found in input files:  \n",
      "                              chr1\n",
      "                              chr2\n",
      "                              chr3\n",
      "                              chr4\n",
      "                              chr5\n",
      "                              chr6\n",
      "                              chr7\n",
      "                              chr8\n",
      "                              chr9\n",
      "                              chr10\n",
      "                              chr11\n",
      "                              chr12\n",
      "                              chr13\n",
      "                              chr14\n",
      "                              chr15\n",
      "                              chr16\n",
      "                              chr17\n",
      "                              chr18\n",
      "                              chr19\n",
      "                              chr20\n",
      "                              chr21\n",
      "                              chr22\n",
      "                              chrMT\n",
      "                              chrX\n",
      "                              chrY\n",
      "INFO:HomerInputHandler: Reading [human_INL_sample1_matrix_1Mb_raw.txt] file ...\n",
      "INFO:HomerInputHandler:           ... Finished reading [human_INL_sample1_matrix_1Mb_raw.txt] file ...\n",
      "INFO:HomerInputHandler: Reading [human_INL_sample2_matrix_1Mb_raw.txt] file ...\n",
      "INFO:HomerInputHandler:           ... Finished reading [human_INL_sample2_matrix_1Mb_raw.txt] file ...\n",
      "INFO:CooMatrixHandler: Reading file: [/home/rajendra/deskForWork/scratch/chr1_i_ryor9d.tmp]... \n",
      "INFO:CooMatrixHandler:     ... Finished reading file: [/home/rajendra/deskForWork/scratch/chr1_i_ryor9d.tmp] \n",
      "INFO:genMapFromLists: Total number of data in input file: 73792\n",
      "INFO:genMapFromLists:Minimum base-pair: 0 and Maximum base-pair: 249000000 are present in input data\n",
      "INFO:genMapFromLists:Shape of overall map: (250, 250)\n",
      "\n",
      "INFO:save_ccmap: Saving ccmap to file [output/homer/chr1_1mb__combined.ccmap] and [/home/rajendra/workspace/genome_3d_organization/tutorials_modules/output/homer/chr1_1mb__combined.npbin] ...\n",
      "INFO:save_ccmap: Compressing [/home/rajendra/workspace/genome_3d_organization/tutorials_modules/output/homer/chr1_1mb__combined.npbin] ...\n",
      "INFO:save_ccmap:       Finished!!!\n"
     ]
    },
    {
     "name": "stdout",
     "output_type": "stream",
     "text": [
      "  \n",
      "  "
     ]
    },
    {
     "name": "stderr",
     "output_type": "stream",
     "text": [
      "INFO:CooMatrixHandler: Reading file: [/home/rajendra/deskForWork/scratch/chr2_hxgi95kq.tmp]... \n",
      "INFO:CooMatrixHandler:     ... Finished reading file: [/home/rajendra/deskForWork/scratch/chr2_hxgi95kq.tmp] \n",
      "INFO:genMapFromLists: Total number of data in input file: 84760\n",
      "INFO:genMapFromLists:Minimum base-pair: 0 and Maximum base-pair: 243000000 are present in input data\n",
      "INFO:genMapFromLists:Shape of overall map: (244, 244)\n",
      "\n",
      "INFO:save_ccmap: Saving ccmap to file [output/homer/chr2_1mb__combined.ccmap] and [/home/rajendra/workspace/genome_3d_organization/tutorials_modules/output/homer/chr2_1mb__combined.npbin] ...\n",
      "INFO:save_ccmap: Compressing [/home/rajendra/workspace/genome_3d_organization/tutorials_modules/output/homer/chr2_1mb__combined.npbin] ...\n",
      "INFO:save_ccmap:       Finished!!!\n"
     ]
    },
    {
     "name": "stdout",
     "output_type": "stream",
     "text": [
      "\n",
      "  "
     ]
    },
    {
     "name": "stderr",
     "output_type": "stream",
     "text": [
      "INFO:CooMatrixHandler: Reading file: [/home/rajendra/deskForWork/scratch/chr3_prx9c7j6.tmp]... \n",
      "INFO:CooMatrixHandler:     ... Finished reading file: [/home/rajendra/deskForWork/scratch/chr3_prx9c7j6.tmp] \n",
      "INFO:genMapFromLists: Total number of data in input file: 61102\n",
      "INFO:genMapFromLists:Minimum base-pair: 0 and Maximum base-pair: 197000000 are present in input data\n",
      "INFO:genMapFromLists:Shape of overall map: (198, 198)\n",
      "\n",
      "INFO:save_ccmap: Saving ccmap to file [output/homer/chr3_1mb__combined.ccmap] and [/home/rajendra/workspace/genome_3d_organization/tutorials_modules/output/homer/chr3_1mb__combined.npbin] ...\n",
      "INFO:save_ccmap: Compressing [/home/rajendra/workspace/genome_3d_organization/tutorials_modules/output/homer/chr3_1mb__combined.npbin] ...\n",
      "INFO:save_ccmap:       Finished!!!\n"
     ]
    },
    {
     "name": "stdout",
     "output_type": "stream",
     "text": [
      "\n",
      "  "
     ]
    },
    {
     "name": "stderr",
     "output_type": "stream",
     "text": [
      "INFO:CooMatrixHandler: Reading file: [/home/rajendra/deskForWork/scratch/chr4_5xdu3keu.tmp]... \n",
      "INFO:CooMatrixHandler:     ... Finished reading file: [/home/rajendra/deskForWork/scratch/chr4_5xdu3keu.tmp] \n",
      "INFO:genMapFromLists: Total number of data in input file: 52272\n",
      "INFO:genMapFromLists:Minimum base-pair: 0 and Maximum base-pair: 191000000 are present in input data\n",
      "INFO:genMapFromLists:Shape of overall map: (192, 192)\n",
      "\n",
      "INFO:save_ccmap: Saving ccmap to file [output/homer/chr4_1mb__combined.ccmap] and [/home/rajendra/workspace/genome_3d_organization/tutorials_modules/output/homer/chr4_1mb__combined.npbin] ...\n",
      "INFO:save_ccmap: Compressing [/home/rajendra/workspace/genome_3d_organization/tutorials_modules/output/homer/chr4_1mb__combined.npbin] ...\n",
      "INFO:save_ccmap:       Finished!!!\n"
     ]
    },
    {
     "name": "stdout",
     "output_type": "stream",
     "text": [
      "\n",
      "  "
     ]
    },
    {
     "name": "stderr",
     "output_type": "stream",
     "text": [
      "INFO:CooMatrixHandler: Reading file: [/home/rajendra/deskForWork/scratch/chr5_3_erl3q3.tmp]... \n",
      "INFO:CooMatrixHandler:     ... Finished reading file: [/home/rajendra/deskForWork/scratch/chr5_3_erl3q3.tmp] \n",
      "INFO:genMapFromLists: Total number of data in input file: 47594\n",
      "INFO:genMapFromLists:Minimum base-pair: 0 and Maximum base-pair: 180000000 are present in input data\n",
      "INFO:genMapFromLists:Shape of overall map: (181, 181)\n",
      "\n",
      "INFO:save_ccmap: Saving ccmap to file [output/homer/chr5_1mb__combined.ccmap] and [/home/rajendra/workspace/genome_3d_organization/tutorials_modules/output/homer/chr5_1mb__combined.npbin] ...\n",
      "INFO:save_ccmap: Compressing [/home/rajendra/workspace/genome_3d_organization/tutorials_modules/output/homer/chr5_1mb__combined.npbin] ...\n",
      "INFO:save_ccmap:       Finished!!!\n"
     ]
    },
    {
     "name": "stdout",
     "output_type": "stream",
     "text": [
      "\n",
      "  "
     ]
    },
    {
     "name": "stderr",
     "output_type": "stream",
     "text": [
      "INFO:CooMatrixHandler: Reading file: [/home/rajendra/deskForWork/scratch/chr6_csbsm15l.tmp]... \n",
      "INFO:CooMatrixHandler:     ... Finished reading file: [/home/rajendra/deskForWork/scratch/chr6_csbsm15l.tmp] \n",
      "INFO:genMapFromLists: Total number of data in input file: 46347\n",
      "INFO:genMapFromLists:Minimum base-pair: 0 and Maximum base-pair: 171000000 are present in input data\n",
      "INFO:genMapFromLists:Shape of overall map: (172, 172)\n",
      "\n",
      "INFO:save_ccmap: Saving ccmap to file [output/homer/chr6_1mb__combined.ccmap] and [/home/rajendra/workspace/genome_3d_organization/tutorials_modules/output/homer/chr6_1mb__combined.npbin] ...\n",
      "INFO:save_ccmap: Compressing [/home/rajendra/workspace/genome_3d_organization/tutorials_modules/output/homer/chr6_1mb__combined.npbin] ...\n",
      "INFO:save_ccmap:       Finished!!!\n"
     ]
    },
    {
     "name": "stdout",
     "output_type": "stream",
     "text": [
      "\n",
      "  "
     ]
    },
    {
     "name": "stderr",
     "output_type": "stream",
     "text": [
      "INFO:CooMatrixHandler: Reading file: [/home/rajendra/deskForWork/scratch/chr7_jgvfl8tf.tmp]... \n",
      "INFO:CooMatrixHandler:     ... Finished reading file: [/home/rajendra/deskForWork/scratch/chr7_jgvfl8tf.tmp] \n",
      "INFO:genMapFromLists: Total number of data in input file: 38192\n",
      "INFO:genMapFromLists:Minimum base-pair: 0 and Maximum base-pair: 159000000 are present in input data\n",
      "INFO:genMapFromLists:Shape of overall map: (160, 160)\n",
      "\n",
      "INFO:save_ccmap: Saving ccmap to file [output/homer/chr7_1mb__combined.ccmap] and [/home/rajendra/workspace/genome_3d_organization/tutorials_modules/output/homer/chr7_1mb__combined.npbin] ...\n",
      "INFO:save_ccmap: Compressing [/home/rajendra/workspace/genome_3d_organization/tutorials_modules/output/homer/chr7_1mb__combined.npbin] ...\n",
      "INFO:save_ccmap:       Finished!!!\n"
     ]
    },
    {
     "name": "stdout",
     "output_type": "stream",
     "text": [
      "\n",
      "  "
     ]
    },
    {
     "name": "stderr",
     "output_type": "stream",
     "text": [
      "INFO:CooMatrixHandler: Reading file: [/home/rajendra/deskForWork/scratch/chr8_s_mm4_31.tmp]... \n",
      "INFO:CooMatrixHandler:     ... Finished reading file: [/home/rajendra/deskForWork/scratch/chr8_s_mm4_31.tmp] \n",
      "INFO:genMapFromLists: Total number of data in input file: 34554\n",
      "INFO:genMapFromLists:Minimum base-pair: 0 and Maximum base-pair: 146000000 are present in input data\n",
      "INFO:genMapFromLists:Shape of overall map: (147, 147)\n",
      "\n",
      "INFO:save_ccmap: Saving ccmap to file [output/homer/chr8_1mb__combined.ccmap] and [/home/rajendra/workspace/genome_3d_organization/tutorials_modules/output/homer/chr8_1mb__combined.npbin] ...\n",
      "INFO:save_ccmap: Compressing [/home/rajendra/workspace/genome_3d_organization/tutorials_modules/output/homer/chr8_1mb__combined.npbin] ...\n",
      "INFO:save_ccmap:       Finished!!!\n"
     ]
    },
    {
     "name": "stdout",
     "output_type": "stream",
     "text": [
      "\n",
      "  "
     ]
    },
    {
     "name": "stderr",
     "output_type": "stream",
     "text": [
      "INFO:CooMatrixHandler: Reading file: [/home/rajendra/deskForWork/scratch/chr9_w4hdr7ju.tmp]... \n",
      "INFO:CooMatrixHandler:     ... Finished reading file: [/home/rajendra/deskForWork/scratch/chr9_w4hdr7ju.tmp] \n",
      "INFO:genMapFromLists: Total number of data in input file: 21457\n",
      "INFO:genMapFromLists:Minimum base-pair: 0 and Maximum base-pair: 141000000 are present in input data\n",
      "INFO:genMapFromLists:Shape of overall map: (142, 142)\n",
      "\n",
      "INFO:save_ccmap: Saving ccmap to file [output/homer/chr9_1mb__combined.ccmap] and [/home/rajendra/workspace/genome_3d_organization/tutorials_modules/output/homer/chr9_1mb__combined.npbin] ...\n",
      "INFO:save_ccmap: Compressing [/home/rajendra/workspace/genome_3d_organization/tutorials_modules/output/homer/chr9_1mb__combined.npbin] ...\n",
      "INFO:save_ccmap:       Finished!!!\n"
     ]
    },
    {
     "name": "stdout",
     "output_type": "stream",
     "text": [
      "\n",
      "  "
     ]
    },
    {
     "name": "stderr",
     "output_type": "stream",
     "text": [
      "INFO:CooMatrixHandler: Reading file: [/home/rajendra/deskForWork/scratch/chr10_df0_3_ht.tmp]... \n",
      "INFO:CooMatrixHandler:     ... Finished reading file: [/home/rajendra/deskForWork/scratch/chr10_df0_3_ht.tmp] \n",
      "INFO:genMapFromLists: Total number of data in input file: 29188\n",
      "INFO:genMapFromLists:Minimum base-pair: 0 and Maximum base-pair: 135000000 are present in input data\n",
      "INFO:genMapFromLists:Shape of overall map: (136, 136)\n",
      "\n",
      "INFO:save_ccmap: Saving ccmap to file [output/homer/chr10_1mb__combined.ccmap] and [/home/rajendra/workspace/genome_3d_organization/tutorials_modules/output/homer/chr10_1mb__combined.npbin] ...\n",
      "INFO:save_ccmap: Compressing [/home/rajendra/workspace/genome_3d_organization/tutorials_modules/output/homer/chr10_1mb__combined.npbin] ...\n",
      "INFO:save_ccmap:       Finished!!!\n"
     ]
    },
    {
     "name": "stdout",
     "output_type": "stream",
     "text": [
      "\n",
      "  "
     ]
    },
    {
     "name": "stderr",
     "output_type": "stream",
     "text": [
      "INFO:CooMatrixHandler: Reading file: [/home/rajendra/deskForWork/scratch/chr11_7zjn_yhb.tmp]... \n",
      "INFO:CooMatrixHandler:     ... Finished reading file: [/home/rajendra/deskForWork/scratch/chr11_7zjn_yhb.tmp] \n",
      "INFO:genMapFromLists: Total number of data in input file: 28920\n",
      "INFO:genMapFromLists:Minimum base-pair: 0 and Maximum base-pair: 134000000 are present in input data\n",
      "INFO:genMapFromLists:Shape of overall map: (135, 135)\n",
      "\n",
      "INFO:save_ccmap: Saving ccmap to file [output/homer/chr11_1mb__combined.ccmap] and [/home/rajendra/workspace/genome_3d_organization/tutorials_modules/output/homer/chr11_1mb__combined.npbin] ...\n",
      "INFO:save_ccmap: Compressing [/home/rajendra/workspace/genome_3d_organization/tutorials_modules/output/homer/chr11_1mb__combined.npbin] ...\n",
      "INFO:save_ccmap:       Finished!!!\n"
     ]
    },
    {
     "name": "stdout",
     "output_type": "stream",
     "text": [
      "\n",
      "  "
     ]
    },
    {
     "name": "stderr",
     "output_type": "stream",
     "text": [
      "INFO:CooMatrixHandler: Reading file: [/home/rajendra/deskForWork/scratch/chr12_lli6w590.tmp]... \n",
      "INFO:CooMatrixHandler:     ... Finished reading file: [/home/rajendra/deskForWork/scratch/chr12_lli6w590.tmp] \n",
      "INFO:genMapFromLists: Total number of data in input file: 27766\n",
      "INFO:genMapFromLists:Minimum base-pair: 0 and Maximum base-pair: 133000000 are present in input data\n",
      "INFO:genMapFromLists:Shape of overall map: (134, 134)\n",
      "\n",
      "INFO:save_ccmap: Saving ccmap to file [output/homer/chr12_1mb__combined.ccmap] and [/home/rajendra/workspace/genome_3d_organization/tutorials_modules/output/homer/chr12_1mb__combined.npbin] ...\n",
      "INFO:save_ccmap: Compressing [/home/rajendra/workspace/genome_3d_organization/tutorials_modules/output/homer/chr12_1mb__combined.npbin] ...\n",
      "INFO:save_ccmap:       Finished!!!\n"
     ]
    },
    {
     "name": "stdout",
     "output_type": "stream",
     "text": [
      "\n",
      "  "
     ]
    },
    {
     "name": "stderr",
     "output_type": "stream",
     "text": [
      "INFO:CooMatrixHandler: Reading file: [/home/rajendra/deskForWork/scratch/chr13_g4hwjtpc.tmp]... \n",
      "INFO:CooMatrixHandler:     ... Finished reading file: [/home/rajendra/deskForWork/scratch/chr13_g4hwjtpc.tmp] \n",
      "INFO:genMapFromLists: Total number of data in input file: 16584\n",
      "INFO:genMapFromLists:Minimum base-pair: 19000000 and Maximum base-pair: 115000000 are present in input data\n",
      "INFO:genMapFromLists:Shape of overall map: (116, 116)\n",
      "\n",
      "INFO:save_ccmap: Saving ccmap to file [output/homer/chr13_1mb__combined.ccmap] and [/home/rajendra/workspace/genome_3d_organization/tutorials_modules/output/homer/chr13_1mb__combined.npbin] ...\n",
      "INFO:save_ccmap: Compressing [/home/rajendra/workspace/genome_3d_organization/tutorials_modules/output/homer/chr13_1mb__combined.npbin] ...\n",
      "INFO:save_ccmap:       Finished!!!\n"
     ]
    },
    {
     "name": "stdout",
     "output_type": "stream",
     "text": [
      "\n",
      "  "
     ]
    },
    {
     "name": "stderr",
     "output_type": "stream",
     "text": [
      "INFO:CooMatrixHandler: Reading file: [/home/rajendra/deskForWork/scratch/chr14_dbnjda45.tmp]... \n",
      "INFO:CooMatrixHandler:     ... Finished reading file: [/home/rajendra/deskForWork/scratch/chr14_dbnjda45.tmp] \n",
      "INFO:genMapFromLists: Total number of data in input file: 13904\n",
      "INFO:genMapFromLists:Minimum base-pair: 19000000 and Maximum base-pair: 107000000 are present in input data\n",
      "INFO:genMapFromLists:Shape of overall map: (108, 108)\n",
      "\n",
      "INFO:save_ccmap: Saving ccmap to file [output/homer/chr14_1mb__combined.ccmap] and [/home/rajendra/workspace/genome_3d_organization/tutorials_modules/output/homer/chr14_1mb__combined.npbin] ...\n",
      "INFO:save_ccmap: Compressing [/home/rajendra/workspace/genome_3d_organization/tutorials_modules/output/homer/chr14_1mb__combined.npbin] ...\n",
      "INFO:save_ccmap:       Finished!!!\n"
     ]
    },
    {
     "name": "stdout",
     "output_type": "stream",
     "text": [
      "\n",
      "  "
     ]
    },
    {
     "name": "stderr",
     "output_type": "stream",
     "text": [
      "INFO:CooMatrixHandler: Reading file: [/home/rajendra/deskForWork/scratch/chr15_jt6woss1.tmp]... \n",
      "INFO:CooMatrixHandler:     ... Finished reading file: [/home/rajendra/deskForWork/scratch/chr15_jt6woss1.tmp] \n",
      "INFO:genMapFromLists: Total number of data in input file: 12006\n",
      "INFO:genMapFromLists:Minimum base-pair: 20000000 and Maximum base-pair: 102000000 are present in input data\n",
      "INFO:genMapFromLists:Shape of overall map: (103, 103)\n",
      "\n",
      "INFO:save_ccmap: Saving ccmap to file [output/homer/chr15_1mb__combined.ccmap] and [/home/rajendra/workspace/genome_3d_organization/tutorials_modules/output/homer/chr15_1mb__combined.npbin] ...\n",
      "INFO:save_ccmap: Compressing [/home/rajendra/workspace/genome_3d_organization/tutorials_modules/output/homer/chr15_1mb__combined.npbin] ...\n",
      "INFO:save_ccmap:       Finished!!!\n"
     ]
    },
    {
     "name": "stdout",
     "output_type": "stream",
     "text": [
      "\n",
      "  "
     ]
    },
    {
     "name": "stderr",
     "output_type": "stream",
     "text": [
      "INFO:CooMatrixHandler: Reading file: [/home/rajendra/deskForWork/scratch/chr16_a5qfcg7h.tmp]... \n",
      "INFO:CooMatrixHandler:     ... Finished reading file: [/home/rajendra/deskForWork/scratch/chr16_a5qfcg7h.tmp] \n",
      "INFO:genMapFromLists: Total number of data in input file: 10808\n",
      "INFO:genMapFromLists:Minimum base-pair: 0 and Maximum base-pair: 90000000 are present in input data\n",
      "INFO:genMapFromLists:Shape of overall map: (91, 91)\n",
      "\n",
      "INFO:save_ccmap: Saving ccmap to file [output/homer/chr16_1mb__combined.ccmap] and [/home/rajendra/workspace/genome_3d_organization/tutorials_modules/output/homer/chr16_1mb__combined.npbin] ...\n",
      "INFO:save_ccmap: Compressing [/home/rajendra/workspace/genome_3d_organization/tutorials_modules/output/homer/chr16_1mb__combined.npbin] ...\n",
      "INFO:save_ccmap:       Finished!!!\n"
     ]
    },
    {
     "name": "stdout",
     "output_type": "stream",
     "text": [
      "\n",
      "  "
     ]
    },
    {
     "name": "stderr",
     "output_type": "stream",
     "text": [
      "INFO:CooMatrixHandler: Reading file: [/home/rajendra/deskForWork/scratch/chr17_g_x4qxnl.tmp]... \n",
      "INFO:CooMatrixHandler:     ... Finished reading file: [/home/rajendra/deskForWork/scratch/chr17_g_x4qxnl.tmp] \n",
      "INFO:genMapFromLists: Total number of data in input file: 10918\n",
      "INFO:genMapFromLists:Minimum base-pair: 0 and Maximum base-pair: 81000000 are present in input data\n",
      "INFO:genMapFromLists:Shape of overall map: (82, 82)\n",
      "\n",
      "INFO:save_ccmap: Saving ccmap to file [output/homer/chr17_1mb__combined.ccmap] and [/home/rajendra/workspace/genome_3d_organization/tutorials_modules/output/homer/chr17_1mb__combined.npbin] ...\n",
      "INFO:save_ccmap: Compressing [/home/rajendra/workspace/genome_3d_organization/tutorials_modules/output/homer/chr17_1mb__combined.npbin] ...\n",
      "INFO:save_ccmap:       Finished!!!\n"
     ]
    },
    {
     "name": "stdout",
     "output_type": "stream",
     "text": [
      "\n",
      "  "
     ]
    },
    {
     "name": "stderr",
     "output_type": "stream",
     "text": [
      "INFO:CooMatrixHandler: Reading file: [/home/rajendra/deskForWork/scratch/chr18_j200eps4.tmp]... \n",
      "INFO:CooMatrixHandler:     ... Finished reading file: [/home/rajendra/deskForWork/scratch/chr18_j200eps4.tmp] \n",
      "INFO:genMapFromLists: Total number of data in input file: 10852\n",
      "INFO:genMapFromLists:Minimum base-pair: 0 and Maximum base-pair: 78000000 are present in input data\n",
      "INFO:genMapFromLists:Shape of overall map: (79, 79)\n",
      "\n",
      "INFO:save_ccmap: Saving ccmap to file [output/homer/chr18_1mb__combined.ccmap] and [/home/rajendra/workspace/genome_3d_organization/tutorials_modules/output/homer/chr18_1mb__combined.npbin] ...\n",
      "INFO:save_ccmap: Compressing [/home/rajendra/workspace/genome_3d_organization/tutorials_modules/output/homer/chr18_1mb__combined.npbin] ...\n",
      "INFO:save_ccmap:       Finished!!!\n"
     ]
    },
    {
     "name": "stdout",
     "output_type": "stream",
     "text": [
      "\n",
      "  "
     ]
    },
    {
     "name": "stderr",
     "output_type": "stream",
     "text": [
      "INFO:CooMatrixHandler: Reading file: [/home/rajendra/deskForWork/scratch/chr19_ct81mtsl.tmp]... \n",
      "INFO:CooMatrixHandler:     ... Finished reading file: [/home/rajendra/deskForWork/scratch/chr19_ct81mtsl.tmp] \n",
      "INFO:genMapFromLists: Total number of data in input file: 5892\n",
      "INFO:genMapFromLists:Minimum base-pair: 0 and Maximum base-pair: 59000000 are present in input data\n",
      "INFO:genMapFromLists:Shape of overall map: (60, 60)\n",
      "\n",
      "INFO:save_ccmap: Saving ccmap to file [output/homer/chr19_1mb__combined.ccmap] and [/home/rajendra/workspace/genome_3d_organization/tutorials_modules/output/homer/chr19_1mb__combined.npbin] ...\n",
      "INFO:save_ccmap: Compressing [/home/rajendra/workspace/genome_3d_organization/tutorials_modules/output/homer/chr19_1mb__combined.npbin] ...\n",
      "INFO:save_ccmap:       Finished!!!\n",
      "INFO:CooMatrixHandler: Reading file: [/home/rajendra/deskForWork/scratch/chr20_cqoy4i8p.tmp]... \n",
      "INFO:CooMatrixHandler:     ... Finished reading file: [/home/rajendra/deskForWork/scratch/chr20_cqoy4i8p.tmp] \n",
      "INFO:genMapFromLists: Total number of data in input file: 6974\n",
      "INFO:genMapFromLists:Minimum base-pair: 0 and Maximum base-pair: 62000000 are present in input data\n",
      "INFO:genMapFromLists:Shape of overall map: (63, 63)\n",
      "\n",
      "INFO:save_ccmap: Saving ccmap to file [output/homer/chr20_1mb__combined.ccmap] and [/home/rajendra/workspace/genome_3d_organization/tutorials_modules/output/homer/chr20_1mb__combined.npbin] ...\n",
      "INFO:save_ccmap: Compressing [/home/rajendra/workspace/genome_3d_organization/tutorials_modules/output/homer/chr20_1mb__combined.npbin] ...\n",
      "INFO:save_ccmap:       Finished!!!\n"
     ]
    },
    {
     "name": "stdout",
     "output_type": "stream",
     "text": [
      "\n",
      "  \n",
      "  "
     ]
    },
    {
     "name": "stderr",
     "output_type": "stream",
     "text": [
      "INFO:CooMatrixHandler: Reading file: [/home/rajendra/deskForWork/scratch/chr21_caryb9ul.tmp]... \n",
      "INFO:CooMatrixHandler:     ... Finished reading file: [/home/rajendra/deskForWork/scratch/chr21_caryb9ul.tmp] \n",
      "INFO:genMapFromLists: Total number of data in input file: 2474\n",
      "INFO:genMapFromLists:Minimum base-pair: 9000000 and Maximum base-pair: 48000000 are present in input data\n",
      "INFO:genMapFromLists:Shape of overall map: (49, 49)\n",
      "\n",
      "INFO:save_ccmap: Saving ccmap to file [output/homer/chr21_1mb__combined.ccmap] and [/home/rajendra/workspace/genome_3d_organization/tutorials_modules/output/homer/chr21_1mb__combined.npbin] ...\n",
      "INFO:save_ccmap: Compressing [/home/rajendra/workspace/genome_3d_organization/tutorials_modules/output/homer/chr21_1mb__combined.npbin] ...\n",
      "INFO:save_ccmap:       Finished!!!\n",
      "INFO:CooMatrixHandler: Reading file: [/home/rajendra/deskForWork/scratch/chr22_wcokl12m.tmp]... \n",
      "INFO:CooMatrixHandler:     ... Finished reading file: [/home/rajendra/deskForWork/scratch/chr22_wcokl12m.tmp] \n",
      "INFO:genMapFromLists: Total number of data in input file: 2436\n",
      "INFO:genMapFromLists:Minimum base-pair: 16000000 and Maximum base-pair: 51000000 are present in input data\n",
      "INFO:genMapFromLists:Shape of overall map: (52, 52)\n",
      "\n",
      "INFO:save_ccmap: Saving ccmap to file [output/homer/chr22_1mb__combined.ccmap] and [/home/rajendra/workspace/genome_3d_organization/tutorials_modules/output/homer/chr22_1mb__combined.npbin] ...\n",
      "INFO:save_ccmap: Compressing [/home/rajendra/workspace/genome_3d_organization/tutorials_modules/output/homer/chr22_1mb__combined.npbin] ...\n",
      "INFO:save_ccmap:       Finished!!!\n",
      "INFO:CooMatrixHandler: Reading file: [/home/rajendra/deskForWork/scratch/chrMT_gvc3k3gz.tmp]... \n",
      "INFO:CooMatrixHandler:     ... Finished reading file: [/home/rajendra/deskForWork/scratch/chrMT_gvc3k3gz.tmp] \n",
      "INFO:genMapFromLists: Total number of data in input file: 2\n",
      "INFO:genMapFromLists:Minimum base-pair: 0 and Maximum base-pair: 0 are present in input data\n",
      "INFO:genMapFromLists:Shape of overall map: (1, 1)\n",
      "\n",
      "INFO:save_ccmap: Saving ccmap to file [output/homer/chrMT_1mb__combined.ccmap] and [/home/rajendra/workspace/genome_3d_organization/tutorials_modules/output/homer/chrMT_1mb__combined.npbin] ...\n",
      "INFO:save_ccmap: Compressing [/home/rajendra/workspace/genome_3d_organization/tutorials_modules/output/homer/chrMT_1mb__combined.npbin] ...\n",
      "INFO:save_ccmap:       Finished!!!\n",
      "INFO:CooMatrixHandler: Reading file: [/home/rajendra/deskForWork/scratch/chrX_c688spaz.tmp]... \n",
      "INFO:CooMatrixHandler:     ... Finished reading file: [/home/rajendra/deskForWork/scratch/chrX_c688spaz.tmp] \n",
      "INFO:genMapFromLists: Total number of data in input file: 37926\n",
      "INFO:genMapFromLists:Minimum base-pair: 0 and Maximum base-pair: 155000000 are present in input data\n",
      "INFO:genMapFromLists:Shape of overall map: (156, 156)\n",
      "\n",
      "INFO:save_ccmap: Saving ccmap to file [output/homer/chrX_1mb__combined.ccmap] and [/home/rajendra/workspace/genome_3d_organization/tutorials_modules/output/homer/chrX_1mb__combined.npbin] ...\n",
      "INFO:save_ccmap: Compressing [/home/rajendra/workspace/genome_3d_organization/tutorials_modules/output/homer/chrX_1mb__combined.npbin] ...\n",
      "INFO:save_ccmap:       Finished!!!\n"
     ]
    },
    {
     "name": "stdout",
     "output_type": "stream",
     "text": [
      "\n",
      "  \n",
      "  \n",
      "  \n",
      "  "
     ]
    },
    {
     "name": "stderr",
     "output_type": "stream",
     "text": [
      "INFO:CooMatrixHandler: Reading file: [/home/rajendra/deskForWork/scratch/chrY_tdt_hzhm.tmp]... \n",
      "INFO:CooMatrixHandler:     ... Finished reading file: [/home/rajendra/deskForWork/scratch/chrY_tdt_hzhm.tmp] \n",
      "INFO:genMapFromLists: Total number of data in input file: 29\n",
      "INFO:genMapFromLists:Minimum base-pair: 3000000 and Maximum base-pair: 59000000 are present in input data\n",
      "INFO:genMapFromLists:Shape of overall map: (60, 60)\n",
      "\n",
      "INFO:save_ccmap: Saving ccmap to file [output/homer/chrY_1mb__combined.ccmap] and [/home/rajendra/workspace/genome_3d_organization/tutorials_modules/output/homer/chrY_1mb__combined.npbin] ...\n",
      "INFO:save_ccmap: Compressing [/home/rajendra/workspace/genome_3d_organization/tutorials_modules/output/homer/chrY_1mb__combined.npbin] ...\n",
      "INFO:save_ccmap:       Finished!!!\n",
      "INFO:HomerInputHandler: Saved ['output/homer/chr1_1mb__combined.ccmap', 'output/homer/chr2_1mb__combined.ccmap', 'output/homer/chr3_1mb__combined.ccmap', 'output/homer/chr4_1mb__combined.ccmap', 'output/homer/chr5_1mb__combined.ccmap', 'output/homer/chr6_1mb__combined.ccmap', 'output/homer/chr7_1mb__combined.ccmap', 'output/homer/chr8_1mb__combined.ccmap', 'output/homer/chr9_1mb__combined.ccmap', 'output/homer/chr10_1mb__combined.ccmap', 'output/homer/chr11_1mb__combined.ccmap', 'output/homer/chr12_1mb__combined.ccmap', 'output/homer/chr13_1mb__combined.ccmap', 'output/homer/chr14_1mb__combined.ccmap', 'output/homer/chr15_1mb__combined.ccmap', 'output/homer/chr16_1mb__combined.ccmap', 'output/homer/chr17_1mb__combined.ccmap', 'output/homer/chr18_1mb__combined.ccmap', 'output/homer/chr19_1mb__combined.ccmap', 'output/homer/chr20_1mb__combined.ccmap', 'output/homer/chr21_1mb__combined.ccmap', 'output/homer/chr22_1mb__combined.ccmap', 'output/homer/chrMT_1mb__combined.ccmap', 'output/homer/chrX_1mb__combined.ccmap', 'output/homer/chrY_1mb__combined.ccmap'] files.\n"
     ]
    },
    {
     "name": "stdout",
     "output_type": "stream",
     "text": [
      "\n"
     ]
    }
   ],
   "source": [
    "# Name of input ZIP file\n",
    "inputCompressedFile = 'data/HomerFormat/human_INL.zip'\n",
    "\n",
    "# List of files inside zip archive\n",
    "files = ['human_INL_sample1_matrix_1Mb_raw.txt', 'human_INL_sample2_matrix_1Mb_raw.txt']\n",
    "\n",
    "# Initialize\n",
    "homer_reader = gmlib.importer.HomerInputHandler(files, inputCompressedFile)\n",
    "homer_reader.save_ccmaps('output/homer', suffix='_combined')\n",
    "\n",
    "# Delete all temporary files, not neccessary, automatically deleted after \n",
    "del homer_reader"
   ]
  },
  {
   "cell_type": "markdown",
   "metadata": {},
   "source": [
    "### Convert to gcmap\n",
    "\n",
    "An example input file `human_INL_sample1_matrix_1Mb_raw.txt` is present in `data/HomerFormat` directory. Below, we read it and convert it to `.gcmap` format. The input file contains several chromosomes, and all contact maps will be added to `gcmap` file.\n",
    "\n",
    "\n",
    "Ouput `human_INL_sample1_matrix_1Mb_raw.gcmap` files will be saved in `output/homer` directory."
   ]
  },
  {
   "cell_type": "code",
   "execution_count": 10,
   "metadata": {
    "collapsed": false
   },
   "outputs": [
    {
     "name": "stderr",
     "output_type": "stream",
     "text": [
      "INFO:HomerInputHandler: Getting chromosome list and resolution from Input Files ...\n",
      "INFO:HomerInputHandler: Resolution: 1mb\n",
      "INFO:HomerInputHandler: Following chromsomes found in input files:  \n",
      "                              chr1\n",
      "                              chr2\n",
      "                              chr3\n",
      "                              chr4\n",
      "                              chr5\n",
      "                              chr6\n",
      "                              chr7\n",
      "                              chr8\n",
      "                              chr9\n",
      "                              chr10\n",
      "                              chr11\n",
      "                              chr12\n",
      "                              chr13\n",
      "                              chr14\n",
      "                              chr15\n",
      "                              chr16\n",
      "                              chr17\n",
      "                              chr18\n",
      "                              chr19\n",
      "                              chr20\n",
      "                              chr21\n",
      "                              chr22\n",
      "                              chrMT\n",
      "                              chrX\n",
      "                              chrY\n",
      "INFO:HomerInputHandler: Reading [data/HomerFormat/human_INL_sample1_matrix_1Mb_raw.txt] file ...\n",
      "INFO:HomerInputHandler:           ... Finished reading [data/HomerFormat/human_INL_sample1_matrix_1Mb_raw.txt] file ...\n",
      "INFO:CooMatrixHandler: Reading file: [/home/rajendra/deskForWork/scratch/chr1_mieka0wf.tmp]... \n",
      "INFO:CooMatrixHandler:     ... Finished reading file: [/home/rajendra/deskForWork/scratch/chr1_mieka0wf.tmp] \n",
      "INFO:genMapFromLists: Total number of data in input file: 40344\n",
      "INFO:genMapFromLists:Minimum base-pair: 0 and Maximum base-pair: 249000000 are present in input data\n",
      "INFO:genMapFromLists:Shape of overall map: (250, 250)\n",
      "\n",
      "INFO:addCCMap2GCMap: Opened file [output/homer/human_INL_sample1_matrix_1Mb_raw.gcmap] for reading writing..\n",
      "INFO:addCCMap2GCMap: Adding data to [output/homer/human_INL_sample1_matrix_1Mb_raw.gcmap] for [chr1] ...\n",
      "INFO:addCCMap2GCMap:     ...Finished adding data for [chr1] ...\n",
      "INFO:addCCMap2GCMap: Generating downsampled maps for [chr1] ...\n",
      "INFO:addCCMap2GCMap:     ... Finished downsampling for [chr1] ...\n",
      "INFO:addCCMap2GCMap: Closed file [output/homer/human_INL_sample1_matrix_1Mb_raw.gcmap]...\n"
     ]
    },
    {
     "name": "stdout",
     "output_type": "stream",
     "text": [
      "  \n",
      "  "
     ]
    },
    {
     "name": "stderr",
     "output_type": "stream",
     "text": [
      "INFO:CooMatrixHandler: Reading file: [/home/rajendra/deskForWork/scratch/chr2_okklfl0b.tmp]... \n",
      "INFO:CooMatrixHandler:     ... Finished reading file: [/home/rajendra/deskForWork/scratch/chr2_okklfl0b.tmp] \n",
      "INFO:genMapFromLists: Total number of data in input file: 46886\n",
      "INFO:genMapFromLists:Minimum base-pair: 0 and Maximum base-pair: 243000000 are present in input data\n",
      "INFO:genMapFromLists:Shape of overall map: (244, 244)\n",
      "\n",
      "INFO:addCCMap2GCMap: Opened file [output/homer/human_INL_sample1_matrix_1Mb_raw.gcmap] for reading writing..\n",
      "INFO:addCCMap2GCMap: Adding data to [output/homer/human_INL_sample1_matrix_1Mb_raw.gcmap] for [chr2] ...\n",
      "INFO:addCCMap2GCMap:     ...Finished adding data for [chr2] ...\n",
      "INFO:addCCMap2GCMap: Generating downsampled maps for [chr2] ...\n",
      "INFO:addCCMap2GCMap:     ... Finished downsampling for [chr2] ...\n",
      "INFO:addCCMap2GCMap: Closed file [output/homer/human_INL_sample1_matrix_1Mb_raw.gcmap]...\n"
     ]
    },
    {
     "name": "stdout",
     "output_type": "stream",
     "text": [
      "\n",
      "  "
     ]
    },
    {
     "name": "stderr",
     "output_type": "stream",
     "text": [
      "INFO:CooMatrixHandler: Reading file: [/home/rajendra/deskForWork/scratch/chr3_oma3j6zf.tmp]... \n",
      "INFO:CooMatrixHandler:     ... Finished reading file: [/home/rajendra/deskForWork/scratch/chr3_oma3j6zf.tmp] \n",
      "INFO:genMapFromLists: Total number of data in input file: 33308\n",
      "INFO:genMapFromLists:Minimum base-pair: 0 and Maximum base-pair: 197000000 are present in input data\n",
      "INFO:genMapFromLists:Shape of overall map: (198, 198)\n",
      "\n",
      "INFO:addCCMap2GCMap: Opened file [output/homer/human_INL_sample1_matrix_1Mb_raw.gcmap] for reading writing..\n",
      "INFO:addCCMap2GCMap: Adding data to [output/homer/human_INL_sample1_matrix_1Mb_raw.gcmap] for [chr3] ...\n",
      "INFO:addCCMap2GCMap:     ...Finished adding data for [chr3] ...\n",
      "INFO:addCCMap2GCMap: Generating downsampled maps for [chr3] ...\n",
      "INFO:addCCMap2GCMap:     ... Finished downsampling for [chr3] ...\n",
      "INFO:addCCMap2GCMap: Closed file [output/homer/human_INL_sample1_matrix_1Mb_raw.gcmap]...\n"
     ]
    },
    {
     "name": "stdout",
     "output_type": "stream",
     "text": [
      "\n",
      "  "
     ]
    },
    {
     "name": "stderr",
     "output_type": "stream",
     "text": [
      "INFO:CooMatrixHandler: Reading file: [/home/rajendra/deskForWork/scratch/chr4_dp4j9gbn.tmp]... \n",
      "INFO:CooMatrixHandler:     ... Finished reading file: [/home/rajendra/deskForWork/scratch/chr4_dp4j9gbn.tmp] \n",
      "INFO:genMapFromLists: Total number of data in input file: 29054\n",
      "INFO:genMapFromLists:Minimum base-pair: 0 and Maximum base-pair: 191000000 are present in input data\n",
      "INFO:genMapFromLists:Shape of overall map: (192, 192)\n",
      "\n",
      "INFO:addCCMap2GCMap: Opened file [output/homer/human_INL_sample1_matrix_1Mb_raw.gcmap] for reading writing..\n",
      "INFO:addCCMap2GCMap: Adding data to [output/homer/human_INL_sample1_matrix_1Mb_raw.gcmap] for [chr4] ...\n",
      "INFO:addCCMap2GCMap:     ...Finished adding data for [chr4] ...\n",
      "INFO:addCCMap2GCMap: Generating downsampled maps for [chr4] ...\n",
      "INFO:addCCMap2GCMap:     ... Finished downsampling for [chr4] ...\n",
      "INFO:addCCMap2GCMap: Closed file [output/homer/human_INL_sample1_matrix_1Mb_raw.gcmap]...\n"
     ]
    },
    {
     "name": "stdout",
     "output_type": "stream",
     "text": [
      "\n",
      "  "
     ]
    },
    {
     "name": "stderr",
     "output_type": "stream",
     "text": [
      "INFO:CooMatrixHandler: Reading file: [/home/rajendra/deskForWork/scratch/chr5_3kjhgkcg.tmp]... \n",
      "INFO:CooMatrixHandler:     ... Finished reading file: [/home/rajendra/deskForWork/scratch/chr5_3kjhgkcg.tmp] \n",
      "INFO:genMapFromLists: Total number of data in input file: 26286\n",
      "INFO:genMapFromLists:Minimum base-pair: 0 and Maximum base-pair: 180000000 are present in input data\n",
      "INFO:genMapFromLists:Shape of overall map: (181, 181)\n",
      "\n",
      "INFO:addCCMap2GCMap: Opened file [output/homer/human_INL_sample1_matrix_1Mb_raw.gcmap] for reading writing..\n",
      "INFO:addCCMap2GCMap: Adding data to [output/homer/human_INL_sample1_matrix_1Mb_raw.gcmap] for [chr5] ...\n",
      "INFO:addCCMap2GCMap:     ...Finished adding data for [chr5] ...\n",
      "INFO:addCCMap2GCMap: Generating downsampled maps for [chr5] ...\n",
      "INFO:addCCMap2GCMap:     ... Finished downsampling for [chr5] ...\n",
      "INFO:addCCMap2GCMap: Closed file [output/homer/human_INL_sample1_matrix_1Mb_raw.gcmap]...\n"
     ]
    },
    {
     "name": "stdout",
     "output_type": "stream",
     "text": [
      "\n",
      "  "
     ]
    },
    {
     "name": "stderr",
     "output_type": "stream",
     "text": [
      "INFO:CooMatrixHandler: Reading file: [/home/rajendra/deskForWork/scratch/chr6_fqd2yomx.tmp]... \n",
      "INFO:CooMatrixHandler:     ... Finished reading file: [/home/rajendra/deskForWork/scratch/chr6_fqd2yomx.tmp] \n",
      "INFO:genMapFromLists: Total number of data in input file: 25032\n",
      "INFO:genMapFromLists:Minimum base-pair: 0 and Maximum base-pair: 171000000 are present in input data\n",
      "INFO:genMapFromLists:Shape of overall map: (172, 172)\n",
      "\n",
      "INFO:addCCMap2GCMap: Opened file [output/homer/human_INL_sample1_matrix_1Mb_raw.gcmap] for reading writing..\n",
      "INFO:addCCMap2GCMap: Adding data to [output/homer/human_INL_sample1_matrix_1Mb_raw.gcmap] for [chr6] ...\n",
      "INFO:addCCMap2GCMap:     ...Finished adding data for [chr6] ...\n",
      "INFO:addCCMap2GCMap: Generating downsampled maps for [chr6] ...\n",
      "INFO:addCCMap2GCMap:     ... Finished downsampling for [chr6] ...\n",
      "INFO:addCCMap2GCMap: Closed file [output/homer/human_INL_sample1_matrix_1Mb_raw.gcmap]...\n"
     ]
    },
    {
     "name": "stdout",
     "output_type": "stream",
     "text": [
      "\n",
      "  "
     ]
    },
    {
     "name": "stderr",
     "output_type": "stream",
     "text": [
      "INFO:CooMatrixHandler: Reading file: [/home/rajendra/deskForWork/scratch/chr7_kett40qt.tmp]... \n",
      "INFO:CooMatrixHandler:     ... Finished reading file: [/home/rajendra/deskForWork/scratch/chr7_kett40qt.tmp] \n",
      "INFO:genMapFromLists: Total number of data in input file: 20748\n",
      "INFO:genMapFromLists:Minimum base-pair: 0 and Maximum base-pair: 159000000 are present in input data\n",
      "INFO:genMapFromLists:Shape of overall map: (160, 160)\n",
      "\n",
      "INFO:addCCMap2GCMap: Opened file [output/homer/human_INL_sample1_matrix_1Mb_raw.gcmap] for reading writing..\n",
      "INFO:addCCMap2GCMap: Adding data to [output/homer/human_INL_sample1_matrix_1Mb_raw.gcmap] for [chr7] ...\n",
      "INFO:addCCMap2GCMap:     ...Finished adding data for [chr7] ...\n",
      "INFO:addCCMap2GCMap: Generating downsampled maps for [chr7] ...\n",
      "INFO:addCCMap2GCMap:     ... Finished downsampling for [chr7] ...\n",
      "INFO:addCCMap2GCMap: Closed file [output/homer/human_INL_sample1_matrix_1Mb_raw.gcmap]...\n"
     ]
    },
    {
     "name": "stdout",
     "output_type": "stream",
     "text": [
      "\n",
      "  "
     ]
    },
    {
     "name": "stderr",
     "output_type": "stream",
     "text": [
      "INFO:CooMatrixHandler: Reading file: [/home/rajendra/deskForWork/scratch/chr8_91ozz3u5.tmp]... \n",
      "INFO:CooMatrixHandler:     ... Finished reading file: [/home/rajendra/deskForWork/scratch/chr8_91ozz3u5.tmp] \n",
      "INFO:genMapFromLists: Total number of data in input file: 18371\n",
      "INFO:genMapFromLists:Minimum base-pair: 0 and Maximum base-pair: 146000000 are present in input data\n",
      "INFO:genMapFromLists:Shape of overall map: (147, 147)\n",
      "\n",
      "INFO:addCCMap2GCMap: Opened file [output/homer/human_INL_sample1_matrix_1Mb_raw.gcmap] for reading writing..\n",
      "INFO:addCCMap2GCMap: Adding data to [output/homer/human_INL_sample1_matrix_1Mb_raw.gcmap] for [chr8] ...\n",
      "INFO:addCCMap2GCMap:     ...Finished adding data for [chr8] ...\n",
      "INFO:addCCMap2GCMap: Generating downsampled maps for [chr8] ...\n",
      "INFO:addCCMap2GCMap:     ... Finished downsampling for [chr8] ...\n",
      "INFO:addCCMap2GCMap: Closed file [output/homer/human_INL_sample1_matrix_1Mb_raw.gcmap]...\n"
     ]
    },
    {
     "name": "stdout",
     "output_type": "stream",
     "text": [
      "\n",
      "  "
     ]
    },
    {
     "name": "stderr",
     "output_type": "stream",
     "text": [
      "INFO:CooMatrixHandler: Reading file: [/home/rajendra/deskForWork/scratch/chr9_6pw9sy7n.tmp]... \n",
      "INFO:CooMatrixHandler:     ... Finished reading file: [/home/rajendra/deskForWork/scratch/chr9_6pw9sy7n.tmp] \n",
      "INFO:genMapFromLists: Total number of data in input file: 11414\n",
      "INFO:genMapFromLists:Minimum base-pair: 0 and Maximum base-pair: 141000000 are present in input data\n",
      "INFO:genMapFromLists:Shape of overall map: (142, 142)\n",
      "\n",
      "INFO:addCCMap2GCMap: Opened file [output/homer/human_INL_sample1_matrix_1Mb_raw.gcmap] for reading writing..\n",
      "INFO:addCCMap2GCMap: Adding data to [output/homer/human_INL_sample1_matrix_1Mb_raw.gcmap] for [chr9] ...\n",
      "INFO:addCCMap2GCMap:     ...Finished adding data for [chr9] ...\n",
      "INFO:addCCMap2GCMap: Generating downsampled maps for [chr9] ...\n",
      "INFO:addCCMap2GCMap:     ... Finished downsampling for [chr9] ...\n",
      "INFO:addCCMap2GCMap: Closed file [output/homer/human_INL_sample1_matrix_1Mb_raw.gcmap]...\n"
     ]
    },
    {
     "name": "stdout",
     "output_type": "stream",
     "text": [
      "\n",
      "  "
     ]
    },
    {
     "name": "stderr",
     "output_type": "stream",
     "text": [
      "INFO:CooMatrixHandler: Reading file: [/home/rajendra/deskForWork/scratch/chr10_5alusogc.tmp]... \n",
      "INFO:CooMatrixHandler:     ... Finished reading file: [/home/rajendra/deskForWork/scratch/chr10_5alusogc.tmp] \n",
      "INFO:genMapFromLists: Total number of data in input file: 15560\n",
      "INFO:genMapFromLists:Minimum base-pair: 0 and Maximum base-pair: 135000000 are present in input data\n",
      "INFO:genMapFromLists:Shape of overall map: (136, 136)\n",
      "\n",
      "INFO:addCCMap2GCMap: Opened file [output/homer/human_INL_sample1_matrix_1Mb_raw.gcmap] for reading writing..\n",
      "INFO:addCCMap2GCMap: Adding data to [output/homer/human_INL_sample1_matrix_1Mb_raw.gcmap] for [chr10] ...\n",
      "INFO:addCCMap2GCMap:     ...Finished adding data for [chr10] ...\n",
      "INFO:addCCMap2GCMap: Generating downsampled maps for [chr10] ...\n",
      "INFO:addCCMap2GCMap:     ... Finished downsampling for [chr10] ...\n",
      "INFO:addCCMap2GCMap: Closed file [output/homer/human_INL_sample1_matrix_1Mb_raw.gcmap]...\n"
     ]
    },
    {
     "name": "stdout",
     "output_type": "stream",
     "text": [
      "\n",
      "  "
     ]
    },
    {
     "name": "stderr",
     "output_type": "stream",
     "text": [
      "INFO:CooMatrixHandler: Reading file: [/home/rajendra/deskForWork/scratch/chr11_h8niwp57.tmp]... \n",
      "INFO:CooMatrixHandler:     ... Finished reading file: [/home/rajendra/deskForWork/scratch/chr11_h8niwp57.tmp] \n",
      "INFO:genMapFromLists: Total number of data in input file: 15429\n",
      "INFO:genMapFromLists:Minimum base-pair: 0 and Maximum base-pair: 134000000 are present in input data\n",
      "INFO:genMapFromLists:Shape of overall map: (135, 135)\n",
      "\n",
      "INFO:addCCMap2GCMap: Opened file [output/homer/human_INL_sample1_matrix_1Mb_raw.gcmap] for reading writing..\n",
      "INFO:addCCMap2GCMap: Adding data to [output/homer/human_INL_sample1_matrix_1Mb_raw.gcmap] for [chr11] ...\n",
      "INFO:addCCMap2GCMap:     ...Finished adding data for [chr11] ...\n",
      "INFO:addCCMap2GCMap: Generating downsampled maps for [chr11] ...\n",
      "INFO:addCCMap2GCMap:     ... Finished downsampling for [chr11] ...\n",
      "INFO:addCCMap2GCMap: Closed file [output/homer/human_INL_sample1_matrix_1Mb_raw.gcmap]...\n"
     ]
    },
    {
     "name": "stdout",
     "output_type": "stream",
     "text": [
      "\n",
      "  "
     ]
    },
    {
     "name": "stderr",
     "output_type": "stream",
     "text": [
      "INFO:CooMatrixHandler: Reading file: [/home/rajendra/deskForWork/scratch/chr12_m49jetry.tmp]... \n",
      "INFO:CooMatrixHandler:     ... Finished reading file: [/home/rajendra/deskForWork/scratch/chr12_m49jetry.tmp] \n",
      "INFO:genMapFromLists: Total number of data in input file: 14928\n",
      "INFO:genMapFromLists:Minimum base-pair: 0 and Maximum base-pair: 133000000 are present in input data\n",
      "INFO:genMapFromLists:Shape of overall map: (134, 134)\n",
      "\n",
      "INFO:addCCMap2GCMap: Opened file [output/homer/human_INL_sample1_matrix_1Mb_raw.gcmap] for reading writing..\n",
      "INFO:addCCMap2GCMap: Adding data to [output/homer/human_INL_sample1_matrix_1Mb_raw.gcmap] for [chr12] ...\n",
      "INFO:addCCMap2GCMap:     ...Finished adding data for [chr12] ...\n",
      "INFO:addCCMap2GCMap: Generating downsampled maps for [chr12] ...\n",
      "INFO:addCCMap2GCMap:     ... Finished downsampling for [chr12] ...\n",
      "INFO:addCCMap2GCMap: Closed file [output/homer/human_INL_sample1_matrix_1Mb_raw.gcmap]...\n"
     ]
    },
    {
     "name": "stdout",
     "output_type": "stream",
     "text": [
      "\n",
      "  "
     ]
    },
    {
     "name": "stderr",
     "output_type": "stream",
     "text": [
      "INFO:CooMatrixHandler: Reading file: [/home/rajendra/deskForWork/scratch/chr13_r_9jh_ix.tmp]... \n",
      "INFO:CooMatrixHandler:     ... Finished reading file: [/home/rajendra/deskForWork/scratch/chr13_r_9jh_ix.tmp] \n",
      "INFO:genMapFromLists: Total number of data in input file: 8675\n",
      "INFO:genMapFromLists:Minimum base-pair: 19000000 and Maximum base-pair: 115000000 are present in input data\n",
      "INFO:genMapFromLists:Shape of overall map: (116, 116)\n",
      "\n",
      "INFO:addCCMap2GCMap: Opened file [output/homer/human_INL_sample1_matrix_1Mb_raw.gcmap] for reading writing..\n",
      "INFO:addCCMap2GCMap: Adding data to [output/homer/human_INL_sample1_matrix_1Mb_raw.gcmap] for [chr13] ...\n",
      "INFO:addCCMap2GCMap:     ...Finished adding data for [chr13] ...\n",
      "INFO:addCCMap2GCMap: Generating downsampled maps for [chr13] ...\n",
      "INFO:addCCMap2GCMap:     ... Finished downsampling for [chr13] ...\n",
      "INFO:addCCMap2GCMap: Closed file [output/homer/human_INL_sample1_matrix_1Mb_raw.gcmap]...\n"
     ]
    },
    {
     "name": "stdout",
     "output_type": "stream",
     "text": [
      "\n",
      "  "
     ]
    },
    {
     "name": "stderr",
     "output_type": "stream",
     "text": [
      "INFO:CooMatrixHandler: Reading file: [/home/rajendra/deskForWork/scratch/chr14_nwt8hc33.tmp]... \n",
      "INFO:CooMatrixHandler:     ... Finished reading file: [/home/rajendra/deskForWork/scratch/chr14_nwt8hc33.tmp] \n",
      "INFO:genMapFromLists: Total number of data in input file: 7245\n",
      "INFO:genMapFromLists:Minimum base-pair: 19000000 and Maximum base-pair: 107000000 are present in input data\n",
      "INFO:genMapFromLists:Shape of overall map: (108, 108)\n",
      "\n",
      "INFO:addCCMap2GCMap: Opened file [output/homer/human_INL_sample1_matrix_1Mb_raw.gcmap] for reading writing..\n",
      "INFO:addCCMap2GCMap: Adding data to [output/homer/human_INL_sample1_matrix_1Mb_raw.gcmap] for [chr14] ...\n",
      "INFO:addCCMap2GCMap:     ...Finished adding data for [chr14] ...\n",
      "INFO:addCCMap2GCMap: Generating downsampled maps for [chr14] ...\n",
      "INFO:addCCMap2GCMap:     ... Finished downsampling for [chr14] ...\n",
      "INFO:addCCMap2GCMap: Closed file [output/homer/human_INL_sample1_matrix_1Mb_raw.gcmap]...\n",
      "INFO:CooMatrixHandler: Reading file: [/home/rajendra/deskForWork/scratch/chr15_qmrbk20l.tmp]... \n",
      "INFO:CooMatrixHandler:     ... Finished reading file: [/home/rajendra/deskForWork/scratch/chr15_qmrbk20l.tmp] \n",
      "INFO:genMapFromLists: Total number of data in input file: 6249\n",
      "INFO:genMapFromLists:Minimum base-pair: 20000000 and Maximum base-pair: 102000000 are present in input data\n",
      "INFO:genMapFromLists:Shape of overall map: (103, 103)\n",
      "\n",
      "INFO:addCCMap2GCMap: Opened file [output/homer/human_INL_sample1_matrix_1Mb_raw.gcmap] for reading writing..\n",
      "INFO:addCCMap2GCMap: Adding data to [output/homer/human_INL_sample1_matrix_1Mb_raw.gcmap] for [chr15] ...\n",
      "INFO:addCCMap2GCMap:     ...Finished adding data for [chr15] ...\n",
      "INFO:addCCMap2GCMap: Generating downsampled maps for [chr15] ...\n",
      "INFO:addCCMap2GCMap:     ... Finished downsampling for [chr15] ...\n",
      "INFO:addCCMap2GCMap: Closed file [output/homer/human_INL_sample1_matrix_1Mb_raw.gcmap]...\n"
     ]
    },
    {
     "name": "stdout",
     "output_type": "stream",
     "text": [
      "\n",
      "  \n",
      "  "
     ]
    },
    {
     "name": "stderr",
     "output_type": "stream",
     "text": [
      "INFO:CooMatrixHandler: Reading file: [/home/rajendra/deskForWork/scratch/chr16_pz3f626f.tmp]... \n",
      "INFO:CooMatrixHandler:     ... Finished reading file: [/home/rajendra/deskForWork/scratch/chr16_pz3f626f.tmp] \n",
      "INFO:genMapFromLists: Total number of data in input file: 5629\n",
      "INFO:genMapFromLists:Minimum base-pair: 0 and Maximum base-pair: 90000000 are present in input data\n",
      "INFO:genMapFromLists:Shape of overall map: (91, 91)\n",
      "\n",
      "INFO:addCCMap2GCMap: Opened file [output/homer/human_INL_sample1_matrix_1Mb_raw.gcmap] for reading writing..\n",
      "INFO:addCCMap2GCMap: Adding data to [output/homer/human_INL_sample1_matrix_1Mb_raw.gcmap] for [chr16] ...\n",
      "INFO:addCCMap2GCMap:     ...Finished adding data for [chr16] ...\n",
      "INFO:addCCMap2GCMap: Generating downsampled maps for [chr16] ...\n",
      "INFO:addCCMap2GCMap:     ... Finished downsampling for [chr16] ...\n",
      "INFO:addCCMap2GCMap: Closed file [output/homer/human_INL_sample1_matrix_1Mb_raw.gcmap]...\n",
      "INFO:CooMatrixHandler: Reading file: [/home/rajendra/deskForWork/scratch/chr17_x0hhj02j.tmp]... \n",
      "INFO:CooMatrixHandler:     ... Finished reading file: [/home/rajendra/deskForWork/scratch/chr17_x0hhj02j.tmp] \n",
      "INFO:genMapFromLists: Total number of data in input file: 5650\n",
      "INFO:genMapFromLists:Minimum base-pair: 0 and Maximum base-pair: 81000000 are present in input data\n",
      "INFO:genMapFromLists:Shape of overall map: (82, 82)\n",
      "\n",
      "INFO:addCCMap2GCMap: Opened file [output/homer/human_INL_sample1_matrix_1Mb_raw.gcmap] for reading writing..\n",
      "INFO:addCCMap2GCMap: Adding data to [output/homer/human_INL_sample1_matrix_1Mb_raw.gcmap] for [chr17] ...\n",
      "INFO:addCCMap2GCMap:     ...Finished adding data for [chr17] ...\n",
      "INFO:addCCMap2GCMap: Generating downsampled maps for [chr17] ...\n",
      "INFO:addCCMap2GCMap:     ... Finished downsampling for [chr17] ...\n",
      "INFO:addCCMap2GCMap: Closed file [output/homer/human_INL_sample1_matrix_1Mb_raw.gcmap]...\n"
     ]
    },
    {
     "name": "stdout",
     "output_type": "stream",
     "text": [
      "\n",
      "  \n",
      "  "
     ]
    },
    {
     "name": "stderr",
     "output_type": "stream",
     "text": [
      "INFO:CooMatrixHandler: Reading file: [/home/rajendra/deskForWork/scratch/chr18_nw13h912.tmp]... \n",
      "INFO:CooMatrixHandler:     ... Finished reading file: [/home/rajendra/deskForWork/scratch/chr18_nw13h912.tmp] \n",
      "INFO:genMapFromLists: Total number of data in input file: 5581\n",
      "INFO:genMapFromLists:Minimum base-pair: 0 and Maximum base-pair: 78000000 are present in input data\n",
      "INFO:genMapFromLists:Shape of overall map: (79, 79)\n",
      "\n",
      "INFO:addCCMap2GCMap: Opened file [output/homer/human_INL_sample1_matrix_1Mb_raw.gcmap] for reading writing..\n",
      "INFO:addCCMap2GCMap: Adding data to [output/homer/human_INL_sample1_matrix_1Mb_raw.gcmap] for [chr18] ...\n",
      "INFO:addCCMap2GCMap:     ...Finished adding data for [chr18] ...\n",
      "INFO:addCCMap2GCMap: Generating downsampled maps for [chr18] ...\n",
      "INFO:addCCMap2GCMap:     ... Finished downsampling for [chr18] ...\n",
      "INFO:addCCMap2GCMap: Closed file [output/homer/human_INL_sample1_matrix_1Mb_raw.gcmap]...\n",
      "INFO:CooMatrixHandler: Reading file: [/home/rajendra/deskForWork/scratch/chr19_7b9xez8u.tmp]... \n",
      "INFO:CooMatrixHandler:     ... Finished reading file: [/home/rajendra/deskForWork/scratch/chr19_7b9xez8u.tmp] \n",
      "INFO:genMapFromLists: Total number of data in input file: 3012\n",
      "INFO:genMapFromLists:Minimum base-pair: 0 and Maximum base-pair: 59000000 are present in input data\n",
      "INFO:genMapFromLists:Shape of overall map: (60, 60)\n",
      "\n",
      "INFO:addCCMap2GCMap: Opened file [output/homer/human_INL_sample1_matrix_1Mb_raw.gcmap] for reading writing..\n",
      "INFO:addCCMap2GCMap: Adding data to [output/homer/human_INL_sample1_matrix_1Mb_raw.gcmap] for [chr19] ...\n",
      "INFO:addCCMap2GCMap:     ...Finished adding data for [chr19] ...\n",
      "INFO:addCCMap2GCMap: Generating downsampled maps for [chr19] ...\n",
      "INFO:addCCMap2GCMap:     ... Finished downsampling for [chr19] ...\n",
      "INFO:addCCMap2GCMap: Closed file [output/homer/human_INL_sample1_matrix_1Mb_raw.gcmap]...\n"
     ]
    },
    {
     "name": "stdout",
     "output_type": "stream",
     "text": [
      "\n",
      "  \n",
      "  "
     ]
    },
    {
     "name": "stderr",
     "output_type": "stream",
     "text": [
      "INFO:CooMatrixHandler: Reading file: [/home/rajendra/deskForWork/scratch/chr20_gyrjop7e.tmp]... \n",
      "INFO:CooMatrixHandler:     ... Finished reading file: [/home/rajendra/deskForWork/scratch/chr20_gyrjop7e.tmp] \n",
      "INFO:genMapFromLists: Total number of data in input file: 3563\n",
      "INFO:genMapFromLists:Minimum base-pair: 0 and Maximum base-pair: 62000000 are present in input data\n",
      "INFO:genMapFromLists:Shape of overall map: (63, 63)\n",
      "\n",
      "INFO:addCCMap2GCMap: Opened file [output/homer/human_INL_sample1_matrix_1Mb_raw.gcmap] for reading writing..\n",
      "INFO:addCCMap2GCMap: Adding data to [output/homer/human_INL_sample1_matrix_1Mb_raw.gcmap] for [chr20] ...\n",
      "INFO:addCCMap2GCMap:     ...Finished adding data for [chr20] ...\n",
      "INFO:addCCMap2GCMap: Generating downsampled maps for [chr20] ...\n",
      "INFO:addCCMap2GCMap:     ... Finished downsampling for [chr20] ...\n",
      "INFO:addCCMap2GCMap: Closed file [output/homer/human_INL_sample1_matrix_1Mb_raw.gcmap]...\n",
      "INFO:CooMatrixHandler: Reading file: [/home/rajendra/deskForWork/scratch/chr21_bp85hvdg.tmp]... \n",
      "INFO:CooMatrixHandler:     ... Finished reading file: [/home/rajendra/deskForWork/scratch/chr21_bp85hvdg.tmp] \n",
      "INFO:genMapFromLists: Total number of data in input file: 1266\n",
      "INFO:genMapFromLists:Minimum base-pair: 9000000 and Maximum base-pair: 48000000 are present in input data\n",
      "INFO:genMapFromLists:Shape of overall map: (49, 49)\n",
      "\n",
      "INFO:addCCMap2GCMap: Opened file [output/homer/human_INL_sample1_matrix_1Mb_raw.gcmap] for reading writing..\n",
      "INFO:addCCMap2GCMap: Adding data to [output/homer/human_INL_sample1_matrix_1Mb_raw.gcmap] for [chr21] ...\n",
      "INFO:addCCMap2GCMap:     ...Finished adding data for [chr21] ...\n",
      "INFO:addCCMap2GCMap: Generating downsampled maps for [chr21] ...\n",
      "INFO:addCCMap2GCMap:     ... Finished downsampling for [chr21] ...\n",
      "INFO:addCCMap2GCMap: Closed file [output/homer/human_INL_sample1_matrix_1Mb_raw.gcmap]...\n",
      "INFO:CooMatrixHandler: Reading file: [/home/rajendra/deskForWork/scratch/chr22_wstacf6u.tmp]... \n",
      "INFO:CooMatrixHandler:     ... Finished reading file: [/home/rajendra/deskForWork/scratch/chr22_wstacf6u.tmp] \n",
      "INFO:genMapFromLists: Total number of data in input file: 1222\n",
      "INFO:genMapFromLists:Minimum base-pair: 16000000 and Maximum base-pair: 51000000 are present in input data\n",
      "INFO:genMapFromLists:Shape of overall map: (52, 52)\n",
      "\n",
      "INFO:addCCMap2GCMap: Opened file [output/homer/human_INL_sample1_matrix_1Mb_raw.gcmap] for reading writing..\n",
      "INFO:addCCMap2GCMap: Adding data to [output/homer/human_INL_sample1_matrix_1Mb_raw.gcmap] for [chr22] ...\n",
      "INFO:addCCMap2GCMap:     ...Finished adding data for [chr22] ...\n",
      "INFO:addCCMap2GCMap: Generating downsampled maps for [chr22] ...\n",
      "INFO:addCCMap2GCMap:     ... Finished downsampling for [chr22] ...\n",
      "INFO:addCCMap2GCMap: Closed file [output/homer/human_INL_sample1_matrix_1Mb_raw.gcmap]...\n",
      "INFO:CooMatrixHandler: Reading file: [/home/rajendra/deskForWork/scratch/chrMT_2aig8exv.tmp]... \n",
      "INFO:CooMatrixHandler:     ... Finished reading file: [/home/rajendra/deskForWork/scratch/chrMT_2aig8exv.tmp] \n",
      "INFO:genMapFromLists: Total number of data in input file: 1\n",
      "INFO:genMapFromLists:Minimum base-pair: 0 and Maximum base-pair: 0 are present in input data\n",
      "INFO:genMapFromLists:Shape of overall map: (1, 1)\n",
      "\n",
      "INFO:addCCMap2GCMap: Opened file [output/homer/human_INL_sample1_matrix_1Mb_raw.gcmap] for reading writing..\n",
      "INFO:addCCMap2GCMap: Adding data to [output/homer/human_INL_sample1_matrix_1Mb_raw.gcmap] for [chrMT] ...\n",
      "INFO:addCCMap2GCMap:     ...Finished adding data for [chrMT] ...\n",
      "INFO:addCCMap2GCMap: Generating downsampled maps for [chrMT] ...\n",
      "INFO:addCCMap2GCMap:     ... Finished downsampling for [chrMT] ...\n",
      "INFO:addCCMap2GCMap: Closed file [output/homer/human_INL_sample1_matrix_1Mb_raw.gcmap]...\n"
     ]
    },
    {
     "name": "stdout",
     "output_type": "stream",
     "text": [
      "\n",
      "  \n",
      "  \n",
      "  \n",
      "  "
     ]
    },
    {
     "name": "stderr",
     "output_type": "stream",
     "text": [
      "INFO:CooMatrixHandler: Reading file: [/home/rajendra/deskForWork/scratch/chrX_oxiy6jsb.tmp]... \n",
      "INFO:CooMatrixHandler:     ... Finished reading file: [/home/rajendra/deskForWork/scratch/chrX_oxiy6jsb.tmp] \n",
      "INFO:genMapFromLists: Total number of data in input file: 20634\n",
      "INFO:genMapFromLists:Minimum base-pair: 0 and Maximum base-pair: 155000000 are present in input data\n",
      "INFO:genMapFromLists:Shape of overall map: (156, 156)\n",
      "\n",
      "INFO:addCCMap2GCMap: Opened file [output/homer/human_INL_sample1_matrix_1Mb_raw.gcmap] for reading writing..\n",
      "INFO:addCCMap2GCMap: Adding data to [output/homer/human_INL_sample1_matrix_1Mb_raw.gcmap] for [chrX] ...\n",
      "INFO:addCCMap2GCMap:     ...Finished adding data for [chrX] ...\n",
      "INFO:addCCMap2GCMap: Generating downsampled maps for [chrX] ...\n",
      "INFO:addCCMap2GCMap:     ... Finished downsampling for [chrX] ...\n",
      "INFO:addCCMap2GCMap: Closed file [output/homer/human_INL_sample1_matrix_1Mb_raw.gcmap]...\n"
     ]
    },
    {
     "name": "stdout",
     "output_type": "stream",
     "text": [
      "\n",
      "  "
     ]
    },
    {
     "name": "stderr",
     "output_type": "stream",
     "text": [
      "INFO:CooMatrixHandler: Reading file: [/home/rajendra/deskForWork/scratch/chrY_l7jxumt7.tmp]... \n",
      "INFO:CooMatrixHandler:     ... Finished reading file: [/home/rajendra/deskForWork/scratch/chrY_l7jxumt7.tmp] \n",
      "INFO:genMapFromLists: Total number of data in input file: 18\n",
      "INFO:genMapFromLists:Minimum base-pair: 3000000 and Maximum base-pair: 59000000 are present in input data\n",
      "INFO:genMapFromLists:Shape of overall map: (60, 60)\n",
      "\n",
      "INFO:addCCMap2GCMap: Opened file [output/homer/human_INL_sample1_matrix_1Mb_raw.gcmap] for reading writing..\n",
      "INFO:addCCMap2GCMap: Adding data to [output/homer/human_INL_sample1_matrix_1Mb_raw.gcmap] for [chrY] ...\n",
      "INFO:addCCMap2GCMap:     ...Finished adding data for [chrY] ...\n",
      "INFO:addCCMap2GCMap: Generating downsampled maps for [chrY] ...\n",
      "INFO:addCCMap2GCMap:     ... Finished downsampling for [chrY] ...\n",
      "INFO:addCCMap2GCMap: Closed file [output/homer/human_INL_sample1_matrix_1Mb_raw.gcmap]...\n"
     ]
    },
    {
     "name": "stdout",
     "output_type": "stream",
     "text": [
      "\n"
     ]
    }
   ],
   "source": [
    "# Initialize\n",
    "homer_reader = gmlib.importer.HomerInputHandler('data/HomerFormat/human_INL_sample1_matrix_1Mb_raw.txt')\n",
    "\n",
    "# Convert and save\n",
    "homer_reader.save_gcmap('output/homer/human_INL_sample1_matrix_1Mb_raw.gcmap', \n",
    "                                                    coarsingMethod='sum', compression='lzf')\n",
    "\n",
    "# Delete all temporary files, neccessary, automatically deleted\n",
    "del homer_reader"
   ]
  },
  {
   "cell_type": "markdown",
   "metadata": {},
   "source": [
    "## 3. From Bin-Contact format \n",
    "\n",
    "These types of files are present in following GEO data:\n",
    "* http://www.ncbi.nlm.nih.gov/geo/query/acc.cgi?acc=GSE61471\n",
    "* http://www.ncbi.nlm.nih.gov/geo/query/acc.cgi?acc=GSE34453\n",
    "\n",
    "This format contains a pair of file:\n",
    "* bin file:\n",
    "```\n",
    "cbin\tchr\tfrom.coord\tto.coord\tcount\n",
    "1\t2L\t0\t160000\t747\n",
    "2\t2L\t160000\t320000\t893\n",
    "3\t2L\t320000\t480000\t1056\n",
    "4\t2L\t480000\t640000\t1060\n",
    "5\t2L\t640000\t800000\t978\n",
    "6\t2L\t800000\t960000\t926\n",
    ".\n",
    ".\n",
    ".\n",
    "```\n",
    "\n",
    "* Contact file in list format\n",
    "```\n",
    "cbin1\tcbin2\texpected_count\tobserved_count\n",
    "1\t1\t40.245201\t21339\n",
    "1\t2\t83.747499\t5661\n",
    "1\t3\t92.12501\t1546\n",
    "1\t4\t93.401273\t864\n",
    "1\t5\t87.265472\t442\n",
    ".\n",
    ".\n",
    ".\n",
    "```\n",
    "\n",
    "### Convert to ccmap\n",
    "\n",
    "A pair of example input files `nm_none_160000.bins` and `nm_none_160000.n_contact` is present in `data/binContactFormat` directory. Below, we read it and convert it to `.ccmap` formats. The input file contains several chromosomes, therefore, several `.ccmap` files will be generated for each respective chromosome.\n",
    "\n",
    "\n",
    "Ouput `.ccmap` files will be saved in `output/binContact` directory."
   ]
  },
  {
   "cell_type": "raw",
   "metadata": {
    "raw_mimetype": "text/restructuredtext"
   },
   "source": [
    ".. seealso::\n",
    "    Class :meth:`gcMapExplorer.lib.importer.BinsNContactFilesHandler` for more details."
   ]
  },
  {
   "cell_type": "code",
   "execution_count": 11,
   "metadata": {
    "collapsed": false
   },
   "outputs": [
    {
     "name": "stderr",
     "output_type": "stream",
     "text": [
      "INFO:BinsNContactFilesHandler:  Chromosome Size: \n",
      "                                                3L : 24640000\n",
      "                                                3R : 28000000\n",
      "                                                 4 : 1280000\n",
      "                                                 X : 22560000\n",
      "                                                2R : 21280000\n",
      "                                                2L : 23040000\n",
      "\n",
      "INFO:BinsNContactFilesHandler:  Chromosome Bins info:\n",
      "                                                     3L: {'min': 278, 'max': 431}\n",
      "                                                     3R: {'min': 432, 'max': 606}\n",
      "                                                      4: {'min': 607, 'max': 614}\n",
      "                                                      X: {'min': 615, 'max': 755}\n",
      "                                                     2R: {'min': 145, 'max': 277}\n",
      "                                                     2L: {'min': 1, 'max': 144}\n",
      "\n",
      "INFO:BinsNContactFilesHandler: Generating temporary numpy array file [/home/rajendra/deskForWork/scratch/3L_fn2jgej2.npy] for 3L ...\n",
      "INFO:BinsNContactFilesHandler: Finished. \n",
      "\n",
      "INFO:BinsNContactFilesHandler: Generating temporary numpy array file [/home/rajendra/deskForWork/scratch/3R_hv4s3fha.npy] for 3R ...\n",
      "INFO:BinsNContactFilesHandler: Finished. \n",
      "\n",
      "INFO:BinsNContactFilesHandler: Generating temporary numpy array file [/home/rajendra/deskForWork/scratch/4_ez637xad.npy] for 4 ...\n",
      "INFO:BinsNContactFilesHandler: Finished. \n",
      "\n",
      "INFO:BinsNContactFilesHandler: Generating temporary numpy array file [/home/rajendra/deskForWork/scratch/X_f5he1gzh.npy] for X ...\n",
      "INFO:BinsNContactFilesHandler: Finished. \n",
      "\n",
      "INFO:BinsNContactFilesHandler: Generating temporary numpy array file [/home/rajendra/deskForWork/scratch/2R_q082jbqo.npy] for 2R ...\n",
      "INFO:BinsNContactFilesHandler: Finished. \n",
      "\n",
      "INFO:BinsNContactFilesHandler: Generating temporary numpy array file [/home/rajendra/deskForWork/scratch/2L_mlze04az.npy] for 2L ...\n",
      "INFO:BinsNContactFilesHandler: Finished. \n",
      "\n",
      "INFO:BinsNContactFilesHandler: Reading contact file ...\n",
      "\n",
      "INFO:BinsNContactFilesHandler: \tGenerating Hi-C Map for [2L] ... \n",
      "\n",
      "INFO:genMapFromLists: Total number of data in input file: 20737\n",
      "INFO:genMapFromLists:Minimum base-pair: 160000 and Maximum base-pair: 23040000 are present in input data\n",
      "INFO:genMapFromLists:Shape of overall map: (145, 145)\n",
      "\n",
      "INFO:BinsNContactFilesHandler: Finished\n",
      "\n",
      "INFO:BinsNContactFilesHandler: \tGenerating Hi-C Map for [2R] ... \n",
      "\n",
      "INFO:genMapFromLists: Total number of data in input file: 17689\n",
      "INFO:genMapFromLists:Minimum base-pair: 160000 and Maximum base-pair: 21280000 are present in input data\n",
      "INFO:genMapFromLists:Shape of overall map: (134, 134)\n",
      "\n",
      "INFO:BinsNContactFilesHandler: Finished\n",
      "\n",
      "INFO:BinsNContactFilesHandler: \tGenerating Hi-C Map for [3L] ... \n",
      "\n",
      "INFO:genMapFromLists: Total number of data in input file: 23716\n",
      "INFO:genMapFromLists:Minimum base-pair: 160000 and Maximum base-pair: 24640000 are present in input data\n",
      "INFO:genMapFromLists:Shape of overall map: (155, 155)\n",
      "\n",
      "INFO:BinsNContactFilesHandler: Finished\n",
      "\n",
      "INFO:BinsNContactFilesHandler: \tGenerating Hi-C Map for [3R] ... \n",
      "\n",
      "INFO:genMapFromLists: Total number of data in input file: 30625\n",
      "INFO:genMapFromLists:Minimum base-pair: 160000 and Maximum base-pair: 28000000 are present in input data\n",
      "INFO:genMapFromLists:Shape of overall map: (176, 176)\n",
      "\n",
      "INFO:BinsNContactFilesHandler: Finished\n",
      "\n",
      "INFO:BinsNContactFilesHandler: \tGenerating Hi-C Map for [4] ... \n",
      "\n",
      "INFO:genMapFromLists: Total number of data in input file: 64\n",
      "INFO:genMapFromLists:Minimum base-pair: 160000 and Maximum base-pair: 1280000 are present in input data\n",
      "INFO:genMapFromLists:Shape of overall map: (9, 9)\n",
      "\n",
      "INFO:BinsNContactFilesHandler: Finished\n",
      "\n",
      "INFO:BinsNContactFilesHandler: \tGenerating Hi-C Map for [X] ... \n",
      "INFO:genMapFromLists: Total number of data in input file: 19880\n",
      "INFO:genMapFromLists:Minimum base-pair: 160000 and Maximum base-pair: 22560000 are present in input data\n",
      "INFO:genMapFromLists:Shape of overall map: (142, 142)\n",
      "\n",
      "INFO:BinsNContactFilesHandler: Finished\n",
      "\n",
      "INFO:BinsNContactFilesHandler: Finished reading contact file.\n",
      "\n",
      "INFO:BinsNContactFilesHandler:   Hi-C Maps Summary:\n",
      "                                                  Chromosome\tSize\t\tMax. \tMin. \n",
      "                                                          3L\t(155, 155)\t25431.0\t3.0\n",
      "                                                          3R\t(176, 176)\t22142.0\t11.0\n",
      "                                                           4\t(9, 9)\t18961.0\t1182.0\n",
      "                                                           X\t(142, 142)\t11447.0\t1.0\n",
      "                                                          2R\t(134, 134)\t20234.0\t1.0\n",
      "                                                          2L\t(145, 145)\t24438.0\t6.0\n",
      "\n",
      "INFO:save_ccmap: Saving ccmap to file [output/binContact/chr3L_160kb.ccmap] and [/home/rajendra/workspace/genome_3d_organization/tutorials_modules/output/binContact/chr3L_160kb.npbin] ...\n",
      "INFO:save_ccmap: Compressing [/home/rajendra/workspace/genome_3d_organization/tutorials_modules/output/binContact/chr3L_160kb.npbin] ...\n",
      "INFO:save_ccmap:       Finished!!!\n",
      "INFO:save_ccmap: Saving ccmap to file [output/binContact/chr3R_160kb.ccmap] and [/home/rajendra/workspace/genome_3d_organization/tutorials_modules/output/binContact/chr3R_160kb.npbin] ...\n",
      "INFO:save_ccmap: Compressing [/home/rajendra/workspace/genome_3d_organization/tutorials_modules/output/binContact/chr3R_160kb.npbin] ...\n",
      "INFO:save_ccmap:       Finished!!!\n",
      "INFO:save_ccmap: Saving ccmap to file [output/binContact/chr4_160kb.ccmap] and [/home/rajendra/workspace/genome_3d_organization/tutorials_modules/output/binContact/chr4_160kb.npbin] ...\n",
      "INFO:save_ccmap: Compressing [/home/rajendra/workspace/genome_3d_organization/tutorials_modules/output/binContact/chr4_160kb.npbin] ...\n",
      "INFO:save_ccmap:       Finished!!!\n",
      "INFO:save_ccmap: Saving ccmap to file [output/binContact/chrX_160kb.ccmap] and [/home/rajendra/workspace/genome_3d_organization/tutorials_modules/output/binContact/chrX_160kb.npbin] ...\n",
      "INFO:save_ccmap: Compressing [/home/rajendra/workspace/genome_3d_organization/tutorials_modules/output/binContact/chrX_160kb.npbin] ...\n",
      "INFO:save_ccmap:       Finished!!!\n",
      "INFO:save_ccmap: Saving ccmap to file [output/binContact/chr2R_160kb.ccmap] and [/home/rajendra/workspace/genome_3d_organization/tutorials_modules/output/binContact/chr2R_160kb.npbin] ...\n",
      "INFO:save_ccmap: Compressing [/home/rajendra/workspace/genome_3d_organization/tutorials_modules/output/binContact/chr2R_160kb.npbin] ...\n",
      "INFO:save_ccmap:       Finished!!!\n",
      "INFO:save_ccmap: Saving ccmap to file [output/binContact/chr2L_160kb.ccmap] and [/home/rajendra/workspace/genome_3d_organization/tutorials_modules/output/binContact/chr2L_160kb.npbin] ...\n",
      "INFO:save_ccmap: Compressing [/home/rajendra/workspace/genome_3d_organization/tutorials_modules/output/binContact/chr2L_160kb.npbin] ...\n",
      "INFO:save_ccmap:       Finished!!!\n"
     ]
    }
   ],
   "source": [
    "# File names\n",
    "binFile = 'data/binContactFormat/nm_none_160000.bins'\n",
    "contactFile = 'data/binContactFormat/nm_none_160000.n_contact'\n",
    "\n",
    "# Initialize\n",
    "binContactReader = gmlib.importer.BinsNContactFilesHandler(binFile, contactFile)\n",
    "\n",
    "# Save ccmaps\n",
    "binContactReader.save_ccmaps('output/binContact')"
   ]
  },
  {
   "cell_type": "markdown",
   "metadata": {},
   "source": [
    "### Convert to gcmap\n",
    "\n",
    "A pair of example input files `nm_none_160000.bins` and `nm_none_160000.n_contact` is present in `data/binContactFormat` directory. Below, we read it and convert it to `.gcmap` formats. The input file contains several chromosomes, all contact map will be added to the output `gcmap`.\n",
    "\n",
    "\n",
    "Ouput `raw_160kb.gcmap` files will be saved in `output/binContact` directory."
   ]
  },
  {
   "cell_type": "code",
   "execution_count": 12,
   "metadata": {
    "collapsed": false
   },
   "outputs": [
    {
     "name": "stderr",
     "output_type": "stream",
     "text": [
      "INFO:addCCMap2GCMap: Opened file [output/binContact/raw_160kb.gcmap] for reading writing..\n",
      "INFO:addCCMap2GCMap: Adding data to [output/binContact/raw_160kb.gcmap] for [chr3L] ...\n",
      "INFO:addCCMap2GCMap:     ...Finished adding data for [chr3L] ...\n",
      "INFO:addCCMap2GCMap: Generating downsampled maps for [chr3L] ...\n",
      "INFO:addCCMap2GCMap:     ... Finished downsampling for [chr3L] ...\n",
      "INFO:addCCMap2GCMap: Closed file [output/binContact/raw_160kb.gcmap]...\n",
      "INFO:addCCMap2GCMap: Opened file [output/binContact/raw_160kb.gcmap] for reading writing..\n",
      "INFO:addCCMap2GCMap: Adding data to [output/binContact/raw_160kb.gcmap] for [chr3R] ...\n",
      "INFO:addCCMap2GCMap:     ...Finished adding data for [chr3R] ...\n",
      "INFO:addCCMap2GCMap: Generating downsampled maps for [chr3R] ...\n",
      "INFO:addCCMap2GCMap:     ... Finished downsampling for [chr3R] ...\n",
      "INFO:addCCMap2GCMap: Closed file [output/binContact/raw_160kb.gcmap]...\n",
      "INFO:addCCMap2GCMap: Opened file [output/binContact/raw_160kb.gcmap] for reading writing..\n",
      "INFO:addCCMap2GCMap: Adding data to [output/binContact/raw_160kb.gcmap] for [chr4] ...\n",
      "INFO:addCCMap2GCMap:     ...Finished adding data for [chr4] ...\n",
      "INFO:addCCMap2GCMap: Generating downsampled maps for [chr4] ...\n",
      "INFO:addCCMap2GCMap:     ... Finished downsampling for [chr4] ...\n",
      "INFO:addCCMap2GCMap: Closed file [output/binContact/raw_160kb.gcmap]...\n",
      "INFO:addCCMap2GCMap: Opened file [output/binContact/raw_160kb.gcmap] for reading writing..\n",
      "INFO:addCCMap2GCMap: Adding data to [output/binContact/raw_160kb.gcmap] for [chrX] ...\n",
      "INFO:addCCMap2GCMap:     ...Finished adding data for [chrX] ...\n",
      "INFO:addCCMap2GCMap: Generating downsampled maps for [chrX] ...\n",
      "INFO:addCCMap2GCMap:     ... Finished downsampling for [chrX] ...\n",
      "INFO:addCCMap2GCMap: Closed file [output/binContact/raw_160kb.gcmap]...\n",
      "INFO:addCCMap2GCMap: Opened file [output/binContact/raw_160kb.gcmap] for reading writing..\n",
      "INFO:addCCMap2GCMap: Adding data to [output/binContact/raw_160kb.gcmap] for [chr2R] ...\n",
      "INFO:addCCMap2GCMap:     ...Finished adding data for [chr2R] ...\n",
      "INFO:addCCMap2GCMap: Generating downsampled maps for [chr2R] ...\n",
      "INFO:addCCMap2GCMap:     ... Finished downsampling for [chr2R] ...\n",
      "INFO:addCCMap2GCMap: Closed file [output/binContact/raw_160kb.gcmap]...\n",
      "INFO:addCCMap2GCMap: Opened file [output/binContact/raw_160kb.gcmap] for reading writing..\n",
      "INFO:addCCMap2GCMap: Adding data to [output/binContact/raw_160kb.gcmap] for [chr2L] ...\n",
      "INFO:addCCMap2GCMap:     ...Finished adding data for [chr2L] ...\n",
      "INFO:addCCMap2GCMap: Generating downsampled maps for [chr2L] ...\n",
      "INFO:addCCMap2GCMap:     ... Finished downsampling for [chr2L] ...\n",
      "INFO:addCCMap2GCMap: Closed file [output/binContact/raw_160kb.gcmap]...\n"
     ]
    }
   ],
   "source": [
    "# Save gcmap\n",
    "binContactReader.save_gcmap('output/binContact/raw_160kb.gcmap', coarsingMethod='sum', compression='lzf')"
   ]
  }
 ],
 "metadata": {
  "celltoolbar": "Raw Cell Format",
  "kernelspec": {
   "display_name": "Python 3",
   "language": "python",
   "name": "python3"
  },
  "language_info": {
   "codemirror_mode": {
    "name": "ipython",
    "version": 3
   },
   "file_extension": ".py",
   "mimetype": "text/x-python",
   "name": "python",
   "nbconvert_exporter": "python",
   "pygments_lexer": "ipython3",
   "version": "3.4.3"
  }
 },
 "nbformat": 4,
 "nbformat_minor": 0
}
