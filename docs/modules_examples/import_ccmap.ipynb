{
 "cells": [
  {
   "cell_type": "markdown",
   "metadata": {},
   "source": [
    "# How to Import external HI-C map data?"
   ]
  },
  {
   "cell_type": "markdown",
   "metadata": {},
   "source": [
    "## 1. From a matrix coordinate format text file\n",
    "\n",
    "As shown below in example, in this format, first and second column is location on chromosome and third column is the respective value:\n",
    "\n",
    "```\n",
    "20000000\t20000000\t2692.0\n",
    "20000000\t20100000\t885.0\n",
    "20100000\t20100000\t6493.0\n",
    "20000000\t20200000\t15.0\n",
    "20100000\t20200000\t52.0\n",
    "20200000\t20200000\t2.0\n",
    "20000000\t20300000\t18.0\n",
    "20100000\t20300000\t40.0\n",
    ".\n",
    ".\n",
    ".\n",
    ".\n",
    ".\n",
    ".\n",
    "```\n",
    "\n",
    "Hi-C maps data with the above format are available with this [article](http://dx.doi.org/10.1016/j.cell.2014.11.021) and can be downlaoded [here](http://www.ncbi.nlm.nih.gov/geo/query/acc.cgi?acc=GSE63525).\n",
    "\n",
    "\n",
    "***\n",
    "\n",
    "\n",
    "**At first, we import gcMapExplorer.lib module**\n",
    "\n",
    "All neccessary modules are avaiable in gcMapExplorer.lib module"
   ]
  },
  {
   "cell_type": "code",
   "execution_count": 1,
   "metadata": {},
   "outputs": [],
   "source": [
    "from gcMapExplorer import lib as gmlib"
   ]
  },
  {
   "cell_type": "raw",
   "metadata": {
    "raw_mimetype": "text/restructuredtext"
   },
   "source": [
    "This module has methods to read and save ccmap file as shown below in the exmaple.\n",
    "    \n",
    ".. see also::\n",
    "    Module :mod:`gcMapExplorer.lib.ccmap` for more details about all the functions related to ccmap files.\n",
    "    Module :mod:`gcMapExplorer.lib.importer` for more details about all the functions related to importing ccmap/gcmap."
   ]
  },
  {
   "cell_type": "markdown",
   "metadata": {},
   "source": [
    "**Remove old files if any present in output directories**"
   ]
  },
  {
   "cell_type": "code",
   "execution_count": 2,
   "metadata": {},
   "outputs": [],
   "source": [
    "%%bash\n",
    "\n",
    "for f in ./cmaps/binContact/*; do\n",
    "    [ -e \"$f\" ] && rm $f\n",
    "done\n",
    "\n",
    "for f in ./cmaps/CooMatrix/*; do\n",
    "    [ -e \"$f\" ] && rm $f\n",
    "done\n",
    "\n",
    "for f in ./cmaps/homer/*; do\n",
    "    [ -e \"$f\" ] && rm $f\n",
    "done"
   ]
  },
  {
   "cell_type": "markdown",
   "metadata": {},
   "source": [
    "**We read Hi-C file as follows:**"
   ]
  },
  {
   "cell_type": "code",
   "execution_count": 3,
   "metadata": {
    "collapsed": true
   },
   "outputs": [],
   "source": [
    "cooReader = gmlib.importer.CooMatrixHandler('./data/CooMatrixFormat/chr15_100kb.RAWobserved')"
   ]
  },
  {
   "cell_type": "raw",
   "metadata": {
    "raw_mimetype": "text/restructuredtext"
   },
   "source": [
    ".. seealso::\n",
    "    Function :meth:`gcMapExplorer.lib.importer.CooMatrixHandler` for more details."
   ]
  },
  {
   "cell_type": "markdown",
   "metadata": {
    "collapsed": true
   },
   "source": [
    "**Now, save the Hi-C map as ccmap:**\n",
    "\n",
    "We save imported Hi-C map in `cmaps` directory as `chr15_100kb_Raw_from_text.ccmap` file. To reduce the storage memory, map file is compressed in [gzip](http://www.gzip.org/) format."
   ]
  },
  {
   "cell_type": "code",
   "execution_count": 4,
   "metadata": {},
   "outputs": [
    {
     "name": "stderr",
     "output_type": "stream",
     "text": [
      "INFO:CooMatrixHandler: Reading file: [./data/CooMatrixFormat/chr15_100kb.RAWobserved]... \n"
     ]
    },
    {
     "name": "stdout",
     "output_type": "stream",
     "text": [
      "  \n"
     ]
    },
    {
     "name": "stderr",
     "output_type": "stream",
     "text": [
      "INFO:CooMatrixHandler:     ... Finished reading file: [./data/CooMatrixFormat/chr15_100kb.RAWobserved] \n",
      "INFO:genMapFromLists: Total number of data in input file: 318258\n",
      "INFO:genMapFromLists:Minimum base-pair: 20000000 and Maximum base-pair: 102500000 are present in input data\n",
      "INFO:genMapFromLists:Shape of overall map: (1026, 1026)\n",
      "\n",
      "INFO:save_ccmap: Saving ccmap to file [cmaps/CooMatrix/chr15_100kb_Raw_from_text.ccmap] and [/home/rajendra/workspace/genome_3d_organization/tutorials_modules/cmaps/CooMatrix/chr15_100kb_Raw_from_text.npbin] ...\n",
      "INFO:save_ccmap: Compressing [/home/rajendra/workspace/genome_3d_organization/tutorials_modules/cmaps/CooMatrix/chr15_100kb_Raw_from_text.npbin] ...\n",
      "INFO:save_ccmap:       Finished!!!\n",
      "\n"
     ]
    }
   ],
   "source": [
    "cooReader.save_ccmaps('cmaps/CooMatrix/chr15_100kb_Raw_from_text.ccmap', xlabels='chr15')\n",
    "del cooReader       # Delete object and generated any temporary files"
   ]
  },
  {
   "cell_type": "raw",
   "metadata": {
    "raw_mimetype": "text/restructuredtext"
   },
   "source": [
    ".. seealso::\n",
    "    * Function :meth:`gcMapExplorer.lib.importer.CooMatrixHandler.save_ccmaps` for more details. \n",
    "    * Function :meth:`gcMapExplorer.lib.ccmap.save_ccmap` for more details.\n",
    "    \n",
    "    \n",
    "****"
   ]
  },
  {
   "cell_type": "markdown",
   "metadata": {},
   "source": [
    "**Importing from a tar archive**\n",
    "\n",
    "If a Hi-C map data file is present inside a tar archive, the map file can be directly imported as follows:"
   ]
  },
  {
   "cell_type": "code",
   "execution_count": 5,
   "metadata": {
    "collapsed": true
   },
   "outputs": [],
   "source": [
    "tarfile = 'data/CooMatrixFormat/100kb_resolution_intrachromosomal.tar.gz'            # Input Tar archive\n",
    "mapfile = '100kb_resolution_intrachromosomal/chr15/MAPQGE30/chr15_100kb.RAWobserved' # Map file in archive\n",
    "cooReader = gmlib.importer.CooMatrixHandler(mapfile, tarfile)"
   ]
  },
  {
   "cell_type": "markdown",
   "metadata": {},
   "source": [
    "where, `data/100kb_resolution_intrachromosomal.tar.gz` is input tar archive and `100kb_resolution_intrachromosomal/chr15/MAPQGE30/chr15_100kb.RAWobserved` is a map file inside the archive.\n"
   ]
  },
  {
   "cell_type": "markdown",
   "metadata": {},
   "source": [
    "**Now, save the Hi-C map as ccmap:** as already shown above."
   ]
  },
  {
   "cell_type": "code",
   "execution_count": 6,
   "metadata": {},
   "outputs": [
    {
     "name": "stderr",
     "output_type": "stream",
     "text": [
      "INFO:CooMatrixHandler: Extracting-Reading [100kb_resolution_intrachromosomal/chr15/MAPQGE30/chr15_100kb.RAWobserved] from [data/CooMatrixFormat/100kb_resolution_intrachromosomal.tar.gz]... \n"
     ]
    },
    {
     "name": "stdout",
     "output_type": "stream",
     "text": [
      "  \n"
     ]
    },
    {
     "name": "stderr",
     "output_type": "stream",
     "text": [
      "INFO:CooMatrixHandler:   ...Finished extracting and reading [100kb_resolution_intrachromosomal/chr15/MAPQGE30/chr15_100kb.RAWobserved]\n",
      "INFO:genMapFromLists: Total number of data in input file: 318258\n",
      "INFO:genMapFromLists:Minimum base-pair: 20000000 and Maximum base-pair: 102500000 are present in input data\n",
      "INFO:genMapFromLists:Shape of overall map: (1026, 1026)\n",
      "\n",
      "INFO:save_ccmap: Saving ccmap to file [cmaps/CooMatrix/chr15_100kb_raw_from_archive.ccmap] and [/home/rajendra/workspace/genome_3d_organization/tutorials_modules/cmaps/CooMatrix/chr15_100kb_raw_from_archive.npbin] ...\n",
      "INFO:save_ccmap: Compressing [/home/rajendra/workspace/genome_3d_organization/tutorials_modules/cmaps/CooMatrix/chr15_100kb_raw_from_archive.npbin] ...\n",
      "INFO:save_ccmap:       Finished!!!\n",
      "\n"
     ]
    }
   ],
   "source": [
    "cooReader.save_ccmaps('cmaps/CooMatrix/chr15_100kb_raw_from_archive.ccmap', xlabels='chr15')"
   ]
  },
  {
   "cell_type": "markdown",
   "metadata": {},
   "source": [
    "***\n",
    "\n",
    "\n",
    "### Convert several files from a tar archive\n",
    "\n",
    "`100kb_resolution_intrachromosomal.tar.gz` file contains six Hi-C map data files. Through a `for` loop, these files can be imported and saved. Path to these files in the tar archive are as follows:\n",
    "\n",
    "```\n",
    "100kb_resolution_intrachromosomal/chr1/MAPQGE30/chr1_100kb.RAWobserved\n",
    "100kb_resolution_intrachromosomal/chr5/MAPQGE30/chr5_100kb.RAWobserved\n",
    "100kb_resolution_intrachromosomal/chr15/MAPQGE30/chr15_100kb.RAWobserved\n",
    "100kb_resolution_intrachromosomal/chr20/MAPQGE30/chr20_100kb.RAWobserved\n",
    "100kb_resolution_intrachromosomal/chr21/MAPQGE30/chr21_100kb.RAWobserved\n",
    "100kb_resolution_intrachromosomal/chr22/MAPQGE30/chr22_100kb.RAWobserved\n",
    "```\n",
    "\n",
    "These file names have a pattern, and we utilize this pattern to form a name inside `for` loop."
   ]
  },
  {
   "cell_type": "code",
   "execution_count": 7,
   "metadata": {},
   "outputs": [
    {
     "name": "stderr",
     "output_type": "stream",
     "text": [
      "INFO:CooMatrixHandler: Extracting-Reading [100kb_resolution_intrachromosomal/chr1/MAPQGE30/chr1_100kb.RAWobserved] from [data/CooMatrixFormat/100kb_resolution_intrachromosomal.tar.gz]... \n"
     ]
    },
    {
     "name": "stdout",
     "output_type": "stream",
     "text": [
      "  \n"
     ]
    },
    {
     "name": "stderr",
     "output_type": "stream",
     "text": [
      "INFO:CooMatrixHandler:   ...Finished extracting and reading [100kb_resolution_intrachromosomal/chr1/MAPQGE30/chr1_100kb.RAWobserved]\n",
      "INFO:genMapFromLists: Total number of data in input file: 2435300\n",
      "INFO:genMapFromLists:Minimum base-pair: 0 and Maximum base-pair: 249200000 are present in input data\n",
      "INFO:genMapFromLists:Shape of overall map: (2493, 2493)\n",
      "\n",
      "INFO:save_ccmap: Saving ccmap to file [cmaps/CooMatrix/chr1_100kb_RawObserved.ccmap] and [/home/rajendra/workspace/genome_3d_organization/tutorials_modules/cmaps/CooMatrix/chr1_100kb_RawObserved.npbin] ...\n",
      "INFO:save_ccmap: Compressing [/home/rajendra/workspace/genome_3d_organization/tutorials_modules/cmaps/CooMatrix/chr1_100kb_RawObserved.npbin] ...\n",
      "INFO:save_ccmap:       Finished!!!\n",
      "\n",
      "INFO:CooMatrixHandler: Extracting-Reading [100kb_resolution_intrachromosomal/chr5/MAPQGE30/chr5_100kb.RAWobserved] from [data/CooMatrixFormat/100kb_resolution_intrachromosomal.tar.gz]... \n"
     ]
    },
    {
     "name": "stdout",
     "output_type": "stream",
     "text": [
      "  \n"
     ]
    },
    {
     "name": "stderr",
     "output_type": "stream",
     "text": [
      "INFO:CooMatrixHandler:   ...Finished extracting and reading [100kb_resolution_intrachromosomal/chr5/MAPQGE30/chr5_100kb.RAWobserved]\n",
      "INFO:genMapFromLists: Total number of data in input file: 1533205\n",
      "INFO:genMapFromLists:Minimum base-pair: 0 and Maximum base-pair: 180800000 are present in input data\n",
      "INFO:genMapFromLists:Shape of overall map: (1809, 1809)\n",
      "\n",
      "INFO:save_ccmap: Saving ccmap to file [cmaps/CooMatrix/chr5_100kb_RawObserved.ccmap] and [/home/rajendra/workspace/genome_3d_organization/tutorials_modules/cmaps/CooMatrix/chr5_100kb_RawObserved.npbin] ...\n",
      "INFO:save_ccmap: Compressing [/home/rajendra/workspace/genome_3d_organization/tutorials_modules/cmaps/CooMatrix/chr5_100kb_RawObserved.npbin] ...\n",
      "INFO:save_ccmap:       Finished!!!\n",
      "\n",
      "INFO:CooMatrixHandler: Extracting-Reading [100kb_resolution_intrachromosomal/chr15/MAPQGE30/chr15_100kb.RAWobserved] from [data/CooMatrixFormat/100kb_resolution_intrachromosomal.tar.gz]... \n"
     ]
    },
    {
     "name": "stdout",
     "output_type": "stream",
     "text": [
      "  \n"
     ]
    },
    {
     "name": "stderr",
     "output_type": "stream",
     "text": [
      "INFO:CooMatrixHandler:   ...Finished extracting and reading [100kb_resolution_intrachromosomal/chr15/MAPQGE30/chr15_100kb.RAWobserved]\n",
      "INFO:genMapFromLists: Total number of data in input file: 318258\n",
      "INFO:genMapFromLists:Minimum base-pair: 20000000 and Maximum base-pair: 102500000 are present in input data\n",
      "INFO:genMapFromLists:Shape of overall map: (1026, 1026)\n",
      "\n",
      "INFO:save_ccmap: Saving ccmap to file [cmaps/CooMatrix/chr15_100kb_RawObserved.ccmap] and [/home/rajendra/workspace/genome_3d_organization/tutorials_modules/cmaps/CooMatrix/chr15_100kb_RawObserved.npbin] ...\n",
      "INFO:save_ccmap: Compressing [/home/rajendra/workspace/genome_3d_organization/tutorials_modules/cmaps/CooMatrix/chr15_100kb_RawObserved.npbin] ...\n",
      "INFO:save_ccmap:       Finished!!!\n",
      "\n",
      "INFO:CooMatrixHandler: Extracting-Reading [100kb_resolution_intrachromosomal/chr20/MAPQGE30/chr20_100kb.RAWobserved] from [data/CooMatrixFormat/100kb_resolution_intrachromosomal.tar.gz]... \n"
     ]
    },
    {
     "name": "stdout",
     "output_type": "stream",
     "text": [
      "  \n"
     ]
    },
    {
     "name": "stderr",
     "output_type": "stream",
     "text": [
      "INFO:CooMatrixHandler:   ...Finished extracting and reading [100kb_resolution_intrachromosomal/chr20/MAPQGE30/chr20_100kb.RAWobserved]\n",
      "INFO:genMapFromLists: Total number of data in input file: 179488\n",
      "INFO:genMapFromLists:Minimum base-pair: 0 and Maximum base-pair: 62900000 are present in input data\n",
      "INFO:genMapFromLists:Shape of overall map: (630, 630)\n",
      "\n",
      "INFO:save_ccmap: Saving ccmap to file [cmaps/CooMatrix/chr20_100kb_RawObserved.ccmap] and [/home/rajendra/workspace/genome_3d_organization/tutorials_modules/cmaps/CooMatrix/chr20_100kb_RawObserved.npbin] ...\n",
      "INFO:save_ccmap: Compressing [/home/rajendra/workspace/genome_3d_organization/tutorials_modules/cmaps/CooMatrix/chr20_100kb_RawObserved.npbin] ...\n",
      "INFO:save_ccmap:       Finished!!!\n",
      "\n",
      "INFO:CooMatrixHandler: Extracting-Reading [100kb_resolution_intrachromosomal/chr21/MAPQGE30/chr21_100kb.RAWobserved] from [data/CooMatrixFormat/100kb_resolution_intrachromosomal.tar.gz]... \n",
      "INFO:CooMatrixHandler:   ...Finished extracting and reading [100kb_resolution_intrachromosomal/chr21/MAPQGE30/chr21_100kb.RAWobserved]\n",
      "INFO:genMapFromLists: Total number of data in input file: 60664\n",
      "INFO:genMapFromLists:Minimum base-pair: 9400000 and Maximum base-pair: 48100000 are present in input data\n",
      "INFO:genMapFromLists:Shape of overall map: (482, 482)\n",
      "\n"
     ]
    },
    {
     "name": "stdout",
     "output_type": "stream",
     "text": [
      "  \n"
     ]
    },
    {
     "name": "stderr",
     "output_type": "stream",
     "text": [
      "INFO:save_ccmap: Saving ccmap to file [cmaps/CooMatrix/chr21_100kb_RawObserved.ccmap] and [/home/rajendra/workspace/genome_3d_organization/tutorials_modules/cmaps/CooMatrix/chr21_100kb_RawObserved.npbin] ...\n",
      "INFO:save_ccmap: Compressing [/home/rajendra/workspace/genome_3d_organization/tutorials_modules/cmaps/CooMatrix/chr21_100kb_RawObserved.npbin] ...\n",
      "INFO:save_ccmap:       Finished!!!\n",
      "\n",
      "INFO:CooMatrixHandler: Extracting-Reading [100kb_resolution_intrachromosomal/chr22/MAPQGE30/chr22_100kb.RAWobserved] from [data/CooMatrixFormat/100kb_resolution_intrachromosomal.tar.gz]... \n",
      "INFO:CooMatrixHandler:   ...Finished extracting and reading [100kb_resolution_intrachromosomal/chr22/MAPQGE30/chr22_100kb.RAWobserved]\n",
      "INFO:genMapFromLists: Total number of data in input file: 59429\n",
      "INFO:genMapFromLists:Minimum base-pair: 16000000 and Maximum base-pair: 51200000 are present in input data\n",
      "INFO:genMapFromLists:Shape of overall map: (513, 513)\n",
      "\n"
     ]
    },
    {
     "name": "stdout",
     "output_type": "stream",
     "text": [
      "  \n"
     ]
    },
    {
     "name": "stderr",
     "output_type": "stream",
     "text": [
      "INFO:save_ccmap: Saving ccmap to file [cmaps/CooMatrix/chr22_100kb_RawObserved.ccmap] and [/home/rajendra/workspace/genome_3d_organization/tutorials_modules/cmaps/CooMatrix/chr22_100kb_RawObserved.npbin] ...\n",
      "INFO:save_ccmap: Compressing [/home/rajendra/workspace/genome_3d_organization/tutorials_modules/cmaps/CooMatrix/chr22_100kb_RawObserved.npbin] ...\n",
      "INFO:save_ccmap:       Finished!!!\n",
      "\n"
     ]
    }
   ],
   "source": [
    "tarfile = 'data/CooMatrixFormat/100kb_resolution_intrachromosomal.tar.gz'   \n",
    "\n",
    "chroms = [1, 5, 15, 20, 21, 22]      # List of chromosomes\n",
    "\n",
    "# Loop for each chromosome\n",
    "inputFileList = []\n",
    "outputFileList = []\n",
    "xlabels = []\n",
    "for chrom in chroms:\n",
    "    mapfile = '100kb_resolution_intrachromosomal/chr{0}/MAPQGE30/chr{0}_100kb.RAWobserved' .format(chrom)\n",
    "    inputFileList.append(mapfile)\n",
    "    \n",
    "    output_file = 'cmaps/CooMatrix/chr{0}_100kb_RawObserved.ccmap' .format(chrom)     # Output file name\n",
    "    outputFileList.append(output_file)\n",
    "    \n",
    "    xlabels.append( 'chr{0}'.format(chrom) )\n",
    "    \n",
    "cooReader = gmlib.importer.CooMatrixHandler(inputFileList, tarfile)\n",
    "cooReader.save_ccmaps(outputFileList, xlabels=xlabels)"
   ]
  },
  {
   "cell_type": "markdown",
   "metadata": {},
   "source": [
    "Now, in `cmaps/CooMatrix` directory, all files from archive are saved. These files can be used either with browser to visualize or for further analysis."
   ]
  },
  {
   "cell_type": "markdown",
   "metadata": {},
   "source": [
    "### Convert to ``gcmap`` file\n",
    "\n",
    "The contact map files can be converted to ``gcmap`` format file. "
   ]
  },
  {
   "cell_type": "raw",
   "metadata": {
    "raw_mimetype": "text/restructuredtext"
   },
   "source": [
    ".. seealso::\n",
    "    * Function :meth:`gcMapExplorer.lib.importer.CooMatrixHandler.save_gcmap` for more details. "
   ]
  },
  {
   "cell_type": "code",
   "execution_count": 8,
   "metadata": {},
   "outputs": [
    {
     "name": "stderr",
     "output_type": "stream",
     "text": [
      "INFO:CooMatrixHandler: Extracting-Reading [100kb_resolution_intrachromosomal/chr1/MAPQGE30/chr1_100kb.RAWobserved] from [data/CooMatrixFormat/100kb_resolution_intrachromosomal.tar.gz]... \n"
     ]
    },
    {
     "name": "stdout",
     "output_type": "stream",
     "text": [
      "  \n"
     ]
    },
    {
     "name": "stderr",
     "output_type": "stream",
     "text": [
      "INFO:CooMatrixHandler:   ...Finished extracting and reading [100kb_resolution_intrachromosomal/chr1/MAPQGE30/chr1_100kb.RAWobserved]\n",
      "INFO:genMapFromLists: Total number of data in input file: 2435300\n",
      "INFO:genMapFromLists:Minimum base-pair: 0 and Maximum base-pair: 249200000 are present in input data\n",
      "INFO:genMapFromLists:Shape of overall map: (2493, 2493)\n",
      "\n",
      "INFO:addCCMap2GCMap: Opened file [cmaps/CooMatrix/rawObserved_100kb.gcmap] for reading writing..\n",
      "INFO:addCCMap2GCMap: Adding data to [cmaps/CooMatrix/rawObserved_100kb.gcmap] for [chr1] ...\n",
      "INFO:addCCMap2GCMap:     ...Finished adding data for [chr1] ...\n",
      "INFO:addCCMap2GCMap: Generating downsampled maps for [chr1] ...\n",
      "INFO:addCCMap2GCMap:     ... Finished downsampling for [chr1] ...\n",
      "INFO:addCCMap2GCMap: Closed file [cmaps/CooMatrix/rawObserved_100kb.gcmap]...\n",
      "INFO:CooMatrixHandler: Extracting-Reading [100kb_resolution_intrachromosomal/chr5/MAPQGE30/chr5_100kb.RAWobserved] from [data/CooMatrixFormat/100kb_resolution_intrachromosomal.tar.gz]... \n"
     ]
    },
    {
     "name": "stdout",
     "output_type": "stream",
     "text": [
      "  \n"
     ]
    },
    {
     "name": "stderr",
     "output_type": "stream",
     "text": [
      "INFO:CooMatrixHandler:   ...Finished extracting and reading [100kb_resolution_intrachromosomal/chr5/MAPQGE30/chr5_100kb.RAWobserved]\n",
      "INFO:genMapFromLists: Total number of data in input file: 1533205\n",
      "INFO:genMapFromLists:Minimum base-pair: 0 and Maximum base-pair: 180800000 are present in input data\n",
      "INFO:genMapFromLists:Shape of overall map: (1809, 1809)\n",
      "\n",
      "INFO:addCCMap2GCMap: Opened file [cmaps/CooMatrix/rawObserved_100kb.gcmap] for reading writing..\n",
      "INFO:addCCMap2GCMap: Adding data to [cmaps/CooMatrix/rawObserved_100kb.gcmap] for [chr5] ...\n",
      "INFO:addCCMap2GCMap:     ...Finished adding data for [chr5] ...\n",
      "INFO:addCCMap2GCMap: Generating downsampled maps for [chr5] ...\n",
      "INFO:addCCMap2GCMap:     ... Finished downsampling for [chr5] ...\n",
      "INFO:addCCMap2GCMap: Closed file [cmaps/CooMatrix/rawObserved_100kb.gcmap]...\n",
      "INFO:CooMatrixHandler: Extracting-Reading [100kb_resolution_intrachromosomal/chr15/MAPQGE30/chr15_100kb.RAWobserved] from [data/CooMatrixFormat/100kb_resolution_intrachromosomal.tar.gz]... \n"
     ]
    },
    {
     "name": "stdout",
     "output_type": "stream",
     "text": [
      "  \n"
     ]
    },
    {
     "name": "stderr",
     "output_type": "stream",
     "text": [
      "INFO:CooMatrixHandler:   ...Finished extracting and reading [100kb_resolution_intrachromosomal/chr15/MAPQGE30/chr15_100kb.RAWobserved]\n",
      "INFO:genMapFromLists: Total number of data in input file: 318258\n",
      "INFO:genMapFromLists:Minimum base-pair: 20000000 and Maximum base-pair: 102500000 are present in input data\n",
      "INFO:genMapFromLists:Shape of overall map: (1026, 1026)\n",
      "\n",
      "INFO:addCCMap2GCMap: Opened file [cmaps/CooMatrix/rawObserved_100kb.gcmap] for reading writing..\n",
      "INFO:addCCMap2GCMap: Adding data to [cmaps/CooMatrix/rawObserved_100kb.gcmap] for [chr15] ...\n",
      "INFO:addCCMap2GCMap:     ...Finished adding data for [chr15] ...\n",
      "INFO:addCCMap2GCMap: Generating downsampled maps for [chr15] ...\n",
      "INFO:addCCMap2GCMap:     ... Finished downsampling for [chr15] ...\n",
      "INFO:addCCMap2GCMap: Closed file [cmaps/CooMatrix/rawObserved_100kb.gcmap]...\n",
      "INFO:CooMatrixHandler: Extracting-Reading [100kb_resolution_intrachromosomal/chr20/MAPQGE30/chr20_100kb.RAWobserved] from [data/CooMatrixFormat/100kb_resolution_intrachromosomal.tar.gz]... \n"
     ]
    },
    {
     "name": "stdout",
     "output_type": "stream",
     "text": [
      "  \n"
     ]
    },
    {
     "name": "stderr",
     "output_type": "stream",
     "text": [
      "INFO:CooMatrixHandler:   ...Finished extracting and reading [100kb_resolution_intrachromosomal/chr20/MAPQGE30/chr20_100kb.RAWobserved]\n",
      "INFO:genMapFromLists: Total number of data in input file: 179488\n",
      "INFO:genMapFromLists:Minimum base-pair: 0 and Maximum base-pair: 62900000 are present in input data\n",
      "INFO:genMapFromLists:Shape of overall map: (630, 630)\n",
      "\n",
      "INFO:addCCMap2GCMap: Opened file [cmaps/CooMatrix/rawObserved_100kb.gcmap] for reading writing..\n",
      "INFO:addCCMap2GCMap: Adding data to [cmaps/CooMatrix/rawObserved_100kb.gcmap] for [chr20] ...\n",
      "INFO:addCCMap2GCMap:     ...Finished adding data for [chr20] ...\n",
      "INFO:addCCMap2GCMap: Generating downsampled maps for [chr20] ...\n",
      "INFO:addCCMap2GCMap:     ... Finished downsampling for [chr20] ...\n",
      "INFO:addCCMap2GCMap: Closed file [cmaps/CooMatrix/rawObserved_100kb.gcmap]...\n",
      "INFO:CooMatrixHandler: Extracting-Reading [100kb_resolution_intrachromosomal/chr21/MAPQGE30/chr21_100kb.RAWobserved] from [data/CooMatrixFormat/100kb_resolution_intrachromosomal.tar.gz]... \n",
      "INFO:CooMatrixHandler:   ...Finished extracting and reading [100kb_resolution_intrachromosomal/chr21/MAPQGE30/chr21_100kb.RAWobserved]\n",
      "INFO:genMapFromLists: Total number of data in input file: 60664\n",
      "INFO:genMapFromLists:Minimum base-pair: 9400000 and Maximum base-pair: 48100000 are present in input data\n",
      "INFO:genMapFromLists:Shape of overall map: (482, 482)\n",
      "\n"
     ]
    },
    {
     "name": "stdout",
     "output_type": "stream",
     "text": [
      "  \n"
     ]
    },
    {
     "name": "stderr",
     "output_type": "stream",
     "text": [
      "INFO:addCCMap2GCMap: Opened file [cmaps/CooMatrix/rawObserved_100kb.gcmap] for reading writing..\n",
      "INFO:addCCMap2GCMap: Adding data to [cmaps/CooMatrix/rawObserved_100kb.gcmap] for [chr21] ...\n",
      "INFO:addCCMap2GCMap:     ...Finished adding data for [chr21] ...\n",
      "INFO:addCCMap2GCMap: Generating downsampled maps for [chr21] ...\n",
      "INFO:addCCMap2GCMap:     ... Finished downsampling for [chr21] ...\n",
      "INFO:addCCMap2GCMap: Closed file [cmaps/CooMatrix/rawObserved_100kb.gcmap]...\n",
      "INFO:CooMatrixHandler: Extracting-Reading [100kb_resolution_intrachromosomal/chr22/MAPQGE30/chr22_100kb.RAWobserved] from [data/CooMatrixFormat/100kb_resolution_intrachromosomal.tar.gz]... \n",
      "INFO:CooMatrixHandler:   ...Finished extracting and reading [100kb_resolution_intrachromosomal/chr22/MAPQGE30/chr22_100kb.RAWobserved]\n",
      "INFO:genMapFromLists: Total number of data in input file: 59429\n",
      "INFO:genMapFromLists:Minimum base-pair: 16000000 and Maximum base-pair: 51200000 are present in input data\n",
      "INFO:genMapFromLists:Shape of overall map: (513, 513)\n",
      "\n"
     ]
    },
    {
     "name": "stdout",
     "output_type": "stream",
     "text": [
      "  \n"
     ]
    },
    {
     "name": "stderr",
     "output_type": "stream",
     "text": [
      "INFO:addCCMap2GCMap: Opened file [cmaps/CooMatrix/rawObserved_100kb.gcmap] for reading writing..\n",
      "INFO:addCCMap2GCMap: Adding data to [cmaps/CooMatrix/rawObserved_100kb.gcmap] for [chr22] ...\n",
      "INFO:addCCMap2GCMap:     ...Finished adding data for [chr22] ...\n",
      "INFO:addCCMap2GCMap: Generating downsampled maps for [chr22] ...\n",
      "INFO:addCCMap2GCMap:     ... Finished downsampling for [chr22] ...\n",
      "INFO:addCCMap2GCMap: Closed file [cmaps/CooMatrix/rawObserved_100kb.gcmap]...\n"
     ]
    }
   ],
   "source": [
    "tarfile = 'data/CooMatrixFormat/100kb_resolution_intrachromosomal.tar.gz'   \n",
    "\n",
    "chroms = [1, 5, 15, 20, 21, 22]      # List of chromosomes\n",
    "\n",
    "# Loop for each chromosome\n",
    "inputFileList = []\n",
    "outputFileList = []\n",
    "xlabels = []\n",
    "for chrom in chroms:\n",
    "    mapfile = '100kb_resolution_intrachromosomal/chr{0}/MAPQGE30/chr{0}_100kb.RAWobserved' .format(chrom)\n",
    "    inputFileList.append(mapfile)\n",
    "    \n",
    "    output_file = 'cmaps/CooMatrix/chr{0}_100kb_RawObserved.ccmap' .format(chrom)     # Output file name\n",
    "    outputFileList.append(output_file)\n",
    "    \n",
    "    xlabels.append( 'chr{0}'.format(chrom) )\n",
    "    \n",
    "cooReader = gmlib.importer.CooMatrixHandler(inputFileList, tarfile)\n",
    "cooReader.save_gcmap('cmaps/CooMatrix/rawObserved_100kb.gcmap', xlabels=xlabels, coarsingMethod='sum', compression='lzf')"
   ]
  },
  {
   "cell_type": "markdown",
   "metadata": {},
   "source": [
    "## 2. From HOMER Hi-C interaction matrix format\n",
    "\n",
    "[HOMER package](http://homer.salk.edu/homer/interactions/) contains modules to analyze genome wide interaction data. It creates Hi-C matrix in a specific format as shown in this [link](http://homer.salk.edu/homer/interactions/HiCmatrices.html).\n",
    "\n"
   ]
  },
  {
   "cell_type": "markdown",
   "metadata": {},
   "source": [
    "### Covert to ccmap\n",
    "\n",
    "An example input file `human_INL_sample1_matrix_1Mb_raw.txt` is present in `data/HomerFormat` directory. Below, we read it and convert it to `.ccmap` formats. The input file contains several chromosomes, therefore, several `.ccmap` files will be generated for each respective chromosome.\n",
    "\n",
    "\n",
    "Ouput `.ccmap` files with `suffix='_sample1'` will be saved in `cmaps/homer` directory."
   ]
  },
  {
   "cell_type": "raw",
   "metadata": {
    "raw_mimetype": "text/restructuredtext"
   },
   "source": [
    ".. seealso::\n",
    "    Class :meth:`gcMapExplorer.lib.importer.HomerInputHandler` for more details."
   ]
  },
  {
   "cell_type": "code",
   "execution_count": 9,
   "metadata": {},
   "outputs": [
    {
     "name": "stderr",
     "output_type": "stream",
     "text": [
      "INFO:HomerInputHandler: Getting chromosome list and resolution from Input Files ...\n",
      "INFO:HomerInputHandler: Resolution: 1mb\n",
      "INFO:HomerInputHandler: Following chromsomes found in input files:  \n",
      "                              chr1\n",
      "                              chr2\n",
      "                              chr3\n",
      "                              chr4\n",
      "                              chr5\n",
      "                              chr6\n",
      "                              chr7\n",
      "                              chr8\n",
      "                              chr9\n",
      "                              chr10\n",
      "                              chr11\n",
      "                              chr12\n",
      "                              chr13\n",
      "                              chr14\n",
      "                              chr15\n",
      "                              chr16\n",
      "                              chr17\n",
      "                              chr18\n",
      "                              chr19\n",
      "                              chr20\n",
      "                              chr21\n",
      "                              chr22\n",
      "                              chrMT\n",
      "                              chrX\n",
      "                              chrY\n",
      "INFO:HomerInputHandler: Reading [data/HomerFormat/human_INL_sample1_matrix_1Mb_raw.txt] file ...\n",
      "INFO:HomerInputHandler:           ... Finished reading [data/HomerFormat/human_INL_sample1_matrix_1Mb_raw.txt] file ...\n",
      "INFO:CooMatrixHandler: Reading file: [/home/rajendra/deskForWork/scratch/chr1_f77vvnvf.tmp]... \n",
      "INFO:CooMatrixHandler:     ... Finished reading file: [/home/rajendra/deskForWork/scratch/chr1_f77vvnvf.tmp] \n",
      "INFO:genMapFromLists: Total number of data in input file: 40344\n",
      "INFO:genMapFromLists:Minimum base-pair: 0 and Maximum base-pair: 249000000 are present in input data\n",
      "INFO:genMapFromLists:Shape of overall map: (250, 250)\n",
      "\n"
     ]
    },
    {
     "name": "stdout",
     "output_type": "stream",
     "text": [
      "  \n"
     ]
    },
    {
     "name": "stderr",
     "output_type": "stream",
     "text": [
      "INFO:save_ccmap: Saving ccmap to file [cmaps/homer/chr1_1mb__sample1.ccmap] and [/home/rajendra/workspace/genome_3d_organization/tutorials_modules/cmaps/homer/chr1_1mb__sample1.npbin] ...\n",
      "INFO:save_ccmap: Compressing [/home/rajendra/workspace/genome_3d_organization/tutorials_modules/cmaps/homer/chr1_1mb__sample1.npbin] ...\n",
      "INFO:save_ccmap:       Finished!!!\n",
      "\n",
      "INFO:CooMatrixHandler: Reading file: [/home/rajendra/deskForWork/scratch/chr2_vkkm8epw.tmp]... \n",
      "INFO:CooMatrixHandler:     ... Finished reading file: [/home/rajendra/deskForWork/scratch/chr2_vkkm8epw.tmp] \n",
      "INFO:genMapFromLists: Total number of data in input file: 46886\n",
      "INFO:genMapFromLists:Minimum base-pair: 0 and Maximum base-pair: 243000000 are present in input data\n",
      "INFO:genMapFromLists:Shape of overall map: (244, 244)\n",
      "\n"
     ]
    },
    {
     "name": "stdout",
     "output_type": "stream",
     "text": [
      "  \n"
     ]
    },
    {
     "name": "stderr",
     "output_type": "stream",
     "text": [
      "INFO:save_ccmap: Saving ccmap to file [cmaps/homer/chr2_1mb__sample1.ccmap] and [/home/rajendra/workspace/genome_3d_organization/tutorials_modules/cmaps/homer/chr2_1mb__sample1.npbin] ...\n",
      "INFO:save_ccmap: Compressing [/home/rajendra/workspace/genome_3d_organization/tutorials_modules/cmaps/homer/chr2_1mb__sample1.npbin] ...\n",
      "INFO:save_ccmap:       Finished!!!\n",
      "\n",
      "INFO:CooMatrixHandler: Reading file: [/home/rajendra/deskForWork/scratch/chr3_9ykqxl7v.tmp]... \n",
      "INFO:CooMatrixHandler:     ... Finished reading file: [/home/rajendra/deskForWork/scratch/chr3_9ykqxl7v.tmp] \n",
      "INFO:genMapFromLists: Total number of data in input file: 33308\n",
      "INFO:genMapFromLists:Minimum base-pair: 0 and Maximum base-pair: 197000000 are present in input data\n",
      "INFO:genMapFromLists:Shape of overall map: (198, 198)\n",
      "\n"
     ]
    },
    {
     "name": "stdout",
     "output_type": "stream",
     "text": [
      "  \n"
     ]
    },
    {
     "name": "stderr",
     "output_type": "stream",
     "text": [
      "INFO:save_ccmap: Saving ccmap to file [cmaps/homer/chr3_1mb__sample1.ccmap] and [/home/rajendra/workspace/genome_3d_organization/tutorials_modules/cmaps/homer/chr3_1mb__sample1.npbin] ...\n",
      "INFO:save_ccmap: Compressing [/home/rajendra/workspace/genome_3d_organization/tutorials_modules/cmaps/homer/chr3_1mb__sample1.npbin] ...\n",
      "INFO:save_ccmap:       Finished!!!\n",
      "\n",
      "INFO:CooMatrixHandler: Reading file: [/home/rajendra/deskForWork/scratch/chr4_2rrmxtgs.tmp]... \n",
      "INFO:CooMatrixHandler:     ... Finished reading file: [/home/rajendra/deskForWork/scratch/chr4_2rrmxtgs.tmp] \n",
      "INFO:genMapFromLists: Total number of data in input file: 29054\n",
      "INFO:genMapFromLists:Minimum base-pair: 0 and Maximum base-pair: 191000000 are present in input data\n",
      "INFO:genMapFromLists:Shape of overall map: (192, 192)\n",
      "\n"
     ]
    },
    {
     "name": "stdout",
     "output_type": "stream",
     "text": [
      "  \n"
     ]
    },
    {
     "name": "stderr",
     "output_type": "stream",
     "text": [
      "INFO:save_ccmap: Saving ccmap to file [cmaps/homer/chr4_1mb__sample1.ccmap] and [/home/rajendra/workspace/genome_3d_organization/tutorials_modules/cmaps/homer/chr4_1mb__sample1.npbin] ...\n",
      "INFO:save_ccmap: Compressing [/home/rajendra/workspace/genome_3d_organization/tutorials_modules/cmaps/homer/chr4_1mb__sample1.npbin] ...\n",
      "INFO:save_ccmap:       Finished!!!\n",
      "\n",
      "INFO:CooMatrixHandler: Reading file: [/home/rajendra/deskForWork/scratch/chr5_54n2e8ij.tmp]... \n",
      "INFO:CooMatrixHandler:     ... Finished reading file: [/home/rajendra/deskForWork/scratch/chr5_54n2e8ij.tmp] \n",
      "INFO:genMapFromLists: Total number of data in input file: 26286\n",
      "INFO:genMapFromLists:Minimum base-pair: 0 and Maximum base-pair: 180000000 are present in input data\n",
      "INFO:genMapFromLists:Shape of overall map: (181, 181)\n",
      "\n"
     ]
    },
    {
     "name": "stdout",
     "output_type": "stream",
     "text": [
      "  \n"
     ]
    },
    {
     "name": "stderr",
     "output_type": "stream",
     "text": [
      "INFO:save_ccmap: Saving ccmap to file [cmaps/homer/chr5_1mb__sample1.ccmap] and [/home/rajendra/workspace/genome_3d_organization/tutorials_modules/cmaps/homer/chr5_1mb__sample1.npbin] ...\n",
      "INFO:save_ccmap: Compressing [/home/rajendra/workspace/genome_3d_organization/tutorials_modules/cmaps/homer/chr5_1mb__sample1.npbin] ...\n",
      "INFO:save_ccmap:       Finished!!!\n",
      "\n",
      "INFO:CooMatrixHandler: Reading file: [/home/rajendra/deskForWork/scratch/chr6_52cmdvyx.tmp]... \n",
      "INFO:CooMatrixHandler:     ... Finished reading file: [/home/rajendra/deskForWork/scratch/chr6_52cmdvyx.tmp] \n",
      "INFO:genMapFromLists: Total number of data in input file: 25032\n",
      "INFO:genMapFromLists:Minimum base-pair: 0 and Maximum base-pair: 171000000 are present in input data\n",
      "INFO:genMapFromLists:Shape of overall map: (172, 172)\n",
      "\n"
     ]
    },
    {
     "name": "stdout",
     "output_type": "stream",
     "text": [
      "  \n"
     ]
    },
    {
     "name": "stderr",
     "output_type": "stream",
     "text": [
      "INFO:save_ccmap: Saving ccmap to file [cmaps/homer/chr6_1mb__sample1.ccmap] and [/home/rajendra/workspace/genome_3d_organization/tutorials_modules/cmaps/homer/chr6_1mb__sample1.npbin] ...\n",
      "INFO:save_ccmap: Compressing [/home/rajendra/workspace/genome_3d_organization/tutorials_modules/cmaps/homer/chr6_1mb__sample1.npbin] ...\n",
      "INFO:save_ccmap:       Finished!!!\n",
      "\n",
      "INFO:CooMatrixHandler: Reading file: [/home/rajendra/deskForWork/scratch/chr7_5ormk7rj.tmp]... \n",
      "INFO:CooMatrixHandler:     ... Finished reading file: [/home/rajendra/deskForWork/scratch/chr7_5ormk7rj.tmp] \n",
      "INFO:genMapFromLists: Total number of data in input file: 20748\n",
      "INFO:genMapFromLists:Minimum base-pair: 0 and Maximum base-pair: 159000000 are present in input data\n",
      "INFO:genMapFromLists:Shape of overall map: (160, 160)\n",
      "\n"
     ]
    },
    {
     "name": "stdout",
     "output_type": "stream",
     "text": [
      "  \n"
     ]
    },
    {
     "name": "stderr",
     "output_type": "stream",
     "text": [
      "INFO:save_ccmap: Saving ccmap to file [cmaps/homer/chr7_1mb__sample1.ccmap] and [/home/rajendra/workspace/genome_3d_organization/tutorials_modules/cmaps/homer/chr7_1mb__sample1.npbin] ...\n",
      "INFO:save_ccmap: Compressing [/home/rajendra/workspace/genome_3d_organization/tutorials_modules/cmaps/homer/chr7_1mb__sample1.npbin] ...\n",
      "INFO:save_ccmap:       Finished!!!\n",
      "\n",
      "INFO:CooMatrixHandler: Reading file: [/home/rajendra/deskForWork/scratch/chr8_fedpovvz.tmp]... \n",
      "INFO:CooMatrixHandler:     ... Finished reading file: [/home/rajendra/deskForWork/scratch/chr8_fedpovvz.tmp] \n",
      "INFO:genMapFromLists: Total number of data in input file: 18371\n",
      "INFO:genMapFromLists:Minimum base-pair: 0 and Maximum base-pair: 146000000 are present in input data\n",
      "INFO:genMapFromLists:Shape of overall map: (147, 147)\n",
      "\n"
     ]
    },
    {
     "name": "stdout",
     "output_type": "stream",
     "text": [
      "  \n"
     ]
    },
    {
     "name": "stderr",
     "output_type": "stream",
     "text": [
      "INFO:save_ccmap: Saving ccmap to file [cmaps/homer/chr8_1mb__sample1.ccmap] and [/home/rajendra/workspace/genome_3d_organization/tutorials_modules/cmaps/homer/chr8_1mb__sample1.npbin] ...\n",
      "INFO:save_ccmap: Compressing [/home/rajendra/workspace/genome_3d_organization/tutorials_modules/cmaps/homer/chr8_1mb__sample1.npbin] ...\n",
      "INFO:save_ccmap:       Finished!!!\n",
      "\n",
      "INFO:CooMatrixHandler: Reading file: [/home/rajendra/deskForWork/scratch/chr9_qbg3ysw1.tmp]... \n",
      "INFO:CooMatrixHandler:     ... Finished reading file: [/home/rajendra/deskForWork/scratch/chr9_qbg3ysw1.tmp] \n",
      "INFO:genMapFromLists: Total number of data in input file: 11414\n",
      "INFO:genMapFromLists:Minimum base-pair: 0 and Maximum base-pair: 141000000 are present in input data\n",
      "INFO:genMapFromLists:Shape of overall map: (142, 142)\n",
      "\n"
     ]
    },
    {
     "name": "stdout",
     "output_type": "stream",
     "text": [
      "  \n"
     ]
    },
    {
     "name": "stderr",
     "output_type": "stream",
     "text": [
      "INFO:save_ccmap: Saving ccmap to file [cmaps/homer/chr9_1mb__sample1.ccmap] and [/home/rajendra/workspace/genome_3d_organization/tutorials_modules/cmaps/homer/chr9_1mb__sample1.npbin] ...\n",
      "INFO:save_ccmap: Compressing [/home/rajendra/workspace/genome_3d_organization/tutorials_modules/cmaps/homer/chr9_1mb__sample1.npbin] ...\n",
      "INFO:save_ccmap:       Finished!!!\n",
      "\n",
      "INFO:CooMatrixHandler: Reading file: [/home/rajendra/deskForWork/scratch/chr10_van15vqd.tmp]... \n",
      "INFO:CooMatrixHandler:     ... Finished reading file: [/home/rajendra/deskForWork/scratch/chr10_van15vqd.tmp] \n",
      "INFO:genMapFromLists: Total number of data in input file: 15560\n",
      "INFO:genMapFromLists:Minimum base-pair: 0 and Maximum base-pair: 135000000 are present in input data\n",
      "INFO:genMapFromLists:Shape of overall map: (136, 136)\n",
      "\n"
     ]
    },
    {
     "name": "stdout",
     "output_type": "stream",
     "text": [
      "  \n"
     ]
    },
    {
     "name": "stderr",
     "output_type": "stream",
     "text": [
      "INFO:save_ccmap: Saving ccmap to file [cmaps/homer/chr10_1mb__sample1.ccmap] and [/home/rajendra/workspace/genome_3d_organization/tutorials_modules/cmaps/homer/chr10_1mb__sample1.npbin] ...\n",
      "INFO:save_ccmap: Compressing [/home/rajendra/workspace/genome_3d_organization/tutorials_modules/cmaps/homer/chr10_1mb__sample1.npbin] ...\n",
      "INFO:save_ccmap:       Finished!!!\n",
      "\n",
      "INFO:CooMatrixHandler: Reading file: [/home/rajendra/deskForWork/scratch/chr11_fnxjyqlz.tmp]... \n",
      "INFO:CooMatrixHandler:     ... Finished reading file: [/home/rajendra/deskForWork/scratch/chr11_fnxjyqlz.tmp] \n",
      "INFO:genMapFromLists: Total number of data in input file: 15429\n",
      "INFO:genMapFromLists:Minimum base-pair: 0 and Maximum base-pair: 134000000 are present in input data\n",
      "INFO:genMapFromLists:Shape of overall map: (135, 135)\n",
      "\n",
      "INFO:save_ccmap: Saving ccmap to file [cmaps/homer/chr11_1mb__sample1.ccmap] and [/home/rajendra/workspace/genome_3d_organization/tutorials_modules/cmaps/homer/chr11_1mb__sample1.npbin] ...\n",
      "INFO:save_ccmap: Compressing [/home/rajendra/workspace/genome_3d_organization/tutorials_modules/cmaps/homer/chr11_1mb__sample1.npbin] ...\n"
     ]
    },
    {
     "name": "stdout",
     "output_type": "stream",
     "text": [
      "  \n"
     ]
    },
    {
     "name": "stderr",
     "output_type": "stream",
     "text": [
      "INFO:save_ccmap:       Finished!!!\n",
      "\n",
      "INFO:CooMatrixHandler: Reading file: [/home/rajendra/deskForWork/scratch/chr12_5_4a9ygv.tmp]... \n",
      "INFO:CooMatrixHandler:     ... Finished reading file: [/home/rajendra/deskForWork/scratch/chr12_5_4a9ygv.tmp] \n",
      "INFO:genMapFromLists: Total number of data in input file: 14928\n",
      "INFO:genMapFromLists:Minimum base-pair: 0 and Maximum base-pair: 133000000 are present in input data\n",
      "INFO:genMapFromLists:Shape of overall map: (134, 134)\n",
      "\n",
      "INFO:save_ccmap: Saving ccmap to file [cmaps/homer/chr12_1mb__sample1.ccmap] and [/home/rajendra/workspace/genome_3d_organization/tutorials_modules/cmaps/homer/chr12_1mb__sample1.npbin] ...\n",
      "INFO:save_ccmap: Compressing [/home/rajendra/workspace/genome_3d_organization/tutorials_modules/cmaps/homer/chr12_1mb__sample1.npbin] ...\n"
     ]
    },
    {
     "name": "stdout",
     "output_type": "stream",
     "text": [
      "  \n"
     ]
    },
    {
     "name": "stderr",
     "output_type": "stream",
     "text": [
      "INFO:save_ccmap:       Finished!!!\n",
      "\n",
      "INFO:CooMatrixHandler: Reading file: [/home/rajendra/deskForWork/scratch/chr13_gaajxa0_.tmp]... \n",
      "INFO:CooMatrixHandler:     ... Finished reading file: [/home/rajendra/deskForWork/scratch/chr13_gaajxa0_.tmp] \n",
      "INFO:genMapFromLists: Total number of data in input file: 8675\n",
      "INFO:genMapFromLists:Minimum base-pair: 19000000 and Maximum base-pair: 115000000 are present in input data\n",
      "INFO:genMapFromLists:Shape of overall map: (116, 116)\n",
      "\n",
      "INFO:save_ccmap: Saving ccmap to file [cmaps/homer/chr13_1mb__sample1.ccmap] and [/home/rajendra/workspace/genome_3d_organization/tutorials_modules/cmaps/homer/chr13_1mb__sample1.npbin] ...\n",
      "INFO:save_ccmap: Compressing [/home/rajendra/workspace/genome_3d_organization/tutorials_modules/cmaps/homer/chr13_1mb__sample1.npbin] ...\n"
     ]
    },
    {
     "name": "stdout",
     "output_type": "stream",
     "text": [
      "  \n"
     ]
    },
    {
     "name": "stderr",
     "output_type": "stream",
     "text": [
      "INFO:save_ccmap:       Finished!!!\n",
      "\n",
      "INFO:CooMatrixHandler: Reading file: [/home/rajendra/deskForWork/scratch/chr14_4vrfy9r7.tmp]... \n",
      "INFO:CooMatrixHandler:     ... Finished reading file: [/home/rajendra/deskForWork/scratch/chr14_4vrfy9r7.tmp] \n",
      "INFO:genMapFromLists: Total number of data in input file: 7245\n",
      "INFO:genMapFromLists:Minimum base-pair: 19000000 and Maximum base-pair: 107000000 are present in input data\n",
      "INFO:genMapFromLists:Shape of overall map: (108, 108)\n",
      "\n",
      "INFO:save_ccmap: Saving ccmap to file [cmaps/homer/chr14_1mb__sample1.ccmap] and [/home/rajendra/workspace/genome_3d_organization/tutorials_modules/cmaps/homer/chr14_1mb__sample1.npbin] ...\n",
      "INFO:save_ccmap: Compressing [/home/rajendra/workspace/genome_3d_organization/tutorials_modules/cmaps/homer/chr14_1mb__sample1.npbin] ...\n",
      "INFO:save_ccmap:       Finished!!!\n",
      "\n",
      "INFO:CooMatrixHandler: Reading file: [/home/rajendra/deskForWork/scratch/chr15_6ewiakeq.tmp]... \n",
      "INFO:CooMatrixHandler:     ... Finished reading file: [/home/rajendra/deskForWork/scratch/chr15_6ewiakeq.tmp] \n",
      "INFO:genMapFromLists: Total number of data in input file: 6249\n",
      "INFO:genMapFromLists:Minimum base-pair: 20000000 and Maximum base-pair: 102000000 are present in input data\n",
      "INFO:genMapFromLists:Shape of overall map: (103, 103)\n",
      "\n"
     ]
    },
    {
     "name": "stdout",
     "output_type": "stream",
     "text": [
      "  \n",
      "  \n"
     ]
    },
    {
     "name": "stderr",
     "output_type": "stream",
     "text": [
      "INFO:save_ccmap: Saving ccmap to file [cmaps/homer/chr15_1mb__sample1.ccmap] and [/home/rajendra/workspace/genome_3d_organization/tutorials_modules/cmaps/homer/chr15_1mb__sample1.npbin] ...\n",
      "INFO:save_ccmap: Compressing [/home/rajendra/workspace/genome_3d_organization/tutorials_modules/cmaps/homer/chr15_1mb__sample1.npbin] ...\n",
      "INFO:save_ccmap:       Finished!!!\n",
      "\n",
      "INFO:CooMatrixHandler: Reading file: [/home/rajendra/deskForWork/scratch/chr16__1yly3n6.tmp]... \n",
      "INFO:CooMatrixHandler:     ... Finished reading file: [/home/rajendra/deskForWork/scratch/chr16__1yly3n6.tmp] \n",
      "INFO:genMapFromLists: Total number of data in input file: 5629\n",
      "INFO:genMapFromLists:Minimum base-pair: 0 and Maximum base-pair: 90000000 are present in input data\n",
      "INFO:genMapFromLists:Shape of overall map: (91, 91)\n",
      "\n",
      "INFO:save_ccmap: Saving ccmap to file [cmaps/homer/chr16_1mb__sample1.ccmap] and [/home/rajendra/workspace/genome_3d_organization/tutorials_modules/cmaps/homer/chr16_1mb__sample1.npbin] ...\n",
      "INFO:save_ccmap: Compressing [/home/rajendra/workspace/genome_3d_organization/tutorials_modules/cmaps/homer/chr16_1mb__sample1.npbin] ...\n",
      "INFO:save_ccmap:       Finished!!!\n",
      "\n",
      "INFO:CooMatrixHandler: Reading file: [/home/rajendra/deskForWork/scratch/chr17_nt5_zegm.tmp]... \n",
      "INFO:CooMatrixHandler:     ... Finished reading file: [/home/rajendra/deskForWork/scratch/chr17_nt5_zegm.tmp] \n",
      "INFO:genMapFromLists: Total number of data in input file: 5650\n",
      "INFO:genMapFromLists:Minimum base-pair: 0 and Maximum base-pair: 81000000 are present in input data\n",
      "INFO:genMapFromLists:Shape of overall map: (82, 82)\n",
      "\n",
      "INFO:save_ccmap: Saving ccmap to file [cmaps/homer/chr17_1mb__sample1.ccmap] and [/home/rajendra/workspace/genome_3d_organization/tutorials_modules/cmaps/homer/chr17_1mb__sample1.npbin] ...\n",
      "INFO:save_ccmap: Compressing [/home/rajendra/workspace/genome_3d_organization/tutorials_modules/cmaps/homer/chr17_1mb__sample1.npbin] ...\n"
     ]
    },
    {
     "name": "stdout",
     "output_type": "stream",
     "text": [
      "  \n",
      "  \n"
     ]
    },
    {
     "name": "stderr",
     "output_type": "stream",
     "text": [
      "INFO:save_ccmap:       Finished!!!\n",
      "\n",
      "INFO:CooMatrixHandler: Reading file: [/home/rajendra/deskForWork/scratch/chr18_xcgf_1cx.tmp]... \n",
      "INFO:CooMatrixHandler:     ... Finished reading file: [/home/rajendra/deskForWork/scratch/chr18_xcgf_1cx.tmp] \n",
      "INFO:genMapFromLists: Total number of data in input file: 5581\n",
      "INFO:genMapFromLists:Minimum base-pair: 0 and Maximum base-pair: 78000000 are present in input data\n",
      "INFO:genMapFromLists:Shape of overall map: (79, 79)\n",
      "\n",
      "INFO:save_ccmap: Saving ccmap to file [cmaps/homer/chr18_1mb__sample1.ccmap] and [/home/rajendra/workspace/genome_3d_organization/tutorials_modules/cmaps/homer/chr18_1mb__sample1.npbin] ...\n",
      "INFO:save_ccmap: Compressing [/home/rajendra/workspace/genome_3d_organization/tutorials_modules/cmaps/homer/chr18_1mb__sample1.npbin] ...\n",
      "INFO:save_ccmap:       Finished!!!\n",
      "\n",
      "INFO:CooMatrixHandler: Reading file: [/home/rajendra/deskForWork/scratch/chr19_4662o8wv.tmp]... \n",
      "INFO:CooMatrixHandler:     ... Finished reading file: [/home/rajendra/deskForWork/scratch/chr19_4662o8wv.tmp] \n",
      "INFO:genMapFromLists: Total number of data in input file: 3012\n",
      "INFO:genMapFromLists:Minimum base-pair: 0 and Maximum base-pair: 59000000 are present in input data\n",
      "INFO:genMapFromLists:Shape of overall map: (60, 60)\n",
      "\n",
      "INFO:save_ccmap: Saving ccmap to file [cmaps/homer/chr19_1mb__sample1.ccmap] and [/home/rajendra/workspace/genome_3d_organization/tutorials_modules/cmaps/homer/chr19_1mb__sample1.npbin] ...\n",
      "INFO:save_ccmap: Compressing [/home/rajendra/workspace/genome_3d_organization/tutorials_modules/cmaps/homer/chr19_1mb__sample1.npbin] ...\n",
      "INFO:save_ccmap:       Finished!!!\n",
      "\n",
      "INFO:CooMatrixHandler: Reading file: [/home/rajendra/deskForWork/scratch/chr20_8g0vjmpm.tmp]... \n",
      "INFO:CooMatrixHandler:     ... Finished reading file: [/home/rajendra/deskForWork/scratch/chr20_8g0vjmpm.tmp] \n",
      "INFO:genMapFromLists: Total number of data in input file: 3563\n",
      "INFO:genMapFromLists:Minimum base-pair: 0 and Maximum base-pair: 62000000 are present in input data\n",
      "INFO:genMapFromLists:Shape of overall map: (63, 63)\n",
      "\n"
     ]
    },
    {
     "name": "stdout",
     "output_type": "stream",
     "text": [
      "  \n",
      "  \n",
      "  \n"
     ]
    },
    {
     "name": "stderr",
     "output_type": "stream",
     "text": [
      "INFO:save_ccmap: Saving ccmap to file [cmaps/homer/chr20_1mb__sample1.ccmap] and [/home/rajendra/workspace/genome_3d_organization/tutorials_modules/cmaps/homer/chr20_1mb__sample1.npbin] ...\n",
      "INFO:save_ccmap: Compressing [/home/rajendra/workspace/genome_3d_organization/tutorials_modules/cmaps/homer/chr20_1mb__sample1.npbin] ...\n",
      "INFO:save_ccmap:       Finished!!!\n",
      "\n",
      "INFO:CooMatrixHandler: Reading file: [/home/rajendra/deskForWork/scratch/chr21_y1cttm1r.tmp]... \n",
      "INFO:CooMatrixHandler:     ... Finished reading file: [/home/rajendra/deskForWork/scratch/chr21_y1cttm1r.tmp] \n",
      "INFO:genMapFromLists: Total number of data in input file: 1266\n",
      "INFO:genMapFromLists:Minimum base-pair: 9000000 and Maximum base-pair: 48000000 are present in input data\n",
      "INFO:genMapFromLists:Shape of overall map: (49, 49)\n",
      "\n",
      "INFO:save_ccmap: Saving ccmap to file [cmaps/homer/chr21_1mb__sample1.ccmap] and [/home/rajendra/workspace/genome_3d_organization/tutorials_modules/cmaps/homer/chr21_1mb__sample1.npbin] ...\n",
      "INFO:save_ccmap: Compressing [/home/rajendra/workspace/genome_3d_organization/tutorials_modules/cmaps/homer/chr21_1mb__sample1.npbin] ...\n",
      "INFO:save_ccmap:       Finished!!!\n",
      "\n",
      "INFO:CooMatrixHandler: Reading file: [/home/rajendra/deskForWork/scratch/chr22_yqqbttxz.tmp]... \n",
      "INFO:CooMatrixHandler:     ... Finished reading file: [/home/rajendra/deskForWork/scratch/chr22_yqqbttxz.tmp] \n",
      "INFO:genMapFromLists: Total number of data in input file: 1222\n",
      "INFO:genMapFromLists:Minimum base-pair: 16000000 and Maximum base-pair: 51000000 are present in input data\n",
      "INFO:genMapFromLists:Shape of overall map: (52, 52)\n",
      "\n",
      "INFO:save_ccmap: Saving ccmap to file [cmaps/homer/chr22_1mb__sample1.ccmap] and [/home/rajendra/workspace/genome_3d_organization/tutorials_modules/cmaps/homer/chr22_1mb__sample1.npbin] ...\n",
      "INFO:save_ccmap: Compressing [/home/rajendra/workspace/genome_3d_organization/tutorials_modules/cmaps/homer/chr22_1mb__sample1.npbin] ...\n",
      "INFO:save_ccmap:       Finished!!!\n",
      "\n",
      "INFO:CooMatrixHandler: Reading file: [/home/rajendra/deskForWork/scratch/chrMT_e250ze2w.tmp]... \n",
      "INFO:CooMatrixHandler:     ... Finished reading file: [/home/rajendra/deskForWork/scratch/chrMT_e250ze2w.tmp] \n",
      "INFO:genMapFromLists: Total number of data in input file: 1\n",
      "INFO:genMapFromLists:Minimum base-pair: 0 and Maximum base-pair: 0 are present in input data\n",
      "INFO:genMapFromLists:Shape of overall map: (1, 1)\n",
      "\n",
      "INFO:save_ccmap: Saving ccmap to file [cmaps/homer/chrMT_1mb__sample1.ccmap] and [/home/rajendra/workspace/genome_3d_organization/tutorials_modules/cmaps/homer/chrMT_1mb__sample1.npbin] ...\n",
      "INFO:save_ccmap: Compressing [/home/rajendra/workspace/genome_3d_organization/tutorials_modules/cmaps/homer/chrMT_1mb__sample1.npbin] ...\n",
      "INFO:save_ccmap:       Finished!!!\n",
      "\n",
      "INFO:CooMatrixHandler: Reading file: [/home/rajendra/deskForWork/scratch/chrX_bdb_wu8f.tmp]... \n",
      "INFO:CooMatrixHandler:     ... Finished reading file: [/home/rajendra/deskForWork/scratch/chrX_bdb_wu8f.tmp] \n",
      "INFO:genMapFromLists: Total number of data in input file: 20634\n",
      "INFO:genMapFromLists:Minimum base-pair: 0 and Maximum base-pair: 155000000 are present in input data\n",
      "INFO:genMapFromLists:Shape of overall map: (156, 156)\n",
      "\n"
     ]
    },
    {
     "name": "stdout",
     "output_type": "stream",
     "text": [
      "  \n",
      "  \n",
      "  \n",
      "  \n"
     ]
    },
    {
     "name": "stderr",
     "output_type": "stream",
     "text": [
      "INFO:save_ccmap: Saving ccmap to file [cmaps/homer/chrX_1mb__sample1.ccmap] and [/home/rajendra/workspace/genome_3d_organization/tutorials_modules/cmaps/homer/chrX_1mb__sample1.npbin] ...\n",
      "INFO:save_ccmap: Compressing [/home/rajendra/workspace/genome_3d_organization/tutorials_modules/cmaps/homer/chrX_1mb__sample1.npbin] ...\n",
      "INFO:save_ccmap:       Finished!!!\n",
      "\n",
      "INFO:CooMatrixHandler: Reading file: [/home/rajendra/deskForWork/scratch/chrY_do37o7a1.tmp]... \n",
      "INFO:CooMatrixHandler:     ... Finished reading file: [/home/rajendra/deskForWork/scratch/chrY_do37o7a1.tmp] \n",
      "INFO:genMapFromLists: Total number of data in input file: 18\n",
      "INFO:genMapFromLists:Minimum base-pair: 3000000 and Maximum base-pair: 59000000 are present in input data\n",
      "INFO:genMapFromLists:Shape of overall map: (60, 60)\n",
      "\n",
      "INFO:save_ccmap: Saving ccmap to file [cmaps/homer/chrY_1mb__sample1.ccmap] and [/home/rajendra/workspace/genome_3d_organization/tutorials_modules/cmaps/homer/chrY_1mb__sample1.npbin] ...\n",
      "INFO:save_ccmap: Compressing [/home/rajendra/workspace/genome_3d_organization/tutorials_modules/cmaps/homer/chrY_1mb__sample1.npbin] ...\n",
      "INFO:save_ccmap:       Finished!!!\n",
      "\n",
      "INFO:HomerInputHandler: Saved ['cmaps/homer/chr1_1mb__sample1.ccmap', 'cmaps/homer/chr2_1mb__sample1.ccmap', 'cmaps/homer/chr3_1mb__sample1.ccmap', 'cmaps/homer/chr4_1mb__sample1.ccmap', 'cmaps/homer/chr5_1mb__sample1.ccmap', 'cmaps/homer/chr6_1mb__sample1.ccmap', 'cmaps/homer/chr7_1mb__sample1.ccmap', 'cmaps/homer/chr8_1mb__sample1.ccmap', 'cmaps/homer/chr9_1mb__sample1.ccmap', 'cmaps/homer/chr10_1mb__sample1.ccmap', 'cmaps/homer/chr11_1mb__sample1.ccmap', 'cmaps/homer/chr12_1mb__sample1.ccmap', 'cmaps/homer/chr13_1mb__sample1.ccmap', 'cmaps/homer/chr14_1mb__sample1.ccmap', 'cmaps/homer/chr15_1mb__sample1.ccmap', 'cmaps/homer/chr16_1mb__sample1.ccmap', 'cmaps/homer/chr17_1mb__sample1.ccmap', 'cmaps/homer/chr18_1mb__sample1.ccmap', 'cmaps/homer/chr19_1mb__sample1.ccmap', 'cmaps/homer/chr20_1mb__sample1.ccmap', 'cmaps/homer/chr21_1mb__sample1.ccmap', 'cmaps/homer/chr22_1mb__sample1.ccmap', 'cmaps/homer/chrMT_1mb__sample1.ccmap', 'cmaps/homer/chrX_1mb__sample1.ccmap', 'cmaps/homer/chrY_1mb__sample1.ccmap'] files.\n"
     ]
    },
    {
     "name": "stdout",
     "output_type": "stream",
     "text": [
      "  \n"
     ]
    }
   ],
   "source": [
    "# Initialize\n",
    "homer_reader = gmlib.importer.HomerInputHandler('data/HomerFormat/human_INL_sample1_matrix_1Mb_raw.txt')\n",
    "\n",
    "# Convert and save\n",
    "homer_reader.save_ccmaps('cmaps/homer', suffix='_sample1')\n",
    "\n",
    "# Delete all temporary files, neccessary, automatically deleted\n",
    "del homer_reader"
   ]
  },
  {
   "cell_type": "markdown",
   "metadata": {},
   "source": [
    "### Convert from zip file to ccmap file\n",
    "\n",
    "An example input zip file `human_INL.zip` is present in `data/HomerFormat` directory. This zip file contains two text files. Below, we read, combine and convert them to `.ccmap` formats. The input file contains several chromosomes, therefore, several `.ccmap` files will be generated for each respective chromosome.\n",
    "\n",
    "Ouput `.ccmap` files with `suffix='_combined'` will be saved in `cmaps/homer` directory."
   ]
  },
  {
   "cell_type": "code",
   "execution_count": 10,
   "metadata": {},
   "outputs": [
    {
     "name": "stderr",
     "output_type": "stream",
     "text": [
      "INFO:HomerInputHandler: Getting chromosome list and resolution from Input Files ...\n",
      "INFO:HomerInputHandler: Resolution: 1mb\n",
      "INFO:HomerInputHandler: Following chromsomes found in input files:  \n",
      "                              chr1\n",
      "                              chr2\n",
      "                              chr3\n",
      "                              chr4\n",
      "                              chr5\n",
      "                              chr6\n",
      "                              chr7\n",
      "                              chr8\n",
      "                              chr9\n",
      "                              chr10\n",
      "                              chr11\n",
      "                              chr12\n",
      "                              chr13\n",
      "                              chr14\n",
      "                              chr15\n",
      "                              chr16\n",
      "                              chr17\n",
      "                              chr18\n",
      "                              chr19\n",
      "                              chr20\n",
      "                              chr21\n",
      "                              chr22\n",
      "                              chrMT\n",
      "                              chrX\n",
      "                              chrY\n",
      "INFO:HomerInputHandler: Reading [human_INL_sample1_matrix_1Mb_raw.txt] file ...\n",
      "INFO:HomerInputHandler:           ... Finished reading [human_INL_sample1_matrix_1Mb_raw.txt] file ...\n",
      "INFO:HomerInputHandler: Reading [human_INL_sample2_matrix_1Mb_raw.txt] file ...\n",
      "INFO:HomerInputHandler:           ... Finished reading [human_INL_sample2_matrix_1Mb_raw.txt] file ...\n",
      "INFO:CooMatrixHandler: Reading file: [/home/rajendra/deskForWork/scratch/chr1_3sk6otug.tmp]... \n",
      "INFO:CooMatrixHandler:     ... Finished reading file: [/home/rajendra/deskForWork/scratch/chr1_3sk6otug.tmp] \n",
      "INFO:genMapFromLists: Total number of data in input file: 73792\n",
      "INFO:genMapFromLists:Minimum base-pair: 0 and Maximum base-pair: 249000000 are present in input data\n",
      "INFO:genMapFromLists:Shape of overall map: (250, 250)\n",
      "\n"
     ]
    },
    {
     "name": "stdout",
     "output_type": "stream",
     "text": [
      "  \n"
     ]
    },
    {
     "name": "stderr",
     "output_type": "stream",
     "text": [
      "INFO:save_ccmap: Saving ccmap to file [cmaps/homer/chr1_1mb__combined.ccmap] and [/home/rajendra/workspace/genome_3d_organization/tutorials_modules/cmaps/homer/chr1_1mb__combined.npbin] ...\n",
      "INFO:save_ccmap: Compressing [/home/rajendra/workspace/genome_3d_organization/tutorials_modules/cmaps/homer/chr1_1mb__combined.npbin] ...\n",
      "INFO:save_ccmap:       Finished!!!\n",
      "\n",
      "INFO:CooMatrixHandler: Reading file: [/home/rajendra/deskForWork/scratch/chr2_truhub8_.tmp]... \n",
      "INFO:CooMatrixHandler:     ... Finished reading file: [/home/rajendra/deskForWork/scratch/chr2_truhub8_.tmp] \n",
      "INFO:genMapFromLists: Total number of data in input file: 84760\n",
      "INFO:genMapFromLists:Minimum base-pair: 0 and Maximum base-pair: 243000000 are present in input data\n",
      "INFO:genMapFromLists:Shape of overall map: (244, 244)\n",
      "\n"
     ]
    },
    {
     "name": "stdout",
     "output_type": "stream",
     "text": [
      "  \n"
     ]
    },
    {
     "name": "stderr",
     "output_type": "stream",
     "text": [
      "INFO:save_ccmap: Saving ccmap to file [cmaps/homer/chr2_1mb__combined.ccmap] and [/home/rajendra/workspace/genome_3d_organization/tutorials_modules/cmaps/homer/chr2_1mb__combined.npbin] ...\n",
      "INFO:save_ccmap: Compressing [/home/rajendra/workspace/genome_3d_organization/tutorials_modules/cmaps/homer/chr2_1mb__combined.npbin] ...\n",
      "INFO:save_ccmap:       Finished!!!\n",
      "\n",
      "INFO:CooMatrixHandler: Reading file: [/home/rajendra/deskForWork/scratch/chr3_aw9a_mmf.tmp]... \n",
      "INFO:CooMatrixHandler:     ... Finished reading file: [/home/rajendra/deskForWork/scratch/chr3_aw9a_mmf.tmp] \n",
      "INFO:genMapFromLists: Total number of data in input file: 61102\n",
      "INFO:genMapFromLists:Minimum base-pair: 0 and Maximum base-pair: 197000000 are present in input data\n",
      "INFO:genMapFromLists:Shape of overall map: (198, 198)\n",
      "\n"
     ]
    },
    {
     "name": "stdout",
     "output_type": "stream",
     "text": [
      "  \n"
     ]
    },
    {
     "name": "stderr",
     "output_type": "stream",
     "text": [
      "INFO:save_ccmap: Saving ccmap to file [cmaps/homer/chr3_1mb__combined.ccmap] and [/home/rajendra/workspace/genome_3d_organization/tutorials_modules/cmaps/homer/chr3_1mb__combined.npbin] ...\n",
      "INFO:save_ccmap: Compressing [/home/rajendra/workspace/genome_3d_organization/tutorials_modules/cmaps/homer/chr3_1mb__combined.npbin] ...\n",
      "INFO:save_ccmap:       Finished!!!\n",
      "\n",
      "INFO:CooMatrixHandler: Reading file: [/home/rajendra/deskForWork/scratch/chr4_9beyxm8x.tmp]... \n",
      "INFO:CooMatrixHandler:     ... Finished reading file: [/home/rajendra/deskForWork/scratch/chr4_9beyxm8x.tmp] \n",
      "INFO:genMapFromLists: Total number of data in input file: 52272\n",
      "INFO:genMapFromLists:Minimum base-pair: 0 and Maximum base-pair: 191000000 are present in input data\n",
      "INFO:genMapFromLists:Shape of overall map: (192, 192)\n",
      "\n"
     ]
    },
    {
     "name": "stdout",
     "output_type": "stream",
     "text": [
      "  \n"
     ]
    },
    {
     "name": "stderr",
     "output_type": "stream",
     "text": [
      "INFO:save_ccmap: Saving ccmap to file [cmaps/homer/chr4_1mb__combined.ccmap] and [/home/rajendra/workspace/genome_3d_organization/tutorials_modules/cmaps/homer/chr4_1mb__combined.npbin] ...\n",
      "INFO:save_ccmap: Compressing [/home/rajendra/workspace/genome_3d_organization/tutorials_modules/cmaps/homer/chr4_1mb__combined.npbin] ...\n",
      "INFO:save_ccmap:       Finished!!!\n",
      "\n",
      "INFO:CooMatrixHandler: Reading file: [/home/rajendra/deskForWork/scratch/chr5_3s7i8xdr.tmp]... \n",
      "INFO:CooMatrixHandler:     ... Finished reading file: [/home/rajendra/deskForWork/scratch/chr5_3s7i8xdr.tmp] \n",
      "INFO:genMapFromLists: Total number of data in input file: 47594\n",
      "INFO:genMapFromLists:Minimum base-pair: 0 and Maximum base-pair: 180000000 are present in input data\n",
      "INFO:genMapFromLists:Shape of overall map: (181, 181)\n",
      "\n"
     ]
    },
    {
     "name": "stdout",
     "output_type": "stream",
     "text": [
      "  \n"
     ]
    },
    {
     "name": "stderr",
     "output_type": "stream",
     "text": [
      "INFO:save_ccmap: Saving ccmap to file [cmaps/homer/chr5_1mb__combined.ccmap] and [/home/rajendra/workspace/genome_3d_organization/tutorials_modules/cmaps/homer/chr5_1mb__combined.npbin] ...\n",
      "INFO:save_ccmap: Compressing [/home/rajendra/workspace/genome_3d_organization/tutorials_modules/cmaps/homer/chr5_1mb__combined.npbin] ...\n",
      "INFO:save_ccmap:       Finished!!!\n",
      "\n",
      "INFO:CooMatrixHandler: Reading file: [/home/rajendra/deskForWork/scratch/chr6_ky_ory9p.tmp]... \n",
      "INFO:CooMatrixHandler:     ... Finished reading file: [/home/rajendra/deskForWork/scratch/chr6_ky_ory9p.tmp] \n",
      "INFO:genMapFromLists: Total number of data in input file: 46347\n",
      "INFO:genMapFromLists:Minimum base-pair: 0 and Maximum base-pair: 171000000 are present in input data\n",
      "INFO:genMapFromLists:Shape of overall map: (172, 172)\n",
      "\n"
     ]
    },
    {
     "name": "stdout",
     "output_type": "stream",
     "text": [
      "  \n"
     ]
    },
    {
     "name": "stderr",
     "output_type": "stream",
     "text": [
      "INFO:save_ccmap: Saving ccmap to file [cmaps/homer/chr6_1mb__combined.ccmap] and [/home/rajendra/workspace/genome_3d_organization/tutorials_modules/cmaps/homer/chr6_1mb__combined.npbin] ...\n",
      "INFO:save_ccmap: Compressing [/home/rajendra/workspace/genome_3d_organization/tutorials_modules/cmaps/homer/chr6_1mb__combined.npbin] ...\n",
      "INFO:save_ccmap:       Finished!!!\n",
      "\n",
      "INFO:CooMatrixHandler: Reading file: [/home/rajendra/deskForWork/scratch/chr7_i3bykuzk.tmp]... \n",
      "INFO:CooMatrixHandler:     ... Finished reading file: [/home/rajendra/deskForWork/scratch/chr7_i3bykuzk.tmp] \n",
      "INFO:genMapFromLists: Total number of data in input file: 38192\n",
      "INFO:genMapFromLists:Minimum base-pair: 0 and Maximum base-pair: 159000000 are present in input data\n",
      "INFO:genMapFromLists:Shape of overall map: (160, 160)\n",
      "\n"
     ]
    },
    {
     "name": "stdout",
     "output_type": "stream",
     "text": [
      "  \n"
     ]
    },
    {
     "name": "stderr",
     "output_type": "stream",
     "text": [
      "INFO:save_ccmap: Saving ccmap to file [cmaps/homer/chr7_1mb__combined.ccmap] and [/home/rajendra/workspace/genome_3d_organization/tutorials_modules/cmaps/homer/chr7_1mb__combined.npbin] ...\n",
      "INFO:save_ccmap: Compressing [/home/rajendra/workspace/genome_3d_organization/tutorials_modules/cmaps/homer/chr7_1mb__combined.npbin] ...\n",
      "INFO:save_ccmap:       Finished!!!\n",
      "\n",
      "INFO:CooMatrixHandler: Reading file: [/home/rajendra/deskForWork/scratch/chr8_d9rpwhnf.tmp]... \n",
      "INFO:CooMatrixHandler:     ... Finished reading file: [/home/rajendra/deskForWork/scratch/chr8_d9rpwhnf.tmp] \n",
      "INFO:genMapFromLists: Total number of data in input file: 34554\n",
      "INFO:genMapFromLists:Minimum base-pair: 0 and Maximum base-pair: 146000000 are present in input data\n",
      "INFO:genMapFromLists:Shape of overall map: (147, 147)\n",
      "\n"
     ]
    },
    {
     "name": "stdout",
     "output_type": "stream",
     "text": [
      "  \n"
     ]
    },
    {
     "name": "stderr",
     "output_type": "stream",
     "text": [
      "INFO:save_ccmap: Saving ccmap to file [cmaps/homer/chr8_1mb__combined.ccmap] and [/home/rajendra/workspace/genome_3d_organization/tutorials_modules/cmaps/homer/chr8_1mb__combined.npbin] ...\n",
      "INFO:save_ccmap: Compressing [/home/rajendra/workspace/genome_3d_organization/tutorials_modules/cmaps/homer/chr8_1mb__combined.npbin] ...\n",
      "INFO:save_ccmap:       Finished!!!\n",
      "\n",
      "INFO:CooMatrixHandler: Reading file: [/home/rajendra/deskForWork/scratch/chr9_jfoof4qc.tmp]... \n",
      "INFO:CooMatrixHandler:     ... Finished reading file: [/home/rajendra/deskForWork/scratch/chr9_jfoof4qc.tmp] \n",
      "INFO:genMapFromLists: Total number of data in input file: 21457\n",
      "INFO:genMapFromLists:Minimum base-pair: 0 and Maximum base-pair: 141000000 are present in input data\n",
      "INFO:genMapFromLists:Shape of overall map: (142, 142)\n",
      "\n"
     ]
    },
    {
     "name": "stdout",
     "output_type": "stream",
     "text": [
      "  \n"
     ]
    },
    {
     "name": "stderr",
     "output_type": "stream",
     "text": [
      "INFO:save_ccmap: Saving ccmap to file [cmaps/homer/chr9_1mb__combined.ccmap] and [/home/rajendra/workspace/genome_3d_organization/tutorials_modules/cmaps/homer/chr9_1mb__combined.npbin] ...\n",
      "INFO:save_ccmap: Compressing [/home/rajendra/workspace/genome_3d_organization/tutorials_modules/cmaps/homer/chr9_1mb__combined.npbin] ...\n",
      "INFO:save_ccmap:       Finished!!!\n",
      "\n",
      "INFO:CooMatrixHandler: Reading file: [/home/rajendra/deskForWork/scratch/chr10_7yjs3x_z.tmp]... \n",
      "INFO:CooMatrixHandler:     ... Finished reading file: [/home/rajendra/deskForWork/scratch/chr10_7yjs3x_z.tmp] \n",
      "INFO:genMapFromLists: Total number of data in input file: 29188\n",
      "INFO:genMapFromLists:Minimum base-pair: 0 and Maximum base-pair: 135000000 are present in input data\n",
      "INFO:genMapFromLists:Shape of overall map: (136, 136)\n",
      "\n"
     ]
    },
    {
     "name": "stdout",
     "output_type": "stream",
     "text": [
      "  \n"
     ]
    },
    {
     "name": "stderr",
     "output_type": "stream",
     "text": [
      "INFO:save_ccmap: Saving ccmap to file [cmaps/homer/chr10_1mb__combined.ccmap] and [/home/rajendra/workspace/genome_3d_organization/tutorials_modules/cmaps/homer/chr10_1mb__combined.npbin] ...\n",
      "INFO:save_ccmap: Compressing [/home/rajendra/workspace/genome_3d_organization/tutorials_modules/cmaps/homer/chr10_1mb__combined.npbin] ...\n",
      "INFO:save_ccmap:       Finished!!!\n",
      "\n",
      "INFO:CooMatrixHandler: Reading file: [/home/rajendra/deskForWork/scratch/chr11_wwpdr1zq.tmp]... \n",
      "INFO:CooMatrixHandler:     ... Finished reading file: [/home/rajendra/deskForWork/scratch/chr11_wwpdr1zq.tmp] \n",
      "INFO:genMapFromLists: Total number of data in input file: 28920\n",
      "INFO:genMapFromLists:Minimum base-pair: 0 and Maximum base-pair: 134000000 are present in input data\n",
      "INFO:genMapFromLists:Shape of overall map: (135, 135)\n",
      "\n"
     ]
    },
    {
     "name": "stdout",
     "output_type": "stream",
     "text": [
      "  \n"
     ]
    },
    {
     "name": "stderr",
     "output_type": "stream",
     "text": [
      "INFO:save_ccmap: Saving ccmap to file [cmaps/homer/chr11_1mb__combined.ccmap] and [/home/rajendra/workspace/genome_3d_organization/tutorials_modules/cmaps/homer/chr11_1mb__combined.npbin] ...\n",
      "INFO:save_ccmap: Compressing [/home/rajendra/workspace/genome_3d_organization/tutorials_modules/cmaps/homer/chr11_1mb__combined.npbin] ...\n",
      "INFO:save_ccmap:       Finished!!!\n",
      "\n",
      "INFO:CooMatrixHandler: Reading file: [/home/rajendra/deskForWork/scratch/chr12_vtt8g0s9.tmp]... \n",
      "INFO:CooMatrixHandler:     ... Finished reading file: [/home/rajendra/deskForWork/scratch/chr12_vtt8g0s9.tmp] \n",
      "INFO:genMapFromLists: Total number of data in input file: 27766\n",
      "INFO:genMapFromLists:Minimum base-pair: 0 and Maximum base-pair: 133000000 are present in input data\n",
      "INFO:genMapFromLists:Shape of overall map: (134, 134)\n",
      "\n"
     ]
    },
    {
     "name": "stdout",
     "output_type": "stream",
     "text": [
      "  \n"
     ]
    },
    {
     "name": "stderr",
     "output_type": "stream",
     "text": [
      "INFO:save_ccmap: Saving ccmap to file [cmaps/homer/chr12_1mb__combined.ccmap] and [/home/rajendra/workspace/genome_3d_organization/tutorials_modules/cmaps/homer/chr12_1mb__combined.npbin] ...\n",
      "INFO:save_ccmap: Compressing [/home/rajendra/workspace/genome_3d_organization/tutorials_modules/cmaps/homer/chr12_1mb__combined.npbin] ...\n",
      "INFO:save_ccmap:       Finished!!!\n",
      "\n",
      "INFO:CooMatrixHandler: Reading file: [/home/rajendra/deskForWork/scratch/chr13_v3q8__1n.tmp]... \n",
      "INFO:CooMatrixHandler:     ... Finished reading file: [/home/rajendra/deskForWork/scratch/chr13_v3q8__1n.tmp] \n",
      "INFO:genMapFromLists: Total number of data in input file: 16584\n",
      "INFO:genMapFromLists:Minimum base-pair: 19000000 and Maximum base-pair: 115000000 are present in input data\n",
      "INFO:genMapFromLists:Shape of overall map: (116, 116)\n",
      "\n",
      "INFO:save_ccmap: Saving ccmap to file [cmaps/homer/chr13_1mb__combined.ccmap] and [/home/rajendra/workspace/genome_3d_organization/tutorials_modules/cmaps/homer/chr13_1mb__combined.npbin] ...\n",
      "INFO:save_ccmap: Compressing [/home/rajendra/workspace/genome_3d_organization/tutorials_modules/cmaps/homer/chr13_1mb__combined.npbin] ...\n"
     ]
    },
    {
     "name": "stdout",
     "output_type": "stream",
     "text": [
      "  \n"
     ]
    },
    {
     "name": "stderr",
     "output_type": "stream",
     "text": [
      "INFO:save_ccmap:       Finished!!!\n",
      "\n",
      "INFO:CooMatrixHandler: Reading file: [/home/rajendra/deskForWork/scratch/chr14_03luy2_j.tmp]... \n",
      "INFO:CooMatrixHandler:     ... Finished reading file: [/home/rajendra/deskForWork/scratch/chr14_03luy2_j.tmp] \n",
      "INFO:genMapFromLists: Total number of data in input file: 13904\n",
      "INFO:genMapFromLists:Minimum base-pair: 19000000 and Maximum base-pair: 107000000 are present in input data\n",
      "INFO:genMapFromLists:Shape of overall map: (108, 108)\n",
      "\n",
      "INFO:save_ccmap: Saving ccmap to file [cmaps/homer/chr14_1mb__combined.ccmap] and [/home/rajendra/workspace/genome_3d_organization/tutorials_modules/cmaps/homer/chr14_1mb__combined.npbin] ...\n",
      "INFO:save_ccmap: Compressing [/home/rajendra/workspace/genome_3d_organization/tutorials_modules/cmaps/homer/chr14_1mb__combined.npbin] ...\n",
      "INFO:save_ccmap:       Finished!!!\n",
      "\n",
      "INFO:CooMatrixHandler: Reading file: [/home/rajendra/deskForWork/scratch/chr15_oqkuow8g.tmp]... \n",
      "INFO:CooMatrixHandler:     ... Finished reading file: [/home/rajendra/deskForWork/scratch/chr15_oqkuow8g.tmp] \n",
      "INFO:genMapFromLists: Total number of data in input file: 12006\n",
      "INFO:genMapFromLists:Minimum base-pair: 20000000 and Maximum base-pair: 102000000 are present in input data\n",
      "INFO:genMapFromLists:Shape of overall map: (103, 103)\n",
      "\n"
     ]
    },
    {
     "name": "stdout",
     "output_type": "stream",
     "text": [
      "  \n",
      "  \n"
     ]
    },
    {
     "name": "stderr",
     "output_type": "stream",
     "text": [
      "INFO:save_ccmap: Saving ccmap to file [cmaps/homer/chr15_1mb__combined.ccmap] and [/home/rajendra/workspace/genome_3d_organization/tutorials_modules/cmaps/homer/chr15_1mb__combined.npbin] ...\n",
      "INFO:save_ccmap: Compressing [/home/rajendra/workspace/genome_3d_organization/tutorials_modules/cmaps/homer/chr15_1mb__combined.npbin] ...\n",
      "INFO:save_ccmap:       Finished!!!\n",
      "\n",
      "INFO:CooMatrixHandler: Reading file: [/home/rajendra/deskForWork/scratch/chr16_uo9j9gle.tmp]... \n",
      "INFO:CooMatrixHandler:     ... Finished reading file: [/home/rajendra/deskForWork/scratch/chr16_uo9j9gle.tmp] \n",
      "INFO:genMapFromLists: Total number of data in input file: 10808\n",
      "INFO:genMapFromLists:Minimum base-pair: 0 and Maximum base-pair: 90000000 are present in input data\n",
      "INFO:genMapFromLists:Shape of overall map: (91, 91)\n",
      "\n",
      "INFO:save_ccmap: Saving ccmap to file [cmaps/homer/chr16_1mb__combined.ccmap] and [/home/rajendra/workspace/genome_3d_organization/tutorials_modules/cmaps/homer/chr16_1mb__combined.npbin] ...\n",
      "INFO:save_ccmap: Compressing [/home/rajendra/workspace/genome_3d_organization/tutorials_modules/cmaps/homer/chr16_1mb__combined.npbin] ...\n",
      "INFO:save_ccmap:       Finished!!!\n",
      "\n",
      "INFO:CooMatrixHandler: Reading file: [/home/rajendra/deskForWork/scratch/chr17_lwa34i9w.tmp]... \n",
      "INFO:CooMatrixHandler:     ... Finished reading file: [/home/rajendra/deskForWork/scratch/chr17_lwa34i9w.tmp] \n",
      "INFO:genMapFromLists: Total number of data in input file: 10918\n",
      "INFO:genMapFromLists:Minimum base-pair: 0 and Maximum base-pair: 81000000 are present in input data\n",
      "INFO:genMapFromLists:Shape of overall map: (82, 82)\n",
      "\n"
     ]
    },
    {
     "name": "stdout",
     "output_type": "stream",
     "text": [
      "  \n",
      "  \n"
     ]
    },
    {
     "name": "stderr",
     "output_type": "stream",
     "text": [
      "INFO:save_ccmap: Saving ccmap to file [cmaps/homer/chr17_1mb__combined.ccmap] and [/home/rajendra/workspace/genome_3d_organization/tutorials_modules/cmaps/homer/chr17_1mb__combined.npbin] ...\n",
      "INFO:save_ccmap: Compressing [/home/rajendra/workspace/genome_3d_organization/tutorials_modules/cmaps/homer/chr17_1mb__combined.npbin] ...\n",
      "INFO:save_ccmap:       Finished!!!\n",
      "\n",
      "INFO:CooMatrixHandler: Reading file: [/home/rajendra/deskForWork/scratch/chr18_uk88aw7n.tmp]... \n",
      "INFO:CooMatrixHandler:     ... Finished reading file: [/home/rajendra/deskForWork/scratch/chr18_uk88aw7n.tmp] \n",
      "INFO:genMapFromLists: Total number of data in input file: 10852\n",
      "INFO:genMapFromLists:Minimum base-pair: 0 and Maximum base-pair: 78000000 are present in input data\n",
      "INFO:genMapFromLists:Shape of overall map: (79, 79)\n",
      "\n",
      "INFO:save_ccmap: Saving ccmap to file [cmaps/homer/chr18_1mb__combined.ccmap] and [/home/rajendra/workspace/genome_3d_organization/tutorials_modules/cmaps/homer/chr18_1mb__combined.npbin] ...\n",
      "INFO:save_ccmap: Compressing [/home/rajendra/workspace/genome_3d_organization/tutorials_modules/cmaps/homer/chr18_1mb__combined.npbin] ...\n",
      "INFO:save_ccmap:       Finished!!!\n",
      "\n",
      "INFO:CooMatrixHandler: Reading file: [/home/rajendra/deskForWork/scratch/chr19_g1xkdve7.tmp]... \n",
      "INFO:CooMatrixHandler:     ... Finished reading file: [/home/rajendra/deskForWork/scratch/chr19_g1xkdve7.tmp] \n",
      "INFO:genMapFromLists: Total number of data in input file: 5892\n",
      "INFO:genMapFromLists:Minimum base-pair: 0 and Maximum base-pair: 59000000 are present in input data\n",
      "INFO:genMapFromLists:Shape of overall map: (60, 60)\n",
      "\n"
     ]
    },
    {
     "name": "stdout",
     "output_type": "stream",
     "text": [
      "  \n",
      "  \n"
     ]
    },
    {
     "name": "stderr",
     "output_type": "stream",
     "text": [
      "INFO:save_ccmap: Saving ccmap to file [cmaps/homer/chr19_1mb__combined.ccmap] and [/home/rajendra/workspace/genome_3d_organization/tutorials_modules/cmaps/homer/chr19_1mb__combined.npbin] ...\n",
      "INFO:save_ccmap: Compressing [/home/rajendra/workspace/genome_3d_organization/tutorials_modules/cmaps/homer/chr19_1mb__combined.npbin] ...\n",
      "INFO:save_ccmap:       Finished!!!\n",
      "\n",
      "INFO:CooMatrixHandler: Reading file: [/home/rajendra/deskForWork/scratch/chr20_17aojv7z.tmp]... \n",
      "INFO:CooMatrixHandler:     ... Finished reading file: [/home/rajendra/deskForWork/scratch/chr20_17aojv7z.tmp] \n",
      "INFO:genMapFromLists: Total number of data in input file: 6974\n",
      "INFO:genMapFromLists:Minimum base-pair: 0 and Maximum base-pair: 62000000 are present in input data\n",
      "INFO:genMapFromLists:Shape of overall map: (63, 63)\n",
      "\n",
      "INFO:save_ccmap: Saving ccmap to file [cmaps/homer/chr20_1mb__combined.ccmap] and [/home/rajendra/workspace/genome_3d_organization/tutorials_modules/cmaps/homer/chr20_1mb__combined.npbin] ...\n",
      "INFO:save_ccmap: Compressing [/home/rajendra/workspace/genome_3d_organization/tutorials_modules/cmaps/homer/chr20_1mb__combined.npbin] ...\n",
      "INFO:save_ccmap:       Finished!!!\n",
      "\n",
      "INFO:CooMatrixHandler: Reading file: [/home/rajendra/deskForWork/scratch/chr21_rrw6x8vw.tmp]... \n",
      "INFO:CooMatrixHandler:     ... Finished reading file: [/home/rajendra/deskForWork/scratch/chr21_rrw6x8vw.tmp] \n",
      "INFO:genMapFromLists: Total number of data in input file: 2474\n",
      "INFO:genMapFromLists:Minimum base-pair: 9000000 and Maximum base-pair: 48000000 are present in input data\n",
      "INFO:genMapFromLists:Shape of overall map: (49, 49)\n",
      "\n",
      "INFO:save_ccmap: Saving ccmap to file [cmaps/homer/chr21_1mb__combined.ccmap] and [/home/rajendra/workspace/genome_3d_organization/tutorials_modules/cmaps/homer/chr21_1mb__combined.npbin] ...\n",
      "INFO:save_ccmap: Compressing [/home/rajendra/workspace/genome_3d_organization/tutorials_modules/cmaps/homer/chr21_1mb__combined.npbin] ...\n",
      "INFO:save_ccmap:       Finished!!!\n",
      "\n",
      "INFO:CooMatrixHandler: Reading file: [/home/rajendra/deskForWork/scratch/chr22_ufsr5nr7.tmp]... \n",
      "INFO:CooMatrixHandler:     ... Finished reading file: [/home/rajendra/deskForWork/scratch/chr22_ufsr5nr7.tmp] \n",
      "INFO:genMapFromLists: Total number of data in input file: 2436\n",
      "INFO:genMapFromLists:Minimum base-pair: 16000000 and Maximum base-pair: 51000000 are present in input data\n",
      "INFO:genMapFromLists:Shape of overall map: (52, 52)\n",
      "\n",
      "INFO:save_ccmap: Saving ccmap to file [cmaps/homer/chr22_1mb__combined.ccmap] and [/home/rajendra/workspace/genome_3d_organization/tutorials_modules/cmaps/homer/chr22_1mb__combined.npbin] ...\n",
      "INFO:save_ccmap: Compressing [/home/rajendra/workspace/genome_3d_organization/tutorials_modules/cmaps/homer/chr22_1mb__combined.npbin] ...\n",
      "INFO:save_ccmap:       Finished!!!\n",
      "\n"
     ]
    },
    {
     "name": "stdout",
     "output_type": "stream",
     "text": [
      "  \n",
      "  \n",
      "  \n"
     ]
    },
    {
     "name": "stderr",
     "output_type": "stream",
     "text": [
      "INFO:CooMatrixHandler: Reading file: [/home/rajendra/deskForWork/scratch/chrMT_wyc60lnm.tmp]... \n",
      "INFO:CooMatrixHandler:     ... Finished reading file: [/home/rajendra/deskForWork/scratch/chrMT_wyc60lnm.tmp] \n",
      "INFO:genMapFromLists: Total number of data in input file: 2\n",
      "INFO:genMapFromLists:Minimum base-pair: 0 and Maximum base-pair: 0 are present in input data\n",
      "INFO:genMapFromLists:Shape of overall map: (1, 1)\n",
      "\n",
      "INFO:save_ccmap: Saving ccmap to file [cmaps/homer/chrMT_1mb__combined.ccmap] and [/home/rajendra/workspace/genome_3d_organization/tutorials_modules/cmaps/homer/chrMT_1mb__combined.npbin] ...\n",
      "INFO:save_ccmap: Compressing [/home/rajendra/workspace/genome_3d_organization/tutorials_modules/cmaps/homer/chrMT_1mb__combined.npbin] ...\n",
      "INFO:save_ccmap:       Finished!!!\n",
      "\n",
      "INFO:CooMatrixHandler: Reading file: [/home/rajendra/deskForWork/scratch/chrX_eyxkravm.tmp]... \n",
      "INFO:CooMatrixHandler:     ... Finished reading file: [/home/rajendra/deskForWork/scratch/chrX_eyxkravm.tmp] \n",
      "INFO:genMapFromLists: Total number of data in input file: 37926\n",
      "INFO:genMapFromLists:Minimum base-pair: 0 and Maximum base-pair: 155000000 are present in input data\n",
      "INFO:genMapFromLists:Shape of overall map: (156, 156)\n",
      "\n"
     ]
    },
    {
     "name": "stdout",
     "output_type": "stream",
     "text": [
      "  \n",
      "  \n"
     ]
    },
    {
     "name": "stderr",
     "output_type": "stream",
     "text": [
      "INFO:save_ccmap: Saving ccmap to file [cmaps/homer/chrX_1mb__combined.ccmap] and [/home/rajendra/workspace/genome_3d_organization/tutorials_modules/cmaps/homer/chrX_1mb__combined.npbin] ...\n",
      "INFO:save_ccmap: Compressing [/home/rajendra/workspace/genome_3d_organization/tutorials_modules/cmaps/homer/chrX_1mb__combined.npbin] ...\n",
      "INFO:save_ccmap:       Finished!!!\n",
      "\n",
      "INFO:CooMatrixHandler: Reading file: [/home/rajendra/deskForWork/scratch/chrY_a249pvip.tmp]... \n",
      "INFO:CooMatrixHandler:     ... Finished reading file: [/home/rajendra/deskForWork/scratch/chrY_a249pvip.tmp] \n",
      "INFO:genMapFromLists: Total number of data in input file: 29\n",
      "INFO:genMapFromLists:Minimum base-pair: 3000000 and Maximum base-pair: 59000000 are present in input data\n",
      "INFO:genMapFromLists:Shape of overall map: (60, 60)\n",
      "\n",
      "INFO:save_ccmap: Saving ccmap to file [cmaps/homer/chrY_1mb__combined.ccmap] and [/home/rajendra/workspace/genome_3d_organization/tutorials_modules/cmaps/homer/chrY_1mb__combined.npbin] ...\n",
      "INFO:save_ccmap: Compressing [/home/rajendra/workspace/genome_3d_organization/tutorials_modules/cmaps/homer/chrY_1mb__combined.npbin] ...\n",
      "INFO:save_ccmap:       Finished!!!\n",
      "\n",
      "INFO:HomerInputHandler: Saved ['cmaps/homer/chr1_1mb__combined.ccmap', 'cmaps/homer/chr2_1mb__combined.ccmap', 'cmaps/homer/chr3_1mb__combined.ccmap', 'cmaps/homer/chr4_1mb__combined.ccmap', 'cmaps/homer/chr5_1mb__combined.ccmap', 'cmaps/homer/chr6_1mb__combined.ccmap', 'cmaps/homer/chr7_1mb__combined.ccmap', 'cmaps/homer/chr8_1mb__combined.ccmap', 'cmaps/homer/chr9_1mb__combined.ccmap', 'cmaps/homer/chr10_1mb__combined.ccmap', 'cmaps/homer/chr11_1mb__combined.ccmap', 'cmaps/homer/chr12_1mb__combined.ccmap', 'cmaps/homer/chr13_1mb__combined.ccmap', 'cmaps/homer/chr14_1mb__combined.ccmap', 'cmaps/homer/chr15_1mb__combined.ccmap', 'cmaps/homer/chr16_1mb__combined.ccmap', 'cmaps/homer/chr17_1mb__combined.ccmap', 'cmaps/homer/chr18_1mb__combined.ccmap', 'cmaps/homer/chr19_1mb__combined.ccmap', 'cmaps/homer/chr20_1mb__combined.ccmap', 'cmaps/homer/chr21_1mb__combined.ccmap', 'cmaps/homer/chr22_1mb__combined.ccmap', 'cmaps/homer/chrMT_1mb__combined.ccmap', 'cmaps/homer/chrX_1mb__combined.ccmap', 'cmaps/homer/chrY_1mb__combined.ccmap'] files.\n"
     ]
    },
    {
     "name": "stdout",
     "output_type": "stream",
     "text": [
      "  \n"
     ]
    }
   ],
   "source": [
    "# Name of input ZIP file\n",
    "inputCompressedFile = 'data/HomerFormat/human_INL.zip'\n",
    "\n",
    "# List of files inside zip archive\n",
    "files = ['human_INL_sample1_matrix_1Mb_raw.txt', 'human_INL_sample2_matrix_1Mb_raw.txt']\n",
    "\n",
    "# Initialize\n",
    "homer_reader = gmlib.importer.HomerInputHandler(files, inputCompressedFile)\n",
    "homer_reader.save_ccmaps('cmaps/homer', suffix='_combined')\n",
    "\n",
    "# Delete all temporary files, not neccessary, automatically deleted after \n",
    "del homer_reader"
   ]
  },
  {
   "cell_type": "markdown",
   "metadata": {},
   "source": [
    "### Convert to gcmap\n",
    "\n",
    "An example input file `human_INL_sample1_matrix_1Mb_raw.txt` is present in `data/HomerFormat` directory. Below, we read it and convert it to `.gcmap` format. The input file contains several chromosomes, and all contact maps will be added to `gcmap` file.\n",
    "\n",
    "\n",
    "Ouput `human_INL_sample1_matrix_1Mb_raw.gcmap` files will be saved in `cmaps/homer` directory."
   ]
  },
  {
   "cell_type": "code",
   "execution_count": 11,
   "metadata": {},
   "outputs": [
    {
     "name": "stderr",
     "output_type": "stream",
     "text": [
      "INFO:HomerInputHandler: Getting chromosome list and resolution from Input Files ...\n",
      "INFO:HomerInputHandler: Resolution: 1mb\n",
      "INFO:HomerInputHandler: Following chromsomes found in input files:  \n",
      "                              chr1\n",
      "                              chr2\n",
      "                              chr3\n",
      "                              chr4\n",
      "                              chr5\n",
      "                              chr6\n",
      "                              chr7\n",
      "                              chr8\n",
      "                              chr9\n",
      "                              chr10\n",
      "                              chr11\n",
      "                              chr12\n",
      "                              chr13\n",
      "                              chr14\n",
      "                              chr15\n",
      "                              chr16\n",
      "                              chr17\n",
      "                              chr18\n",
      "                              chr19\n",
      "                              chr20\n",
      "                              chr21\n",
      "                              chr22\n",
      "                              chrMT\n",
      "                              chrX\n",
      "                              chrY\n",
      "INFO:HomerInputHandler: Reading [data/HomerFormat/human_INL_sample1_matrix_1Mb_raw.txt] file ...\n",
      "INFO:HomerInputHandler:           ... Finished reading [data/HomerFormat/human_INL_sample1_matrix_1Mb_raw.txt] file ...\n",
      "INFO:CooMatrixHandler: Reading file: [/home/rajendra/deskForWork/scratch/chr1_ozde0va4.tmp]... \n",
      "INFO:CooMatrixHandler:     ... Finished reading file: [/home/rajendra/deskForWork/scratch/chr1_ozde0va4.tmp] \n",
      "INFO:genMapFromLists: Total number of data in input file: 40344\n",
      "INFO:genMapFromLists:Minimum base-pair: 0 and Maximum base-pair: 249000000 are present in input data\n",
      "INFO:genMapFromLists:Shape of overall map: (250, 250)\n",
      "\n"
     ]
    },
    {
     "name": "stdout",
     "output_type": "stream",
     "text": [
      "  \n"
     ]
    },
    {
     "name": "stderr",
     "output_type": "stream",
     "text": [
      "INFO:addCCMap2GCMap: Opened file [cmaps/homer/human_INL_sample1_matrix_1Mb_raw.gcmap] for reading writing..\n",
      "INFO:addCCMap2GCMap: Adding data to [cmaps/homer/human_INL_sample1_matrix_1Mb_raw.gcmap] for [chr1] ...\n",
      "INFO:addCCMap2GCMap:     ...Finished adding data for [chr1] ...\n",
      "INFO:addCCMap2GCMap: Generating downsampled maps for [chr1] ...\n",
      "INFO:addCCMap2GCMap:     ... Finished downsampling for [chr1] ...\n",
      "INFO:addCCMap2GCMap: Closed file [cmaps/homer/human_INL_sample1_matrix_1Mb_raw.gcmap]...\n",
      "INFO:CooMatrixHandler: Reading file: [/home/rajendra/deskForWork/scratch/chr2_cpdiirk7.tmp]... \n",
      "INFO:CooMatrixHandler:     ... Finished reading file: [/home/rajendra/deskForWork/scratch/chr2_cpdiirk7.tmp] \n",
      "INFO:genMapFromLists: Total number of data in input file: 46886\n",
      "INFO:genMapFromLists:Minimum base-pair: 0 and Maximum base-pair: 243000000 are present in input data\n",
      "INFO:genMapFromLists:Shape of overall map: (244, 244)\n",
      "\n"
     ]
    },
    {
     "name": "stdout",
     "output_type": "stream",
     "text": [
      "  \n"
     ]
    },
    {
     "name": "stderr",
     "output_type": "stream",
     "text": [
      "INFO:addCCMap2GCMap: Opened file [cmaps/homer/human_INL_sample1_matrix_1Mb_raw.gcmap] for reading writing..\n",
      "INFO:addCCMap2GCMap: Adding data to [cmaps/homer/human_INL_sample1_matrix_1Mb_raw.gcmap] for [chr2] ...\n",
      "INFO:addCCMap2GCMap:     ...Finished adding data for [chr2] ...\n",
      "INFO:addCCMap2GCMap: Generating downsampled maps for [chr2] ...\n",
      "INFO:addCCMap2GCMap:     ... Finished downsampling for [chr2] ...\n",
      "INFO:addCCMap2GCMap: Closed file [cmaps/homer/human_INL_sample1_matrix_1Mb_raw.gcmap]...\n",
      "INFO:CooMatrixHandler: Reading file: [/home/rajendra/deskForWork/scratch/chr3_6rz30dtu.tmp]... \n",
      "INFO:CooMatrixHandler:     ... Finished reading file: [/home/rajendra/deskForWork/scratch/chr3_6rz30dtu.tmp] \n",
      "INFO:genMapFromLists: Total number of data in input file: 33308\n",
      "INFO:genMapFromLists:Minimum base-pair: 0 and Maximum base-pair: 197000000 are present in input data\n",
      "INFO:genMapFromLists:Shape of overall map: (198, 198)\n",
      "\n"
     ]
    },
    {
     "name": "stdout",
     "output_type": "stream",
     "text": [
      "  \n"
     ]
    },
    {
     "name": "stderr",
     "output_type": "stream",
     "text": [
      "INFO:addCCMap2GCMap: Opened file [cmaps/homer/human_INL_sample1_matrix_1Mb_raw.gcmap] for reading writing..\n",
      "INFO:addCCMap2GCMap: Adding data to [cmaps/homer/human_INL_sample1_matrix_1Mb_raw.gcmap] for [chr3] ...\n",
      "INFO:addCCMap2GCMap:     ...Finished adding data for [chr3] ...\n",
      "INFO:addCCMap2GCMap: Generating downsampled maps for [chr3] ...\n",
      "INFO:addCCMap2GCMap:     ... Finished downsampling for [chr3] ...\n",
      "INFO:addCCMap2GCMap: Closed file [cmaps/homer/human_INL_sample1_matrix_1Mb_raw.gcmap]...\n",
      "INFO:CooMatrixHandler: Reading file: [/home/rajendra/deskForWork/scratch/chr4_eat16ys2.tmp]... \n",
      "INFO:CooMatrixHandler:     ... Finished reading file: [/home/rajendra/deskForWork/scratch/chr4_eat16ys2.tmp] \n",
      "INFO:genMapFromLists: Total number of data in input file: 29054\n",
      "INFO:genMapFromLists:Minimum base-pair: 0 and Maximum base-pair: 191000000 are present in input data\n",
      "INFO:genMapFromLists:Shape of overall map: (192, 192)\n",
      "\n"
     ]
    },
    {
     "name": "stdout",
     "output_type": "stream",
     "text": [
      "  \n"
     ]
    },
    {
     "name": "stderr",
     "output_type": "stream",
     "text": [
      "INFO:addCCMap2GCMap: Opened file [cmaps/homer/human_INL_sample1_matrix_1Mb_raw.gcmap] for reading writing..\n",
      "INFO:addCCMap2GCMap: Adding data to [cmaps/homer/human_INL_sample1_matrix_1Mb_raw.gcmap] for [chr4] ...\n",
      "INFO:addCCMap2GCMap:     ...Finished adding data for [chr4] ...\n",
      "INFO:addCCMap2GCMap: Generating downsampled maps for [chr4] ...\n",
      "INFO:addCCMap2GCMap:     ... Finished downsampling for [chr4] ...\n",
      "INFO:addCCMap2GCMap: Closed file [cmaps/homer/human_INL_sample1_matrix_1Mb_raw.gcmap]...\n",
      "INFO:CooMatrixHandler: Reading file: [/home/rajendra/deskForWork/scratch/chr5_tg7a2qrx.tmp]... \n",
      "INFO:CooMatrixHandler:     ... Finished reading file: [/home/rajendra/deskForWork/scratch/chr5_tg7a2qrx.tmp] \n",
      "INFO:genMapFromLists: Total number of data in input file: 26286\n",
      "INFO:genMapFromLists:Minimum base-pair: 0 and Maximum base-pair: 180000000 are present in input data\n",
      "INFO:genMapFromLists:Shape of overall map: (181, 181)\n",
      "\n"
     ]
    },
    {
     "name": "stdout",
     "output_type": "stream",
     "text": [
      "  \n"
     ]
    },
    {
     "name": "stderr",
     "output_type": "stream",
     "text": [
      "INFO:addCCMap2GCMap: Opened file [cmaps/homer/human_INL_sample1_matrix_1Mb_raw.gcmap] for reading writing..\n",
      "INFO:addCCMap2GCMap: Adding data to [cmaps/homer/human_INL_sample1_matrix_1Mb_raw.gcmap] for [chr5] ...\n",
      "INFO:addCCMap2GCMap:     ...Finished adding data for [chr5] ...\n",
      "INFO:addCCMap2GCMap: Generating downsampled maps for [chr5] ...\n",
      "INFO:addCCMap2GCMap:     ... Finished downsampling for [chr5] ...\n",
      "INFO:addCCMap2GCMap: Closed file [cmaps/homer/human_INL_sample1_matrix_1Mb_raw.gcmap]...\n",
      "INFO:CooMatrixHandler: Reading file: [/home/rajendra/deskForWork/scratch/chr6_82bba4ff.tmp]... \n",
      "INFO:CooMatrixHandler:     ... Finished reading file: [/home/rajendra/deskForWork/scratch/chr6_82bba4ff.tmp] \n",
      "INFO:genMapFromLists: Total number of data in input file: 25032\n",
      "INFO:genMapFromLists:Minimum base-pair: 0 and Maximum base-pair: 171000000 are present in input data\n",
      "INFO:genMapFromLists:Shape of overall map: (172, 172)\n",
      "\n"
     ]
    },
    {
     "name": "stdout",
     "output_type": "stream",
     "text": [
      "  \n"
     ]
    },
    {
     "name": "stderr",
     "output_type": "stream",
     "text": [
      "INFO:addCCMap2GCMap: Opened file [cmaps/homer/human_INL_sample1_matrix_1Mb_raw.gcmap] for reading writing..\n",
      "INFO:addCCMap2GCMap: Adding data to [cmaps/homer/human_INL_sample1_matrix_1Mb_raw.gcmap] for [chr6] ...\n",
      "INFO:addCCMap2GCMap:     ...Finished adding data for [chr6] ...\n",
      "INFO:addCCMap2GCMap: Generating downsampled maps for [chr6] ...\n",
      "INFO:addCCMap2GCMap:     ... Finished downsampling for [chr6] ...\n",
      "INFO:addCCMap2GCMap: Closed file [cmaps/homer/human_INL_sample1_matrix_1Mb_raw.gcmap]...\n",
      "INFO:CooMatrixHandler: Reading file: [/home/rajendra/deskForWork/scratch/chr7_zykfac9h.tmp]... \n",
      "INFO:CooMatrixHandler:     ... Finished reading file: [/home/rajendra/deskForWork/scratch/chr7_zykfac9h.tmp] \n",
      "INFO:genMapFromLists: Total number of data in input file: 20748\n",
      "INFO:genMapFromLists:Minimum base-pair: 0 and Maximum base-pair: 159000000 are present in input data\n",
      "INFO:genMapFromLists:Shape of overall map: (160, 160)\n",
      "\n"
     ]
    },
    {
     "name": "stdout",
     "output_type": "stream",
     "text": [
      "  \n"
     ]
    },
    {
     "name": "stderr",
     "output_type": "stream",
     "text": [
      "INFO:addCCMap2GCMap: Opened file [cmaps/homer/human_INL_sample1_matrix_1Mb_raw.gcmap] for reading writing..\n",
      "INFO:addCCMap2GCMap: Adding data to [cmaps/homer/human_INL_sample1_matrix_1Mb_raw.gcmap] for [chr7] ...\n",
      "INFO:addCCMap2GCMap:     ...Finished adding data for [chr7] ...\n",
      "INFO:addCCMap2GCMap: Generating downsampled maps for [chr7] ...\n",
      "INFO:addCCMap2GCMap:     ... Finished downsampling for [chr7] ...\n",
      "INFO:addCCMap2GCMap: Closed file [cmaps/homer/human_INL_sample1_matrix_1Mb_raw.gcmap]...\n",
      "INFO:CooMatrixHandler: Reading file: [/home/rajendra/deskForWork/scratch/chr8_gap1ob5e.tmp]... \n",
      "INFO:CooMatrixHandler:     ... Finished reading file: [/home/rajendra/deskForWork/scratch/chr8_gap1ob5e.tmp] \n",
      "INFO:genMapFromLists: Total number of data in input file: 18371\n",
      "INFO:genMapFromLists:Minimum base-pair: 0 and Maximum base-pair: 146000000 are present in input data\n",
      "INFO:genMapFromLists:Shape of overall map: (147, 147)\n",
      "\n"
     ]
    },
    {
     "name": "stdout",
     "output_type": "stream",
     "text": [
      "  \n"
     ]
    },
    {
     "name": "stderr",
     "output_type": "stream",
     "text": [
      "INFO:addCCMap2GCMap: Opened file [cmaps/homer/human_INL_sample1_matrix_1Mb_raw.gcmap] for reading writing..\n",
      "INFO:addCCMap2GCMap: Adding data to [cmaps/homer/human_INL_sample1_matrix_1Mb_raw.gcmap] for [chr8] ...\n",
      "INFO:addCCMap2GCMap:     ...Finished adding data for [chr8] ...\n",
      "INFO:addCCMap2GCMap: Generating downsampled maps for [chr8] ...\n",
      "INFO:addCCMap2GCMap:     ... Finished downsampling for [chr8] ...\n",
      "INFO:addCCMap2GCMap: Closed file [cmaps/homer/human_INL_sample1_matrix_1Mb_raw.gcmap]...\n",
      "INFO:CooMatrixHandler: Reading file: [/home/rajendra/deskForWork/scratch/chr9_uehz864s.tmp]... \n",
      "INFO:CooMatrixHandler:     ... Finished reading file: [/home/rajendra/deskForWork/scratch/chr9_uehz864s.tmp] \n",
      "INFO:genMapFromLists: Total number of data in input file: 11414\n",
      "INFO:genMapFromLists:Minimum base-pair: 0 and Maximum base-pair: 141000000 are present in input data\n",
      "INFO:genMapFromLists:Shape of overall map: (142, 142)\n",
      "\n",
      "INFO:addCCMap2GCMap: Opened file [cmaps/homer/human_INL_sample1_matrix_1Mb_raw.gcmap] for reading writing..\n",
      "INFO:addCCMap2GCMap: Adding data to [cmaps/homer/human_INL_sample1_matrix_1Mb_raw.gcmap] for [chr9] ...\n",
      "INFO:addCCMap2GCMap:     ...Finished adding data for [chr9] ...\n",
      "INFO:addCCMap2GCMap: Generating downsampled maps for [chr9] ...\n",
      "INFO:addCCMap2GCMap:     ... Finished downsampling for [chr9] ...\n",
      "INFO:addCCMap2GCMap: Closed file [cmaps/homer/human_INL_sample1_matrix_1Mb_raw.gcmap]...\n",
      "INFO:CooMatrixHandler: Reading file: [/home/rajendra/deskForWork/scratch/chr10_he_lg6i2.tmp]... \n",
      "INFO:CooMatrixHandler:     ... Finished reading file: [/home/rajendra/deskForWork/scratch/chr10_he_lg6i2.tmp] \n",
      "INFO:genMapFromLists: Total number of data in input file: 15560\n",
      "INFO:genMapFromLists:Minimum base-pair: 0 and Maximum base-pair: 135000000 are present in input data\n",
      "INFO:genMapFromLists:Shape of overall map: (136, 136)\n",
      "\n"
     ]
    },
    {
     "name": "stdout",
     "output_type": "stream",
     "text": [
      "  \n",
      "  \n"
     ]
    },
    {
     "name": "stderr",
     "output_type": "stream",
     "text": [
      "INFO:addCCMap2GCMap: Opened file [cmaps/homer/human_INL_sample1_matrix_1Mb_raw.gcmap] for reading writing..\n",
      "INFO:addCCMap2GCMap: Adding data to [cmaps/homer/human_INL_sample1_matrix_1Mb_raw.gcmap] for [chr10] ...\n",
      "INFO:addCCMap2GCMap:     ...Finished adding data for [chr10] ...\n",
      "INFO:addCCMap2GCMap: Generating downsampled maps for [chr10] ...\n",
      "INFO:addCCMap2GCMap:     ... Finished downsampling for [chr10] ...\n",
      "INFO:addCCMap2GCMap: Closed file [cmaps/homer/human_INL_sample1_matrix_1Mb_raw.gcmap]...\n",
      "INFO:CooMatrixHandler: Reading file: [/home/rajendra/deskForWork/scratch/chr11_sgvef97s.tmp]... \n",
      "INFO:CooMatrixHandler:     ... Finished reading file: [/home/rajendra/deskForWork/scratch/chr11_sgvef97s.tmp] \n",
      "INFO:genMapFromLists: Total number of data in input file: 15429\n",
      "INFO:genMapFromLists:Minimum base-pair: 0 and Maximum base-pair: 134000000 are present in input data\n",
      "INFO:genMapFromLists:Shape of overall map: (135, 135)\n",
      "\n",
      "INFO:addCCMap2GCMap: Opened file [cmaps/homer/human_INL_sample1_matrix_1Mb_raw.gcmap] for reading writing..\n",
      "INFO:addCCMap2GCMap: Adding data to [cmaps/homer/human_INL_sample1_matrix_1Mb_raw.gcmap] for [chr11] ...\n",
      "INFO:addCCMap2GCMap:     ...Finished adding data for [chr11] ...\n",
      "INFO:addCCMap2GCMap: Generating downsampled maps for [chr11] ...\n",
      "INFO:addCCMap2GCMap:     ... Finished downsampling for [chr11] ...\n",
      "INFO:addCCMap2GCMap: Closed file [cmaps/homer/human_INL_sample1_matrix_1Mb_raw.gcmap]...\n"
     ]
    },
    {
     "name": "stdout",
     "output_type": "stream",
     "text": [
      "  \n"
     ]
    },
    {
     "name": "stderr",
     "output_type": "stream",
     "text": [
      "INFO:CooMatrixHandler: Reading file: [/home/rajendra/deskForWork/scratch/chr12_t4cag_zp.tmp]... \n",
      "INFO:CooMatrixHandler:     ... Finished reading file: [/home/rajendra/deskForWork/scratch/chr12_t4cag_zp.tmp] \n",
      "INFO:genMapFromLists: Total number of data in input file: 14928\n",
      "INFO:genMapFromLists:Minimum base-pair: 0 and Maximum base-pair: 133000000 are present in input data\n",
      "INFO:genMapFromLists:Shape of overall map: (134, 134)\n",
      "\n",
      "INFO:addCCMap2GCMap: Opened file [cmaps/homer/human_INL_sample1_matrix_1Mb_raw.gcmap] for reading writing..\n",
      "INFO:addCCMap2GCMap: Adding data to [cmaps/homer/human_INL_sample1_matrix_1Mb_raw.gcmap] for [chr12] ...\n",
      "INFO:addCCMap2GCMap:     ...Finished adding data for [chr12] ...\n",
      "INFO:addCCMap2GCMap: Generating downsampled maps for [chr12] ...\n",
      "INFO:addCCMap2GCMap:     ... Finished downsampling for [chr12] ...\n",
      "INFO:addCCMap2GCMap: Closed file [cmaps/homer/human_INL_sample1_matrix_1Mb_raw.gcmap]...\n",
      "INFO:CooMatrixHandler: Reading file: [/home/rajendra/deskForWork/scratch/chr13_yw69ibjp.tmp]... \n"
     ]
    },
    {
     "name": "stdout",
     "output_type": "stream",
     "text": [
      "  \n",
      "  \n"
     ]
    },
    {
     "name": "stderr",
     "output_type": "stream",
     "text": [
      "INFO:CooMatrixHandler:     ... Finished reading file: [/home/rajendra/deskForWork/scratch/chr13_yw69ibjp.tmp] \n",
      "INFO:genMapFromLists: Total number of data in input file: 8675\n",
      "INFO:genMapFromLists:Minimum base-pair: 19000000 and Maximum base-pair: 115000000 are present in input data\n",
      "INFO:genMapFromLists:Shape of overall map: (116, 116)\n",
      "\n",
      "INFO:addCCMap2GCMap: Opened file [cmaps/homer/human_INL_sample1_matrix_1Mb_raw.gcmap] for reading writing..\n",
      "INFO:addCCMap2GCMap: Adding data to [cmaps/homer/human_INL_sample1_matrix_1Mb_raw.gcmap] for [chr13] ...\n",
      "INFO:addCCMap2GCMap:     ...Finished adding data for [chr13] ...\n",
      "INFO:addCCMap2GCMap: Generating downsampled maps for [chr13] ...\n",
      "INFO:addCCMap2GCMap:     ... Finished downsampling for [chr13] ...\n",
      "INFO:addCCMap2GCMap: Closed file [cmaps/homer/human_INL_sample1_matrix_1Mb_raw.gcmap]...\n",
      "INFO:CooMatrixHandler: Reading file: [/home/rajendra/deskForWork/scratch/chr14_0isd7_l1.tmp]... \n",
      "INFO:CooMatrixHandler:     ... Finished reading file: [/home/rajendra/deskForWork/scratch/chr14_0isd7_l1.tmp] \n",
      "INFO:genMapFromLists: Total number of data in input file: 7245\n",
      "INFO:genMapFromLists:Minimum base-pair: 19000000 and Maximum base-pair: 107000000 are present in input data\n",
      "INFO:genMapFromLists:Shape of overall map: (108, 108)\n",
      "\n",
      "INFO:addCCMap2GCMap: Opened file [cmaps/homer/human_INL_sample1_matrix_1Mb_raw.gcmap] for reading writing..\n",
      "INFO:addCCMap2GCMap: Adding data to [cmaps/homer/human_INL_sample1_matrix_1Mb_raw.gcmap] for [chr14] ...\n",
      "INFO:addCCMap2GCMap:     ...Finished adding data for [chr14] ...\n",
      "INFO:addCCMap2GCMap: Generating downsampled maps for [chr14] ...\n",
      "INFO:addCCMap2GCMap:     ... Finished downsampling for [chr14] ...\n",
      "INFO:addCCMap2GCMap: Closed file [cmaps/homer/human_INL_sample1_matrix_1Mb_raw.gcmap]...\n",
      "INFO:CooMatrixHandler: Reading file: [/home/rajendra/deskForWork/scratch/chr15_2shc6o7t.tmp]... \n",
      "INFO:CooMatrixHandler:     ... Finished reading file: [/home/rajendra/deskForWork/scratch/chr15_2shc6o7t.tmp] \n",
      "INFO:genMapFromLists: Total number of data in input file: 6249\n",
      "INFO:genMapFromLists:Minimum base-pair: 20000000 and Maximum base-pair: 102000000 are present in input data\n",
      "INFO:genMapFromLists:Shape of overall map: (103, 103)\n",
      "\n",
      "INFO:addCCMap2GCMap: Opened file [cmaps/homer/human_INL_sample1_matrix_1Mb_raw.gcmap] for reading writing..\n",
      "INFO:addCCMap2GCMap: Adding data to [cmaps/homer/human_INL_sample1_matrix_1Mb_raw.gcmap] for [chr15] ...\n",
      "INFO:addCCMap2GCMap:     ...Finished adding data for [chr15] ...\n",
      "INFO:addCCMap2GCMap: Generating downsampled maps for [chr15] ...\n",
      "INFO:addCCMap2GCMap:     ... Finished downsampling for [chr15] ...\n",
      "INFO:addCCMap2GCMap: Closed file [cmaps/homer/human_INL_sample1_matrix_1Mb_raw.gcmap]...\n"
     ]
    },
    {
     "name": "stdout",
     "output_type": "stream",
     "text": [
      "  \n",
      "  \n"
     ]
    },
    {
     "name": "stderr",
     "output_type": "stream",
     "text": [
      "INFO:CooMatrixHandler: Reading file: [/home/rajendra/deskForWork/scratch/chr16_vg29q2l6.tmp]... \n",
      "INFO:CooMatrixHandler:     ... Finished reading file: [/home/rajendra/deskForWork/scratch/chr16_vg29q2l6.tmp] \n",
      "INFO:genMapFromLists: Total number of data in input file: 5629\n",
      "INFO:genMapFromLists:Minimum base-pair: 0 and Maximum base-pair: 90000000 are present in input data\n",
      "INFO:genMapFromLists:Shape of overall map: (91, 91)\n",
      "\n",
      "INFO:addCCMap2GCMap: Opened file [cmaps/homer/human_INL_sample1_matrix_1Mb_raw.gcmap] for reading writing..\n",
      "INFO:addCCMap2GCMap: Adding data to [cmaps/homer/human_INL_sample1_matrix_1Mb_raw.gcmap] for [chr16] ...\n",
      "INFO:addCCMap2GCMap:     ...Finished adding data for [chr16] ...\n",
      "INFO:addCCMap2GCMap: Generating downsampled maps for [chr16] ...\n",
      "INFO:addCCMap2GCMap:     ... Finished downsampling for [chr16] ...\n",
      "INFO:addCCMap2GCMap: Closed file [cmaps/homer/human_INL_sample1_matrix_1Mb_raw.gcmap]...\n",
      "INFO:CooMatrixHandler: Reading file: [/home/rajendra/deskForWork/scratch/chr17_hioju8k0.tmp]... \n",
      "INFO:CooMatrixHandler:     ... Finished reading file: [/home/rajendra/deskForWork/scratch/chr17_hioju8k0.tmp] \n",
      "INFO:genMapFromLists: Total number of data in input file: 5650\n",
      "INFO:genMapFromLists:Minimum base-pair: 0 and Maximum base-pair: 81000000 are present in input data\n",
      "INFO:genMapFromLists:Shape of overall map: (82, 82)\n",
      "\n",
      "INFO:addCCMap2GCMap: Opened file [cmaps/homer/human_INL_sample1_matrix_1Mb_raw.gcmap] for reading writing..\n",
      "INFO:addCCMap2GCMap: Adding data to [cmaps/homer/human_INL_sample1_matrix_1Mb_raw.gcmap] for [chr17] ...\n",
      "INFO:addCCMap2GCMap:     ...Finished adding data for [chr17] ...\n",
      "INFO:addCCMap2GCMap: Generating downsampled maps for [chr17] ...\n",
      "INFO:addCCMap2GCMap:     ... Finished downsampling for [chr17] ...\n",
      "INFO:addCCMap2GCMap: Closed file [cmaps/homer/human_INL_sample1_matrix_1Mb_raw.gcmap]...\n",
      "INFO:CooMatrixHandler: Reading file: [/home/rajendra/deskForWork/scratch/chr18_6i32yh98.tmp]... \n",
      "INFO:CooMatrixHandler:     ... Finished reading file: [/home/rajendra/deskForWork/scratch/chr18_6i32yh98.tmp] \n",
      "INFO:genMapFromLists: Total number of data in input file: 5581\n",
      "INFO:genMapFromLists:Minimum base-pair: 0 and Maximum base-pair: 78000000 are present in input data\n",
      "INFO:genMapFromLists:Shape of overall map: (79, 79)\n",
      "\n"
     ]
    },
    {
     "name": "stdout",
     "output_type": "stream",
     "text": [
      "  \n",
      "  \n",
      "  \n"
     ]
    },
    {
     "name": "stderr",
     "output_type": "stream",
     "text": [
      "INFO:addCCMap2GCMap: Opened file [cmaps/homer/human_INL_sample1_matrix_1Mb_raw.gcmap] for reading writing..\n",
      "INFO:addCCMap2GCMap: Adding data to [cmaps/homer/human_INL_sample1_matrix_1Mb_raw.gcmap] for [chr18] ...\n",
      "INFO:addCCMap2GCMap:     ...Finished adding data for [chr18] ...\n",
      "INFO:addCCMap2GCMap: Generating downsampled maps for [chr18] ...\n",
      "INFO:addCCMap2GCMap:     ... Finished downsampling for [chr18] ...\n",
      "INFO:addCCMap2GCMap: Closed file [cmaps/homer/human_INL_sample1_matrix_1Mb_raw.gcmap]...\n",
      "INFO:CooMatrixHandler: Reading file: [/home/rajendra/deskForWork/scratch/chr19_6vxo52rp.tmp]... \n",
      "INFO:CooMatrixHandler:     ... Finished reading file: [/home/rajendra/deskForWork/scratch/chr19_6vxo52rp.tmp] \n",
      "INFO:genMapFromLists: Total number of data in input file: 3012\n",
      "INFO:genMapFromLists:Minimum base-pair: 0 and Maximum base-pair: 59000000 are present in input data\n",
      "INFO:genMapFromLists:Shape of overall map: (60, 60)\n",
      "\n",
      "INFO:addCCMap2GCMap: Opened file [cmaps/homer/human_INL_sample1_matrix_1Mb_raw.gcmap] for reading writing..\n",
      "INFO:addCCMap2GCMap: Adding data to [cmaps/homer/human_INL_sample1_matrix_1Mb_raw.gcmap] for [chr19] ...\n",
      "INFO:addCCMap2GCMap:     ...Finished adding data for [chr19] ...\n",
      "INFO:addCCMap2GCMap: Generating downsampled maps for [chr19] ...\n",
      "INFO:addCCMap2GCMap:     ... Finished downsampling for [chr19] ...\n",
      "INFO:addCCMap2GCMap: Closed file [cmaps/homer/human_INL_sample1_matrix_1Mb_raw.gcmap]...\n",
      "INFO:CooMatrixHandler: Reading file: [/home/rajendra/deskForWork/scratch/chr20_75fs4w_z.tmp]... \n",
      "INFO:CooMatrixHandler:     ... Finished reading file: [/home/rajendra/deskForWork/scratch/chr20_75fs4w_z.tmp] \n",
      "INFO:genMapFromLists: Total number of data in input file: 3563\n",
      "INFO:genMapFromLists:Minimum base-pair: 0 and Maximum base-pair: 62000000 are present in input data\n",
      "INFO:genMapFromLists:Shape of overall map: (63, 63)\n",
      "\n",
      "INFO:addCCMap2GCMap: Opened file [cmaps/homer/human_INL_sample1_matrix_1Mb_raw.gcmap] for reading writing..\n",
      "INFO:addCCMap2GCMap: Adding data to [cmaps/homer/human_INL_sample1_matrix_1Mb_raw.gcmap] for [chr20] ...\n",
      "INFO:addCCMap2GCMap:     ...Finished adding data for [chr20] ...\n",
      "INFO:addCCMap2GCMap: Generating downsampled maps for [chr20] ...\n",
      "INFO:addCCMap2GCMap:     ... Finished downsampling for [chr20] ...\n",
      "INFO:addCCMap2GCMap: Closed file [cmaps/homer/human_INL_sample1_matrix_1Mb_raw.gcmap]...\n",
      "INFO:CooMatrixHandler: Reading file: [/home/rajendra/deskForWork/scratch/chr21_k7h2y6a8.tmp]... \n",
      "INFO:CooMatrixHandler:     ... Finished reading file: [/home/rajendra/deskForWork/scratch/chr21_k7h2y6a8.tmp] \n",
      "INFO:genMapFromLists: Total number of data in input file: 1266\n",
      "INFO:genMapFromLists:Minimum base-pair: 9000000 and Maximum base-pair: 48000000 are present in input data\n",
      "INFO:genMapFromLists:Shape of overall map: (49, 49)\n",
      "\n",
      "INFO:addCCMap2GCMap: Opened file [cmaps/homer/human_INL_sample1_matrix_1Mb_raw.gcmap] for reading writing..\n",
      "INFO:addCCMap2GCMap: Adding data to [cmaps/homer/human_INL_sample1_matrix_1Mb_raw.gcmap] for [chr21] ...\n",
      "INFO:addCCMap2GCMap:     ...Finished adding data for [chr21] ...\n",
      "INFO:addCCMap2GCMap: Generating downsampled maps for [chr21] ...\n",
      "INFO:addCCMap2GCMap:     ... Finished downsampling for [chr21] ...\n",
      "INFO:addCCMap2GCMap: Closed file [cmaps/homer/human_INL_sample1_matrix_1Mb_raw.gcmap]...\n",
      "INFO:CooMatrixHandler: Reading file: [/home/rajendra/deskForWork/scratch/chr22_lkz9p2ak.tmp]... \n",
      "INFO:CooMatrixHandler:     ... Finished reading file: [/home/rajendra/deskForWork/scratch/chr22_lkz9p2ak.tmp] \n",
      "INFO:genMapFromLists: Total number of data in input file: 1222\n",
      "INFO:genMapFromLists:Minimum base-pair: 16000000 and Maximum base-pair: 51000000 are present in input data\n",
      "INFO:genMapFromLists:Shape of overall map: (52, 52)\n",
      "\n",
      "INFO:addCCMap2GCMap: Opened file [cmaps/homer/human_INL_sample1_matrix_1Mb_raw.gcmap] for reading writing..\n",
      "INFO:addCCMap2GCMap: Adding data to [cmaps/homer/human_INL_sample1_matrix_1Mb_raw.gcmap] for [chr22] ...\n",
      "INFO:addCCMap2GCMap:     ...Finished adding data for [chr22] ...\n",
      "INFO:addCCMap2GCMap: Generating downsampled maps for [chr22] ...\n",
      "INFO:addCCMap2GCMap:     ... Finished downsampling for [chr22] ...\n"
     ]
    },
    {
     "name": "stdout",
     "output_type": "stream",
     "text": [
      "  \n",
      "  \n",
      "  \n",
      "  \n"
     ]
    },
    {
     "name": "stderr",
     "output_type": "stream",
     "text": [
      "INFO:addCCMap2GCMap: Closed file [cmaps/homer/human_INL_sample1_matrix_1Mb_raw.gcmap]...\n",
      "INFO:CooMatrixHandler: Reading file: [/home/rajendra/deskForWork/scratch/chrMT_wrr9inav.tmp]... \n",
      "INFO:CooMatrixHandler:     ... Finished reading file: [/home/rajendra/deskForWork/scratch/chrMT_wrr9inav.tmp] \n",
      "INFO:genMapFromLists: Total number of data in input file: 1\n",
      "INFO:genMapFromLists:Minimum base-pair: 0 and Maximum base-pair: 0 are present in input data\n",
      "INFO:genMapFromLists:Shape of overall map: (1, 1)\n",
      "\n",
      "INFO:addCCMap2GCMap: Opened file [cmaps/homer/human_INL_sample1_matrix_1Mb_raw.gcmap] for reading writing..\n",
      "INFO:addCCMap2GCMap: Adding data to [cmaps/homer/human_INL_sample1_matrix_1Mb_raw.gcmap] for [chrMT] ...\n",
      "INFO:addCCMap2GCMap:     ...Finished adding data for [chrMT] ...\n",
      "INFO:addCCMap2GCMap: Generating downsampled maps for [chrMT] ...\n",
      "INFO:addCCMap2GCMap:     ... Finished downsampling for [chrMT] ...\n",
      "INFO:addCCMap2GCMap: Closed file [cmaps/homer/human_INL_sample1_matrix_1Mb_raw.gcmap]...\n",
      "INFO:CooMatrixHandler: Reading file: [/home/rajendra/deskForWork/scratch/chrX_z02f32p7.tmp]... \n",
      "INFO:CooMatrixHandler:     ... Finished reading file: [/home/rajendra/deskForWork/scratch/chrX_z02f32p7.tmp] \n",
      "INFO:genMapFromLists: Total number of data in input file: 20634\n",
      "INFO:genMapFromLists:Minimum base-pair: 0 and Maximum base-pair: 155000000 are present in input data\n",
      "INFO:genMapFromLists:Shape of overall map: (156, 156)\n",
      "\n"
     ]
    },
    {
     "name": "stdout",
     "output_type": "stream",
     "text": [
      "  \n",
      "  \n"
     ]
    },
    {
     "name": "stderr",
     "output_type": "stream",
     "text": [
      "INFO:addCCMap2GCMap: Opened file [cmaps/homer/human_INL_sample1_matrix_1Mb_raw.gcmap] for reading writing..\n",
      "INFO:addCCMap2GCMap: Adding data to [cmaps/homer/human_INL_sample1_matrix_1Mb_raw.gcmap] for [chrX] ...\n",
      "INFO:addCCMap2GCMap:     ...Finished adding data for [chrX] ...\n",
      "INFO:addCCMap2GCMap: Generating downsampled maps for [chrX] ...\n",
      "INFO:addCCMap2GCMap:     ... Finished downsampling for [chrX] ...\n",
      "INFO:addCCMap2GCMap: Closed file [cmaps/homer/human_INL_sample1_matrix_1Mb_raw.gcmap]...\n",
      "INFO:CooMatrixHandler: Reading file: [/home/rajendra/deskForWork/scratch/chrY_kkzm18rx.tmp]... \n",
      "INFO:CooMatrixHandler:     ... Finished reading file: [/home/rajendra/deskForWork/scratch/chrY_kkzm18rx.tmp] \n",
      "INFO:genMapFromLists: Total number of data in input file: 18\n",
      "INFO:genMapFromLists:Minimum base-pair: 3000000 and Maximum base-pair: 59000000 are present in input data\n",
      "INFO:genMapFromLists:Shape of overall map: (60, 60)\n",
      "\n",
      "INFO:addCCMap2GCMap: Opened file [cmaps/homer/human_INL_sample1_matrix_1Mb_raw.gcmap] for reading writing..\n",
      "INFO:addCCMap2GCMap: Adding data to [cmaps/homer/human_INL_sample1_matrix_1Mb_raw.gcmap] for [chrY] ...\n",
      "INFO:addCCMap2GCMap:     ...Finished adding data for [chrY] ...\n",
      "INFO:addCCMap2GCMap: Generating downsampled maps for [chrY] ...\n",
      "INFO:addCCMap2GCMap:     ... Finished downsampling for [chrY] ...\n",
      "INFO:addCCMap2GCMap: Closed file [cmaps/homer/human_INL_sample1_matrix_1Mb_raw.gcmap]...\n"
     ]
    },
    {
     "name": "stdout",
     "output_type": "stream",
     "text": [
      "  \n"
     ]
    }
   ],
   "source": [
    "# Initialize\n",
    "homer_reader = gmlib.importer.HomerInputHandler('data/HomerFormat/human_INL_sample1_matrix_1Mb_raw.txt')\n",
    "\n",
    "# Convert and save\n",
    "homer_reader.save_gcmap('cmaps/homer/human_INL_sample1_matrix_1Mb_raw.gcmap', \n",
    "                                                    coarsingMethod='sum', compression='lzf')\n",
    "\n",
    "# Delete all temporary files, neccessary, automatically deleted\n",
    "del homer_reader"
   ]
  },
  {
   "cell_type": "markdown",
   "metadata": {},
   "source": [
    "## 3. From Bin-Contact format \n",
    "\n",
    "These types of files are present in following GEO data:\n",
    "* http://www.ncbi.nlm.nih.gov/geo/query/acc.cgi?acc=GSE61471\n",
    "* http://www.ncbi.nlm.nih.gov/geo/query/acc.cgi?acc=GSE34453\n",
    "\n",
    "This format contains a pair of file:\n",
    "* bin file:\n",
    "```\n",
    "cbin\tchr\tfrom.coord\tto.coord\tcount\n",
    "1\t2L\t0\t160000\t747\n",
    "2\t2L\t160000\t320000\t893\n",
    "3\t2L\t320000\t480000\t1056\n",
    "4\t2L\t480000\t640000\t1060\n",
    "5\t2L\t640000\t800000\t978\n",
    "6\t2L\t800000\t960000\t926\n",
    ".\n",
    ".\n",
    ".\n",
    "```\n",
    "\n",
    "* Contact file in list format\n",
    "```\n",
    "cbin1\tcbin2\texpected_count\tobserved_count\n",
    "1\t1\t40.245201\t21339\n",
    "1\t2\t83.747499\t5661\n",
    "1\t3\t92.12501\t1546\n",
    "1\t4\t93.401273\t864\n",
    "1\t5\t87.265472\t442\n",
    ".\n",
    ".\n",
    ".\n",
    "```\n",
    "\n",
    "### Convert to ccmap\n",
    "\n",
    "A pair of example input files `nm_none_160000.bins` and `nm_none_160000.n_contact` is present in `data/binContactFormat` directory. Below, we read it and convert it to `.ccmap` formats. The input file contains several chromosomes, therefore, several `.ccmap` files will be generated for each respective chromosome.\n",
    "\n",
    "\n",
    "Ouput `.ccmap` files will be saved in `cmaps/binContact` directory."
   ]
  },
  {
   "cell_type": "raw",
   "metadata": {
    "raw_mimetype": "text/restructuredtext"
   },
   "source": [
    ".. seealso::\n",
    "    Class :meth:`gcMapExplorer.lib.importer.BinsNContactFilesHandler` for more details."
   ]
  },
  {
   "cell_type": "code",
   "execution_count": 12,
   "metadata": {},
   "outputs": [
    {
     "name": "stderr",
     "output_type": "stream",
     "text": [
      "INFO:BinsNContactFilesHandler:  Chromosome Size: \n",
      "                                                 4 : 1280000\n",
      "                                                3L : 24640000\n",
      "                                                2L : 23040000\n",
      "                                                2R : 21280000\n",
      "                                                 X : 22560000\n",
      "                                                3R : 28000000\n",
      "\n",
      "INFO:BinsNContactFilesHandler:  Chromosome Bins info:\n",
      "                                                      4: {'min': 607, 'max': 614}\n",
      "                                                     3L: {'min': 278, 'max': 431}\n",
      "                                                     2L: {'min': 1, 'max': 144}\n",
      "                                                     2R: {'min': 145, 'max': 277}\n",
      "                                                      X: {'min': 615, 'max': 755}\n",
      "                                                     3R: {'min': 432, 'max': 606}\n",
      "\n",
      "INFO:BinsNContactFilesHandler: Generating temporary numpy array file [/home/rajendra/deskForWork/scratch/4_nep1xx58.npy] for 4 ...\n",
      "INFO:BinsNContactFilesHandler: Finished. \n",
      "\n",
      "INFO:BinsNContactFilesHandler: Generating temporary numpy array file [/home/rajendra/deskForWork/scratch/3L_381y543n.npy] for 3L ...\n",
      "INFO:BinsNContactFilesHandler: Finished. \n",
      "\n",
      "INFO:BinsNContactFilesHandler: Generating temporary numpy array file [/home/rajendra/deskForWork/scratch/2L_i102o8wq.npy] for 2L ...\n",
      "INFO:BinsNContactFilesHandler: Finished. \n",
      "\n",
      "INFO:BinsNContactFilesHandler: Generating temporary numpy array file [/home/rajendra/deskForWork/scratch/2R_52es74oc.npy] for 2R ...\n",
      "INFO:BinsNContactFilesHandler: Finished. \n",
      "\n",
      "INFO:BinsNContactFilesHandler: Generating temporary numpy array file [/home/rajendra/deskForWork/scratch/X_qr4pk394.npy] for X ...\n",
      "INFO:BinsNContactFilesHandler: Finished. \n",
      "\n",
      "INFO:BinsNContactFilesHandler: Generating temporary numpy array file [/home/rajendra/deskForWork/scratch/3R__984r6x9.npy] for 3R ...\n",
      "INFO:BinsNContactFilesHandler: Finished. \n",
      "\n",
      "INFO:BinsNContactFilesHandler: Reading contact file ...\n",
      "\n",
      "INFO:BinsNContactFilesHandler: \tGenerating Hi-C Map for [2L] ... \n",
      "\n",
      "INFO:genMapFromLists: Total number of data in input file: 20737\n",
      "INFO:genMapFromLists:Minimum base-pair: 160000 and Maximum base-pair: 23040000 are present in input data\n",
      "INFO:genMapFromLists:Shape of overall map: (145, 145)\n",
      "\n",
      "INFO:BinsNContactFilesHandler: Finished\n",
      "\n",
      "INFO:BinsNContactFilesHandler: \tGenerating Hi-C Map for [2R] ... \n",
      "\n",
      "INFO:genMapFromLists: Total number of data in input file: 17689\n",
      "INFO:genMapFromLists:Minimum base-pair: 160000 and Maximum base-pair: 21280000 are present in input data\n",
      "INFO:genMapFromLists:Shape of overall map: (134, 134)\n",
      "\n",
      "INFO:BinsNContactFilesHandler: Finished\n",
      "\n",
      "INFO:BinsNContactFilesHandler: \tGenerating Hi-C Map for [3L] ... \n",
      "\n",
      "INFO:genMapFromLists: Total number of data in input file: 23716\n",
      "INFO:genMapFromLists:Minimum base-pair: 160000 and Maximum base-pair: 24640000 are present in input data\n",
      "INFO:genMapFromLists:Shape of overall map: (155, 155)\n",
      "\n",
      "INFO:BinsNContactFilesHandler: Finished\n",
      "\n",
      "INFO:BinsNContactFilesHandler: \tGenerating Hi-C Map for [3R] ... \n",
      "\n",
      "INFO:genMapFromLists: Total number of data in input file: 30625\n",
      "INFO:genMapFromLists:Minimum base-pair: 160000 and Maximum base-pair: 28000000 are present in input data\n",
      "INFO:genMapFromLists:Shape of overall map: (176, 176)\n",
      "\n",
      "INFO:BinsNContactFilesHandler: Finished\n",
      "\n",
      "INFO:BinsNContactFilesHandler: \tGenerating Hi-C Map for [4] ... \n",
      "\n",
      "INFO:genMapFromLists: Total number of data in input file: 64\n",
      "INFO:genMapFromLists:Minimum base-pair: 160000 and Maximum base-pair: 1280000 are present in input data\n",
      "INFO:genMapFromLists:Shape of overall map: (9, 9)\n",
      "\n",
      "INFO:BinsNContactFilesHandler: Finished\n",
      "\n",
      "INFO:BinsNContactFilesHandler: \tGenerating Hi-C Map for [X] ... \n",
      "INFO:genMapFromLists: Total number of data in input file: 19880\n",
      "INFO:genMapFromLists:Minimum base-pair: 160000 and Maximum base-pair: 22560000 are present in input data\n",
      "INFO:genMapFromLists:Shape of overall map: (142, 142)\n",
      "\n",
      "INFO:BinsNContactFilesHandler: Finished\n",
      "\n",
      "INFO:BinsNContactFilesHandler: Finished reading contact file.\n",
      "\n",
      "INFO:BinsNContactFilesHandler:   Hi-C Maps Summary:\n",
      "                                                  Chromosome\tSize\t\tMax. \tMin. \n",
      "                                                           4\t(9, 9)\t18961.0\t1182.0\n",
      "                                                          3L\t(155, 155)\t25431.0\t3.0\n",
      "                                                          2L\t(145, 145)\t24438.0\t6.0\n",
      "                                                          2R\t(134, 134)\t20234.0\t1.0\n",
      "                                                           X\t(142, 142)\t11447.0\t1.0\n",
      "                                                          3R\t(176, 176)\t22142.0\t11.0\n",
      "\n",
      "INFO:save_ccmap: Saving ccmap to file [cmaps/binContact/chr4_160kb.ccmap] and [/home/rajendra/workspace/genome_3d_organization/tutorials_modules/cmaps/binContact/chr4_160kb.npbin] ...\n",
      "INFO:save_ccmap: Compressing [/home/rajendra/workspace/genome_3d_organization/tutorials_modules/cmaps/binContact/chr4_160kb.npbin] ...\n",
      "INFO:save_ccmap:       Finished!!!\n",
      "\n",
      "INFO:save_ccmap: Saving ccmap to file [cmaps/binContact/chr3L_160kb.ccmap] and [/home/rajendra/workspace/genome_3d_organization/tutorials_modules/cmaps/binContact/chr3L_160kb.npbin] ...\n",
      "INFO:save_ccmap: Compressing [/home/rajendra/workspace/genome_3d_organization/tutorials_modules/cmaps/binContact/chr3L_160kb.npbin] ...\n",
      "INFO:save_ccmap:       Finished!!!\n",
      "\n",
      "INFO:save_ccmap: Saving ccmap to file [cmaps/binContact/chr2L_160kb.ccmap] and [/home/rajendra/workspace/genome_3d_organization/tutorials_modules/cmaps/binContact/chr2L_160kb.npbin] ...\n",
      "INFO:save_ccmap: Compressing [/home/rajendra/workspace/genome_3d_organization/tutorials_modules/cmaps/binContact/chr2L_160kb.npbin] ...\n",
      "INFO:save_ccmap:       Finished!!!\n",
      "\n",
      "INFO:save_ccmap: Saving ccmap to file [cmaps/binContact/chr2R_160kb.ccmap] and [/home/rajendra/workspace/genome_3d_organization/tutorials_modules/cmaps/binContact/chr2R_160kb.npbin] ...\n",
      "INFO:save_ccmap: Compressing [/home/rajendra/workspace/genome_3d_organization/tutorials_modules/cmaps/binContact/chr2R_160kb.npbin] ...\n",
      "INFO:save_ccmap:       Finished!!!\n",
      "\n",
      "INFO:save_ccmap: Saving ccmap to file [cmaps/binContact/chrX_160kb.ccmap] and [/home/rajendra/workspace/genome_3d_organization/tutorials_modules/cmaps/binContact/chrX_160kb.npbin] ...\n",
      "INFO:save_ccmap: Compressing [/home/rajendra/workspace/genome_3d_organization/tutorials_modules/cmaps/binContact/chrX_160kb.npbin] ...\n",
      "INFO:save_ccmap:       Finished!!!\n",
      "\n",
      "INFO:save_ccmap: Saving ccmap to file [cmaps/binContact/chr3R_160kb.ccmap] and [/home/rajendra/workspace/genome_3d_organization/tutorials_modules/cmaps/binContact/chr3R_160kb.npbin] ...\n",
      "INFO:save_ccmap: Compressing [/home/rajendra/workspace/genome_3d_organization/tutorials_modules/cmaps/binContact/chr3R_160kb.npbin] ...\n",
      "INFO:save_ccmap:       Finished!!!\n",
      "\n"
     ]
    }
   ],
   "source": [
    "# File names\n",
    "binFile = 'data/binContactFormat/nm_none_160000.bins'\n",
    "contactFile = 'data/binContactFormat/nm_none_160000.n_contact'\n",
    "\n",
    "# Initialize\n",
    "binContactReader = gmlib.importer.BinsNContactFilesHandler(binFile, contactFile)\n",
    "\n",
    "# Save ccmaps\n",
    "binContactReader.save_ccmaps('cmaps/binContact')"
   ]
  },
  {
   "cell_type": "markdown",
   "metadata": {},
   "source": [
    "### Convert to gcmap\n",
    "\n",
    "A pair of example input files `nm_none_160000.bins` and `nm_none_160000.n_contact` is present in `data/binContactFormat` directory. Below, we read it and convert it to `.gcmap` formats. The input file contains several chromosomes, all contact map will be added to the output `gcmap`.\n",
    "\n",
    "\n",
    "Ouput `raw_160kb.gcmap` files will be saved in `cmaps/binContact` directory."
   ]
  },
  {
   "cell_type": "code",
   "execution_count": 13,
   "metadata": {},
   "outputs": [
    {
     "name": "stderr",
     "output_type": "stream",
     "text": [
      "INFO:addCCMap2GCMap: Opened file [cmaps/binContact/raw_160kb.gcmap] for reading writing..\n",
      "INFO:addCCMap2GCMap: Adding data to [cmaps/binContact/raw_160kb.gcmap] for [chr4] ...\n",
      "INFO:addCCMap2GCMap:     ...Finished adding data for [chr4] ...\n",
      "INFO:addCCMap2GCMap: Generating downsampled maps for [chr4] ...\n",
      "INFO:addCCMap2GCMap:     ... Finished downsampling for [chr4] ...\n",
      "INFO:addCCMap2GCMap: Closed file [cmaps/binContact/raw_160kb.gcmap]...\n",
      "INFO:addCCMap2GCMap: Opened file [cmaps/binContact/raw_160kb.gcmap] for reading writing..\n",
      "INFO:addCCMap2GCMap: Adding data to [cmaps/binContact/raw_160kb.gcmap] for [chr3L] ...\n",
      "INFO:addCCMap2GCMap:     ...Finished adding data for [chr3L] ...\n",
      "INFO:addCCMap2GCMap: Generating downsampled maps for [chr3L] ...\n",
      "INFO:addCCMap2GCMap:     ... Finished downsampling for [chr3L] ...\n",
      "INFO:addCCMap2GCMap: Closed file [cmaps/binContact/raw_160kb.gcmap]...\n",
      "INFO:addCCMap2GCMap: Opened file [cmaps/binContact/raw_160kb.gcmap] for reading writing..\n",
      "INFO:addCCMap2GCMap: Adding data to [cmaps/binContact/raw_160kb.gcmap] for [chr2L] ...\n",
      "INFO:addCCMap2GCMap:     ...Finished adding data for [chr2L] ...\n",
      "INFO:addCCMap2GCMap: Generating downsampled maps for [chr2L] ...\n",
      "INFO:addCCMap2GCMap:     ... Finished downsampling for [chr2L] ...\n",
      "INFO:addCCMap2GCMap: Closed file [cmaps/binContact/raw_160kb.gcmap]...\n",
      "INFO:addCCMap2GCMap: Opened file [cmaps/binContact/raw_160kb.gcmap] for reading writing..\n",
      "INFO:addCCMap2GCMap: Adding data to [cmaps/binContact/raw_160kb.gcmap] for [chr2R] ...\n",
      "INFO:addCCMap2GCMap:     ...Finished adding data for [chr2R] ...\n",
      "INFO:addCCMap2GCMap: Generating downsampled maps for [chr2R] ...\n",
      "INFO:addCCMap2GCMap:     ... Finished downsampling for [chr2R] ...\n",
      "INFO:addCCMap2GCMap: Closed file [cmaps/binContact/raw_160kb.gcmap]...\n",
      "INFO:addCCMap2GCMap: Opened file [cmaps/binContact/raw_160kb.gcmap] for reading writing..\n",
      "INFO:addCCMap2GCMap: Adding data to [cmaps/binContact/raw_160kb.gcmap] for [chrX] ...\n",
      "INFO:addCCMap2GCMap:     ...Finished adding data for [chrX] ...\n",
      "INFO:addCCMap2GCMap: Generating downsampled maps for [chrX] ...\n",
      "INFO:addCCMap2GCMap:     ... Finished downsampling for [chrX] ...\n",
      "INFO:addCCMap2GCMap: Closed file [cmaps/binContact/raw_160kb.gcmap]...\n",
      "INFO:addCCMap2GCMap: Opened file [cmaps/binContact/raw_160kb.gcmap] for reading writing..\n",
      "INFO:addCCMap2GCMap: Adding data to [cmaps/binContact/raw_160kb.gcmap] for [chr3R] ...\n",
      "INFO:addCCMap2GCMap:     ...Finished adding data for [chr3R] ...\n",
      "INFO:addCCMap2GCMap: Generating downsampled maps for [chr3R] ...\n",
      "INFO:addCCMap2GCMap:     ... Finished downsampling for [chr3R] ...\n",
      "INFO:addCCMap2GCMap: Closed file [cmaps/binContact/raw_160kb.gcmap]...\n"
     ]
    }
   ],
   "source": [
    "# Save gcmap\n",
    "binContactReader.save_gcmap('cmaps/binContact/raw_160kb.gcmap', coarsingMethod='sum', compression='lzf')"
   ]
  }
 ],
 "metadata": {
  "celltoolbar": "Raw Cell Format",
  "kernelspec": {
   "display_name": "Python 3",
   "language": "python",
   "name": "python3"
  },
  "language_info": {
   "codemirror_mode": {
    "name": "ipython",
    "version": 3
   },
   "file_extension": ".py",
   "mimetype": "text/x-python",
   "name": "python",
   "nbconvert_exporter": "python",
   "pygments_lexer": "ipython3",
   "version": "3.4.3"
  }
 },
 "nbformat": 4,
 "nbformat_minor": 1
}
