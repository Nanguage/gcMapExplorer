{
 "cells": [
  {
   "cell_type": "markdown",
   "metadata": {},
   "source": [
    "## How to normalize Hi-C map?\n",
    "\n",
    "\n",
    "\n",
    "To normalize a Hi-C map, several methods have been implemented.\n",
    "\n",
    "* [Matrix balancing algorithm by Knight and Ruiz](http://imajna.oxfordjournals.org/content/33/3/1029)\n",
    "* [Matrix balancing by Iterative Correction](http://www.nature.com/nmeth/journal/v9/n10/full/nmeth.2148.html)\n",
    "* Normalized using Median Contact Frequency Scaling (MCFS)\n",
    "\n"
   ]
  },
  {
   "cell_type": "raw",
   "metadata": {
    "raw_mimetype": "text/restructuredtext"
   },
   "source": [
    ".. note::\n",
    "    Following tutorial needs ``*.ccmap`` files, generated in :doc:`previous tutorial<import_ccmap>`.\n",
    "    \n",
    ".. seealso::\n",
    "    Module :mod:`gcMapExplorer.lib.normalizer` for all implemented normalization methods in detail."
   ]
  },
  {
   "cell_type": "markdown",
   "metadata": {},
   "source": [
    "**Remove old files if any present in normalize directory**"
   ]
  },
  {
   "cell_type": "code",
   "execution_count": 1,
   "metadata": {
    "collapsed": true
   },
   "outputs": [],
   "source": [
    "%%bash\n",
    "\n",
    "for f in ./normalized/*; do\n",
    "    [ -e \"$f\" ] && rm $f\n",
    "done"
   ]
  },
  {
   "cell_type": "markdown",
   "metadata": {},
   "source": [
    "***\n",
    "\n",
    "### Matrix balancing algorithm by Knight and Ruiz\n",
    "\n",
    "**import gcMapExplorer.lib module**"
   ]
  },
  {
   "cell_type": "code",
   "execution_count": 2,
   "metadata": {
    "collapsed": true
   },
   "outputs": [],
   "source": [
    "import gcMapExplorer.lib as gmlib\n",
    "import numpy as np\n",
    "import os"
   ]
  },
  {
   "cell_type": "markdown",
   "metadata": {},
   "source": [
    "\n",
    "**Directly Normalize and save ccmap file**\n",
    "\n"
   ]
  },
  {
   "cell_type": "code",
   "execution_count": 3,
   "metadata": {},
   "outputs": [
    {
     "name": "stderr",
     "output_type": "stream",
     "text": [
      "INFO:normalizer: KR Normalization will be done through RAM.\n",
      "INFO:normalizer: KR Normalization is in process for chr22 map...\n",
      "INFO:normalizer: \t...Finished KR Normalization for chr22 map...\n",
      "INFO:save_ccmap: Saving ccmap to file [normalized/chr22_100kb_normKR_direct.ccmap] and [/home/rajendra/workspace/genome_3d_organization/tutorials_modules/normalized/chr22_100kb_normKR_direct.npbin] ...\n",
      "INFO:save_ccmap: Compressing [/home/rajendra/workspace/genome_3d_organization/tutorials_modules/normalized/chr22_100kb_normKR_direct.npbin] ...\n",
      "INFO:save_ccmap:       Finished!!!\n",
      "\n"
     ]
    }
   ],
   "source": [
    "# Name of ccmap file with path\n",
    "raw_ccmap_file = 'cmaps/CooMatrix/chr22_100kb_RawObserved.ccmap'\n",
    "\n",
    "# Name of output file\n",
    "outFile = 'normalized/chr22_100kb_normKR_direct.ccmap'   \n",
    "\n",
    "# Perform normalization and save to output file\n",
    "gmlib.normalizer.normalizeCCMapByKR(raw_ccmap_file, outFile=outFile, memory='RAM')"
   ]
  },
  {
   "cell_type": "raw",
   "metadata": {
    "raw_mimetype": "text/restructuredtext"
   },
   "source": [
    ".. seealso::\n",
    "    Function :meth:`gcMapExplorer.lib.normalizer.normalizeCCMapByKR` for more details."
   ]
  },
  {
   "cell_type": "markdown",
   "metadata": {},
   "source": [
    "**Normalize and save Hi-C map thorough CCMAP object**\n",
    "\n",
    "* Load the ccmap as CCMAP object\n",
    "* Normalize it\n",
    "* Save as ccmap file"
   ]
  },
  {
   "cell_type": "code",
   "execution_count": 4,
   "metadata": {},
   "outputs": [
    {
     "name": "stderr",
     "output_type": "stream",
     "text": [
      "INFO:normalizer: KR Normalization will be done through RAM.\n",
      "INFO:normalizer: KR Normalization is in process for chr22 map...\n",
      "INFO:normalizer: \t...Finished KR Normalization for chr22 map...\n",
      "INFO:save_ccmap: Saving ccmap to file [normalized/chr22_100kb_normKR.ccmap] and [/home/rajendra/workspace/genome_3d_organization/tutorials_modules/normalized/chr22_100kb_normKR.npbin] ...\n",
      "INFO:save_ccmap: Compressing [/home/rajendra/workspace/genome_3d_organization/tutorials_modules/normalized/chr22_100kb_normKR.npbin] ...\n",
      "INFO:save_ccmap:       Finished!!!\n",
      "\n"
     ]
    }
   ],
   "source": [
    "# Load the ccmap file as CCMAP object\n",
    "raw_ccmap = gmlib.ccmap.load_ccmap(raw_ccmap_file)\n",
    "\n",
    "# Perform normalization and save to output file\n",
    "norm_ccmap = gmlib.normalizer.normalizeCCMapByKR(raw_ccmap_file, memory='RAM')\n",
    "\n",
    "# Save ccmap file\n",
    "gmlib.ccmap.save_ccmap(norm_ccmap, 'normalized/chr22_100kb_normKR.ccmap', compress=True)\n",
    "\n",
    "# Remove CCMAP object from memory and generated temporary files\n",
    "del raw_ccmap     \n",
    "del norm_ccmap"
   ]
  },
  {
   "cell_type": "raw",
   "metadata": {
    "raw_mimetype": "text/restructuredtext"
   },
   "source": [
    ".. seealso::\n",
    "    Function :meth:`gcMapExplorer.lib.ccmap.load_ccmap` for more details."
   ]
  },
  {
   "cell_type": "markdown",
   "metadata": {},
   "source": [
    "**Whether using RAM and HDD yield same result**\n",
    "\n",
    "Here, we test whether using RAM and HDD yield same results. We also calculate total time taken for normalization.\n"
   ]
  },
  {
   "cell_type": "code",
   "execution_count": 5,
   "metadata": {},
   "outputs": [
    {
     "name": "stderr",
     "output_type": "stream",
     "text": [
      "INFO:normalizer: KR Normalization will be done through RAM.\n",
      "INFO:normalizer: KR Normalization is in process for chr1 map...\n"
     ]
    },
    {
     "name": "stdout",
     "output_type": "stream",
     "text": [
      "Time using RAM: \n"
     ]
    },
    {
     "name": "stderr",
     "output_type": "stream",
     "text": [
      "INFO:normalizer: \t...Finished KR Normalization for chr1 map...\n",
      "INFO:normalizer: KR Normalization will be done through RAM.\n",
      "INFO:normalizer: KR Normalization is in process for chr1 map...\n",
      "INFO:normalizer: \t...Finished KR Normalization for chr1 map...\n",
      "INFO:normalizer: KR Normalization will be done through RAM.\n",
      "INFO:normalizer: KR Normalization is in process for chr1 map...\n",
      "INFO:normalizer: \t...Finished KR Normalization for chr1 map...\n",
      "INFO:normalizer: KR Normalization will be done through RAM.\n",
      "INFO:normalizer: KR Normalization is in process for chr1 map...\n",
      "INFO:normalizer: \t...Finished KR Normalization for chr1 map...\n",
      "INFO:normalizer: KR Normalization will be done through RAM.\n",
      "INFO:normalizer: KR Normalization is in process for chr1 map...\n",
      "INFO:normalizer: \t...Finished KR Normalization for chr1 map...\n",
      "INFO:normalizer: KR Normalization will be done through RAM.\n",
      "INFO:normalizer: KR Normalization is in process for chr1 map...\n",
      "INFO:normalizer: \t...Finished KR Normalization for chr1 map...\n",
      "INFO:normalizer: KR Normalization will be done through RAM.\n",
      "INFO:normalizer: KR Normalization is in process for chr1 map...\n",
      "INFO:normalizer: \t...Finished KR Normalization for chr1 map...\n",
      "INFO:normalizer: KR Normalization will be done through RAM.\n",
      "INFO:normalizer: KR Normalization is in process for chr1 map...\n",
      "INFO:normalizer: \t...Finished KR Normalization for chr1 map...\n",
      "INFO:normalizer: KR Normalization will be done through HDD.\n",
      "INFO:normalizer: KR Normalization is in process for chr1 map...\n"
     ]
    },
    {
     "name": "stdout",
     "output_type": "stream",
     "text": [
      "6.38 s ± 827 ms per loop (mean ± std. dev. of 7 runs, 1 loop each)\n",
      "Time using HDD: \n"
     ]
    },
    {
     "name": "stderr",
     "output_type": "stream",
     "text": [
      "INFO:normalizer: \t...Finished KR Normalization for chr1 map...\n",
      "INFO:normalizer: KR Normalization will be done through HDD.\n",
      "INFO:normalizer: KR Normalization is in process for chr1 map...\n",
      "INFO:normalizer: \t...Finished KR Normalization for chr1 map...\n",
      "INFO:normalizer: KR Normalization will be done through HDD.\n",
      "INFO:normalizer: KR Normalization is in process for chr1 map...\n",
      "INFO:normalizer: \t...Finished KR Normalization for chr1 map...\n",
      "INFO:normalizer: KR Normalization will be done through HDD.\n",
      "INFO:normalizer: KR Normalization is in process for chr1 map...\n",
      "INFO:normalizer: \t...Finished KR Normalization for chr1 map...\n",
      "INFO:normalizer: KR Normalization will be done through HDD.\n",
      "INFO:normalizer: KR Normalization is in process for chr1 map...\n",
      "INFO:normalizer: \t...Finished KR Normalization for chr1 map...\n",
      "INFO:normalizer: KR Normalization will be done through HDD.\n",
      "INFO:normalizer: KR Normalization is in process for chr1 map...\n",
      "INFO:normalizer: \t...Finished KR Normalization for chr1 map...\n",
      "INFO:normalizer: KR Normalization will be done through HDD.\n",
      "INFO:normalizer: KR Normalization is in process for chr1 map...\n",
      "INFO:normalizer: \t...Finished KR Normalization for chr1 map...\n",
      "INFO:normalizer: KR Normalization will be done through HDD.\n",
      "INFO:normalizer: KR Normalization is in process for chr1 map...\n",
      "INFO:normalizer: \t...Finished KR Normalization for chr1 map...\n",
      "INFO:normalizer: KR Normalization will be done through HDD.\n",
      "INFO:normalizer: KR Normalization is in process for chr1 map...\n"
     ]
    },
    {
     "name": "stdout",
     "output_type": "stream",
     "text": [
      "20 s ± 988 ms per loop (mean ± std. dev. of 7 runs, 1 loop each)\n"
     ]
    },
    {
     "name": "stderr",
     "output_type": "stream",
     "text": [
      "INFO:normalizer: \t...Finished KR Normalization for chr1 map...\n",
      "INFO:normalizer: KR Normalization will be done through RAM.\n",
      "INFO:normalizer: KR Normalization is in process for chr1 map...\n",
      "INFO:normalizer: \t...Finished KR Normalization for chr1 map...\n"
     ]
    },
    {
     "name": "stdout",
     "output_type": "stream",
     "text": [
      "If matrix from RAM and HDD are similar:  True\n"
     ]
    }
   ],
   "source": [
    "raw_ccmap = gmlib.ccmap.load_ccmap('cmaps/CooMatrix/chr1_100kb_RawObserved.ccmap')\n",
    "\n",
    "print('Time using RAM: ')\n",
    "%timeit norm_ram = gmlib.normalizer.normalizeCCMapByKR(raw_ccmap, memory='RAM')\n",
    "\n",
    "print('Time using HDD: ')\n",
    "%timeit norm_hdd = gmlib.normalizer.normalizeCCMapByKR(raw_ccmap, memory='HDD')\n",
    "\n",
    "# Again renormalize\n",
    "norm_hdd = gmlib.normalizer.normalizeCCMapByKR(raw_ccmap, memory='HDD')\n",
    "norm_ram = gmlib.normalizer.normalizeCCMapByKR(raw_ccmap, memory='RAM')\n",
    "norm_ram.make_readable()\n",
    "norm_hdd.make_readable()\n",
    "\n",
    "print('If matrix from RAM and HDD are similar: ', np.allclose(norm_ram.matrix, norm_hdd.matrix) )\n",
    "del raw_ccmap\n",
    "del norm_ram\n",
    "del norm_hdd"
   ]
  },
  {
   "cell_type": "markdown",
   "metadata": {},
   "source": [
    "***\n",
    "\n",
    "\n",
    "**Normalize and save all ccmaps**"
   ]
  },
  {
   "cell_type": "code",
   "execution_count": 6,
   "metadata": {},
   "outputs": [
    {
     "name": "stderr",
     "output_type": "stream",
     "text": [
      "INFO:normalizer: KR Normalization will be done through RAM.\n",
      "INFO:normalizer: KR Normalization is in process for chr1 map...\n",
      "INFO:normalizer: \t...Finished KR Normalization for chr1 map...\n",
      "INFO:save_ccmap: Saving ccmap to file [normalized/chr1_100kb_normKR.ccmap] and [/home/rajendra/workspace/genome_3d_organization/tutorials_modules/normalized/chr1_100kb_normKR.npbin] ...\n",
      "INFO:save_ccmap: Compressing [/home/rajendra/workspace/genome_3d_organization/tutorials_modules/normalized/chr1_100kb_normKR.npbin] ...\n",
      "INFO:save_ccmap:       Finished!!!\n",
      "\n",
      "INFO:normalizer: KR Normalization will be done through RAM.\n",
      "INFO:normalizer: KR Normalization is in process for chr5 map...\n",
      "INFO:normalizer: \t...Finished KR Normalization for chr5 map...\n",
      "INFO:save_ccmap: Saving ccmap to file [normalized/chr5_100kb_normKR.ccmap] and [/home/rajendra/workspace/genome_3d_organization/tutorials_modules/normalized/chr5_100kb_normKR.npbin] ...\n",
      "INFO:save_ccmap: Compressing [/home/rajendra/workspace/genome_3d_organization/tutorials_modules/normalized/chr5_100kb_normKR.npbin] ...\n",
      "INFO:save_ccmap:       Finished!!!\n",
      "\n",
      "INFO:normalizer: KR Normalization will be done through RAM.\n",
      "INFO:normalizer: KR Normalization is in process for chr15 map...\n",
      "INFO:normalizer: \t...Finished KR Normalization for chr15 map...\n",
      "INFO:save_ccmap: Saving ccmap to file [normalized/chr15_100kb_normKR.ccmap] and [/home/rajendra/workspace/genome_3d_organization/tutorials_modules/normalized/chr15_100kb_normKR.npbin] ...\n",
      "INFO:save_ccmap: Compressing [/home/rajendra/workspace/genome_3d_organization/tutorials_modules/normalized/chr15_100kb_normKR.npbin] ...\n",
      "INFO:save_ccmap:       Finished!!!\n",
      "\n",
      "INFO:normalizer: KR Normalization will be done through RAM.\n",
      "INFO:normalizer: KR Normalization is in process for chr20 map...\n",
      "INFO:normalizer: \t...Finished KR Normalization for chr20 map...\n",
      "INFO:save_ccmap: Saving ccmap to file [normalized/chr20_100kb_normKR.ccmap] and [/home/rajendra/workspace/genome_3d_organization/tutorials_modules/normalized/chr20_100kb_normKR.npbin] ...\n",
      "INFO:save_ccmap: Compressing [/home/rajendra/workspace/genome_3d_organization/tutorials_modules/normalized/chr20_100kb_normKR.npbin] ...\n",
      "INFO:save_ccmap:       Finished!!!\n",
      "\n",
      "INFO:normalizer: KR Normalization will be done through RAM.\n",
      "INFO:normalizer: KR Normalization is in process for chr21 map...\n",
      "INFO:normalizer: \t...Finished KR Normalization for chr21 map...\n",
      "INFO:save_ccmap: Saving ccmap to file [normalized/chr21_100kb_normKR.ccmap] and [/home/rajendra/workspace/genome_3d_organization/tutorials_modules/normalized/chr21_100kb_normKR.npbin] ...\n",
      "INFO:save_ccmap: Compressing [/home/rajendra/workspace/genome_3d_organization/tutorials_modules/normalized/chr21_100kb_normKR.npbin] ...\n",
      "INFO:save_ccmap:       Finished!!!\n",
      "\n"
     ]
    }
   ],
   "source": [
    "chroms = [1, 5, 15, 20, 21]      # List of chromosomes\n",
    "\n",
    "# Loop for each chromosome\n",
    "for chrom in chroms:\n",
    "    input_file = 'cmaps/CooMatrix/chr{0}_100kb_RawObserved.ccmap' .format(chrom)\n",
    "    output_file = 'normalized/chr{0}_100kb_normKR.ccmap' .format(chrom)\n",
    "    \n",
    "    raw_ccmap = gmlib.ccmap.load_ccmap(input_file)\n",
    "    norm_ccmap = gmlib.normalizer.normalizeCCMapByKR(raw_ccmap, memory='RAM', workDir=os.getcwd())\n",
    "    gmlib.ccmap.save_ccmap(norm_ccmap, output_file, compress=True)\n",
    "\n",
    "    del raw_ccmap     # Remove CCMAP object from memory and any related temporary files\n",
    "    del norm_ccmap    # Remove CCMAP object from memory and any related temporary files"
   ]
  },
  {
   "cell_type": "markdown",
   "metadata": {},
   "source": [
    "All normalized ccmap files are saved in `output` directory."
   ]
  },
  {
   "cell_type": "markdown",
   "metadata": {},
   "source": [
    "***\n",
    "\n",
    "**Normalize all maps from a gcmap file using KR method**\n",
    "\n",
    "Maps stored in a gcmap files can be normalized and stored in another gcmap files. Tolerance is increased to `1e-5` value so that normalized values can be later comapred with original algorithm."
   ]
  },
  {
   "cell_type": "code",
   "execution_count": 7,
   "metadata": {},
   "outputs": [
    {
     "name": "stderr",
     "output_type": "stream",
     "text": [
      "INFO:normalizer: KR Normalization will be done through RAM.\n",
      "INFO:normalizer: KR Normalization is in process for chr21 map...\n",
      "INFO:normalizer: \t...Finished KR Normalization for chr21 map...\n",
      "INFO:addCCMap2GCMap: Opened file [normalized/normKR_100kb.gcmap] for reading writing..\n",
      "INFO:addCCMap2GCMap: Adding data to [normalized/normKR_100kb.gcmap] for [chr21] ...\n",
      "INFO:addCCMap2GCMap:     ...Finished adding data for [chr21] ...\n",
      "INFO:addCCMap2GCMap: Generating downsampled maps for [chr21] ...\n",
      "INFO:addCCMap2GCMap:     ... Finished downsampling for [chr21] ...\n",
      "INFO:addCCMap2GCMap: Closed file [normalized/normKR_100kb.gcmap]...\n",
      "INFO:normalizer: KR Normalization will be done through RAM.\n",
      "INFO:normalizer: KR Normalization is in process for chr22 map...\n",
      "INFO:normalizer: \t...Finished KR Normalization for chr22 map...\n",
      "INFO:addCCMap2GCMap: Opened file [normalized/normKR_100kb.gcmap] for reading writing..\n",
      "INFO:addCCMap2GCMap: Adding data to [normalized/normKR_100kb.gcmap] for [chr22] ...\n",
      "INFO:addCCMap2GCMap:     ...Finished adding data for [chr22] ...\n",
      "INFO:addCCMap2GCMap: Generating downsampled maps for [chr22] ...\n",
      "INFO:addCCMap2GCMap:     ... Finished downsampling for [chr22] ...\n",
      "INFO:addCCMap2GCMap: Closed file [normalized/normKR_100kb.gcmap]...\n",
      "INFO:normalizer: KR Normalization will be done through RAM.\n",
      "INFO:normalizer: KR Normalization is in process for chr20 map...\n",
      "INFO:normalizer: \t...Finished KR Normalization for chr20 map...\n",
      "INFO:addCCMap2GCMap: Opened file [normalized/normKR_100kb.gcmap] for reading writing..\n",
      "INFO:addCCMap2GCMap: Adding data to [normalized/normKR_100kb.gcmap] for [chr20] ...\n",
      "INFO:addCCMap2GCMap:     ...Finished adding data for [chr20] ...\n",
      "INFO:addCCMap2GCMap: Generating downsampled maps for [chr20] ...\n",
      "INFO:addCCMap2GCMap:     ... Finished downsampling for [chr20] ...\n",
      "INFO:addCCMap2GCMap: Closed file [normalized/normKR_100kb.gcmap]...\n",
      "INFO:normalizer: KR Normalization will be done through RAM.\n",
      "INFO:normalizer: KR Normalization is in process for chr15 map...\n",
      "INFO:normalizer: \t...Finished KR Normalization for chr15 map...\n",
      "INFO:addCCMap2GCMap: Opened file [normalized/normKR_100kb.gcmap] for reading writing..\n",
      "INFO:addCCMap2GCMap: Adding data to [normalized/normKR_100kb.gcmap] for [chr15] ...\n",
      "INFO:addCCMap2GCMap:     ...Finished adding data for [chr15] ...\n",
      "INFO:addCCMap2GCMap: Generating downsampled maps for [chr15] ...\n",
      "INFO:addCCMap2GCMap:     ... Finished downsampling for [chr15] ...\n",
      "INFO:addCCMap2GCMap: Closed file [normalized/normKR_100kb.gcmap]...\n",
      "INFO:normalizer: KR Normalization will be done through RAM.\n",
      "INFO:normalizer: KR Normalization is in process for chr5 map...\n",
      "INFO:normalizer: \t...Finished KR Normalization for chr5 map...\n",
      "INFO:addCCMap2GCMap: Opened file [normalized/normKR_100kb.gcmap] for reading writing..\n",
      "INFO:addCCMap2GCMap: Adding data to [normalized/normKR_100kb.gcmap] for [chr5] ...\n",
      "INFO:addCCMap2GCMap:     ...Finished adding data for [chr5] ...\n",
      "INFO:addCCMap2GCMap: Generating downsampled maps for [chr5] ...\n",
      "INFO:addCCMap2GCMap:     ... Finished downsampling for [chr5] ...\n",
      "INFO:addCCMap2GCMap: Closed file [normalized/normKR_100kb.gcmap]...\n",
      "INFO:normalizer: KR Normalization will be done through RAM.\n",
      "INFO:normalizer: KR Normalization is in process for chr1 map...\n",
      "INFO:normalizer: \t...Finished KR Normalization for chr1 map...\n",
      "INFO:addCCMap2GCMap: Opened file [normalized/normKR_100kb.gcmap] for reading writing..\n",
      "INFO:addCCMap2GCMap: Adding data to [normalized/normKR_100kb.gcmap] for [chr1] ...\n",
      "INFO:addCCMap2GCMap:     ...Finished adding data for [chr1] ...\n",
      "INFO:addCCMap2GCMap: Generating downsampled maps for [chr1] ...\n",
      "INFO:addCCMap2GCMap:     ... Finished downsampling for [chr1] ...\n",
      "INFO:addCCMap2GCMap: Closed file [normalized/normKR_100kb.gcmap]...\n"
     ]
    }
   ],
   "source": [
    "# Input raw gcmap file\n",
    "raw_gcmap_file = 'cmaps/CooMatrix/rawObserved_100kb.gcmap'\n",
    "\n",
    "# Name of output gcmap file\n",
    "normKR_gcmap_file = 'normalized/normKR_100kb.gcmap'\n",
    "\n",
    "# Perform normalization and save to output file\n",
    "gmlib.normalizer.normalizeGCMapByKR(raw_gcmap_file, normKR_gcmap_file, tol=1e-4)"
   ]
  },
  {
   "cell_type": "raw",
   "metadata": {
    "raw_mimetype": "text/restructuredtext"
   },
   "source": [
    ".. seealso::\n",
    "   Function :meth:`gcMapExplorer.lib.normalizer.normalizeGCMapByKR` for more details."
   ]
  },
  {
   "cell_type": "markdown",
   "metadata": {},
   "source": [
    "***\n",
    "\n",
    "### Normalize by Iterative correction method\n",
    "\n",
    "This method normalize the raw contact map by removing biases from experimental procedure.\n",
    "For more details, see [this publication](http://www.nature.com/nmeth/journal/v9/n10/full/nmeth.2148.html).\n",
    "\n"
   ]
  },
  {
   "cell_type": "raw",
   "metadata": {
    "raw_mimetype": "text/restructuredtext"
   },
   "source": [
    ".. seealso::\n",
    "   Function :meth:`gcMapExplorer.lib.normalizer.normalizeCCMapByIC` for more details."
   ]
  },
  {
   "cell_type": "code",
   "execution_count": 8,
   "metadata": {},
   "outputs": [
    {
     "name": "stderr",
     "output_type": "stream",
     "text": [
      "INFO:normalizer: Iterative Correction is in process for chr1 map...\n",
      "INFO:normalizer: \t...Finished Iterative Correction for chr1 map...\n",
      "INFO:save_ccmap: Saving ccmap to file [normalized/chr1_100kb_IC.ccmap] and [/home/rajendra/workspace/genome_3d_organization/tutorials_modules/normalized/chr1_100kb_IC.npbin] ...\n",
      "INFO:save_ccmap: Compressing [/home/rajendra/workspace/genome_3d_organization/tutorials_modules/normalized/chr1_100kb_IC.npbin] ...\n",
      "INFO:save_ccmap:       Finished!!!\n",
      "\n",
      "INFO:normalizer: Iterative Correction is in process for chr5 map...\n",
      "INFO:normalizer: \t...Finished Iterative Correction for chr5 map...\n",
      "INFO:save_ccmap: Saving ccmap to file [normalized/chr5_100kb_IC.ccmap] and [/home/rajendra/workspace/genome_3d_organization/tutorials_modules/normalized/chr5_100kb_IC.npbin] ...\n",
      "INFO:save_ccmap: Compressing [/home/rajendra/workspace/genome_3d_organization/tutorials_modules/normalized/chr5_100kb_IC.npbin] ...\n",
      "INFO:save_ccmap:       Finished!!!\n",
      "\n",
      "INFO:normalizer: Iterative Correction is in process for chr15 map...\n",
      "INFO:normalizer: \t...Finished Iterative Correction for chr15 map...\n",
      "INFO:save_ccmap: Saving ccmap to file [normalized/chr15_100kb_IC.ccmap] and [/home/rajendra/workspace/genome_3d_organization/tutorials_modules/normalized/chr15_100kb_IC.npbin] ...\n",
      "INFO:save_ccmap: Compressing [/home/rajendra/workspace/genome_3d_organization/tutorials_modules/normalized/chr15_100kb_IC.npbin] ...\n",
      "INFO:save_ccmap:       Finished!!!\n",
      "\n",
      "INFO:normalizer: Iterative Correction is in process for chr20 map...\n",
      "INFO:normalizer: \t...Finished Iterative Correction for chr20 map...\n",
      "INFO:save_ccmap: Saving ccmap to file [normalized/chr20_100kb_IC.ccmap] and [/home/rajendra/workspace/genome_3d_organization/tutorials_modules/normalized/chr20_100kb_IC.npbin] ...\n",
      "INFO:save_ccmap: Compressing [/home/rajendra/workspace/genome_3d_organization/tutorials_modules/normalized/chr20_100kb_IC.npbin] ...\n",
      "INFO:save_ccmap:       Finished!!!\n",
      "\n",
      "INFO:normalizer: Iterative Correction is in process for chr21 map...\n",
      "INFO:normalizer: \t...Finished Iterative Correction for chr21 map...\n",
      "INFO:save_ccmap: Saving ccmap to file [normalized/chr21_100kb_IC.ccmap] and [/home/rajendra/workspace/genome_3d_organization/tutorials_modules/normalized/chr21_100kb_IC.npbin] ...\n",
      "INFO:save_ccmap: Compressing [/home/rajendra/workspace/genome_3d_organization/tutorials_modules/normalized/chr21_100kb_IC.npbin] ...\n",
      "INFO:save_ccmap:       Finished!!!\n",
      "\n"
     ]
    }
   ],
   "source": [
    "chroms = [1, 5, 15, 20, 21]      # List of chromosomes\n",
    "\n",
    "# Loop for each chromosome\n",
    "for chrom in chroms:\n",
    "    input_file = 'cmaps/CooMatrix/chr{0}_100kb_RawObserved.ccmap' .format(chrom)\n",
    "    output_file = 'normalized/chr{0}_100kb_IC.ccmap' .format(chrom)\n",
    "    \n",
    "    raw_ccmap = gmlib.ccmap.load_ccmap(input_file)\n",
    "    norm_ccmap = gmlib.normalizer.normalizeCCMapByIC(raw_ccmap)\n",
    "    gmlib.ccmap.save_ccmap(norm_ccmap, output_file, compress=True)\n",
    "\n",
    "    del raw_ccmap     # Remove CCMAP object from memory and any related temporary files\n",
    "    del norm_ccmap    # Remove CCMAP object from memory and any related temporary files"
   ]
  },
  {
   "cell_type": "markdown",
   "metadata": {},
   "source": [
    "***\n",
    "\n",
    "**Normalize all maps from a gcmap file using IC method**\n",
    "\n",
    "Maps stored in a gcmap files can be normalized and stored in another gcmap files.\n",
    "\n",
    "**Note**: Here we used high tolerance and large number of iteration."
   ]
  },
  {
   "cell_type": "code",
   "execution_count": 9,
   "metadata": {},
   "outputs": [
    {
     "name": "stderr",
     "output_type": "stream",
     "text": [
      "INFO:normalizer: Iterative Correction is in process for chr21 map...\n",
      "INFO:normalizer: \t...Finished Iterative Correction for chr21 map...\n",
      "INFO:addCCMap2GCMap: Opened file [normalized/normIC_100kb.gcmap] for reading writing..\n",
      "INFO:addCCMap2GCMap: Adding data to [normalized/normIC_100kb.gcmap] for [chr21] ...\n",
      "INFO:addCCMap2GCMap:     ...Finished adding data for [chr21] ...\n",
      "INFO:addCCMap2GCMap: Generating downsampled maps for [chr21] ...\n",
      "INFO:addCCMap2GCMap:     ... Finished downsampling for [chr21] ...\n",
      "INFO:addCCMap2GCMap: Closed file [normalized/normIC_100kb.gcmap]...\n",
      "INFO:normalizer: Iterative Correction is in process for chr22 map...\n",
      "INFO:normalizer: \t...Finished Iterative Correction for chr22 map...\n",
      "INFO:addCCMap2GCMap: Opened file [normalized/normIC_100kb.gcmap] for reading writing..\n",
      "INFO:addCCMap2GCMap: Adding data to [normalized/normIC_100kb.gcmap] for [chr22] ...\n",
      "INFO:addCCMap2GCMap:     ...Finished adding data for [chr22] ...\n",
      "INFO:addCCMap2GCMap: Generating downsampled maps for [chr22] ...\n",
      "INFO:addCCMap2GCMap:     ... Finished downsampling for [chr22] ...\n",
      "INFO:addCCMap2GCMap: Closed file [normalized/normIC_100kb.gcmap]...\n",
      "INFO:normalizer: Iterative Correction is in process for chr20 map...\n",
      "INFO:normalizer: \t...Finished Iterative Correction for chr20 map...\n",
      "INFO:addCCMap2GCMap: Opened file [normalized/normIC_100kb.gcmap] for reading writing..\n",
      "INFO:addCCMap2GCMap: Adding data to [normalized/normIC_100kb.gcmap] for [chr20] ...\n",
      "INFO:addCCMap2GCMap:     ...Finished adding data for [chr20] ...\n",
      "INFO:addCCMap2GCMap: Generating downsampled maps for [chr20] ...\n",
      "INFO:addCCMap2GCMap:     ... Finished downsampling for [chr20] ...\n",
      "INFO:addCCMap2GCMap: Closed file [normalized/normIC_100kb.gcmap]...\n",
      "INFO:normalizer: Iterative Correction is in process for chr15 map...\n",
      "INFO:normalizer: \t...Finished Iterative Correction for chr15 map...\n",
      "INFO:addCCMap2GCMap: Opened file [normalized/normIC_100kb.gcmap] for reading writing..\n",
      "INFO:addCCMap2GCMap: Adding data to [normalized/normIC_100kb.gcmap] for [chr15] ...\n",
      "INFO:addCCMap2GCMap:     ...Finished adding data for [chr15] ...\n",
      "INFO:addCCMap2GCMap: Generating downsampled maps for [chr15] ...\n",
      "INFO:addCCMap2GCMap:     ... Finished downsampling for [chr15] ...\n",
      "INFO:addCCMap2GCMap: Closed file [normalized/normIC_100kb.gcmap]...\n",
      "INFO:normalizer: Iterative Correction is in process for chr5 map...\n",
      "INFO:normalizer: \t...Finished Iterative Correction for chr5 map...\n",
      "INFO:addCCMap2GCMap: Opened file [normalized/normIC_100kb.gcmap] for reading writing..\n",
      "INFO:addCCMap2GCMap: Adding data to [normalized/normIC_100kb.gcmap] for [chr5] ...\n",
      "INFO:addCCMap2GCMap:     ...Finished adding data for [chr5] ...\n",
      "INFO:addCCMap2GCMap: Generating downsampled maps for [chr5] ...\n",
      "INFO:addCCMap2GCMap:     ... Finished downsampling for [chr5] ...\n",
      "INFO:addCCMap2GCMap: Closed file [normalized/normIC_100kb.gcmap]...\n",
      "INFO:normalizer: Iterative Correction is in process for chr1 map...\n",
      "INFO:normalizer: \t...Finished Iterative Correction for chr1 map...\n",
      "INFO:addCCMap2GCMap: Opened file [normalized/normIC_100kb.gcmap] for reading writing..\n",
      "INFO:addCCMap2GCMap: Adding data to [normalized/normIC_100kb.gcmap] for [chr1] ...\n",
      "INFO:addCCMap2GCMap:     ...Finished adding data for [chr1] ...\n",
      "INFO:addCCMap2GCMap: Generating downsampled maps for [chr1] ...\n",
      "INFO:addCCMap2GCMap:     ... Finished downsampling for [chr1] ...\n",
      "INFO:addCCMap2GCMap: Closed file [normalized/normIC_100kb.gcmap]...\n"
     ]
    }
   ],
   "source": [
    "# Input raw gcmap file\n",
    "raw_gcmap_file = 'cmaps/CooMatrix/rawObserved_100kb.gcmap'\n",
    "\n",
    "# Name of output gcmap file\n",
    "normIC_gcmap_file = 'normalized/normIC_100kb.gcmap'\n",
    "\n",
    "# Perform normalization and save to output file\n",
    "# Not that here we used high tolerance and large number of iteration\n",
    "gmlib.normalizer.normalizeGCMapByIC(raw_gcmap_file, normIC_gcmap_file, tol=1e-4, iteration=3000)"
   ]
  },
  {
   "cell_type": "raw",
   "metadata": {
    "raw_mimetype": "text/restructuredtext"
   },
   "source": [
    ".. seealso::\n",
    "   Function :meth:`gcMapExplorer.lib.normalizer.normalizeGCMapByIC` for more details."
   ]
  },
  {
   "cell_type": "markdown",
   "metadata": {},
   "source": [
    "***\n",
    "\n",
    "### Normalize by Median Contact Frequency Scaling (MCFS)\n",
    "\n",
    "This method can be used to scale Hi-C map using median contact values for respective distance between two locations/coordinates. At first, median distance contact frequency for each distance is calculated, and subsequently, the observed contact frequency is scaled (divided) by respective median distance contact frequency.\n"
   ]
  },
  {
   "cell_type": "raw",
   "metadata": {
    "raw_mimetype": "text/restructuredtext"
   },
   "source": [
    ".. seealso::\n",
    "   Function :meth:`gcMapExplorer.lib.normalizer.normalizeCCMapByMCFS` for more details."
   ]
  },
  {
   "cell_type": "code",
   "execution_count": 10,
   "metadata": {},
   "outputs": [
    {
     "name": "stderr",
     "output_type": "stream",
     "text": [
      "INFO:normalizer: Median Contact Frequency Scaling is in process for chr1 map...\n",
      "INFO:normalizer: \t...Finished Median Contact Frequency Scaling for chr1 map...\n",
      "INFO:save_ccmap: Saving ccmap to file [normalized/chr1_100kb_MCFS.ccmap] and [/home/rajendra/workspace/genome_3d_organization/tutorials_modules/normalized/chr1_100kb_MCFS.npbin] ...\n",
      "INFO:save_ccmap: Compressing [/home/rajendra/workspace/genome_3d_organization/tutorials_modules/normalized/chr1_100kb_MCFS.npbin] ...\n",
      "INFO:save_ccmap:       Finished!!!\n",
      "\n",
      "INFO:normalizer: Median Contact Frequency Scaling is in process for chr5 map...\n",
      "INFO:normalizer: \t...Finished Median Contact Frequency Scaling for chr5 map...\n",
      "INFO:save_ccmap: Saving ccmap to file [normalized/chr5_100kb_MCFS.ccmap] and [/home/rajendra/workspace/genome_3d_organization/tutorials_modules/normalized/chr5_100kb_MCFS.npbin] ...\n",
      "INFO:save_ccmap: Compressing [/home/rajendra/workspace/genome_3d_organization/tutorials_modules/normalized/chr5_100kb_MCFS.npbin] ...\n",
      "INFO:save_ccmap:       Finished!!!\n",
      "\n",
      "INFO:normalizer: Median Contact Frequency Scaling is in process for chr15 map...\n",
      "INFO:normalizer: \t...Finished Median Contact Frequency Scaling for chr15 map...\n",
      "INFO:save_ccmap: Saving ccmap to file [normalized/chr15_100kb_MCFS.ccmap] and [/home/rajendra/workspace/genome_3d_organization/tutorials_modules/normalized/chr15_100kb_MCFS.npbin] ...\n",
      "INFO:save_ccmap: Compressing [/home/rajendra/workspace/genome_3d_organization/tutorials_modules/normalized/chr15_100kb_MCFS.npbin] ...\n",
      "INFO:save_ccmap:       Finished!!!\n",
      "\n",
      "INFO:normalizer: Median Contact Frequency Scaling is in process for chr20 map...\n",
      "INFO:normalizer: \t...Finished Median Contact Frequency Scaling for chr20 map...\n",
      "INFO:save_ccmap: Saving ccmap to file [normalized/chr20_100kb_MCFS.ccmap] and [/home/rajendra/workspace/genome_3d_organization/tutorials_modules/normalized/chr20_100kb_MCFS.npbin] ...\n",
      "INFO:save_ccmap: Compressing [/home/rajendra/workspace/genome_3d_organization/tutorials_modules/normalized/chr20_100kb_MCFS.npbin] ...\n",
      "INFO:save_ccmap:       Finished!!!\n",
      "\n",
      "INFO:normalizer: Median Contact Frequency Scaling is in process for chr21 map...\n",
      "INFO:normalizer: \t...Finished Median Contact Frequency Scaling for chr21 map...\n",
      "INFO:save_ccmap: Saving ccmap to file [normalized/chr21_100kb_MCFS.ccmap] and [/home/rajendra/workspace/genome_3d_organization/tutorials_modules/normalized/chr21_100kb_MCFS.npbin] ...\n",
      "INFO:save_ccmap: Compressing [/home/rajendra/workspace/genome_3d_organization/tutorials_modules/normalized/chr21_100kb_MCFS.npbin] ...\n",
      "INFO:save_ccmap:       Finished!!!\n",
      "\n"
     ]
    }
   ],
   "source": [
    "chroms = [1, 5, 15, 20, 21]      # List of chromosomes\n",
    "\n",
    "# Loop for each chromosome\n",
    "for chrom in chroms:\n",
    "    input_file = 'cmaps/CooMatrix/chr{0}_100kb_RawObserved.ccmap' .format(chrom)\n",
    "    output_file = 'normalized/chr{0}_100kb_MCFS.ccmap' .format(chrom)\n",
    "    \n",
    "    raw_ccmap = gmlib.ccmap.load_ccmap(input_file)\n",
    "    norm_ccmap = gmlib.normalizer.normalizeCCMapByMCFS(raw_ccmap)\n",
    "    gmlib.ccmap.save_ccmap(norm_ccmap, output_file, compress=True)\n",
    "\n",
    "    del raw_ccmap     # Remove CCMAP object from memory and any related temporary files\n",
    "    del norm_ccmap    # Remove CCMAP object from memory and any related temporary files"
   ]
  },
  {
   "cell_type": "markdown",
   "metadata": {},
   "source": [
    "***\n",
    "\n",
    "**Normalize all maps from a gcmap file using MCFS method**\n",
    "\n",
    "Maps stored in a gcmap files can be normalized and stored in another gcmap files."
   ]
  },
  {
   "cell_type": "code",
   "execution_count": 11,
   "metadata": {},
   "outputs": [
    {
     "name": "stderr",
     "output_type": "stream",
     "text": [
      "INFO:normalizer: Median Contact Frequency Scaling is in process for chr21 map...\n",
      "INFO:normalizer: \t...Finished Median Contact Frequency Scaling for chr21 map...\n",
      "INFO:addCCMap2GCMap: Opened file [normalized/normMCFS_100kb.gcmap] for reading writing..\n",
      "INFO:addCCMap2GCMap: Adding data to [normalized/normMCFS_100kb.gcmap] for [chr21 - 100kb] ...\n",
      "INFO:addCCMap2GCMap:     ...Finished adding data for [chr21] ...\n",
      "INFO:addCCMap2GCMap: Closed file [normalized/normMCFS_100kb.gcmap]...\n",
      "INFO:normalizer: Median Contact Frequency Scaling is in process for chr22 map...\n",
      "INFO:normalizer: \t...Finished Median Contact Frequency Scaling for chr22 map...\n",
      "INFO:addCCMap2GCMap: Opened file [normalized/normMCFS_100kb.gcmap] for reading writing..\n",
      "INFO:addCCMap2GCMap: Adding data to [normalized/normMCFS_100kb.gcmap] for [chr22 - 100kb] ...\n",
      "INFO:addCCMap2GCMap:     ...Finished adding data for [chr22] ...\n",
      "INFO:addCCMap2GCMap: Closed file [normalized/normMCFS_100kb.gcmap]...\n",
      "INFO:normalizer: Median Contact Frequency Scaling is in process for chr22 map...\n",
      "INFO:normalizer: \t...Finished Median Contact Frequency Scaling for chr22 map...\n",
      "INFO:addCCMap2GCMap: Opened file [normalized/normMCFS_100kb.gcmap] for reading writing..\n",
      "INFO:addCCMap2GCMap: Adding data to [normalized/normMCFS_100kb.gcmap] for [chr22 - 200kb] ...\n",
      "INFO:addCCMap2GCMap:     ...Finished adding data for [chr22] ...\n",
      "INFO:addCCMap2GCMap: Closed file [normalized/normMCFS_100kb.gcmap]...\n",
      "INFO:normalizer: Median Contact Frequency Scaling is in process for chr20 map...\n",
      "INFO:normalizer: \t...Finished Median Contact Frequency Scaling for chr20 map...\n",
      "INFO:addCCMap2GCMap: Opened file [normalized/normMCFS_100kb.gcmap] for reading writing..\n",
      "INFO:addCCMap2GCMap: Adding data to [normalized/normMCFS_100kb.gcmap] for [chr20 - 100kb] ...\n",
      "INFO:addCCMap2GCMap:     ...Finished adding data for [chr20] ...\n",
      "INFO:addCCMap2GCMap: Closed file [normalized/normMCFS_100kb.gcmap]...\n",
      "INFO:normalizer: Median Contact Frequency Scaling is in process for chr20 map...\n",
      "INFO:normalizer: \t...Finished Median Contact Frequency Scaling for chr20 map...\n",
      "INFO:addCCMap2GCMap: Opened file [normalized/normMCFS_100kb.gcmap] for reading writing..\n",
      "INFO:addCCMap2GCMap: Adding data to [normalized/normMCFS_100kb.gcmap] for [chr20 - 200kb] ...\n",
      "INFO:addCCMap2GCMap:     ...Finished adding data for [chr20] ...\n",
      "INFO:addCCMap2GCMap: Closed file [normalized/normMCFS_100kb.gcmap]...\n",
      "INFO:normalizer: Median Contact Frequency Scaling is in process for chr15 map...\n",
      "INFO:normalizer: \t...Finished Median Contact Frequency Scaling for chr15 map...\n",
      "INFO:addCCMap2GCMap: Opened file [normalized/normMCFS_100kb.gcmap] for reading writing..\n",
      "INFO:addCCMap2GCMap: Adding data to [normalized/normMCFS_100kb.gcmap] for [chr15 - 100kb] ...\n",
      "INFO:addCCMap2GCMap:     ...Finished adding data for [chr15] ...\n",
      "INFO:addCCMap2GCMap: Closed file [normalized/normMCFS_100kb.gcmap]...\n",
      "INFO:normalizer: Median Contact Frequency Scaling is in process for chr15 map...\n",
      "INFO:normalizer: \t...Finished Median Contact Frequency Scaling for chr15 map...\n",
      "INFO:addCCMap2GCMap: Opened file [normalized/normMCFS_100kb.gcmap] for reading writing..\n",
      "INFO:addCCMap2GCMap: Adding data to [normalized/normMCFS_100kb.gcmap] for [chr15 - 200kb] ...\n",
      "INFO:addCCMap2GCMap:     ...Finished adding data for [chr15] ...\n",
      "INFO:addCCMap2GCMap: Closed file [normalized/normMCFS_100kb.gcmap]...\n",
      "INFO:normalizer: Median Contact Frequency Scaling is in process for chr15 map...\n",
      "INFO:normalizer: \t...Finished Median Contact Frequency Scaling for chr15 map...\n",
      "INFO:addCCMap2GCMap: Opened file [normalized/normMCFS_100kb.gcmap] for reading writing..\n",
      "INFO:addCCMap2GCMap: Adding data to [normalized/normMCFS_100kb.gcmap] for [chr15 - 400kb] ...\n",
      "INFO:addCCMap2GCMap:     ...Finished adding data for [chr15] ...\n",
      "INFO:addCCMap2GCMap: Closed file [normalized/normMCFS_100kb.gcmap]...\n",
      "INFO:normalizer: Median Contact Frequency Scaling is in process for chr5 map...\n",
      "INFO:normalizer: \t...Finished Median Contact Frequency Scaling for chr5 map...\n",
      "INFO:addCCMap2GCMap: Opened file [normalized/normMCFS_100kb.gcmap] for reading writing..\n",
      "INFO:addCCMap2GCMap: Adding data to [normalized/normMCFS_100kb.gcmap] for [chr5 - 100kb] ...\n",
      "INFO:addCCMap2GCMap:     ...Finished adding data for [chr5] ...\n",
      "INFO:addCCMap2GCMap: Closed file [normalized/normMCFS_100kb.gcmap]...\n",
      "INFO:normalizer: Median Contact Frequency Scaling is in process for chr5 map...\n",
      "INFO:normalizer: \t...Finished Median Contact Frequency Scaling for chr5 map...\n",
      "INFO:addCCMap2GCMap: Opened file [normalized/normMCFS_100kb.gcmap] for reading writing..\n",
      "INFO:addCCMap2GCMap: Adding data to [normalized/normMCFS_100kb.gcmap] for [chr5 - 200kb] ...\n",
      "INFO:addCCMap2GCMap:     ...Finished adding data for [chr5] ...\n",
      "INFO:addCCMap2GCMap: Closed file [normalized/normMCFS_100kb.gcmap]...\n",
      "INFO:normalizer: Median Contact Frequency Scaling is in process for chr5 map...\n",
      "INFO:normalizer: \t...Finished Median Contact Frequency Scaling for chr5 map...\n",
      "INFO:addCCMap2GCMap: Opened file [normalized/normMCFS_100kb.gcmap] for reading writing..\n",
      "INFO:addCCMap2GCMap: Adding data to [normalized/normMCFS_100kb.gcmap] for [chr5 - 400kb] ...\n",
      "INFO:addCCMap2GCMap:     ...Finished adding data for [chr5] ...\n",
      "INFO:addCCMap2GCMap: Closed file [normalized/normMCFS_100kb.gcmap]...\n",
      "INFO:normalizer: Median Contact Frequency Scaling is in process for chr1 map...\n",
      "INFO:normalizer: \t...Finished Median Contact Frequency Scaling for chr1 map...\n",
      "INFO:addCCMap2GCMap: Opened file [normalized/normMCFS_100kb.gcmap] for reading writing..\n",
      "INFO:addCCMap2GCMap: Adding data to [normalized/normMCFS_100kb.gcmap] for [chr1 - 100kb] ...\n",
      "INFO:addCCMap2GCMap:     ...Finished adding data for [chr1] ...\n",
      "INFO:addCCMap2GCMap: Closed file [normalized/normMCFS_100kb.gcmap]...\n",
      "INFO:normalizer: Median Contact Frequency Scaling is in process for chr1 map...\n",
      "INFO:normalizer: \t...Finished Median Contact Frequency Scaling for chr1 map...\n",
      "INFO:addCCMap2GCMap: Opened file [normalized/normMCFS_100kb.gcmap] for reading writing..\n",
      "INFO:addCCMap2GCMap: Adding data to [normalized/normMCFS_100kb.gcmap] for [chr1 - 200kb] ...\n",
      "INFO:addCCMap2GCMap:     ...Finished adding data for [chr1] ...\n",
      "INFO:addCCMap2GCMap: Closed file [normalized/normMCFS_100kb.gcmap]...\n",
      "INFO:normalizer: Median Contact Frequency Scaling is in process for chr1 map...\n",
      "INFO:normalizer: \t...Finished Median Contact Frequency Scaling for chr1 map...\n",
      "INFO:addCCMap2GCMap: Opened file [normalized/normMCFS_100kb.gcmap] for reading writing..\n",
      "INFO:addCCMap2GCMap: Adding data to [normalized/normMCFS_100kb.gcmap] for [chr1 - 400kb] ...\n",
      "INFO:addCCMap2GCMap:     ...Finished adding data for [chr1] ...\n",
      "INFO:addCCMap2GCMap: Closed file [normalized/normMCFS_100kb.gcmap]...\n",
      "INFO:normalizer: Median Contact Frequency Scaling is in process for chr1 map...\n",
      "INFO:normalizer: \t...Finished Median Contact Frequency Scaling for chr1 map...\n",
      "INFO:addCCMap2GCMap: Opened file [normalized/normMCFS_100kb.gcmap] for reading writing..\n",
      "INFO:addCCMap2GCMap: Adding data to [normalized/normMCFS_100kb.gcmap] for [chr1 - 800kb] ...\n",
      "INFO:addCCMap2GCMap:     ...Finished adding data for [chr1] ...\n",
      "INFO:addCCMap2GCMap: Closed file [normalized/normMCFS_100kb.gcmap]...\n"
     ]
    }
   ],
   "source": [
    "# Name of output gcmap file\n",
    "normMCFS_gcmap_file = 'normalized/normMCFS_100kb.gcmap'\n",
    "\n",
    "\n",
    "# Perform scaling and save to output file\n",
    "gmlib.normalizer.normalizeGCMapByMCFS(raw_gcmap_file, normMCFS_gcmap_file)"
   ]
  },
  {
   "cell_type": "raw",
   "metadata": {
    "raw_mimetype": "text/restructuredtext"
   },
   "source": [
    ".. seealso::\n",
    "   Function :meth:`gcMapExplorer.lib.normalizer.normalizeGCMapByIC` for more details."
   ]
  }
 ],
 "metadata": {
  "celltoolbar": "Raw Cell Format",
  "kernelspec": {
   "display_name": "Python 3",
   "language": "python",
   "name": "python3"
  },
  "language_info": {
   "codemirror_mode": {
    "name": "ipython",
    "version": 3
   },
   "file_extension": ".py",
   "mimetype": "text/x-python",
   "name": "python",
   "nbconvert_exporter": "python",
   "pygments_lexer": "ipython3",
   "version": "3.4.3"
  }
 },
 "nbformat": 4,
 "nbformat_minor": 1
}
