{
 "cells": [
  {
   "cell_type": "markdown",
   "metadata": {},
   "source": [
    "## How to normalize Hi-C map?\n",
    "\n",
    "\n",
    "\n",
    "To normalize a Hi-C map, several methods have been implemented.\n",
    "\n",
    "* [Matrix balancing algorithm by Knight and Ruiz](http://imajna.oxfordjournals.org/content/33/3/1029)\n",
    "* Normalized using distance specific average contact\n",
    "\n"
   ]
  },
  {
   "cell_type": "raw",
   "metadata": {
    "raw_mimetype": "text/restructuredtext"
   },
   "source": [
    ".. note::\n",
    "    Following tutorial needs ``*.ccmap`` files, generated in :doc:`previous tutorial<import_ccmap>`.\n",
    "    \n",
    ".. seealso::\n",
    "    Module :mod:`gcMapExplorer.normalizer` for all implemented normalization methods in detail."
   ]
  },
  {
   "cell_type": "markdown",
   "metadata": {},
   "source": [
    "***\n",
    "\n",
    "### Matrix balancing algorithm by Knight and Ruiz\n",
    "\n",
    "**import gcMapExplorer.ccmap and gcMapExplorer.normalizer modules**"
   ]
  },
  {
   "cell_type": "code",
   "execution_count": 1,
   "metadata": {
    "collapsed": false
   },
   "outputs": [],
   "source": [
    "import gcMapExplorer.ccmap as cmp\n",
    "import gcMapExplorer.normalizer as cnorm\n",
    "import numpy as np\n",
    "import os"
   ]
  },
  {
   "cell_type": "markdown",
   "metadata": {},
   "source": [
    "`ccmap` module is used here to read already imported ccmap file. `normalizer` module contains method to normalize the Hi-C map data.\n",
    "\n",
    "\n",
    "\n",
    "**Load HI-C map file (.ccmap)**\n",
    "\n",
    "At first, we read `output/chr22_100kb_RawObserved` file and normalize it using Knight-Riuiz algorithm."
   ]
  },
  {
   "cell_type": "code",
   "execution_count": 2,
   "metadata": {
    "collapsed": true
   },
   "outputs": [],
   "source": [
    "raw_ccmap = cmp.load_ccmap('output/CooMatrix/chr22_100kb_RawObserved.ccmap')"
   ]
  },
  {
   "cell_type": "raw",
   "metadata": {
    "raw_mimetype": "text/restructuredtext"
   },
   "source": [
    ".. seealso::\n",
    "    Function :meth:`gcMapExplorer.ccmap.load_ccmap` for more details."
   ]
  },
  {
   "cell_type": "markdown",
   "metadata": {},
   "source": [
    "**Normalize and save Hi-C map**"
   ]
  },
  {
   "cell_type": "code",
   "execution_count": 3,
   "metadata": {
    "collapsed": false
   },
   "outputs": [],
   "source": [
    "norm_ccmap = cnorm.normalizeByKnightRuiz(raw_ccmap, memory='RAM', workDir=os.getcwd())       # Matrix balancing\n",
    "cmp.save_ccmap(norm_ccmap, 'output/CooMatrix/normalized/chr22_100kb_normKR.ccmap', compress=True)   # Save ccmap\n",
    "\n",
    "del raw_ccmap     # Remove CCMAP object from memory and any related temporary files\n",
    "del norm_ccmap    # Remove CCMAP object from memory and any related temporary files"
   ]
  },
  {
   "cell_type": "raw",
   "metadata": {
    "raw_mimetype": "text/restructuredtext"
   },
   "source": [
    ".. seealso::\n",
    "   Function :meth:`gcMapExplorer.normalizer.normalizeByKnightRuiz` for more details."
   ]
  },
  {
   "cell_type": "markdown",
   "metadata": {},
   "source": [
    "**Whether using RAM and HDD yield same result**\n",
    "Here, we test whether using RAM and HDD yield results in same matrix. We also calculate total time taken for normalization.\n",
    "\n"
   ]
  },
  {
   "cell_type": "code",
   "execution_count": 4,
   "metadata": {
    "collapsed": false
   },
   "outputs": [
    {
     "name": "stdout",
     "output_type": "stream",
     "text": [
      "Time using RAM: \n",
      "1 loop, best of 3: 13.4 s per loop\n",
      "Time using HDD: \n",
      "1 loop, best of 3: 30.8 s per loop\n",
      "If matrix from RAM and HDD are similar:  True\n"
     ]
    }
   ],
   "source": [
    "raw_ccmap = cmp.load_ccmap('output/CooMatrix/chr1_100kb_RawObserved.ccmap')\n",
    "\n",
    "print('Time using RAM: ')\n",
    "%timeit norm_ram = cnorm.normalizeByKnightRuiz(raw_ccmap, memory='RAM', workDir=os.getcwd()) # Balancing using RAM\n",
    "\n",
    "print('Time using HDD: ')\n",
    "%timeit norm_hdd = cnorm.normalizeByKnightRuiz(raw_ccmap, memory='HDD', workDir=os.getcwd()) # Balancing using disk\n",
    "\n",
    "# Again renormalize\n",
    "norm_hdd = cnorm.normalizeByKnightRuiz(raw_ccmap, memory='HDD', workDir=os.getcwd())\n",
    "norm_ram = cnorm.normalizeByKnightRuiz(raw_ccmap, memory='RAM', workDir=os.getcwd())\n",
    "norm_ram.make_readable()\n",
    "norm_hdd.make_readable()\n",
    "\n",
    "print('If matrix from RAM and HDD are similar: ', np.allclose(norm_ram.matrix, norm_hdd.matrix) )\n",
    "del raw_ccmap\n",
    "del norm_ram\n",
    "del norm_hdd"
   ]
  },
  {
   "cell_type": "markdown",
   "metadata": {},
   "source": [
    "***\n",
    "\n",
    "\n",
    "**Normalize and save all Hi-C maps**"
   ]
  },
  {
   "cell_type": "code",
   "execution_count": 5,
   "metadata": {
    "collapsed": false
   },
   "outputs": [],
   "source": [
    "chroms = [1, 5, 15, 20, 21]      # List of chromosomes\n",
    "\n",
    "# Loop for each chromosome\n",
    "for chrom in chroms:\n",
    "    input_file = 'output/CooMatrix/chr{0}_100kb_RawObserved.ccmap' .format(chrom)\n",
    "    output_file = 'output/CooMatrix/normalized/chr{0}_100kb_normKR.ccmap' .format(chrom)\n",
    "    \n",
    "    raw_ccmap = cmp.load_ccmap(input_file)\n",
    "    norm_ccmap = cnorm.normalizeByKnightRuiz(raw_ccmap, memory='RAM', workDir=os.getcwd())\n",
    "    cmp.save_ccmap(norm_ccmap, output_file, compress=True)\n",
    "\n",
    "    del raw_ccmap     # Remove CCMAP object from memory and any related temporary files\n",
    "    del norm_ccmap    # Remove CCMAP object from memory and any related temporary files"
   ]
  },
  {
   "cell_type": "markdown",
   "metadata": {},
   "source": [
    "All normalized Hi-C map files are saved in `output` directory."
   ]
  },
  {
   "cell_type": "markdown",
   "metadata": {},
   "source": [
    "***\n",
    "\n",
    "### Normalize by Iterative correction method\n",
    "\n",
    "This method normalize the raw contact map by removing biases from experimental procedure.\n",
    "For more details, see [this publication](http://www.nature.com/nmeth/journal/v9/n10/full/nmeth.2148.html).\n",
    "\n"
   ]
  },
  {
   "cell_type": "raw",
   "metadata": {
    "raw_mimetype": "text/restructuredtext"
   },
   "source": [
    ".. seealso::\n",
    "   Function :meth:`gcMapExplorer.normalizer.normalizeByIC` for more details."
   ]
  },
  {
   "cell_type": "code",
   "execution_count": 6,
   "metadata": {
    "collapsed": true
   },
   "outputs": [],
   "source": [
    "chroms = [1, 5, 15, 20, 21]      # List of chromosomes\n",
    "\n",
    "# Loop for each chromosome\n",
    "for chrom in chroms:\n",
    "    input_file = 'output/CooMatrix/chr{0}_100kb_RawObserved.ccmap' .format(chrom)\n",
    "    output_file = 'output/CooMatrix/normalized/chr{0}_100kb_IC.ccmap' .format(chrom)\n",
    "    \n",
    "    raw_ccmap = cmp.load_ccmap(input_file)\n",
    "    norm_ccmap = cnorm.normalizeByIC(raw_ccmap)\n",
    "    cmp.save_ccmap(norm_ccmap, output_file, compress=True)\n",
    "\n",
    "    del raw_ccmap     # Remove CCMAP object from memory and any related temporary files\n",
    "    del norm_ccmap    # Remove CCMAP object from memory and any related temporary files"
   ]
  },
  {
   "cell_type": "markdown",
   "metadata": {},
   "source": [
    "***\n",
    "\n",
    "### Normalize by Average Contact Frequency\n",
    "\n",
    "This method can be used to normalize Hi-C map using average contact values for particular distance between two locations/coordinates. At first, average distance contact frequency for each distance is calculated and subsequently, the observed contact frequency is divided by respective average distance contact frequency.\n",
    "\n",
    "$$d_{|m-n|}  = \\frac { \\sum_{i=0}^{N-1} \\sum_{j=0}^{i+1} \\begin{cases} C_{ij}, & \\text{if }|m-n| = |i-j| \\\\\\\\ 0, & otherwise \\end{cases}} {L_{m-n}}$$\n",
    "\n",
    "$$v_{ij} = v_{ji}= \\frac { C_{ij} } { d_{|i-j|} }$$\n",
    "\n",
    "where,  $d_{|m-n|}$ is distance between two locations $m$ and $n$. $C_{ij}$ is observed contact between $i$ and $j$ location. $L_{m-n}$ is total number of instances when contact between locations seprated by distance $m-n$ was larger than zero. $v_{ij}$ and $v_{ji}$ is normalized contact value for $i$ and $j$ location.\n"
   ]
  },
  {
   "cell_type": "raw",
   "metadata": {
    "raw_mimetype": "text/restructuredtext"
   },
   "source": [
    ".. seealso::\n",
    "   Function :meth:`gcMapExplorer.normalizer.normalizeByAvgContact` for more details."
   ]
  },
  {
   "cell_type": "code",
   "execution_count": 7,
   "metadata": {
    "collapsed": false
   },
   "outputs": [],
   "source": [
    "chroms = [1, 5, 15, 20, 21]      # List of chromosomes\n",
    "\n",
    "# Loop for each chromosome\n",
    "for chrom in chroms:\n",
    "    input_file = 'output/CooMatrix/chr{0}_100kb_RawObserved.ccmap' .format(chrom)\n",
    "    output_file = 'output/CooMatrix/normalized/chr{0}_100kb_AvgContact.ccmap' .format(chrom)\n",
    "    \n",
    "    raw_ccmap = cmp.load_ccmap(input_file)\n",
    "    norm_ccmap = cnorm.normalizeByAvgContact(raw_ccmap)\n",
    "    cmp.save_ccmap(norm_ccmap, output_file, compress=True)\n",
    "\n",
    "    del raw_ccmap     # Remove CCMAP object from memory and any related temporary files\n",
    "    del norm_ccmap    # Remove CCMAP object from memory and any related temporary files"
   ]
  }
 ],
 "metadata": {
  "celltoolbar": "Raw Cell Format",
  "kernelspec": {
   "display_name": "Python 3",
   "language": "python",
   "name": "python3"
  },
  "language_info": {
   "codemirror_mode": {
    "name": "ipython",
    "version": 3
   },
   "file_extension": ".py",
   "mimetype": "text/x-python",
   "name": "python",
   "nbconvert_exporter": "python",
   "pygments_lexer": "ipython3",
   "version": "3.4.3"
  }
 },
 "nbformat": 4,
 "nbformat_minor": 0
}
